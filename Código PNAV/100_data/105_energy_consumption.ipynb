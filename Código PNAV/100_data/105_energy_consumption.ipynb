{
 "cells": [
  {
   "cell_type": "markdown",
   "metadata": {},
   "source": [
    "---\n",
    "\n",
    "<div style=\"display: flex; align-items: center; justify-content: space-between;\">\n",
    "  <img src=\"../../.images/PNAV-logo.png\" alt=\"Logo del PNAV\" style=\"width: auto; max-height: 100px;\">\n",
    "  <img src=\"../../.images/MITECO-logo_background.png\" alt=\"Logo del MITECO\" style=\"width: auto; max-height: 100px;\">\n",
    "</div>\n",
    "\n",
    "---\n",
    "\n",
    "# Dataset sobre Consumo Energético en Inferencia\n",
    "\n",
    "Este notebook comparte el **LLM Inference Energy Consumption Dataset**, un recurso detallado que proporciona perfiles de consumo energético de diversos LLMs en diferentes configuraciones de hardware. Este dataset es útil para investigaciones relacionadas con la eficiencia energética y la sostenibilidad en IA.\n",
    "\n",
    "## 1. Información del dataset\n",
    "\n",
    "- **Nombre del dataset**: LLM Inference Energy Consumption Dataset  \n",
    "- **Autoría**:  \n",
    "  - Erik Johannes Husom  \n",
    "  - Arda Goknil  \n",
    "  - Sagar Sen  \n",
    "  - Lwin Khin Shar  \n",
    "- **Afiliación de los autores**:  \n",
    "  - Trustworthy Green IoT Software, SINTEF Digital  \n",
    "  - Singapore Management University  \n",
    "- **Propósito**: Comprender el consumo de energía durante la inferencia de modelos de lenguaje y comparar configuraciones diversas.  \n",
    "- **Licencia**: [CC BY-SA 4.0](https://creativecommons.org/licenses/by-sa/4.0/)  \n",
    "- **Alojamiento**: [Hugging Face](https://huggingface.co/datasets/ejhusom/llm-inference-energy-consumption)  \n",
    "- **Publicación inicial**: Junio 2024  \n",
    "\n",
    "## 2. Cómo citar el dataset\n",
    "Si usas este dataset en tus investigaciones, se recomienda citarlo así:\n",
    "\n",
    "> Husom, E. J., Goknil, A., Sen, S., & Shar, L. K. (2024). **LLM Inference Energy Consumption Dataset**. Disponible en [Hugging Face](https://huggingface.co/datasets/ejhusom/llm-inference-energy-consumption). Publicado bajo licencia CC BY-SA 4.0.\n",
    "\n",
    "## 3. Paper relacionado\n",
    "El dataset está descrito en el artículo académico:  \n",
    "*\"The Price of Prompting: Profiling Energy Use in Large Language Model Inference\"*.\n",
    "\n",
    "## 4. Contacto\n",
    "Para consultas o sugerencias relacionadas con el dataset, contactar a:  \n",
    "Erik Johannes Husom, [erik.johannes.husom@sintef.no](mailto:erik.johannes.husom@sintef.no).\n",
    "\n",
    "## 5. Descarga"
   ]
  },
  {
   "cell_type": "code",
   "execution_count": 5,
   "metadata": {},
   "outputs": [
    {
     "name": "stdout",
     "output_type": "stream",
     "text": [
      "Datos guardados en energy_consumption\\data.csv\n"
     ]
    }
   ],
   "source": [
    "import requests\n",
    "import csv\n",
    "import os\n",
    "\n",
    "# Define la URL de la API\n",
    "url = \"https://datasets-server.huggingface.co/first-rows?dataset=ejhusom%2Fllm-inference-energy-consumption&config=default&split=train\"\n",
    "\n",
    "# Realiza la petición GET\n",
    "response = requests.get(url)\n",
    "\n",
    "# Configuración\n",
    "output_dir = \"energy_consumption\"\n",
    "\n",
    "# Crear la carpeta de salida si no existe\n",
    "os.makedirs(output_dir, exist_ok=True)\n",
    "\n",
    "# Verifica que la respuesta sea exitosa\n",
    "if response.status_code == 200:\n",
    "    # Convierte la respuesta JSON a un diccionario\n",
    "    data = response.json()\n",
    "    \n",
    "    # Extrae las filas del dataset\n",
    "    rows = data.get(\"rows\", [])\n",
    "    \n",
    "    # Define la ruta del archivo CSV\n",
    "    os.makedirs(output_dir, exist_ok=True)  # Crea la carpeta si no existe\n",
    "    csv_path = os.path.join(output_dir, \"data.csv\")\n",
    "    \n",
    "    # Guarda los datos en un archivo CSV\n",
    "    with open(csv_path, mode=\"w\", newline=\"\", encoding=\"utf-8\") as csv_file:\n",
    "        writer = csv.writer(csv_file)\n",
    "        \n",
    "        # Escribe el encabezado\n",
    "        if rows:\n",
    "            headers = rows[0][\"row\"].keys()\n",
    "            writer.writerow(headers)\n",
    "        \n",
    "        # Escribe las filas\n",
    "        for row in rows:\n",
    "            writer.writerow(row[\"row\"].values())\n",
    "    \n",
    "    print(f\"Datos guardados en {csv_path}\")\n",
    "else:\n",
    "    print(f\"Error al realizar la petición. Código de estado: {response.status_code}\")"
   ]
  }
 ],
 "metadata": {
  "kernelspec": {
   "display_name": "Python 3",
   "language": "python",
   "name": "python3"
  },
  "language_info": {
   "codemirror_mode": {
    "name": "ipython",
    "version": 3
   },
   "file_extension": ".py",
   "mimetype": "text/x-python",
   "name": "python",
   "nbconvert_exporter": "python",
   "pygments_lexer": "ipython3",
   "version": "3.10.11"
  }
 },
 "nbformat": 4,
 "nbformat_minor": 2
}
