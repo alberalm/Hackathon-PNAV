{
 "cells": [
  {
   "cell_type": "code",
   "execution_count": 1,
   "id": "9d709a83",
   "metadata": {},
   "outputs": [],
   "source": [
    "import pandas as pd\n",
    "import pyodbc\n",
    "import os\n",
    "import warnings"
   ]
  },
  {
   "cell_type": "code",
   "execution_count": 2,
   "id": "b2eab0fc",
   "metadata": {},
   "outputs": [],
   "source": [
    "# Conectarse a Azure SQL\n",
    "conn = pyodbc.connect(\n",
    "    'DRIVER={ODBC Driver 17 for SQL Server};'\n",
    "    'SERVER=sql-server-mamba.database.windows.net;'\n",
    "    'DATABASE=sql-db-mamba;'\n",
    "    'UID=sql-admin;'\n",
    "    'PWD=serverpwd1!'\n",
    ")"
   ]
  },
  {
   "cell_type": "code",
   "execution_count": null,
   "id": "09e01874",
   "metadata": {},
   "outputs": [
    {
     "name": "stdout",
     "output_type": "stream",
     "text": [
      "Inserting table Cuadriculas...\n",
      "Inserting table CuadriculasEspecies...\n",
      "Inserting table CuadriculasRutas...\n",
      "Inserting table DescripcionesEspecies...\n",
      "Inserting table NombresEspecies...\n",
      "Inserting table Rutas...\n",
      "Inserting table Taxonomia...\n"
     ]
    }
   ],
   "source": [
    "def clean_value(val):\n",
    "    if pd.isna(val):\n",
    "        return None\n",
    "    if isinstance(val, float):\n",
    "        return round(val, 6)\n",
    "    return val\n",
    "\n",
    "\n",
    "cursor = conn.cursor()\n",
    "for table_file in os.listdir():\n",
    "    if not (table_file.endswith('.csv') or table_file.endswith('.xlsx')):\n",
    "        continue\n",
    "    table_name = os.path.splitext(table_file)[0]\n",
    "    print(f\"Inserting table {table_name}...\")\n",
    "    df = pd.read_csv(table_file) if table_file.endswith('.csv') else pd.read_excel(table_file)\n",
    "    columns = df.columns.tolist()\n",
    "    placeholders = ', '.join(['?'] * len(columns))\n",
    "    column_names = ', '.join(columns)\n",
    "\n",
    "    insert_query = f\"INSERT INTO {table_name} ({column_names}) VALUES ({placeholders})\"\n",
    "    cleaned_rows = (\n",
    "        tuple(clean_value(val) for val in row)\n",
    "        for row in df.itertuples(index=False, name=None)\n",
    "    )\n",
    "    cursor.executemany(insert_query, cleaned_rows)\n",
    "    conn.commit()\n",
    "cursor.close()"
   ]
  },
  {
   "cell_type": "code",
   "execution_count": 4,
   "id": "771862e8",
   "metadata": {},
   "outputs": [
    {
     "name": "stdout",
     "output_type": "stream",
     "text": [
      "Table Cuadriculas has 17939 records and file Cuadriculas.csv has 17939 records\n",
      "Table CuadriculasEspecies has 857733 records and file CuadriculasEspecies.csv has 857733 records\n",
      "Table CuadriculasRutas has 11732 records and file CuadriculasRutas.csv has 11731 records\n",
      "Table DescripcionesEspecies has 2776 records and file DescripcionesEspecies.xlsx has 2776 records\n",
      "Table NombresEspecies has 13552 records and file NombresEspecies.csv has 13552 records\n",
      "Table Rutas has 4645 records and file Rutas.xlsx has 4645 records\n",
      "Table Taxonomia has 3896 records and file Taxonomia.xlsx has 3896 records\n"
     ]
    }
   ],
   "source": [
    "warnings.filterwarnings('ignore')\n",
    "for table_file in os.listdir():\n",
    "    if not (table_file.endswith('.csv') or table_file.endswith('.xlsx')):\n",
    "        continue\n",
    "    table_name = os.path.splitext(table_file)[0]\n",
    "    df_sql = pd.read_sql(f\"SELECT * FROM {table_name}\", conn)\n",
    "    df_file = pd.read_csv(table_file) if table_file.endswith('.csv') else pd.read_excel(table_file)\n",
    "    print(f\"Table {table_name} has {len(df_sql)} records and file {table_file} has {len(df_file)} records\")\n",
    "warnings.filterwarnings('default')"
   ]
  },
  {
   "cell_type": "code",
   "execution_count": 5,
   "id": "b0bc921c",
   "metadata": {},
   "outputs": [],
   "source": [
    "conn.close()"
   ]
  }
 ],
 "metadata": {
  "kernelspec": {
   "display_name": "base",
   "language": "python",
   "name": "python3"
  },
  "language_info": {
   "codemirror_mode": {
    "name": "ipython",
    "version": 3
   },
   "file_extension": ".py",
   "mimetype": "text/x-python",
   "name": "python",
   "nbconvert_exporter": "python",
   "pygments_lexer": "ipython3",
   "version": "3.12.9"
  }
 },
 "nbformat": 4,
 "nbformat_minor": 5
}
