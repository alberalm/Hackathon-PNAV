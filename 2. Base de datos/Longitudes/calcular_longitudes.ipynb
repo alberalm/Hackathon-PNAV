{
 "cells": [
  {
   "cell_type": "markdown",
   "id": "b631ad70",
   "metadata": {},
   "source": [
    "## Calcular longitudes de rutas de parques nacionales"
   ]
  },
  {
   "cell_type": "code",
   "execution_count": null,
   "id": "5e07d2ff",
   "metadata": {},
   "outputs": [
    {
     "name": "stdout",
     "output_type": "stream",
     "text": [
      "Collecting fastkml\n",
      "  Downloading fastkml-1.1.0-py3-none-any.whl.metadata (8.0 kB)\n",
      "Requirement already satisfied: geopy in c:\\users\\maria.b.calvo\\appdata\\local\\packages\\pythonsoftwarefoundation.python.3.11_qbz5n2kfra8p0\\localcache\\local-packages\\python311\\site-packages (2.4.1)\n",
      "Collecting arrow (from fastkml)\n",
      "  Downloading arrow-1.3.0-py3-none-any.whl.metadata (7.5 kB)\n",
      "Collecting pygeoif>=1.5 (from fastkml)\n",
      "  Downloading pygeoif-1.5.1-py3-none-any.whl.metadata (14 kB)\n",
      "Requirement already satisfied: typing-extensions>4 in c:\\users\\maria.b.calvo\\appdata\\local\\packages\\pythonsoftwarefoundation.python.3.11_qbz5n2kfra8p0\\localcache\\local-packages\\python311\\site-packages (from fastkml) (4.12.2)\n",
      "Requirement already satisfied: geographiclib<3,>=1.52 in c:\\users\\maria.b.calvo\\appdata\\local\\packages\\pythonsoftwarefoundation.python.3.11_qbz5n2kfra8p0\\localcache\\local-packages\\python311\\site-packages (from geopy) (2.0)\n",
      "Requirement already satisfied: python-dateutil>=2.7.0 in c:\\users\\maria.b.calvo\\appdata\\local\\packages\\pythonsoftwarefoundation.python.3.11_qbz5n2kfra8p0\\localcache\\local-packages\\python311\\site-packages (from arrow->fastkml) (2.9.0.post0)\n",
      "Collecting types-python-dateutil>=2.8.10 (from arrow->fastkml)\n",
      "  Downloading types_python_dateutil-2.9.0.20241206-py3-none-any.whl.metadata (2.1 kB)\n",
      "Requirement already satisfied: six>=1.5 in c:\\users\\maria.b.calvo\\appdata\\local\\packages\\pythonsoftwarefoundation.python.3.11_qbz5n2kfra8p0\\localcache\\local-packages\\python311\\site-packages (from python-dateutil>=2.7.0->arrow->fastkml) (1.17.0)\n",
      "Downloading fastkml-1.1.0-py3-none-any.whl (107 kB)\n",
      "Downloading pygeoif-1.5.1-py3-none-any.whl (28 kB)\n",
      "Downloading arrow-1.3.0-py3-none-any.whl (66 kB)\n",
      "Downloading types_python_dateutil-2.9.0.20241206-py3-none-any.whl (14 kB)\n",
      "Installing collected packages: types-python-dateutil, pygeoif, arrow, fastkml\n",
      "Successfully installed arrow-1.3.0 fastkml-1.1.0 pygeoif-1.5.1 types-python-dateutil-2.9.0.20241206\n",
      "Note: you may need to restart the kernel to use updated packages.\n"
     ]
    }
   ],
   "source": [
    "pip install geopy"
   ]
  },
  {
   "cell_type": "code",
   "execution_count": 7,
   "id": "a8c1afaf",
   "metadata": {},
   "outputs": [],
   "source": [
    "import os\n",
    "import xml.etree.ElementTree as ET\n",
    "from geopy.distance import geodesic\n",
    "import csv"
   ]
  },
  {
   "cell_type": "code",
   "execution_count": 8,
   "id": "5bb26d95",
   "metadata": {},
   "outputs": [],
   "source": [
    "def extraer_coords(coordenadas_str):\n",
    "    puntos = []\n",
    "    for par in coordenadas_str.strip().split():\n",
    "        lon, lat, *_ = map(float, par.split(','))\n",
    "        puntos.append((lat, lon))\n",
    "    return puntos\n",
    "\n",
    "def calcular_longitud(coords):\n",
    "    distancia_total = 0.0\n",
    "    for i in range(len(coords) - 1):\n",
    "        distancia_total += geodesic(coords[i], coords[i+1]).kilometers\n",
    "    return distancia_total\n",
    "\n",
    "def procesar_kml(filepath):\n",
    "    rutas = []\n",
    "    try:\n",
    "        tree = ET.parse(filepath)\n",
    "        root = tree.getroot()\n",
    "        ns = {'kml': 'http://www.opengis.net/kml/2.2'}\n",
    "\n",
    "        for placemark in root.findall('.//kml:Placemark', ns):\n",
    "            nombre = placemark.find('kml:name', ns)\n",
    "            nombre_ruta = nombre.text if nombre is not None else os.path.basename(filepath)\n",
    "\n",
    "            coords_elem = placemark.find('.//kml:LineString/kml:coordinates', ns)\n",
    "            if coords_elem is not None:\n",
    "                coords = extraer_coords(coords_elem.text)\n",
    "                longitud = calcular_longitud(coords)\n",
    "                rutas.append((nombre_ruta, longitud))\n",
    "    except Exception as e:\n",
    "        print(f\"Error procesando {filepath}: {e}\")\n",
    "    return rutas\n",
    "\n",
    "def recorrer_carpeta(raiz):\n",
    "    resultados = []\n",
    "    for carpeta, _, archivos in os.walk(raiz):\n",
    "        for archivo in archivos:\n",
    "            if archivo.endswith('.kml'):\n",
    "                filepath = os.path.join(carpeta, archivo)\n",
    "                rutas = procesar_kml(filepath)\n",
    "                resultados.extend(rutas)\n",
    "    return resultados\n",
    "\n",
    "def guardar_en_csv(datos, nombre_archivo):\n",
    "    with open(nombre_archivo, mode='w', newline='', encoding='utf-8') as f:\n",
    "        writer = csv.writer(f)\n",
    "        writer.writerow(['Nombre', 'Longitud_km'])\n",
    "        for nombre, longitud in datos:\n",
    "            writer.writerow([nombre, f\"{longitud:.2f}\"])\n"
   ]
  },
  {
   "cell_type": "code",
   "execution_count": 9,
   "id": "5feed3cf",
   "metadata": {},
   "outputs": [],
   "source": [
    "carpeta_principal = r'C:\\Users\\maria.b.calvo\\Documents\\Personal\\Hackathon GenAI\\hackathon-repo\\Parques nacionales'\n",
    "resultados = recorrer_carpeta(carpeta_principal)\n",
    "\n",
    "# Guardar resultados\n",
    "guardar_en_csv(resultados, r'longitudes\\longitudes_rutas.csv')"
   ]
  },
  {
   "cell_type": "markdown",
   "id": "35fbe8d4",
   "metadata": {},
   "source": [
    "## Rellenar información rutas con longitudes faltantes"
   ]
  },
  {
   "cell_type": "code",
   "execution_count": 10,
   "id": "747f6113",
   "metadata": {},
   "outputs": [
    {
     "name": "stdout",
     "output_type": "stream",
     "text": [
      "Requirement already satisfied: pandas in c:\\users\\maria.b.calvo\\appdata\\local\\packages\\pythonsoftwarefoundation.python.3.11_qbz5n2kfra8p0\\localcache\\local-packages\\python311\\site-packages (2.2.3)\n",
      "Requirement already satisfied: openpyxl in c:\\users\\maria.b.calvo\\appdata\\local\\packages\\pythonsoftwarefoundation.python.3.11_qbz5n2kfra8p0\\localcache\\local-packages\\python311\\site-packages (3.1.5)\n",
      "Requirement already satisfied: numpy>=1.23.2 in c:\\users\\maria.b.calvo\\appdata\\local\\packages\\pythonsoftwarefoundation.python.3.11_qbz5n2kfra8p0\\localcache\\local-packages\\python311\\site-packages (from pandas) (2.2.3)\n",
      "Requirement already satisfied: python-dateutil>=2.8.2 in c:\\users\\maria.b.calvo\\appdata\\local\\packages\\pythonsoftwarefoundation.python.3.11_qbz5n2kfra8p0\\localcache\\local-packages\\python311\\site-packages (from pandas) (2.9.0.post0)\n",
      "Requirement already satisfied: pytz>=2020.1 in c:\\users\\maria.b.calvo\\appdata\\local\\packages\\pythonsoftwarefoundation.python.3.11_qbz5n2kfra8p0\\localcache\\local-packages\\python311\\site-packages (from pandas) (2025.1)\n",
      "Requirement already satisfied: tzdata>=2022.7 in c:\\users\\maria.b.calvo\\appdata\\local\\packages\\pythonsoftwarefoundation.python.3.11_qbz5n2kfra8p0\\localcache\\local-packages\\python311\\site-packages (from pandas) (2025.1)\n",
      "Requirement already satisfied: et-xmlfile in c:\\users\\maria.b.calvo\\appdata\\local\\packages\\pythonsoftwarefoundation.python.3.11_qbz5n2kfra8p0\\localcache\\local-packages\\python311\\site-packages (from openpyxl) (2.0.0)\n",
      "Requirement already satisfied: six>=1.5 in c:\\users\\maria.b.calvo\\appdata\\local\\packages\\pythonsoftwarefoundation.python.3.11_qbz5n2kfra8p0\\localcache\\local-packages\\python311\\site-packages (from python-dateutil>=2.8.2->pandas) (1.17.0)\n",
      "Note: you may need to restart the kernel to use updated packages.\n"
     ]
    }
   ],
   "source": [
    "pip install pandas openpyxl"
   ]
  },
  {
   "cell_type": "code",
   "execution_count": 11,
   "id": "b11eb53a",
   "metadata": {},
   "outputs": [
    {
     "name": "stdout",
     "output_type": "stream",
     "text": [
      "Filas sin longitud: 310\n",
      "Archivo actualizado guardado.\n"
     ]
    }
   ],
   "source": [
    "import pandas as pd\n",
    "\n",
    "# 1. Cargar Excel con rutas\n",
    "df_excel = pd.read_excel(r'C:\\Users\\maria.b.calvo\\Documents\\Personal\\Hackathon GenAI\\hackathon-repo\\Hackathon-PNAV\\2. Base de datos\\Rutas_longitud.xlsx')\n",
    "\n",
    "# 2. Contar filas sin longitud\n",
    "faltantes = df_excel['Longitud'].isna().sum()\n",
    "print(f\"Filas sin longitud: {faltantes}\")\n",
    "\n",
    "# 3. Cargar CSV generado con longitudes calculadas\n",
    "df_csv = pd.read_csv(r'longitudes\\longitudes_rutas.csv')\n",
    "\n",
    "# 4. Hacer merge por nombre de ruta\n",
    "df_actualizado = df_excel.copy()\n",
    "df_actualizado = df_actualizado.merge(\n",
    "    df_csv.rename(columns={'Nombre': 'Nombre_Ruta', 'Longitud_km': 'Longitud_csv'}),\n",
    "    on='Nombre_Ruta',\n",
    "    how='left'\n",
    ")\n",
    "\n",
    "# 5. Rellenar longitudes faltantes con las del CSV\n",
    "df_actualizado['Longitud'] = df_actualizado['Longitud'].fillna(df_actualizado['Longitud_csv'])\n",
    "\n",
    "# 6. Eliminar columna auxiliar\n",
    "df_actualizado = df_actualizado.drop(columns=['Longitud_csv'])\n",
    "\n",
    "# 7. Guardar el nuevo archivo\n",
    "df_actualizado.to_excel('longitudes\\Rutas_longitudes.xlsx', index=False)\n",
    "print(\"Archivo actualizado guardado.\")\n"
   ]
  }
 ],
 "metadata": {
  "kernelspec": {
   "display_name": "Python 3",
   "language": "python",
   "name": "python3"
  },
  "language_info": {
   "codemirror_mode": {
    "name": "ipython",
    "version": 3
   },
   "file_extension": ".py",
   "mimetype": "text/x-python",
   "name": "python",
   "nbconvert_exporter": "python",
   "pygments_lexer": "ipython3",
   "version": "3.11.9"
  }
 },
 "nbformat": 4,
 "nbformat_minor": 5
}
