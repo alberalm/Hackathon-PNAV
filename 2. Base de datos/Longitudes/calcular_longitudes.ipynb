{
 "cells": [
  {
   "cell_type": "markdown",
   "id": "b631ad70",
   "metadata": {},
   "source": [
    "## Calcular longitudes de rutas de parques nacionales"
   ]
  },
  {
   "cell_type": "code",
   "execution_count": null,
   "id": "5e07d2ff",
   "metadata": {},
   "outputs": [],
   "source": [
    "pip install geopy"
   ]
  },
  {
   "cell_type": "code",
   "execution_count": 7,
   "id": "a8c1afaf",
   "metadata": {},
   "outputs": [],
   "source": [
    "import os\n",
    "import xml.etree.ElementTree as ET\n",
    "from geopy.distance import geodesic\n",
    "import csv"
   ]
  },
  {
   "cell_type": "code",
   "execution_count": 8,
   "id": "5bb26d95",
   "metadata": {},
   "outputs": [],
   "source": [
    "def extraer_coords(coordenadas_str):\n",
    "    puntos = []\n",
    "    for par in coordenadas_str.strip().split():\n",
    "        lon, lat, *_ = map(float, par.split(','))\n",
    "        puntos.append((lat, lon))\n",
    "    return puntos\n",
    "\n",
    "def calcular_longitud(coords):\n",
    "    distancia_total = 0.0\n",
    "    for i in range(len(coords) - 1):\n",
    "        distancia_total += geodesic(coords[i], coords[i+1]).kilometers\n",
    "    return distancia_total\n",
    "\n",
    "def procesar_kml(filepath):\n",
    "    rutas = []\n",
    "    try:\n",
    "        tree = ET.parse(filepath)\n",
    "        root = tree.getroot()\n",
    "        ns = {'kml': 'http://www.opengis.net/kml/2.2'}\n",
    "\n",
    "        for placemark in root.findall('.//kml:Placemark', ns):\n",
    "            nombre = placemark.find('kml:name', ns)\n",
    "            nombre_ruta = nombre.text if nombre is not None else os.path.basename(filepath)\n",
    "\n",
    "            coords_elem = placemark.find('.//kml:LineString/kml:coordinates', ns)\n",
    "            if coords_elem is not None:\n",
    "                coords = extraer_coords(coords_elem.text)\n",
    "                longitud = calcular_longitud(coords)\n",
    "                rutas.append((nombre_ruta, longitud))\n",
    "    except Exception as e:\n",
    "        print(f\"Error procesando {filepath}: {e}\")\n",
    "    return rutas\n",
    "\n",
    "def recorrer_carpeta(raiz):\n",
    "    resultados = []\n",
    "    for carpeta, _, archivos in os.walk(raiz):\n",
    "        for archivo in archivos:\n",
    "            if archivo.endswith('.kml'):\n",
    "                filepath = os.path.join(carpeta, archivo)\n",
    "                rutas = procesar_kml(filepath)\n",
    "                resultados.extend(rutas)\n",
    "    return resultados\n",
    "\n",
    "def guardar_en_csv(datos, nombre_archivo):\n",
    "    with open(nombre_archivo, mode='w', newline='', encoding='utf-8') as f:\n",
    "        writer = csv.writer(f)\n",
    "        writer.writerow(['Nombre', 'Longitud_km'])\n",
    "        for nombre, longitud in datos:\n",
    "            writer.writerow([nombre, f\"{longitud:.2f}\"])\n"
   ]
  },
  {
   "cell_type": "code",
   "execution_count": null,
   "id": "5feed3cf",
   "metadata": {},
   "outputs": [],
   "source": [
    "carpeta_principal = \"../../1. Obtención Y Procesado de Datos/Rutas\"\n",
    "resultados = recorrer_carpeta(carpeta_principal)\n",
    "\n",
    "# Guardar resultados\n",
    "guardar_en_csv(resultados, \"longitudes_rutas.csv\")"
   ]
  },
  {
   "cell_type": "markdown",
   "id": "35fbe8d4",
   "metadata": {},
   "source": [
    "## Rellenar información rutas con longitudes faltantes"
   ]
  },
  {
   "cell_type": "code",
   "execution_count": null,
   "id": "747f6113",
   "metadata": {},
   "outputs": [],
   "source": [
    "pip install pandas openpyxl"
   ]
  },
  {
   "cell_type": "code",
   "execution_count": null,
   "id": "b11eb53a",
   "metadata": {},
   "outputs": [
    {
     "name": "stdout",
     "output_type": "stream",
     "text": [
      "Filas sin longitud: 310\n",
      "Archivo actualizado guardado.\n"
     ]
    }
   ],
   "source": [
    "import pandas as pd\n",
    "\n",
    "# 1. Cargar Excel con rutas\n",
    "df_excel = pd.read_excel('Rutas_longitud.xlsx')\n",
    "\n",
    "# 2. Contar filas sin longitud\n",
    "faltantes = df_excel['Longitud'].isna().sum()\n",
    "print(f\"Filas sin longitud: {faltantes}\")\n",
    "\n",
    "# 3. Cargar CSV generado con longitudes calculadas\n",
    "df_csv = pd.read_csv(\"longitudes_rutas.csv\")\n",
    "\n",
    "# 4. Hacer merge por nombre de ruta\n",
    "df_actualizado = df_excel.copy()\n",
    "df_actualizado = df_actualizado.merge(\n",
    "    df_csv.rename(columns={'Nombre': 'Nombre_Ruta', 'Longitud_km': 'Longitud_csv'}),\n",
    "    on='Nombre_Ruta',\n",
    "    how='left'\n",
    ")\n",
    "\n",
    "# 5. Rellenar longitudes faltantes con las del CSV\n",
    "df_actualizado['Longitud'] = df_actualizado['Longitud'].fillna(df_actualizado['Longitud_csv'])\n",
    "\n",
    "# 6. Eliminar columna auxiliar\n",
    "df_actualizado = df_actualizado.drop(columns=['Longitud_csv'])\n",
    "\n",
    "# 7. Guardar el nuevo archivo\n",
    "df_actualizado.to_excel('longitudes\\Rutas_longitudes.xlsx', index=False)\n",
    "print(\"Archivo actualizado guardado.\")\n"
   ]
  }
 ],
 "metadata": {
  "kernelspec": {
   "display_name": "Python 3",
   "language": "python",
   "name": "python3"
  },
  "language_info": {
   "codemirror_mode": {
    "name": "ipython",
    "version": 3
   },
   "file_extension": ".py",
   "mimetype": "text/x-python",
   "name": "python",
   "nbconvert_exporter": "python",
   "pygments_lexer": "ipython3",
   "version": "3.11.9"
  }
 },
 "nbformat": 4,
 "nbformat_minor": 5
}
