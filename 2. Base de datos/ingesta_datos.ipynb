{
 "cells": [
  {
   "cell_type": "code",
   "execution_count": 2,
   "id": "a10e3538",
   "metadata": {},
   "outputs": [
    {
     "name": "stdout",
     "output_type": "stream",
     "text": [
      "Collecting pyodbc\n",
      "  Downloading pyodbc-5.2.0-cp311-cp311-win_amd64.whl.metadata (2.8 kB)\n",
      "Downloading pyodbc-5.2.0-cp311-cp311-win_amd64.whl (68 kB)\n",
      "Installing collected packages: pyodbc\n",
      "Successfully installed pyodbc-5.2.0\n",
      "Note: you may need to restart the kernel to use updated packages.\n"
     ]
    }
   ],
   "source": [
    "pip install pyodbc"
   ]
  },
  {
   "cell_type": "code",
   "execution_count": null,
   "id": "9d709a83",
   "metadata": {},
   "outputs": [
    {
     "data": {
      "text/plain": [
       "' CREATE TABLE mallas_con_ccaa_y_prov (\\n    CUADRICULA VARCHAR(50),\\n    CCAA VARCHAR(100),\\n    Provincia VARCHAR(100)\\n); '"
      ]
     },
     "execution_count": 5,
     "metadata": {},
     "output_type": "execute_result"
    }
   ],
   "source": [
    "import pandas as pd\n",
    "import pyodbc\n",
    "\n",
    "# Conectarse a Azure SQL\n",
    "conn = pyodbc.connect(\n",
    "    'DRIVER={ODBC Driver 17 for SQL Server};'\n",
    "    'SERVER=sql-server-mamba.database.windows.net;'\n",
    "    'DATABASE=sql-db-mamba;'\n",
    "    'UID=sql-admin;'\n",
    "    'PWD=serverpwd1!'\n",
    ")\n",
    "\n",
    "# Codigo para crear la tabla en SQL (lo he hecho manual, se puede hacer con comandos en python)\n",
    "\n",
    "\"\"\" CREATE TABLE mallas_con_ccaa_y_prov (\n",
    "    CUADRICULA VARCHAR(50),\n",
    "    CCAA VARCHAR(100),\n",
    "    Provincia VARCHAR(100)\n",
    "); \"\"\"\n"
   ]
  },
  {
   "cell_type": "markdown",
   "id": "76f99b68",
   "metadata": {},
   "source": [
    "## Mallas con CCAA y provincia"
   ]
  },
  {
   "cell_type": "code",
   "execution_count": null,
   "id": "df200a3e",
   "metadata": {},
   "outputs": [],
   "source": [
    "# Cargar CSV\n",
    "df = pd.read_csv('mallas_con_ccaa_y_prov.csv')\n",
    "df = df.fillna('')\n",
    "\n",
    "\"\"\" CREATE TABLE mallas_con_ccaa_y_prov (\n",
    "    CUADRICULA VARCHAR(50),\n",
    "    CCAA VARCHAR(100),\n",
    "    Provincia VARCHAR(100)\n",
    "); \"\"\""
   ]
  },
  {
   "cell_type": "code",
   "execution_count": null,
   "id": "0e4a6554",
   "metadata": {},
   "outputs": [],
   "source": [
    "\n",
    "# Subir los datos\n",
    "cursor = conn.cursor()\n",
    "for index, row in df.iterrows():\n",
    "    cursor.execute(\n",
    "        \"INSERT INTO mallas_con_ccaa_y_prov (Cuadricula, CCAA, Provincia) VALUES (?, ?, ?)\",\n",
    "        row['CUADRICULA'], row['CCAA'], row['Provincia']\n",
    "    )\n",
    "conn.commit()\n",
    "cursor.close()\n",
    "conn.close()\n",
    "\n",
    "# Para comprobar datos - lo he corrido manualmente\n",
    "\"\"\"\n",
    "SELECT TOP 100 *\n",
    "FROM mallas_con_ccaa_y_prov\n",
    "WHERE CCAA != '';\n",
    "\"\"\""
   ]
  },
  {
   "cell_type": "markdown",
   "id": "8d11c6fc",
   "metadata": {},
   "source": [
    "## Rutas y su cuadricula"
   ]
  },
  {
   "cell_type": "code",
   "execution_count": 7,
   "id": "ccd6ea19",
   "metadata": {},
   "outputs": [
    {
     "data": {
      "text/plain": [
       "' CREATE TABLE rutas_cuadricula (\\n    ID_RUTA INT,\\n    CUADRICULA VARCHAR(100)\\n);\\n'"
      ]
     },
     "execution_count": 7,
     "metadata": {},
     "output_type": "execute_result"
    }
   ],
   "source": [
    "# Cargar CSV\n",
    "df2 = pd.read_csv('Rutas_Cuadriculas.csv')\n",
    "\n",
    "\"\"\" CREATE TABLE rutas_cuadricula (\n",
    "    ID_RUTA INT,\n",
    "    CUADRICULA VARCHAR(100)\n",
    ");\n",
    "\"\"\""
   ]
  },
  {
   "cell_type": "code",
   "execution_count": null,
   "id": "55d81f36",
   "metadata": {},
   "outputs": [
    {
     "data": {
      "text/plain": [
       "\"\\nSELECT TOP 100 *\\nFROM mallas_con_ccaa_y_prov\\nWHERE CCAA != '';\\n\""
      ]
     },
     "execution_count": 10,
     "metadata": {},
     "output_type": "execute_result"
    }
   ],
   "source": [
    "\n",
    "# Conectarse a Azure SQL\n",
    "conn = pyodbc.connect(\n",
    "    'DRIVER={ODBC Driver 17 for SQL Server};'\n",
    "    'SERVER=sql-server-mamba.database.windows.net;'\n",
    "    'DATABASE=sql-db-mamba;'\n",
    "    'UID=sql-admin;'\n",
    "    'PWD=serverpwd1!'\n",
    ")\n",
    "\n",
    "# Subir los datos\n",
    "cursor = conn.cursor()\n",
    "for index, row in df2.iterrows():\n",
    "    cursor.execute(\n",
    "        \"INSERT INTO rutas_cuadricula (ID_Ruta, Cuadricula) VALUES (?, ?)\",\n",
    "        row['ID_Ruta'], row['CUADRICULA']\n",
    "    )\n",
    "conn.commit()\n",
    "cursor.close()\n",
    "conn.close()\n",
    "\n",
    "# Para comprobar datos - lo he corrido manualmente\n",
    "\"\"\"\n",
    "SELECT TOP 100 *\n",
    "FROM rutas_cuadricula;\n",
    "\"\"\""
   ]
  }
 ],
 "metadata": {
  "kernelspec": {
   "display_name": "Python 3",
   "language": "python",
   "name": "python3"
  },
  "language_info": {
   "codemirror_mode": {
    "name": "ipython",
    "version": 3
   },
   "file_extension": ".py",
   "mimetype": "text/x-python",
   "name": "python",
   "nbconvert_exporter": "python",
   "pygments_lexer": "ipython3",
   "version": "3.11.9"
  }
 },
 "nbformat": 4,
 "nbformat_minor": 5
}
