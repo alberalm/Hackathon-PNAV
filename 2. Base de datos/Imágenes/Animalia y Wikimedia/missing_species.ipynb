{
 "cells": [
  {
   "cell_type": "code",
   "execution_count": 1,
   "id": "cfda2121",
   "metadata": {},
   "outputs": [],
   "source": [
    "import pandas as pd"
   ]
  },
  {
   "cell_type": "code",
   "execution_count": 2,
   "id": "bf68dc25",
   "metadata": {},
   "outputs": [],
   "source": [
    "df_animalia_wikimedia = pd.read_excel('animalia_wikimedia_images.xlsx')\n",
    "df_all = pd.read_excel('../Especies_Sin_Foto_iNaturalist.xlsx')\n",
    "df_all = df_all[~df_all['taxonid'].isin(df_animalia_wikimedia['taxonid'])]\n",
    "df_all.to_excel('../Especies_Sin_Foto_final.xlsx', index=False)"
   ]
  },
  {
   "cell_type": "code",
   "execution_count": 4,
   "id": "2b1a4692",
   "metadata": {},
   "outputs": [
    {
     "data": {
      "text/plain": [
       "taxonomicgroup\n",
       "Invertebrados            430\n",
       "Plantas vasculares       335\n",
       "Hongos                    93\n",
       "Plantas no vasculares     10\n",
       "Peces                      9\n",
       "Mamíferos                  7\n",
       "Algas                      3\n",
       "Name: count, dtype: int64"
      ]
     },
     "execution_count": 4,
     "metadata": {},
     "output_type": "execute_result"
    }
   ],
   "source": [
    "df_all['taxonomicgroup'].value_counts()"
   ]
  },
  {
   "cell_type": "code",
   "execution_count": 6,
   "id": "0a45796b",
   "metadata": {},
   "outputs": [],
   "source": [
    "df_taxonomia = pd.read_excel('../../Taxonomia.xlsx')\n",
    "df_taxonomia = df_taxonomia[df_taxonomia['nametype'] == 'Aceptado']"
   ]
  },
  {
   "cell_type": "code",
   "execution_count": 7,
   "id": "426db363",
   "metadata": {},
   "outputs": [
    {
     "name": "stdout",
     "output_type": "stream",
     "text": [
      "Hay 3 / 10 especies sin foto del grupo Algas\n",
      "Hay 335 / 741 especies sin foto del grupo Plantas vasculares\n",
      "Hay 93 / 472 especies sin foto del grupo Hongos\n",
      "Hay 0 / 3 especies sin foto del grupo Cromistas y Bacterias\n",
      "Hay 0 / 613 especies sin foto del grupo Aves\n",
      "Hay 430 / 577 especies sin foto del grupo Invertebrados\n",
      "Hay 10 / 26 especies sin foto del grupo Plantas no vasculares\n",
      "Hay 0 / 86 especies sin foto del grupo Reptiles\n",
      "Hay 7 / 137 especies sin foto del grupo Mamíferos\n",
      "Hay 9 / 77 especies sin foto del grupo Peces\n",
      "Hay 0 / 33 especies sin foto del grupo Anfibios\n"
     ]
    }
   ],
   "source": [
    "for group in set(df_taxonomia['taxonomicgroup']):\n",
    "    print(f\"Hay {len(df_all[df_all['taxonomicgroup'] == group])} / {len(df_taxonomia[df_taxonomia['taxonomicgroup'] == group])} especies sin foto del grupo {group}\")"
   ]
  }
 ],
 "metadata": {
  "kernelspec": {
   "display_name": "base",
   "language": "python",
   "name": "python3"
  },
  "language_info": {
   "codemirror_mode": {
    "name": "ipython",
    "version": 3
   },
   "file_extension": ".py",
   "mimetype": "text/x-python",
   "name": "python",
   "nbconvert_exporter": "python",
   "pygments_lexer": "ipython3",
   "version": "3.12.9"
  }
 },
 "nbformat": 4,
 "nbformat_minor": 5
}
