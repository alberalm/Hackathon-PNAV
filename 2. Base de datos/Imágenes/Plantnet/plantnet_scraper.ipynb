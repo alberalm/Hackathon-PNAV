{
 "cells": [
  {
   "cell_type": "code",
   "execution_count": 1,
   "id": "57ab0e81",
   "metadata": {},
   "outputs": [],
   "source": [
    "import pandas as pd\n",
    "from selenium import webdriver\n",
    "from selenium.webdriver.common.by import By"
   ]
  },
  {
   "cell_type": "markdown",
   "id": "97e78b47",
   "metadata": {},
   "source": [
    "### Preparación de Lista de Plantas Vasculares para Búsqueda Automatizada de Imágenes"
   ]
  },
  {
   "cell_type": "code",
   "execution_count": null,
   "id": "c7787b7d",
   "metadata": {},
   "outputs": [],
   "source": [
    "df = pd.read_excel('../Especies_Sin_Foto_iNaturalist.xlsx')\n",
    "df = df[df['taxonomicgroup'] == 'Plantas vasculares'][['taxonid', 'name']]\n",
    "df['name'] = df['name'].apply(lambda x: '+'.join(x.split()[:2])) # Solo nombre científico simplificado\n",
    "df['photo_link'] = ''\n",
    "df['by'] = ''"
   ]
  },
  {
   "cell_type": "markdown",
   "id": "b8f24271",
   "metadata": {},
   "source": [
    "### Búsqueda Automatizada de Imágenes de Especies en PlantNet con Selenium y Guardado Progresivo"
   ]
  },
  {
   "cell_type": "code",
   "execution_count": null,
   "id": "f01ac58c",
   "metadata": {},
   "outputs": [
    {
     "name": "stdout",
     "output_type": "stream",
     "text": [
      "Starting species 946...\r"
     ]
    }
   ],
   "source": [
    "base_url = 'https://identify.plantnet.org/es/k-world-flora/species?search={species}&sortBy=name&sortOrder=asc'\n",
    "driver = webdriver.Chrome()\n",
    "for i, row in df.iterrows():\n",
    "    print(f'Starting species {i+1}...', end='\\r')\n",
    "    driver.get(base_url.format(species=row['name']))\n",
    "    try:\n",
    "        plant = driver.find_element(By.CLASS_NAME, 'pn-species-name.fw-bold.m-0.fs-3')\n",
    "        url = plant.find_element(By.TAG_NAME, 'a').get_attribute('href')\n",
    "        driver.get(f\"{url}#galleries\")\n",
    "        photo_item = driver.find_element(By.CLASS_NAME, 'position-relative')\n",
    "        photo_link = photo_item.find_element(By.TAG_NAME, 'a').get_attribute('href')\n",
    "        photo_item.click()\n",
    "        username = driver.find_element(By.CLASS_NAME, 'text-truncate.user-link-name').text\n",
    "        df.loc[i, 'photo_link'] = photo_link\n",
    "        df.loc[i, 'by'] = username\n",
    "    except:\n",
    "        continue\n",
    "    if (i+1) % 10:\n",
    "        df.to_excel('plantnet_images.xlsx', index=False)\n",
    "driver.close()\n",
    "df = df[df['by'] != '']\n",
    "df.to_excel('plantnet_images.xlsx', index=False)"
   ]
  },
  {
   "cell_type": "markdown",
   "id": "d55cb8d8",
   "metadata": {},
   "source": [
    "### Actualización del Listado Final de Especies sin Imagen tras la Consulta a PlantNet"
   ]
  },
  {
   "cell_type": "code",
   "execution_count": null,
   "id": "3101c767",
   "metadata": {},
   "outputs": [],
   "source": [
    "df = df[df['by'] != '']\n",
    "df.to_excel('plantnet_images.xlsx', index=False)"
   ]
  },
  {
   "cell_type": "code",
   "execution_count": null,
   "id": "79337806",
   "metadata": {},
   "outputs": [],
   "source": [
    "df_all = pd.read_excel('../Especies_Sin_Foto_iNaturalist.xlsx')\n",
    "df_all = df_all[~df_all['taxonid'].isin(df['taxonid'])]\n",
    "df_all.to_excel('../Especies_Sin_Foto_iNaturalist_Plantnet.xlsx', index=False)"
   ]
  }
 ],
 "metadata": {
  "kernelspec": {
   "display_name": "base",
   "language": "python",
   "name": "python3"
  },
  "language_info": {
   "codemirror_mode": {
    "name": "ipython",
    "version": 3
   },
   "file_extension": ".py",
   "mimetype": "text/x-python",
   "name": "python",
   "nbconvert_exporter": "python",
   "pygments_lexer": "ipython3",
   "version": "3.12.9"
  }
 },
 "nbformat": 4,
 "nbformat_minor": 5
}
