{
 "cells": [
  {
   "cell_type": "code",
   "execution_count": 1,
   "id": "e55003ef",
   "metadata": {},
   "outputs": [],
   "source": [
    "import pandas as pd"
   ]
  },
  {
   "cell_type": "code",
   "execution_count": 2,
   "id": "7a87eb46",
   "metadata": {},
   "outputs": [
    {
     "name": "stderr",
     "output_type": "stream",
     "text": [
      "C:\\Users\\alber\\AppData\\Local\\Temp\\ipykernel_5076\\771626618.py:4: DtypeWarning: Columns (0) have mixed types. Specify dtype option on import or set low_memory=False.\n",
      "  df = pd.read_csv(\"Datos iNaturalist/observations_selection_final.csv\")\n"
     ]
    }
   ],
   "source": [
    "taxonomia_df = pd.read_excel('2. Base de datos/Taxonomia.xlsx')\n",
    "inaturalist_df = pd.read_csv('1. Obtención Y Procesado de Datos/Ubicaciones y media/Datos iNaturalist/observations_processed.csv')\n",
    "inat = inaturalist_df['idtaxon'].dropna().astype(int).drop_duplicates()\n",
    "df = pd.read_csv(\"Datos iNaturalist/observations_selection_final.csv\")\n",
    "all_inaturalist = pd.concat([inat, df['idtaxon'].dropna().astype(int).drop_duplicates()]).drop_duplicates().sort_values()"
   ]
  },
  {
   "cell_type": "code",
   "execution_count": 8,
   "id": "6ab6a0de",
   "metadata": {},
   "outputs": [
    {
     "data": {
      "text/plain": [
       "946"
      ]
     },
     "execution_count": 8,
     "metadata": {},
     "output_type": "execute_result"
    }
   ],
   "source": [
    "len(set(taxonomia_df[~taxonomia_df['taxonid'].isin(all_inaturalist)]['taxonid']))"
   ]
  },
  {
   "cell_type": "code",
   "execution_count": null,
   "id": "faf4c3ba",
   "metadata": {},
   "outputs": [],
   "source": [
    "sin_foto = taxonomia_df[~taxonomia_df['taxonid'].isin(all_inaturalist)]\n",
    "sin_foto = sin_foto[sin_foto['nametype'] == 'Aceptado']\n",
    "sin_foto.to_excel('Especies_Sin_Foto.xlsx', index=False)"
   ]
  }
 ],
 "metadata": {
  "kernelspec": {
   "display_name": "base",
   "language": "python",
   "name": "python3"
  },
  "language_info": {
   "codemirror_mode": {
    "name": "ipython",
    "version": 3
   },
   "file_extension": ".py",
   "mimetype": "text/x-python",
   "name": "python",
   "nbconvert_exporter": "python",
   "pygments_lexer": "ipython3",
   "version": "3.12.9"
  }
 },
 "nbformat": 4,
 "nbformat_minor": 5
}
