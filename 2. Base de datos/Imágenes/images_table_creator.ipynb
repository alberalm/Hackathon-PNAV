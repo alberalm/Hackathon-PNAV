{
 "cells": [
  {
   "cell_type": "markdown",
   "id": "078ea21c",
   "metadata": {},
   "source": [
    "### Agrupar todas las fuentes de imágenes en una sola tabla"
   ]
  },
  {
   "cell_type": "code",
   "execution_count": 53,
   "id": "40d3298b",
   "metadata": {},
   "outputs": [],
   "source": [
    "import pandas as pd"
   ]
  },
  {
   "cell_type": "code",
   "execution_count": 54,
   "id": "383f1f00",
   "metadata": {},
   "outputs": [],
   "source": [
    "table_columns = ['taxonid', 'photo_link', 'by']"
   ]
  },
  {
   "cell_type": "markdown",
   "id": "3f65718e",
   "metadata": {},
   "source": [
    "#### iNaturalist (observaciones en España)"
   ]
  },
  {
   "cell_type": "code",
   "execution_count": 55,
   "id": "37033c06",
   "metadata": {},
   "outputs": [
    {
     "data": {
      "text/plain": [
       "Index(['id', 'type', 'format', 'identifier', 'references', 'created',\n",
       "       'creator', 'publisher', 'license', 'rightsHolder', 'catalogNumber'],\n",
       "      dtype='object')"
      ]
     },
     "execution_count": 55,
     "metadata": {},
     "output_type": "execute_result"
    }
   ],
   "source": [
    "media_inaturalist_spain = pd.read_csv('../../1. Obtención y Procesado de Datos/Ubicaciones y media/Datos iNaturalist/media_processed.csv')\n",
    "media_inaturalist_spain.columns"
   ]
  },
  {
   "cell_type": "code",
   "execution_count": 56,
   "id": "6dd6bc26",
   "metadata": {},
   "outputs": [
    {
     "data": {
      "text/plain": [
       "Index(['id', 'occurrenceID', 'references', 'recordedBy', 'recordedByID',\n",
       "       'eventDate', 'decimalLatitude', 'decimalLongitude', 'scientificName',\n",
       "       'taxonRank', 'license', 'rightsHolder', 'sex', 'malla_codigo',\n",
       "       'idtaxon'],\n",
       "      dtype='object')"
      ]
     },
     "execution_count": 56,
     "metadata": {},
     "output_type": "execute_result"
    }
   ],
   "source": [
    "observations_inaturalist_spain = pd.read_csv('../../1. Obtención y Procesado de Datos/Ubicaciones y media/Datos iNaturalist/observations_processed.csv')\n",
    "observations_inaturalist_spain.columns"
   ]
  },
  {
   "cell_type": "code",
   "execution_count": 57,
   "id": "ceae4539",
   "metadata": {},
   "outputs": [],
   "source": [
    "inaturalist_spain_df = media_inaturalist_spain.merge(observations_inaturalist_spain, how='inner', on='id')\n",
    "inaturalist_spain_df = inaturalist_spain_df.rename(columns={'idtaxon': 'taxonid', 'identifier': 'photo_link', 'rightsHolder_x': 'by'})\n",
    "inaturalist_spain_df = inaturalist_spain_df[table_columns]\n",
    "inaturalist_spain_df = inaturalist_spain_df.dropna()\n",
    "inaturalist_spain_df['taxonid'] = inaturalist_spain_df['taxonid'].astype(int)"
   ]
  },
  {
   "cell_type": "code",
   "execution_count": 58,
   "id": "1c0fc2ae",
   "metadata": {},
   "outputs": [
    {
     "data": {
      "text/plain": [
       "taxonid\n",
       "12196    2994\n",
       "12321    2127\n",
       "10969    2069\n",
       "11047    1895\n",
       "12111    1834\n",
       "         ... \n",
       "73409       1\n",
       "19817       1\n",
       "35879       1\n",
       "35217       1\n",
       "63562       1\n",
       "Name: count, Length: 9053, dtype: int64"
      ]
     },
     "execution_count": 58,
     "metadata": {},
     "output_type": "execute_result"
    }
   ],
   "source": [
    "inaturalist_spain_df['taxonid'].value_counts()"
   ]
  },
  {
   "cell_type": "code",
   "execution_count": 59,
   "id": "380da4cf",
   "metadata": {},
   "outputs": [
    {
     "data": {
      "text/plain": [
       "61289"
      ]
     },
     "execution_count": 59,
     "metadata": {},
     "output_type": "execute_result"
    }
   ],
   "source": [
    "dfs = []\n",
    "for taxon in set(inaturalist_spain_df['taxonid']):\n",
    "    df_taxon = inaturalist_spain_df[inaturalist_spain_df['taxonid'] == taxon]\n",
    "    dfs.append(df_taxon.sample(min(10, len(df_taxon)), random_state=42))\n",
    "df = pd.concat(dfs)\n",
    "len(df)"
   ]
  },
  {
   "cell_type": "markdown",
   "id": "4dd5b16f",
   "metadata": {},
   "source": [
    "#### Plantnet, animalia y wikimedia"
   ]
  },
  {
   "cell_type": "code",
   "execution_count": 60,
   "id": "6e2dbc3a",
   "metadata": {},
   "outputs": [
    {
     "data": {
      "text/plain": [
       "236"
      ]
     },
     "execution_count": 60,
     "metadata": {},
     "output_type": "execute_result"
    }
   ],
   "source": [
    "plantnet_df = pd.read_excel('./Plantnet/plantnet_images.xlsx')[table_columns]\n",
    "animalia_wikimedia_df = pd.read_excel('./Animalia y Wikimedia/animalia_wikimedia_images.xlsx')[table_columns]\n",
    "not_inaturalist_df = pd.concat([plantnet_df, animalia_wikimedia_df])\n",
    "len(not_inaturalist_df)"
   ]
  },
  {
   "cell_type": "code",
   "execution_count": 61,
   "id": "c08ed022",
   "metadata": {},
   "outputs": [
    {
     "data": {
      "text/plain": [
       "61525"
      ]
     },
     "execution_count": 61,
     "metadata": {},
     "output_type": "execute_result"
    }
   ],
   "source": [
    "df = pd.concat([df, not_inaturalist_df])\n",
    "len(df)"
   ]
  },
  {
   "cell_type": "markdown",
   "id": "da6adfa3",
   "metadata": {},
   "source": [
    "#### iNaturalist (observaciones globales)"
   ]
  },
  {
   "cell_type": "code",
   "execution_count": 43,
   "id": "98d86939",
   "metadata": {},
   "outputs": [
    {
     "name": "stderr",
     "output_type": "stream",
     "text": [
      "C:\\Users\\alber\\AppData\\Local\\Temp\\ipykernel_2504\\2595981518.py:1: DtypeWarning: Columns (0) have mixed types. Specify dtype option on import or set low_memory=False.\n",
      "  media_inaturalist_all_world = pd.read_csv('./iNaturalist/Datos iNaturalist/media_selection.csv')\n",
      "C:\\Users\\alber\\AppData\\Local\\Temp\\ipykernel_2504\\2595981518.py:2: DtypeWarning: Columns (0) have mixed types. Specify dtype option on import or set low_memory=False.\n",
      "  observations_inaturalist_all_world = pd.read_csv('./iNaturalist/Datos iNaturalist/observations_selection_final.csv')\n"
     ]
    }
   ],
   "source": [
    "media_inaturalist_all_world = pd.read_csv('./iNaturalist/Datos iNaturalist/media_selection.csv')\n",
    "observations_inaturalist_all_world = pd.read_csv('./iNaturalist/Datos iNaturalist/observations_selection_final.csv')"
   ]
  },
  {
   "cell_type": "code",
   "execution_count": 46,
   "id": "b69249ca",
   "metadata": {},
   "outputs": [
    {
     "data": {
      "text/plain": [
       "format\n",
       "image/jpeg                  3289200\n",
       "image/png                     41189\n",
       "audio/mp4                     16239\n",
       "audio/x-wav                   15510\n",
       "audio/mpeg                     9535\n",
       "application/octet-stream       1435\n",
       "image/gif                       673\n",
       "image/pjpeg                      89\n",
       "video/3gpp                        7\n",
       "Name: count, dtype: int64"
      ]
     },
     "execution_count": 46,
     "metadata": {},
     "output_type": "execute_result"
    }
   ],
   "source": [
    "media_inaturalist_all_world['format'].value_counts()"
   ]
  },
  {
   "cell_type": "code",
   "execution_count": 47,
   "id": "09c1f260",
   "metadata": {},
   "outputs": [],
   "source": [
    "media_inaturalist_all_world = media_inaturalist_all_world[media_inaturalist_all_world['format'].isin(['image/jpeg', 'image/png'])]"
   ]
  },
  {
   "cell_type": "code",
   "execution_count": 48,
   "id": "3455f9a0",
   "metadata": {},
   "outputs": [],
   "source": [
    "inaturalist_all_world_df = media_inaturalist_all_world.merge(observations_inaturalist_all_world, how='inner', on='id')\n",
    "inaturalist_all_world_df = inaturalist_all_world_df.rename(columns={'idtaxon': 'taxonid', 'identifier': 'photo_link', 'rightsHolder_x': 'by'})\n",
    "inaturalist_all_world_df = inaturalist_all_world_df[table_columns]\n",
    "inaturalist_all_world_df = inaturalist_all_world_df.dropna()\n",
    "inaturalist_all_world_df['taxonid'] = inaturalist_all_world_df['taxonid'].astype(int)"
   ]
  },
  {
   "cell_type": "code",
   "execution_count": 49,
   "id": "b700e3a3",
   "metadata": {},
   "outputs": [
    {
     "data": {
      "text/plain": [
       "taxonid\n",
       "12000    83977\n",
       "10534    60588\n",
       "11176    47519\n",
       "10489    44220\n",
       "11608    38707\n",
       "         ...  \n",
       "12022        1\n",
       "8327         1\n",
       "41821        1\n",
       "42784        1\n",
       "39849        1\n",
       "Name: count, Length: 1816, dtype: int64"
      ]
     },
     "execution_count": 49,
     "metadata": {},
     "output_type": "execute_result"
    }
   ],
   "source": [
    "inaturalist_all_world_df['taxonid'].value_counts()"
   ]
  },
  {
   "cell_type": "code",
   "execution_count": 62,
   "id": "c488e1c0",
   "metadata": {},
   "outputs": [
    {
     "data": {
      "text/plain": [
       "63532"
      ]
     },
     "execution_count": 62,
     "metadata": {},
     "output_type": "execute_result"
    }
   ],
   "source": [
    "dfs = [df]\n",
    "for taxon in set(inaturalist_all_world_df['taxonid']):\n",
    "    df_taxon = inaturalist_all_world_df[inaturalist_all_world_df['taxonid'] == taxon]\n",
    "    missing = len(df[df['taxonid'] == taxon])\n",
    "    if missing > 0:\n",
    "        dfs.append(df_taxon.sample(min(10 - missing, len(df_taxon)), random_state=42))\n",
    "df = pd.concat(dfs)\n",
    "len(df)"
   ]
  },
  {
   "cell_type": "markdown",
   "id": "6eecae41",
   "metadata": {},
   "source": [
    "#### Guardamos el dataset final"
   ]
  },
  {
   "cell_type": "code",
   "execution_count": 66,
   "id": "956de660",
   "metadata": {},
   "outputs": [
    {
     "data": {
      "text/plain": [
       "10982"
      ]
     },
     "execution_count": 66,
     "metadata": {},
     "output_type": "execute_result"
    }
   ],
   "source": [
    "# Nos quedamos solamente con aquellos taxones que estan en nuestra tabla de taxonomia\n",
    "taxonomia_df = pd.read_excel('../Taxonomia.xlsx')\n",
    "df = df[df['taxonid'].isin(taxonomia_df['taxonid'])]\n",
    "len(df)"
   ]
  },
  {
   "cell_type": "code",
   "execution_count": 67,
   "id": "3082209a",
   "metadata": {},
   "outputs": [
    {
     "data": {
      "text/plain": [
       "taxonid\n",
       "6        10\n",
       "11442    10\n",
       "11476    10\n",
       "11470    10\n",
       "11453    10\n",
       "         ..\n",
       "2243      1\n",
       "2443      1\n",
       "2452      1\n",
       "2457      1\n",
       "12153     1\n",
       "Name: count, Length: 1346, dtype: int64"
      ]
     },
     "execution_count": 67,
     "metadata": {},
     "output_type": "execute_result"
    }
   ],
   "source": [
    "df['taxonid'].value_counts()"
   ]
  },
  {
   "cell_type": "code",
   "execution_count": null,
   "id": "a6217ab9",
   "metadata": {},
   "outputs": [],
   "source": [
    "# Cambiar la columna 'by' porque es una palabra reservada en SQL\n",
    "df = df.rename(columns={'by': 'license_holder'})\n",
    "df['license_holder'] = df['license_holder'].astype(str)\n",
    "df.to_excel('../Imagenes.xlsx', index=False)"
   ]
  }
 ],
 "metadata": {
  "kernelspec": {
   "display_name": "base",
   "language": "python",
   "name": "python3"
  },
  "language_info": {
   "codemirror_mode": {
    "name": "ipython",
    "version": 3
   },
   "file_extension": ".py",
   "mimetype": "text/x-python",
   "name": "python",
   "nbconvert_exporter": "python",
   "pygments_lexer": "ipython3",
   "version": "3.12.9"
  }
 },
 "nbformat": 4,
 "nbformat_minor": 5
}
