{
 "cells": [
  {
   "cell_type": "code",
   "execution_count": 1,
   "id": "e65d42c7",
   "metadata": {},
   "outputs": [],
   "source": [
    "import pandas as pd\n",
    "import os"
   ]
  },
  {
   "cell_type": "markdown",
   "id": "1ade5984",
   "metadata": {},
   "source": [
    "La tabla que limita a las demás es la de las descripciones"
   ]
  },
  {
   "cell_type": "code",
   "execution_count": 2,
   "id": "1618574d",
   "metadata": {},
   "outputs": [],
   "source": [
    "df_limitante = pd.read_excel('DescripcionesEspecies.xlsx')"
   ]
  },
  {
   "cell_type": "markdown",
   "id": "9b6d7938",
   "metadata": {},
   "source": [
    "#### Cargamos el resto de tablas que hacen referencia a especies, y eliminamos aquellas que no esten en la tabla anterior\n",
    "\n",
    "Tabla de taxonomía"
   ]
  },
  {
   "cell_type": "code",
   "execution_count": null,
   "id": "65648cd5",
   "metadata": {},
   "outputs": [],
   "source": [
    "df_taxonomia = pd.read_excel('EIDOS_taxonomia.xlsx')\n",
    "df_taxonomia = df_taxonomia[df_taxonomia['taxonid'].isin(df_limitante['idtaxon'])][[\n",
    "    'taxonid', 'name', 'taxonrank', 'origen', 'taxonomicgroup', 'kingdom',\n",
    "       'phylum', 'class', 'order', 'family', 'genus', 'subgenus',\n",
    "       'specificepithet', 'infraspecificepithet', 'nametype'\n",
    "]]\n",
    "# Necesitamos renombrar la columna de taxonomia porque para SQL es una palabra reservada\n",
    "df_taxonomia = df_taxonomia.rename(columns={'order': 'taxonorder'})\n",
    "df_taxonomia.to_excel('Taxonomia.xlsx', index=False)\n",
    "os.remove('EIDOS_taxonomia.xlsx')"
   ]
  },
  {
   "cell_type": "markdown",
   "id": "be3be5dd",
   "metadata": {},
   "source": [
    "Tabla de ubicaciones (cuadrículas) de especies"
   ]
  },
  {
   "cell_type": "code",
   "execution_count": null,
   "id": "1fee5ba9",
   "metadata": {},
   "outputs": [],
   "source": [
    "df_cuadriculas = pd.read_csv('UBICACIONES_TODAS.csv')\n",
    "df_cuadriculas = df_cuadriculas[df_cuadriculas['idtaxon'].isin(df_limitante['idtaxon'])]\n",
    "df_cuadriculas = df_cuadriculas['cuadricula'] = df_cuadriculas['cuadricula'].str.strip()\n",
    "df_cuadriculas = df_cuadriculas[df_cuadriculas['cuadricula'].str.len() == 7]\n",
    "df_cuadriculas.to_csv('CuadriculasEspecies.csv', index=False)\n",
    "os.remove('UBICACIONES_TODAS.csv')"
   ]
  },
  {
   "cell_type": "markdown",
   "id": "899ac173",
   "metadata": {},
   "source": [
    "Tabla de nombres de especies"
   ]
  },
  {
   "cell_type": "code",
   "execution_count": null,
   "id": "2b30e9ef",
   "metadata": {},
   "outputs": [],
   "source": [
    "df_nombres = pd.read_excel('EIDOS_nombres.xlsx')\n",
    "df_nombres = df_nombres[df_nombres['idtaxon'].isin(df_limitante['idtaxon'])]\n",
    "df_nombres = df_nombres[['idtaxon', 'nombre_aceptado', 'nombre_comun', 'idioma', 'espreferente']]\n",
    "df_nombres.to_csv('NombresEspecies.csv', index=False)\n",
    "os.remove('EIDOS_nombres.xlsx')"
   ]
  },
  {
   "cell_type": "markdown",
   "id": "c55b0e69",
   "metadata": {},
   "source": [
    "También eliminamos columnas innecesarias de la tabla de Rutas"
   ]
  },
  {
   "cell_type": "code",
   "execution_count": null,
   "id": "69e33380",
   "metadata": {},
   "outputs": [],
   "source": [
    "df_rutas = pd.read_csv('Rutas.csv')\n",
    "df_rutas = df_rutas[['ID_Ruta', 'Nombre_Ruta', 'NOM_ETAPA', 'Longitud', 'Description', 'nombre_en', 'CCAA_1', 'Provincia_1']]\n",
    "df_rutas = df_rutas.rename(columns={'nombre_en': 'Nombre_Ingles', 'CCAA_1': 'CCAA', 'Provincia_1': 'Provincia', 'NOM_ETAPA': 'Nombre_Etapa', 'Description': 'Descripcion'})\n",
    "\n",
    "def clean_description(d):\n",
    "    if not isinstance(d, str):\n",
    "       d = ''\n",
    "    else:\n",
    "       d = d[d.find('Descripción'):].split('<td>')[1].split('</')[0]\n",
    "    return d\n",
    "\n",
    "df_rutas['Descripcion'] = df_rutas['Descripcion'].apply(clean_description)\n",
    "df_rutas['Longitud'] = df_rutas['Longitud'].str.replace(',', '.').astype(float)\n",
    "df_rutas.to_excel('Rutas.xlsx', index=False)\n",
    "os.remove('Rutas.csv')"
   ]
  },
  {
   "cell_type": "markdown",
   "id": "8f7e11b8",
   "metadata": {},
   "source": [
    "Y quitamos los espacios en blanco de la tabla de CuadriculasRutas"
   ]
  },
  {
   "cell_type": "code",
   "execution_count": null,
   "id": "7c1bcb7f",
   "metadata": {},
   "outputs": [],
   "source": [
    "df_cuadriculas = pd.read_csv('CuadriculasRutas.csv')\n",
    "df_cuadriculas['CUADRICULA'] = df_cuadriculas['CUADRICULA'].str.strip()\n",
    "df_cuadriculas.to_csv('CuadriculasRutas.csv', index=False)"
   ]
  }
 ],
 "metadata": {
  "kernelspec": {
   "display_name": "base",
   "language": "python",
   "name": "python3"
  },
  "language_info": {
   "codemirror_mode": {
    "name": "ipython",
    "version": 3
   },
   "file_extension": ".py",
   "mimetype": "text/x-python",
   "name": "python",
   "nbconvert_exporter": "python",
   "pygments_lexer": "ipython3",
   "version": "3.12.9"
  }
 },
 "nbformat": 4,
 "nbformat_minor": 5
}
