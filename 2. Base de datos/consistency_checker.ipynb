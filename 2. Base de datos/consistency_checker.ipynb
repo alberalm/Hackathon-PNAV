{
 "cells": [
  {
   "cell_type": "code",
   "execution_count": null,
   "id": "e65d42c7",
   "metadata": {},
   "outputs": [],
   "source": [
    "import pandas as pd\n",
    "import os"
   ]
  },
  {
   "cell_type": "markdown",
   "id": "1ade5984",
   "metadata": {},
   "source": [
    "La tabla que limita a las demás es la de las descripciones"
   ]
  },
  {
   "cell_type": "code",
   "execution_count": null,
   "id": "1618574d",
   "metadata": {},
   "outputs": [],
   "source": [
    "df_limitante = pd.read_excel('DescripcionesEspecies.xlsx')"
   ]
  },
  {
   "cell_type": "markdown",
   "id": "9b6d7938",
   "metadata": {},
   "source": [
    "#### Cargamos el resto de tablas que hacen referencia a especies, y eliminamos aquellas que no esten en la tabla anterior\n",
    "\n",
    "Tabla de taxonomía"
   ]
  },
  {
   "cell_type": "code",
   "execution_count": null,
   "id": "65648cd5",
   "metadata": {},
   "outputs": [],
   "source": [
    "df_taxonomia = pd.read_excel('EIDOS_taxonomia.xlsx')\n",
    "df_taxonomia[df_taxonomia['taxonid'].isin(df_limitante['idtaxon'])][[\n",
    "    'taxonid', 'name', 'taxonrank', 'origen', 'taxonomicgroup', 'kingdom',\n",
    "       'phylum', 'class', 'order', 'family', 'genus', 'subgenus',\n",
    "       'specificepithet', 'infraspecificepithet', 'nametype'\n",
    "]]\n",
    "df_taxonomia.to_csv('Taxonomia.csv', index=False)\n",
    "os.remove('EIDOS_taxonomia.xlsx')"
   ]
  },
  {
   "cell_type": "markdown",
   "id": "be3be5dd",
   "metadata": {},
   "source": [
    "Tabla de ubicaciones (cuadrículas) de especies"
   ]
  },
  {
   "cell_type": "code",
   "execution_count": null,
   "id": "1fee5ba9",
   "metadata": {},
   "outputs": [],
   "source": [
    "df_cuadriculas = pd.read_csv('UBICACIONES_TODAS.csv')\n",
    "df_cuadriculas[df_cuadriculas['idtaxon'].isin(df_limitante['idtaxon'])]\n",
    "df_cuadriculas.to_csv('CuadriculasEspecies.csv', index=False)\n",
    "os.remove('UBICACIONES_TODAS.csv')"
   ]
  },
  {
   "cell_type": "markdown",
   "id": "899ac173",
   "metadata": {},
   "source": [
    "Tabla de nombres de especies"
   ]
  },
  {
   "cell_type": "code",
   "execution_count": 14,
   "id": "2b30e9ef",
   "metadata": {},
   "outputs": [],
   "source": [
    "df_nombres = pd.read_excel('EIDOS_nombres.xlsx')\n",
    "df_nombres[df_nombres['idtaxon'].isin(df_limitante['idtaxon'])]\n",
    "df_nombres = df_nombres[['idtaxon', 'nombre_aceptado', 'nombre_comun', 'idioma', 'espreferente']]\n",
    "df_nombres.to_csv('NombresEspecies.csv', index=False)\n",
    "os.remove('EIDOS_nombres.xlsx')"
   ]
  }
 ],
 "metadata": {
  "kernelspec": {
   "display_name": "base",
   "language": "python",
   "name": "python3"
  },
  "language_info": {
   "codemirror_mode": {
    "name": "ipython",
    "version": 3
   },
   "file_extension": ".py",
   "mimetype": "text/x-python",
   "name": "python",
   "nbconvert_exporter": "python",
   "pygments_lexer": "ipython3",
   "version": "3.12.9"
  }
 },
 "nbformat": 4,
 "nbformat_minor": 5
}
