{
 "cells": [
  {
   "cell_type": "code",
   "execution_count": 1,
   "id": "e65d42c7",
   "metadata": {},
   "outputs": [],
   "source": [
    "import pandas as pd\n",
    "import os"
   ]
  },
  {
   "cell_type": "markdown",
   "id": "1ade5984",
   "metadata": {},
   "source": [
    "La tabla que limita a las demás es la de las descripciones"
   ]
  },
  {
   "cell_type": "code",
   "execution_count": 2,
   "id": "1618574d",
   "metadata": {},
   "outputs": [],
   "source": [
    "df_limitante = pd.read_excel('DescripcionesEspecies.xlsx')"
   ]
  },
  {
   "cell_type": "markdown",
   "id": "9b6d7938",
   "metadata": {},
   "source": [
    "#### Cargamos el resto de tablas que hacen referencia a especies, y eliminamos aquellas que no esten en la tabla anterior\n",
    "\n",
    "Tabla de taxonomía"
   ]
  },
  {
   "cell_type": "code",
   "execution_count": 3,
   "id": "65648cd5",
   "metadata": {},
   "outputs": [],
   "source": [
    "df_taxonomia = pd.read_excel('../1. Obtención Y Procesado de Datos/EIDOS_taxonomia.xlsx')\n",
    "df_taxonomia = df_taxonomia[df_taxonomia['taxonid'].isin(df_limitante['idtaxon'])][[\n",
    "    'taxonid', 'name', 'taxonrank', 'origen', 'taxonomicgroup', 'kingdom',\n",
    "       'phylum', 'class', 'order', 'family', 'genus', 'subgenus',\n",
    "       'specificepithet', 'infraspecificepithet', 'nametype'\n",
    "]]\n",
    "# Añadimos una nueva columna con el estado legal de las especies (si es invasora o no)\n",
    "df_estado_legal = pd.read_excel('../1. Obtención Y Procesado de Datos/Estado legal especies/EIDOS_estado_legal.xlsx')\n",
    "df_taxonomia = df_taxonomia.merge(df_estado_legal[['idtaxon']], left_on='taxonid', right_on='idtaxon', how='left')\n",
    "df_taxonomia['isinvasive'] = df_taxonomia['idtaxon'].apply(lambda x: 'Invasora' if pd.notnull(x) else 'No invasora')\n",
    "df_taxonomia.drop(columns=['idtaxon'], inplace=True)\n",
    "# Añadimos una nueva columna con el estado de conservación más reciente de las especies\n",
    "df_estado_conservacion = pd.read_excel('../1. Obtención Y Procesado de Datos/Estado conservación especies/EIDOS_estado_conservacion.xlsx')\n",
    "df_taxonomia = df_taxonomia.merge(\n",
    "df_estado_conservacion[['idtaxon', 'categoriaconservacion']], left_on='taxonid', right_on='idtaxon', how='left')\n",
    "df_taxonomia.drop(columns=['idtaxon'], inplace=True)\n",
    "df_taxonomia.rename(columns={\"categoriaconservacion\": \"conservationstatus\"}, inplace=True)\n",
    "df_taxonomia['conservationstatus'] = df_taxonomia['conservationstatus'].str.replace(\"\\\"\", \"\")\n",
    "# Eliminar los rangos \"Nombre mal aplicado\" y \"Nothospecies\"\n",
    "df_taxonomia = df_taxonomia[~df_taxonomia['taxonrank'].isin(['Nombre mal aplicado', 'Nothospecies'])]\n",
    "# Poner los nombres aceptados como \"Aceptado\" y el taxon que solamente tiene un nombre (\"Sinónimo ambiguo\") como \"Aceptado\" también\n",
    "df_taxonomia['nametype'] = df_taxonomia['nametype'].str.replace('Aceptado/válido', 'Aceptado').replace('Sinónimo ambiguo', 'Aceptado')\n",
    "# Cambiar todos los demás por \"Sinónimo\" (solamente cambia 28 nombres)\n",
    "df_taxonomia['nametype'] = df_taxonomia['nametype'].apply(lambda x: \"Sinónimo\" if x != \"Aceptado\" else x)\n",
    "# Necesitamos renombrar la columna de taxonomia porque para SQL es una palabra reservada\n",
    "df_taxonomia = df_taxonomia.rename(columns={'order': 'taxonorder'})\n",
    "# Para que aparezcan los nombres aceptados primero\n",
    "df_taxonomia = df_taxonomia.sort_values(by=['taxonid', 'nametype'])\n",
    "df_taxonomia.to_excel('Taxonomia.xlsx', index=False)"
   ]
  },
  {
   "cell_type": "markdown",
   "id": "be3be5dd",
   "metadata": {},
   "source": [
    "Tabla de ubicaciones (cuadrículas) de especies"
   ]
  },
  {
   "cell_type": "code",
   "execution_count": null,
   "id": "1fee5ba9",
   "metadata": {},
   "outputs": [],
   "source": [
    "df_ubicaciones = pd.read_csv('../1. Obtención Y Procesado de Datos/Ubicaciones y media/UBICACIONES_TODAS.csv')\n",
    "df_ubicaciones = df_ubicaciones[df_ubicaciones['idtaxon'].isin(df_limitante['idtaxon'])]\n",
    "df_ubicaciones = df_ubicaciones['cuadricula'] = df_ubicaciones['cuadricula'].str.strip()\n",
    "df_ubicaciones = df_ubicaciones[df_ubicaciones['cuadricula'].str.len() == 7]\n",
    "df_ubicaciones.to_csv('CuadriculasEspecies.csv', index=False)"
   ]
  },
  {
   "cell_type": "markdown",
   "id": "899ac173",
   "metadata": {},
   "source": [
    "Tabla de nombres de especies"
   ]
  },
  {
   "cell_type": "code",
   "execution_count": null,
   "id": "2b30e9ef",
   "metadata": {},
   "outputs": [],
   "source": [
    "df_nombres = pd.read_excel('../1. Obtención Y Procesado de Datos/Nombres especies/EIDOS_nombres.xlsx')\n",
    "# Aplicamos el filtro de descripciones\n",
    "df_nombres = df_nombres[df_nombres['idtaxon'].isin(df_limitante['idtaxon'])]\n",
    "df_nombres = df_nombres[['idtaxon', 'nombre_comun', 'idioma', 'espreferente']]\n",
    "df_nombres = df_nombres.sort_values(by='espreferente', ascending=False)\n",
    "df_nombres = df_nombres.drop_duplicates(subset=['idtaxon', 'nombre_comun', 'idioma'])\n",
    "df_nombres = df_nombres.sort_values(by='idtaxon')\n",
    "# Aquellos con un solo valor NA y lo demas 0, se le asigna el valor NA como preferente\n",
    "sin_preferente = df_nombres[~df_nombres['idtaxon'].isin(df_nombres[(df_nombres['espreferente'] == 1) & (df_nombres['idioma'] == 'Castellano')]['idtaxon'])]\n",
    "solo_un_nan_dict = df_nombres[df_nombres['espreferente'].isna() & (df_nombres['idioma'] == 'Castellano')]['idtaxon'].value_counts() == 1\n",
    "solo_un_na_sin_preferente = sin_preferente[sin_preferente['idtaxon'].apply(lambda x: solo_un_nan_dict[x] if x in solo_un_nan_dict else False)]\n",
    "indices_para_preferente = solo_un_na_sin_preferente[solo_un_na_sin_preferente['espreferente'].isna() & (solo_un_na_sin_preferente['idioma'] == 'Castellano')].index\n",
    "df_nombres.loc[indices_para_preferente, 'espreferente'] = 1\n",
    "# Aquellos que solo tienen un unico registro con un 0, se le asigna ese como preferente\n",
    "sin_preferente = df_nombres[~df_nombres['idtaxon'].isin(df_nombres[(df_nombres['espreferente'] == 1) & (df_nombres['idioma'] == 'Castellano')]['idtaxon'])]\n",
    "solo_uno_dict = sin_preferente[sin_preferente['idioma'] == 'Castellano']['idtaxon'].value_counts() == 1\n",
    "solo_uno_sin_preferente = sin_preferente[sin_preferente['idtaxon'].apply(lambda x: solo_uno_dict[x] if x in solo_uno_dict else False) & (sin_preferente['idioma'] == 'Castellano')]\n",
    "df_nombres.loc[solo_uno_sin_preferente.index, 'espreferente'] = 1\n",
    "# Las que quedan sin nombre preferente, se extraen a un archivo para asignacion manual\n",
    "sin_preferente = df_nombres[~df_nombres['idtaxon'].isin(df_nombres[(df_nombres['espreferente'] == 1) & (df_nombres['idioma'] == 'Castellano')]['idtaxon'])]\n",
    "sin_preferente[sin_preferente['idioma'] == 'Castellano'].to_excel('Necesitan_Preferente.xlsx', index=False)\n",
    "# Guardamos el resultado\n",
    "df_nombres.to_csv('NombresEspecies.csv', index=False)"
   ]
  },
  {
   "cell_type": "code",
   "execution_count": null,
   "id": "08672bfa",
   "metadata": {},
   "outputs": [],
   "source": [
    "# Una vez asignado, se unifican ambos archivos\n",
    "df_nombres = pd.read_csv('NombresEspecies.csv')\n",
    "df_nombres_a_actualizar = pd.read_excel('Necesitan_Preferente.xlsx')\n",
    "df_nombres = pd.concat([df_nombres, df_nombres_a_actualizar])\n",
    "df_nombres = df_nombres.drop_duplicates(subset=['idtaxon', 'nombre_comun', 'espreferente'], keep='last')\n",
    "df_nombres.to_csv('NombresEspecies.csv', index=False)\n",
    "os.remove('Necesitan_Preferente.xlsx')"
   ]
  },
  {
   "cell_type": "markdown",
   "id": "c55b0e69",
   "metadata": {},
   "source": [
    "También eliminamos columnas innecesarias de la tabla de Rutas"
   ]
  },
  {
   "cell_type": "code",
   "execution_count": null,
   "id": "69e33380",
   "metadata": {},
   "outputs": [],
   "source": [
    "df_rutas = pd.read_csv('../1. Obtención Y Procesado de Datos/Rutas/RUTAS_TODAS.csv')\n",
    "df_rutas = df_rutas[['ID_Ruta', 'Nombre_Ruta', 'NOM_ETAPA', 'Longitud', 'Description', 'nombre_en', 'CCAA_1', 'Provincia_1']]\n",
    "df_rutas = df_rutas.rename(columns={'nombre_en': 'Nombre_Ingles', 'CCAA_1': 'CCAA', 'Provincia_1': 'Provincia', 'NOM_ETAPA': 'Nombre_Etapa', 'Description': 'Descripcion'})\n",
    "\n",
    "def clean_description(d):\n",
    "    if not isinstance(d, str):\n",
    "       d = ''\n",
    "    else:\n",
    "       d = d[d.find('Descripción'):].split('<td>')[1].split('</')[0]\n",
    "    return d\n",
    "\n",
    "df_rutas['Descripcion'] = df_rutas['Descripcion'].apply(clean_description)\n",
    "df_rutas['Longitud'] = df_rutas['Longitud'].str.replace(',', '.').astype(float)\n",
    "df_rutas.to_excel('Rutas.xlsx', index=False)"
   ]
  },
  {
   "cell_type": "markdown",
   "id": "8f7e11b8",
   "metadata": {},
   "source": [
    "Y quitamos los espacios en blanco de la tabla de CuadriculasRutas"
   ]
  },
  {
   "cell_type": "code",
   "execution_count": null,
   "id": "7c1bcb7f",
   "metadata": {},
   "outputs": [],
   "source": [
    "df_cuadriculas_rutas = pd.read_csv('../1. Obtención Y Procesado de Datos/Rutas/Rutas_Cuadriculas/Rutas_Cuadriculas.csv')\n",
    "df_cuadriculas_rutas['CUADRICULA'] = df_cuadriculas_rutas['CUADRICULA'].str.strip()\n",
    "df_cuadriculas_rutas.to_csv('CuadriculasRutas.csv', index=False)"
   ]
  },
  {
   "cell_type": "markdown",
   "id": "04425688",
   "metadata": {},
   "source": [
    "Y arreglamos la consistencia de la tabla Cuadriculas"
   ]
  },
  {
   "cell_type": "code",
   "execution_count": null,
   "id": "72b8131a",
   "metadata": {},
   "outputs": [],
   "source": [
    "# Debemos asegurarnos de que la Comunidad Autonoma es consistente con la provincia\n",
    "df_cuadriculas = pd.read_csv('../1. Obtención Y Procesado de Datos/mallas_con_ccaa_y_prov.csv')\n",
    "# Para ello, obtenemos el diccionario de provincia a Comunidad Autonoma viendo las cuadriculas que solo aparecen una vez\n",
    "solo_una_vez = df_cuadriculas['CUADRICULA'].value_counts() == 1\n",
    "cuadriculas_solo_una_vez = df_cuadriculas[df_cuadriculas['CUADRICULA'].apply(lambda x: solo_una_vez[x])]\n",
    "ccaas = {row['Provincia']: row['CCAA'] for i, row in cuadriculas_solo_una_vez.iterrows()}\n",
    "df_cuadriculas['CCAA'] = df_cuadriculas['Provincia'].apply(lambda x: ccaas[x])\n",
    "df_cuadriculas = df_cuadriculas.drop_duplicates()\n",
    "df_cuadriculas.to_csv('Cuadriculas.csv', index=False)"
   ]
  }
 ],
 "metadata": {
  "kernelspec": {
   "display_name": "base",
   "language": "python",
   "name": "python3"
  },
  "language_info": {
   "codemirror_mode": {
    "name": "ipython",
    "version": 3
   },
   "file_extension": ".py",
   "mimetype": "text/x-python",
   "name": "python",
   "nbconvert_exporter": "python",
   "pygments_lexer": "ipython3",
   "version": "3.12.9"
  }
 },
 "nbformat": 4,
 "nbformat_minor": 5
}
