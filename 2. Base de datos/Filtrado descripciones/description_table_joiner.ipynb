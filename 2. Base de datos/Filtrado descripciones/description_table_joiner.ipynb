{
 "cells": [
  {
   "cell_type": "code",
   "execution_count": null,
   "id": "f300c7b0",
   "metadata": {},
   "outputs": [],
   "source": [
    "import pandas as pd"
   ]
  },
  {
   "cell_type": "markdown",
   "id": "a129ff3e",
   "metadata": {},
   "source": [
    "### Limpieza, Unificación y Exportación de Descripciones de Especies para Dataset Final"
   ]
  },
  {
   "cell_type": "code",
   "execution_count": 2,
   "id": "6b150bfe",
   "metadata": {},
   "outputs": [],
   "source": [
    "df1 = pd.read_excel('Descripciones_Gemini_sin_repetir.xlsx')\n",
    "df2 = pd.read_excel('Descripciones_Combinadas_Gemini.xlsx')"
   ]
  },
  {
   "cell_type": "code",
   "execution_count": 3,
   "id": "bfc58d90",
   "metadata": {},
   "outputs": [],
   "source": [
    "df = pd.concat([df1, df2])\n",
    "df = df.drop(columns=['Nombres comunes', 'Nombre aceptado', 'Grupo taxonómico'])\n",
    "df = df.rename(columns={\n",
    "    'Código de la especie (id taxon)': 'idtaxon',\n",
    "    'Descripción Original': 'Descripcion',\n",
    "    'Descripción Gemini 1': 'Gemini1',\n",
    "    'Descripción Gemini 2': 'Gemini2',\n",
    "    'Descripción Gemini 3': 'Gemini3'\n",
    "})\n",
    "df = df.sort_values(by=['idtaxon'])"
   ]
  },
  {
   "cell_type": "code",
   "execution_count": 4,
   "id": "f2ff18da",
   "metadata": {},
   "outputs": [],
   "source": [
    "# Eliminar \"(dibujo X)\" de todas las descripciones\n",
    "# Esto proviene de las descripciones del SEO y a veces se propaga a las de Gemini\n",
    "def clean_dibujo(s):\n",
    "    s = s.replace('\\n', ' ').replace('   ', ' ').replace('  ', ' ')\n",
    "    if \"(dibujo\" in s:\n",
    "        splitted = s.split(\"(dibujo\")\n",
    "        splitted = [part[part.find(\")\")+1:].strip() if i > 0 else part for i, part in enumerate(splitted)]\n",
    "        s = ' '.join(splitted).strip().replace(' .', '.').replace(' ,', ',')\n",
    "    return s\n",
    "\n",
    "for col in ['Descripcion', 'Gemini1', 'Gemini2', 'Gemini3']:\n",
    "    df[col] = df[col].apply(clean_dibujo)"
   ]
  },
  {
   "cell_type": "code",
   "execution_count": 5,
   "id": "e2962f22",
   "metadata": {},
   "outputs": [],
   "source": [
    "df.to_excel('DescripcionesEspecies.xlsx', index=False)"
   ]
  },
  {
   "cell_type": "code",
   "execution_count": 9,
   "id": "a9b21bd8",
   "metadata": {},
   "outputs": [
    {
     "data": {
      "text/plain": [
       "idtaxon\n",
       "10489    2\n",
       "6        1\n",
       "14001    1\n",
       "14003    1\n",
       "14004    1\n",
       "        ..\n",
       "10888    1\n",
       "10889    1\n",
       "10890    1\n",
       "10891    1\n",
       "94698    1\n",
       "Name: count, Length: 2776, dtype: int64"
      ]
     },
     "execution_count": 9,
     "metadata": {},
     "output_type": "execute_result"
    }
   ],
   "source": [
    "df['idtaxon'].value_counts()"
   ]
  }
 ],
 "metadata": {
  "kernelspec": {
   "display_name": "base",
   "language": "python",
   "name": "python3"
  },
  "language_info": {
   "codemirror_mode": {
    "name": "ipython",
    "version": 3
   },
   "file_extension": ".py",
   "mimetype": "text/x-python",
   "name": "python",
   "nbconvert_exporter": "python",
   "pygments_lexer": "ipython3",
   "version": "3.12.7"
  }
 },
 "nbformat": 4,
 "nbformat_minor": 5
}
