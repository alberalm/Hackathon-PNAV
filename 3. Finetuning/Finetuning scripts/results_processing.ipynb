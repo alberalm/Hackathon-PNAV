{
 "cells": [
  {
   "cell_type": "markdown",
   "id": "9dc67ce0",
   "metadata": {},
   "source": [
    "### Creacion de los resultados"
   ]
  },
  {
   "cell_type": "code",
   "execution_count": 1,
   "id": "b16fc5e1",
   "metadata": {},
   "outputs": [],
   "source": [
    "import pandas as pd\n",
    "import os"
   ]
  },
  {
   "cell_type": "markdown",
   "id": "d2fc5797",
   "metadata": {},
   "source": [
    "### Conversión de Carpetas con CSVs en Archivos Excel con Múltiples Hojas"
   ]
  },
  {
   "cell_type": "code",
   "execution_count": 2,
   "id": "7dcd8308",
   "metadata": {},
   "outputs": [],
   "source": [
    "for folder in os.listdir('.'):\n",
    "    if os.path.isdir(folder):\n",
    "        dfs = []\n",
    "        sheet_names = []\n",
    "        for file in os.listdir(f'./{folder}'):\n",
    "            if file.endswith('.csv'):\n",
    "                dfs.append(pd.read_csv(f'{folder}/{file}'))\n",
    "                sheet_names.append(file.split('.csv')[0].split('_')[-1])\n",
    "        with pd.ExcelWriter(f'{folder}.xlsx', engine='openpyxl') as writer:\n",
    "            for df, sheet_name in zip(dfs, sheet_names):\n",
    "                df.to_excel(writer, sheet_name=sheet_name, index=False)"
   ]
  }
 ],
 "metadata": {
  "kernelspec": {
   "display_name": "base",
   "language": "python",
   "name": "python3"
  },
  "language_info": {
   "codemirror_mode": {
    "name": "ipython",
    "version": 3
   },
   "file_extension": ".py",
   "mimetype": "text/x-python",
   "name": "python",
   "nbconvert_exporter": "python",
   "pygments_lexer": "ipython3",
   "version": "3.12.9"
  }
 },
 "nbformat": 4,
 "nbformat_minor": 5
}
