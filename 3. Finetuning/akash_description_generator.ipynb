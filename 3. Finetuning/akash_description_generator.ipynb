{
 "cells": [
  {
   "cell_type": "code",
   "execution_count": 1,
   "id": "362b8443",
   "metadata": {},
   "outputs": [],
   "source": [
    "import openai\n",
    "import textwrap\n",
    "\n",
    "with open('AKASH_API_KEY.txt') as f:\n",
    "    client = openai.OpenAI(\n",
    "        api_key=f.readline(),\n",
    "        base_url=(\n",
    "            \"https://chatapi.akash.network\"\n",
    "            \"/api/v1\"\n",
    "        )\n",
    "    )"
   ]
  },
  {
   "cell_type": "code",
   "execution_count": 3,
   "id": "25959728",
   "metadata": {},
   "outputs": [],
   "source": [
    "descripcion = \"\"\"\n",
    "Quercus faginea es un árbol caducifolio de hasta 20 m de altura, pero puede verse reducido a un arbusto según la degradación del suelo y la acción humana a la que se vea sometido. En general, el tronco es\n",
    "derecho, con la corteza rugosa, de poco espesor y de color grisáceo o pardo-grisáceo, con numerosas grietas poco profundas en los ejemplares de edad. Las ramillas son pardo rojizas o grisáceas, cubiertas de\n",
    "tricomas que se pierden al formarse la corteza. Tiene una copa redondeada ovoide o alargada, con follaje no muy denso, de aspecto menos compacto y más claro que el de la encina (López González, 2001). Las yemas\n",
    "son tomentosas, de 3-5 mm de longitud. Las hojas son simples, alternas, con estípulas largas y estrechas, que se caen con facilidad. Aunque son muy variables en tamaño y forma, las hojas tienen entre 3-14 cm de\n",
    "longitud (incluso menores en los rebrotes) y 1,5-8 cm de anchura. La lámina es coriácea, pero mucho menos que la de las quercíneas perennifolias, con forma oblonga, aovada, obovada o elíptica, de margen desde\n",
    "dentado a lobulado, muy rara vez dentado punzantes; los lóbulos son poco profundos. Las hojas son también muy variables en indumento; por lo general, están cubiertas de pelos estrellados al nacer que se pierden\n",
    "posteriormente en el haz, haciéndose las hojas verdes y lustrosas. Por el envés son de color ceniciento o verde pálido, con una cubierta fina y densa de pelos estrellados y simples que conservan de adultas.\n",
    "Tienen un pecíolo bien desarrollado de 0,5-2 cm. Las hojas son caducas de tipo marcescente, que se mantienen mucho tiempo marchitas sobre la planta y a menudo verdes durante todo el invierno en las plántulas de\n",
    "ejemplares jóvenes y rebrotes (López González, 2001). En relación con sus hojas, las características más constantes se presentan en las hojas nacidas en primavera. Las nacidas en siguientes brotaciones, en el\n",
    "verano, y de los rebrotes del tronco son siempre más estrechas y más agudamente dentadas que las nacidas en primavera. Las hojas de las plantas jóvenes y de los rebrotes del tronco presentan siempre un tomento\n",
    "ralo. Las hojas de las plantas que habitan en medios secos y suelos pobres son pequeñas, más coriáceas, menos tomentosas y se corresponden con plantas arbustivas o mal desarrolladas, mientras que las de las\n",
    "plantas de zonas húmedas y frescas son mayores, menos coriáceas y más densamente tomentosas, correspondiendo a individuos mejor desarrollados (Rosúa et al., 2001). El quejigo es muy polimórfico, lo que ha\n",
    "llevado a diferentes tratamientos taxonómicos basados en caracteres morfológicos. Amaral Franco (1990) reconoce dos subespecies: el taxón tipo Q. faginea subsp. faginea y Q. faginea subsp. broteroi (Coutinho)\n",
    "A. Camus, con una ecología y distribución distintas, aunque en zonas de transición entre ambas aparecen individuos con caracteres intermedios. La subespecie Q. faginea subsp. faginea tiene hojas más pequeñas,\n",
    "entre 3-6(9) cm de longitud y 1,5-4 (5) cm de anchura con borde dentado-aserrado. El tomento del envés es generalmente ralo y los radios de los pelos son cortos (125-155 μm). La subespecie Q. faginea subsp.\n",
    "broteroi podría ser confundida con Q. canariensis, ya que tiene las hojas más grandes (5-15 × 2,5-9 cm) que el anterior taxón, con borde crenado o lobulado-dentado y tomento denso por el envés y los radios de\n",
    "los pelos largos (175-200 µm). Se diferencia de Q. canariensis por la forma de las hojas y el color del tomento; en Q. canariensis las hojas son más bien obovadas y el tomento, que cambia de blanco a rojizo a\n",
    "los pocos días de vida de la hoja, se desprende con facilidad. La nomenclatura taxonómica actual del roble pubescente ha establecido la prioridad de Q. humilis frente a la anterior denominación de Q. pubescens\n",
    "(Amaral Franco, 1990). El roble pubescente muestra una enorme tendencia a hibridarse con otros congéneres, lo que hace difícil reconocer, en determinadas regiones, sus rasgos morfológicos más típicos. Es un\n",
    "árbol mediano, inerme, de hasta 20-25 m de altura, corrientemente 10- 15 m, y muchas veces un arbusto. Su sistema radical es potente, con muchas raíces secundarias extendidas en sentido horizontal. El tronco es\n",
    "generalmente flexuoso y aún tortuoso, de corteza no muy gruesa ni corchosa, pardo-grisácea al principio y negruzca y resquebrajada posteriormente, con grietas longitudinales y transversales. Presenta una copa\n",
    "irregular, extendida, globosa y lobulada en porte específico, mucho más reducida en masa, no siendo en ningún caso excesivamente densa. La ramificación es sinuosa, con ramas acodadas y ramillos densamente\n",
    "pubescentes (Ruiz de la Torre, 2006). Las yemas son oviformes, angulosas, obtusas o subagudas, con escamas pardo-grisáceas, tomentosas en el dorso. Las hojas son simples, alternas, marcescentes, subpersistentes\n",
    "o tardíamente caedizas. El pecíolo mide de 5-12 mm y el limbo es mediano o pequeño, de 5-12 × 3-6 cm, membranoso, blando o más o menos rígido, presentando gran variedad de formas, con 5-8 lóbulos. Las hojas son\n",
    "densamente tomentosas en las dos caras al desarrollarse; el haz se depila pronto, quedando una pubescencia estrellada más o menos abundante, a veces ausente, que le comunica un color verde sucio, persistiendo\n",
    "en el envés un tomento grisáceo. La nerviación secundaria es muy destacada, compuesta de 5-8 pares de nervios (Ruiz de la Torre, 2006). Debido a su gran polimorfismo, diferentes autores distinguen distintas\n",
    "subespecies en su rango de distribución. En España, Ruiz de la Torre (2006) considera la siguiente división: Q. humilis subsp. pubescens, de hojas grandes, blandas, con tomento blanquecino en el envés; y Q.\n",
    "humilis subsp. palensis (Polas.) O. Schwarz, de hoja más pequeña, coriácea, con tomento en el envés gris-parduzco. Por otra parte, Q. humilis va siempre acompañado por poblaciones híbridas originadas por el\n",
    "contacto o la mezcla con diversos congéneres, particularmente Q. faginea.\n",
    "\"\"\""
   ]
  },
  {
   "cell_type": "code",
   "execution_count": 10,
   "id": "8116c663",
   "metadata": {},
   "outputs": [
    {
     "name": "stdout",
     "output_type": "stream",
     "text": [
      "<think> Okay, so the user wants me to simplify this detailed botanical description of Quercus faginea into something a layperson can use to identify the tree. Let me start by reading through the\n",
      "original text carefully.  First, I need to note the key identifying features. The main points are the tree's height, up to 20m, but sometimes shrub-like due to soil or human factors. The bark is\n",
      "greyish or brown-grey, rough with shallow cracks. The leaves are semi-deciduous (marcescent), meaning they stay on the tree dried during winter. They have variable shapes, lobed or toothed edges, and\n",
      "a greyish underside with star-shaped hairs. The leaves are less leathery than evergreen oaks. Also, the subspecies differ in leaf size and hair density, but maybe that's too technical. The user\n",
      "mentioned omitting non-essential info, so I can skip the subspecies details unless it's crucial for ID.   I should avoid scientific terms like \"tomentose\" or \"indumentum\" and replace them with simpler\n",
      "words like \"hairy\" or \"fuzzy.\" Mentioning that the leaves are green on top and grey underneath with hairs is important. Also, noting that younger leaves and shoots are more hairy. The comparison to\n",
      "encina (holly oak) might be useful if the reader is familiar, but maybe just say it's less dense.   Don't include the taxon changes or hybrid info since that's more for experts. Focus on the visual\n",
      "aspects: bark, leaf shape, hairiness, how leaves behave in winter. Keep it around 100 words, so need to be concise. Combine sentences where possible for fluency. Check that all included info is from\n",
      "the original and relevant for identification. Make sure the final description flows naturally without technical jargon. Let me structure it: start with size and form, then bark, leaves (shape,\n",
      "texture, color, seasonal behavior), and maybe mention common habitats if mentioned. Original mentions soil degradation affecting growth, so include that it can be shrubby in poor soils.   Avoid\n",
      "mentioning measurements unless they help visually, like leaf size ranges. Since leaves vary a lot, highlight the key constant features: lobed margins, grey underside. Make sure to note the marcescent\n",
      "leaves as that's a distinctive trait. Okay, draft time. </think>  El quejigo o roble valenciano es un árbol que puede alcanzar 20 metros, aunque a menudo crece como arbusto en suelos degradados. Su\n",
      "corteza es rugosa, grisácea y agrietada. Las hojas son semi-caducas (se quedan marchitas en invierno), de 3 a 14 cm, con bordes ondulados o con lóbulos poco profundos. Al brotar, tienen pelos\n",
      "estrellados que pierden en el haz, quedando verdes y brillantes arriba, mientras el envés mantiene un tono grisáceo por la pelusilla persistente. Las hojas de primavera son más anchas, mientras las de\n",
      "verano o rebrotes son más estrechas y dentadas. En zonas secas, las hojas son pequeñas y correosas; en lugares húmedas, más grandes y blandas. Suele confundirse con otras encinas, pero su copa es\n",
      "menos densa y más clara.\n"
     ]
    }
   ],
   "source": [
    "response = client.chat.completions.create(\n",
    "    model=\"DeepSeek-R1\",\n",
    "    messages=[\n",
    "        {\n",
    "            \"role\": \"system\",\n",
    "            \"content\": \"\"\"\n",
    "            Eres un experto en fabricar descripciones de especies que una persona común sin conocimientos técnicos pueda usar para identificar las especies en la naturaleza.\n",
    "            Convierte la descripción que te voy a dar a continuación en una descripción más sencilla, que sea de aproximadamente 100 palabras.\n",
    "            No incluyas información que no esté en la descripción original, y devuelve solamente la descripción simplificada.\n",
    "            Puedes omitir información que no sea tan relevante para la identificación de una persona común (que no sabe nombres científicos) y cambiar la estructura.\n",
    "            También puedes unir frases si así se consigue una lectura más fluida y sin tantas oraciones separadas.\n",
    "            \"\"\".replace('\\n', ' ').replace('  ', ' ')\n",
    "        },\n",
    "        {\n",
    "            \"role\": \"user\",\n",
    "            \"content\": descripcion\n",
    "        }\n",
    "    ],\n",
    ")\n",
    "\n",
    "print(textwrap.fill(response.choices[0].message.content, 200))"
   ]
  },
  {
   "cell_type": "code",
   "execution_count": 7,
   "id": "1db4bdb1",
   "metadata": {},
   "outputs": [],
   "source": [
    "import google.generativeai as genai\n",
    "import pandas as pd\n",
    "import time\n",
    "\n",
    "# Necesitaras crear un archivo GEMINI_API_KEYS.txt con las claves de Gemini que tengas\n",
    "with open('GEMINI_API_KEY.txt') as f:\n",
    "    genai.configure(api_key=f.readline())"
   ]
  },
  {
   "cell_type": "code",
   "execution_count": 8,
   "id": "aeb0076d",
   "metadata": {},
   "outputs": [],
   "source": [
    "model = genai.GenerativeModel('gemini-2.0-flash')\n",
    "messages = [\n",
    "    {'role': 'user',\n",
    "    'parts': [\"\"\"Quiero fabricar descripciones de especies que una persona común sin conocimientos técnicos pueda usar para identificar las especies en la naturaleza.\n",
    "    Convierte la descripción que te voy a dar a continuación en una descripción más sencilla, que sea de aproximadamente 100 palabras.\n",
    "    No incluyas información que no esté en la descripción original, y devuelve solamente la descripción simplificada.\n",
    "    Puedes omitir información que no sea tan relevante para la identificación de una persona común (que no sabe nombres científicos) y cambiar la estructura.\n",
    "    También puedes unir frases si así se consigue una lectura más fluida y sin tantas oraciones separadas.\"\"\"]},\n",
    "    {'role': 'model',\n",
    "    'parts': [\"Entendido.\"]},\n",
    "    {'role': 'user',\n",
    "    'parts': [descripcion]}\n",
    "]\n",
    "response = model.generate_content(messages, generation_config=genai.types.GenerationConfig(candidate_count=3))\n",
    "descriptions = [c.content.parts[0].text.strip() for c in response.candidates]"
   ]
  },
  {
   "cell_type": "code",
   "execution_count": 9,
   "id": "bf9cfa62",
   "metadata": {},
   "outputs": [
    {
     "data": {
      "text/plain": [
       "['El quejigo es un árbol que puede crecer hasta 20 metros, aunque a veces se ve como un arbusto. Su tronco es generalmente recto, con una corteza rugosa de color gris o marrón. Sus hojas cambian según la estación del año, y pueden tener formas y tamaños variables. Suelen tener entre 3 y 14 cm de largo, con bordes que van desde dentados hasta lobulados. Las hojas jóvenes están cubiertas de pelitos que se pierden con el tiempo, dejando la parte superior verde y brillante, mientras que la parte inferior es más pálida y conserva una capa de pelusa. Las hojas pueden permanecer marchitas en el árbol durante mucho tiempo, incluso durante el invierno en los ejemplares jóvenes.',\n",
       " 'El quejigo es un árbol que puede crecer hasta 20 metros, aunque a veces se ve como un arbusto. Su tronco es generalmente recto, con una corteza rugosa de color grisáceo o marrón. Las ramas jóvenes son rojizas o grises y pierden sus pelillos al envejecer. Tiene una copa redondeada, no muy densa y de color más claro que la encina.\\n\\nSus hojas cambian de forma y tamaño, pero suelen medir entre 3 y 14 cm de largo. Son menos duras que las de otros árboles similares y tienen bordes dentados o con pequeñas ondulaciones. Al principio están cubiertas de pelillos, pero luego se vuelven verdes y brillantes por encima, mientras que por debajo conservan un color grisáceo o verde pálido con pelillos. Las hojas pueden quedarse en el árbol secas durante mucho tiempo, incluso en invierno.',\n",
       " 'El quejigo es un árbol que puede crecer hasta 20 metros, aunque a veces se ve como un arbusto. Su tronco es recto, con una corteza rugosa de color grisáceo o pardo. Sus ramas jóvenes son rojizas o grisáceas. Tiene una copa redondeada, no muy densa y más clara que la de la encina. Sus hojas son simples, de entre 3 y 14 cm de largo, y su forma varía, pero suelen ser oblongas, ovaladas o elípticas, con bordes que van desde dentados hasta lobulados. Al principio, las hojas están cubiertas de pelos, pero luego se vuelven verdes y brillantes por encima. Por debajo, son de color ceniza o verde pálido y conservan una capa de pelos. Las hojas pueden permanecer marchitas en el árbol durante mucho tiempo, incluso verdes durante el invierno en las plantas jóvenes.']"
      ]
     },
     "execution_count": 9,
     "metadata": {},
     "output_type": "execute_result"
    }
   ],
   "source": [
    "descriptions"
   ]
  }
 ],
 "metadata": {
  "kernelspec": {
   "display_name": "base",
   "language": "python",
   "name": "python3"
  },
  "language_info": {
   "codemirror_mode": {
    "name": "ipython",
    "version": 3
   },
   "file_extension": ".py",
   "mimetype": "text/x-python",
   "name": "python",
   "nbconvert_exporter": "python",
   "pygments_lexer": "ipython3",
   "version": "3.12.9"
  }
 },
 "nbformat": 4,
 "nbformat_minor": 5
}
