{
 "cells": [
  {
   "cell_type": "code",
   "execution_count": null,
   "id": "4e08af3e",
   "metadata": {},
   "outputs": [],
   "source": [
    "from peft import PeftModel\n",
    "from transformers import AutoModelForCausalLM, AutoTokenizer\n",
    "import torch\n",
    "\n",
    "model_name  = \"BSC-LT/salamandra-7b-instruct\"\n",
    "\n",
    "tokenizer = AutoTokenizer.from_pretrained(model_name, use_fast=True)\n",
    "model = AutoModelForCausalLM.from_pretrained(\n",
    "    model_name,\n",
    "    device_map=\"auto\",\n",
    "    torch_dtype=torch.float16,   # Cargar en FP16\n",
    "    low_cpu_mem_usage=True\n",
    ")"
   ]
  },
  {
   "cell_type": "code",
   "execution_count": null,
   "id": "1baec0dd",
   "metadata": {},
   "outputs": [],
   "source": [
    "# Modelo de descripciones\n",
    "sft_adapter = \"alberalm/salamandra-7b-instruct-description-adapters\"\n",
    "out_dir     = \"./salamandra-7b-instruct-description/\"\n",
    "\n",
    "model = PeftModel.from_pretrained(model, sft_adapter)\n",
    "model = model.merge_and_unload()\n",
    "\n",
    "model.half()\n",
    "\n",
    "# Guardar archivo\n",
    "model.save_pretrained(\n",
    "    out_dir,\n",
    "    safe_serialization=True\n",
    ")\n",
    "tokenizer.save_pretrained(out_dir)"
   ]
  },
  {
   "cell_type": "code",
   "execution_count": null,
   "id": "59e1ec60",
   "metadata": {},
   "outputs": [],
   "source": [
    "# Modelo de text2sql\n",
    "sft_adapter = \"alberalm/salamandra-7b-instruct-text2sql-adapters\"\n",
    "out_dir     = \"./salamandra-7b-instruct-text2sql/\"\n",
    "\n",
    "model = PeftModel.from_pretrained(model, sft_adapter)\n",
    "model = model.merge_and_unload()\n",
    "\n",
    "model.half()\n",
    "\n",
    "# Guardar archivo\n",
    "model.save_pretrained(\n",
    "    out_dir,\n",
    "    safe_serialization=True\n",
    ")\n",
    "tokenizer.save_pretrained(out_dir)"
   ]
  }
 ],
 "metadata": {
  "language_info": {
   "name": "python"
  }
 },
 "nbformat": 4,
 "nbformat_minor": 5
}
