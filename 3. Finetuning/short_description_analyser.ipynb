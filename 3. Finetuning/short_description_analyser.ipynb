{
 "cells": [
  {
   "cell_type": "code",
   "execution_count": null,
   "metadata": {},
   "outputs": [],
   "source": [
    "import pandas as pd\n",
    "import matplotlib.pyplot as plt\n",
    "import numpy as np\n",
    "import textwrap"
   ]
  },
  {
   "cell_type": "code",
   "execution_count": 43,
   "id": "a6e1250f",
   "metadata": {},
   "outputs": [
    {
     "data": {
      "text/html": [
       "<div>\n",
       "<style scoped>\n",
       "    .dataframe tbody tr th:only-of-type {\n",
       "        vertical-align: middle;\n",
       "    }\n",
       "\n",
       "    .dataframe tbody tr th {\n",
       "        vertical-align: top;\n",
       "    }\n",
       "\n",
       "    .dataframe thead th {\n",
       "        text-align: right;\n",
       "    }\n",
       "</style>\n",
       "<table border=\"1\" class=\"dataframe\">\n",
       "  <thead>\n",
       "    <tr style=\"text-align: right;\">\n",
       "      <th></th>\n",
       "      <th>Nombres comunes</th>\n",
       "      <th>Nombre aceptado</th>\n",
       "      <th>Fuente</th>\n",
       "      <th>Grupo taxonómico</th>\n",
       "      <th>Descripción</th>\n",
       "      <th>Código de la especie (id taxon)</th>\n",
       "    </tr>\n",
       "  </thead>\n",
       "  <tbody>\n",
       "    <tr>\n",
       "      <th>0</th>\n",
       "      <td>Abejaruco europeo</td>\n",
       "      <td>Merops apiaster</td>\n",
       "      <td>SEO BirdLife</td>\n",
       "      <td>Aves</td>\n",
       "      <td>Esta ave, del tamaño de un zorzal común, se di...</td>\n",
       "      <td>10738.0</td>\n",
       "    </tr>\n",
       "    <tr>\n",
       "      <th>1</th>\n",
       "      <td>Abejero europeo</td>\n",
       "      <td>Pernis apivorus</td>\n",
       "      <td>SEO BirdLife</td>\n",
       "      <td>Aves</td>\n",
       "      <td>La coloración de esta especie presenta conside...</td>\n",
       "      <td>10739.0</td>\n",
       "    </tr>\n",
       "    <tr>\n",
       "      <th>2</th>\n",
       "      <td>Abubilla común</td>\n",
       "      <td>Upupa epops</td>\n",
       "      <td>SEO BirdLife</td>\n",
       "      <td>Aves</td>\n",
       "      <td>La abubilla común es un ave de aspecto inconfu...</td>\n",
       "      <td>11211.0</td>\n",
       "    </tr>\n",
       "    <tr>\n",
       "      <th>3</th>\n",
       "      <td>Acentor alpino</td>\n",
       "      <td>Prunella collaris</td>\n",
       "      <td>SEO BirdLife</td>\n",
       "      <td>Aves</td>\n",
       "      <td>El acentor alpino es un pájaro robusto y compa...</td>\n",
       "      <td>11054.0</td>\n",
       "    </tr>\n",
       "    <tr>\n",
       "      <th>4</th>\n",
       "      <td>Acentor común</td>\n",
       "      <td>Prunella modularis</td>\n",
       "      <td>SEO BirdLife</td>\n",
       "      <td>Aves</td>\n",
       "      <td>El acentor común es un pájaro del tamaño de un...</td>\n",
       "      <td>11761.0</td>\n",
       "    </tr>\n",
       "    <tr>\n",
       "      <th>...</th>\n",
       "      <td>...</td>\n",
       "      <td>...</td>\n",
       "      <td>...</td>\n",
       "      <td>...</td>\n",
       "      <td>...</td>\n",
       "      <td>...</td>\n",
       "    </tr>\n",
       "    <tr>\n",
       "      <th>3455</th>\n",
       "      <td>Culebra bastarda</td>\n",
       "      <td>Malpolon monspessulanus</td>\n",
       "      <td>VertebradosIbericos - Reptiles</td>\n",
       "      <td>Reptiles</td>\n",
       "      <td>Cabeza alta, estrecha, con hocico agudo. Escam...</td>\n",
       "      <td>11772.0</td>\n",
       "    </tr>\n",
       "    <tr>\n",
       "      <th>3456</th>\n",
       "      <td>Culebrilla de las macetas</td>\n",
       "      <td>Ramphotyphlops braminus</td>\n",
       "      <td>VertebradosIbericos - Reptiles</td>\n",
       "      <td>Reptiles</td>\n",
       "      <td>Pequeño ofidio perteneciente a la familia Typh...</td>\n",
       "      <td>36635.0</td>\n",
       "    </tr>\n",
       "    <tr>\n",
       "      <th>3457</th>\n",
       "      <td>Víbora áspid</td>\n",
       "      <td>Vipera aspis</td>\n",
       "      <td>VertebradosIbericos - Reptiles</td>\n",
       "      <td>Reptiles</td>\n",
       "      <td>Se trata de una serpiente de mediano tamaño (m...</td>\n",
       "      <td>10772.0</td>\n",
       "    </tr>\n",
       "    <tr>\n",
       "      <th>3458</th>\n",
       "      <td>Víbora hocicuda</td>\n",
       "      <td>Vipera latastei Boscá</td>\n",
       "      <td>VertebradosIbericos - Reptiles</td>\n",
       "      <td>Reptiles</td>\n",
       "      <td>Se caracteriza por su cuerpo grueso y corto, c...</td>\n",
       "      <td>11567.0</td>\n",
       "    </tr>\n",
       "    <tr>\n",
       "      <th>3459</th>\n",
       "      <td>Víbora cantábrica</td>\n",
       "      <td>Vipera seoanei Lataste</td>\n",
       "      <td>VertebradosIbericos - Reptiles</td>\n",
       "      <td>Reptiles</td>\n",
       "      <td>Es una víbora de talla mediana, en comparación...</td>\n",
       "      <td>12193.0</td>\n",
       "    </tr>\n",
       "  </tbody>\n",
       "</table>\n",
       "<p>3347 rows × 6 columns</p>\n",
       "</div>"
      ],
      "text/plain": [
       "                Nombres comunes          Nombre aceptado  \\\n",
       "0             Abejaruco europeo          Merops apiaster   \n",
       "1               Abejero europeo          Pernis apivorus   \n",
       "2                Abubilla común              Upupa epops   \n",
       "3                Acentor alpino        Prunella collaris   \n",
       "4                 Acentor común       Prunella modularis   \n",
       "...                         ...                      ...   \n",
       "3455           Culebra bastarda  Malpolon monspessulanus   \n",
       "3456  Culebrilla de las macetas  Ramphotyphlops braminus   \n",
       "3457               Víbora áspid             Vipera aspis   \n",
       "3458            Víbora hocicuda    Vipera latastei Boscá   \n",
       "3459         Víbora cantábrica    Vipera seoanei Lataste   \n",
       "\n",
       "                              Fuente Grupo taxonómico  \\\n",
       "0                       SEO BirdLife             Aves   \n",
       "1                       SEO BirdLife             Aves   \n",
       "2                       SEO BirdLife             Aves   \n",
       "3                       SEO BirdLife             Aves   \n",
       "4                       SEO BirdLife             Aves   \n",
       "...                              ...              ...   \n",
       "3455  VertebradosIbericos - Reptiles         Reptiles   \n",
       "3456  VertebradosIbericos - Reptiles         Reptiles   \n",
       "3457  VertebradosIbericos - Reptiles         Reptiles   \n",
       "3458  VertebradosIbericos - Reptiles         Reptiles   \n",
       "3459  VertebradosIbericos - Reptiles         Reptiles   \n",
       "\n",
       "                                            Descripción  \\\n",
       "0     Esta ave, del tamaño de un zorzal común, se di...   \n",
       "1     La coloración de esta especie presenta conside...   \n",
       "2     La abubilla común es un ave de aspecto inconfu...   \n",
       "3     El acentor alpino es un pájaro robusto y compa...   \n",
       "4     El acentor común es un pájaro del tamaño de un...   \n",
       "...                                                 ...   \n",
       "3455  Cabeza alta, estrecha, con hocico agudo. Escam...   \n",
       "3456  Pequeño ofidio perteneciente a la familia Typh...   \n",
       "3457  Se trata de una serpiente de mediano tamaño (m...   \n",
       "3458  Se caracteriza por su cuerpo grueso y corto, c...   \n",
       "3459  Es una víbora de talla mediana, en comparación...   \n",
       "\n",
       "      Código de la especie (id taxon)  \n",
       "0                             10738.0  \n",
       "1                             10739.0  \n",
       "2                             11211.0  \n",
       "3                             11054.0  \n",
       "4                             11761.0  \n",
       "...                               ...  \n",
       "3455                          11772.0  \n",
       "3456                          36635.0  \n",
       "3457                          10772.0  \n",
       "3458                          11567.0  \n",
       "3459                          12193.0  \n",
       "\n",
       "[3347 rows x 6 columns]"
      ]
     },
     "execution_count": 43,
     "metadata": {},
     "output_type": "execute_result"
    }
   ],
   "source": [
    "full_df = pd.read_excel('DESCRIPCIONES_TODAS.xlsx')\n",
    "full_df = full_df.dropna(subset='Código de la especie (id taxon)')\n",
    "full_df"
   ]
  },
  {
   "cell_type": "code",
   "execution_count": 45,
   "id": "ee60ba26",
   "metadata": {},
   "outputs": [
    {
     "name": "stdout",
     "output_type": "stream",
     "text": [
      "Tiene sus hojas con tres pares de lóbulos profundos, agudos.\n"
     ]
    }
   ],
   "source": [
    "# Descripcion mas corta que tenemos\n",
    "print(full_df.iloc[int(np.argmin(full_df['Descripción'].str.len()))]['Descripción'])"
   ]
  },
  {
   "cell_type": "code",
   "execution_count": 46,
   "id": "95e1f7e5",
   "metadata": {},
   "outputs": [
    {
     "name": "stdout",
     "output_type": "stream",
     "text": [
      "Quercus faginea es un árbol caducifolio de hasta 20 m de altura, pero puede verse reducido a un arbusto según la degradación del suelo y la acción humana a la que se vea sometido. En general, el tronco es\n",
      "derecho, con la corteza rugosa, de poco espesor y de color grisáceo o pardo-grisáceo, con numerosas grietas poco profundas en los ejemplares de edad. Las ramillas son pardo rojizas o grisáceas, cubiertas de\n",
      "tricomas que se pierden al formarse la corteza. Tiene una copa redondeada ovoide o alargada, con follaje no muy denso, de aspecto menos compacto y más claro que el de la encina (López González, 2001). Las yemas\n",
      "son tomentosas, de 3-5 mm de longitud. Las hojas son simples, alternas, con estípulas largas y estrechas, que se caen con facilidad. Aunque son muy variables en tamaño y forma, las hojas tienen entre 3-14 cm de\n",
      "longitud (incluso menores en los rebrotes) y 1,5-8 cm de anchura. La lámina es coriácea, pero mucho menos que la de las quercíneas perennifolias, con forma oblonga, aovada, obovada o elíptica, de margen desde\n",
      "dentado a lobulado, muy rara vez dentado punzantes; los lóbulos son poco profundos. Las hojas son también muy variables en indumento; por lo general, están cubiertas de pelos estrellados al nacer que se pierden\n",
      "posteriormente en el haz, haciéndose las hojas verdes y lustrosas. Por el envés son de color ceniciento o verde pálido, con una cubierta fina y densa de pelos estrellados y simples que conservan de adultas.\n",
      "Tienen un pecíolo bien desarrollado de 0,5-2 cm. Las hojas son caducas de tipo marcescente, que se mantienen mucho tiempo marchitas sobre la planta y a menudo verdes durante todo el invierno en las plántulas de\n",
      "ejemplares jóvenes y rebrotes (López González, 2001). En relación con sus hojas, las características más constantes se presentan en las hojas nacidas en primavera. Las nacidas en siguientes brotaciones, en el\n",
      "verano, y de los rebrotes del tronco son siempre más estrechas y más agudamente dentadas que las nacidas en primavera. Las hojas de las plantas jóvenes y de los rebrotes del tronco presentan siempre un tomento\n",
      "ralo. Las hojas de las plantas que habitan en medios secos y suelos pobres son pequeñas, más coriáceas, menos tomentosas y se corresponden con plantas arbustivas o mal desarrolladas, mientras que las de las\n",
      "plantas de zonas húmedas y frescas son mayores, menos coriáceas y más densamente tomentosas, correspondiendo a individuos mejor desarrollados (Rosúa et al., 2001). El quejigo es muy polimórfico, lo que ha\n",
      "llevado a diferentes tratamientos taxonómicos basados en caracteres morfológicos. Amaral Franco (1990) reconoce dos subespecies: el taxón tipo Q. faginea subsp. faginea y Q. faginea subsp. broteroi (Coutinho)\n",
      "A. Camus, con una ecología y distribución distintas, aunque en zonas de transición entre ambas aparecen individuos con caracteres intermedios. La subespecie Q. faginea subsp. faginea tiene hojas más pequeñas,\n",
      "entre 3-6(9) cm de longitud y 1,5-4 (5) cm de anchura con borde dentado-aserrado. El tomento del envés es generalmente ralo y los radios de los pelos son cortos (125-155 μm). La subespecie Q. faginea subsp.\n",
      "broteroi podría ser confundida con Q. canariensis, ya que tiene las hojas más grandes (5-15 × 2,5-9 cm) que el anterior taxón, con borde crenado o lobulado-dentado y tomento denso por el envés y los radios de\n",
      "los pelos largos (175-200 µm). Se diferencia de Q. canariensis por la forma de las hojas y el color del tomento; en Q. canariensis las hojas son más bien obovadas y el tomento, que cambia de blanco a rojizo a\n",
      "los pocos días de vida de la hoja, se desprende con facilidad. La nomenclatura taxonómica actual del roble pubescente ha establecido la prioridad de Q. humilis frente a la anterior denominación de Q. pubescens\n",
      "(Amaral Franco, 1990). El roble pubescente muestra una enorme tendencia a hibridarse con otros congéneres, lo que hace difícil reconocer, en determinadas regiones, sus rasgos morfológicos más típicos. Es un\n",
      "árbol mediano, inerme, de hasta 20-25 m de altura, corrientemente 10- 15 m, y muchas veces un arbusto. Su sistema radical es potente, con muchas raíces secundarias extendidas en sentido horizontal. El tronco es\n",
      "generalmente flexuoso y aún tortuoso, de corteza no muy gruesa ni corchosa, pardo-grisácea al principio y negruzca y resquebrajada posteriormente, con grietas longitudinales y transversales. Presenta una copa\n",
      "irregular, extendida, globosa y lobulada en porte específico, mucho más reducida en masa, no siendo en ningún caso excesivamente densa. La ramificación es sinuosa, con ramas acodadas y ramillos densamente\n",
      "pubescentes (Ruiz de la Torre, 2006). Las yemas son oviformes, angulosas, obtusas o subagudas, con escamas pardo-grisáceas, tomentosas en el dorso. Las hojas son simples, alternas, marcescentes, subpersistentes\n",
      "o tardíamente caedizas. El pecíolo mide de 5-12 mm y el limbo es mediano o pequeño, de 5-12 × 3-6 cm, membranoso, blando o más o menos rígido, presentando gran variedad de formas, con 5-8 lóbulos. Las hojas son\n",
      "densamente tomentosas en las dos caras al desarrollarse; el haz se depila pronto, quedando una pubescencia estrellada más o menos abundante, a veces ausente, que le comunica un color verde sucio, persistiendo\n",
      "en el envés un tomento grisáceo. La nerviación secundaria es muy destacada, compuesta de 5-8 pares de nervios (Ruiz de la Torre, 2006). Debido a su gran polimorfismo, diferentes autores distinguen distintas\n",
      "subespecies en su rango de distribución. En España, Ruiz de la Torre (2006) considera la siguiente división: Q. humilis subsp. pubescens, de hojas grandes, blandas, con tomento blanquecino en el envés; y Q.\n",
      "humilis subsp. palensis (Polas.) O. Schwarz, de hoja más pequeña, coriácea, con tomento en el envés gris-parduzco. Por otra parte, Q. humilis va siempre acompañado por poblaciones híbridas originadas por el\n",
      "contacto o la mezcla con diversos congéneres, particularmente Q. faginea.\n"
     ]
    }
   ],
   "source": [
    "# Descripcion mas larga que tenemos\n",
    "print(textwrap.fill(full_df.iloc[int(np.argmax(full_df['Descripción'].str.len()))]['Descripción'], 210))"
   ]
  },
  {
   "cell_type": "code",
   "execution_count": 48,
   "id": "b2e59037",
   "metadata": {},
   "outputs": [
    {
     "data": {
      "image/png": "[encoded data removed]",
      "text/plain": [
       "<Figure size 1000x700 with 1 Axes>"
      ]
     },
     "metadata": {},
     "output_type": "display_data"
    }
   ],
   "source": [
    "plt.figure(figsize=(10,7))\n",
    "plt.hist(full_df['Descripción'].str.len(), bins=50)\n",
    "plt.show()"
   ]
  },
  {
   "cell_type": "code",
   "execution_count": 49,
   "id": "c149a04b",
   "metadata": {},
   "outputs": [],
   "source": [
    "df = pd.read_excel('Descripciones_Gemini_Cortas.xlsx')"
   ]
  },
  {
   "cell_type": "code",
   "execution_count": 50,
   "id": "33b07460",
   "metadata": {},
   "outputs": [
    {
     "data": {
      "text/plain": [
       "EVALUACIÓN\n",
       "MAL     188\n",
       "BIEN    153\n",
       "DUDA     66\n",
       "Name: count, dtype: int64"
      ]
     },
     "execution_count": 50,
     "metadata": {},
     "output_type": "execute_result"
    }
   ],
   "source": [
    "df['EVALUACIÓN'].value_counts()"
   ]
  },
  {
   "cell_type": "code",
   "execution_count": 51,
   "id": "c41a2a10",
   "metadata": {},
   "outputs": [],
   "source": [
    "df['calificacion'] = df['EVALUACIÓN'].apply(lambda x: {'BIEN': 1, 'DUDA': 1, 'MAL': 0}[x])\n",
    "df['x'] = df['Descripción Original'].str.len().apply(lambda x: x // 10)"
   ]
  },
  {
   "cell_type": "code",
   "execution_count": 52,
   "id": "0812ecc7",
   "metadata": {},
   "outputs": [],
   "source": [
    "df = df.sort_values(by='x', ascending=True)"
   ]
  },
  {
   "cell_type": "code",
   "execution_count": 53,
   "id": "03e7ded1",
   "metadata": {},
   "outputs": [],
   "source": [
    "x = df['x'].tolist()\n",
    "y = df['calificacion'].tolist()\n",
    "x_values = list(set(x))\n",
    "aggregated = [np.mean([y[j] for j in range(len(x)) if np.abs(x[j] - x_values[i]) <= 1]) for i in range(len(x_values))]"
   ]
  },
  {
   "cell_type": "code",
   "execution_count": 54,
   "id": "bfb6272e",
   "metadata": {},
   "outputs": [
    {
     "data": {
      "image/png": "[encoded data removed]",
      "text/plain": [
       "<Figure size 1000x700 with 1 Axes>"
      ]
     },
     "metadata": {},
     "output_type": "display_data"
    }
   ],
   "source": [
    "plt.figure(figsize=(10,7))\n",
    "plt.plot(x_values, aggregated)\n",
    "plt.show()"
   ]
  }
 ],
 "metadata": {
  "kernelspec": {
   "display_name": "base",
   "language": "python",
   "name": "python3"
  },
  "language_info": {
   "codemirror_mode": {
    "name": "ipython",
    "version": 3
   },
   "file_extension": ".py",
   "mimetype": "text/x-python",
   "name": "python",
   "nbconvert_exporter": "python",
   "pygments_lexer": "ipython3",
   "version": "3.12.9"
  }
 },
 "nbformat": 4,
 "nbformat_minor": 5
}
