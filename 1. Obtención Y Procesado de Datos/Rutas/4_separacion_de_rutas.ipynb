{
 "cells": [
  {
   "cell_type": "code",
   "execution_count": 1,
   "metadata": {},
   "outputs": [],
   "source": [
    "## Importar todos los archivos de rutas\n",
    "import os\n",
    "import pandas as pd\n",
    "\n",
    "# Directorios\n",
    "ruta_raw = \"Rutas_Raw\"\n",
    "ruta_cleaned = \"Rutas_Cleaned\"\n",
    "ruta_cuadriculas = \"Rutas_Cuadriculas\""
   ]
  },
  {
   "cell_type": "markdown",
   "metadata": {},
   "source": [
    "### Separación de Cuadrículas y Limpieza de Archivos de Rutas para Exportación Organizada en CSVs Estandarizados"
   ]
  },
  {
   "cell_type": "code",
   "execution_count": null,
   "metadata": {},
   "outputs": [
    {
     "name": "stdout",
     "output_type": "stream",
     "text": [
      "Procesado: rutas_Andalucía.csv\n",
      "Procesado: rutas_Aragón.csv\n",
      "Procesado: rutas_Canarias.csv\n",
      "Procesado: rutas_Cantabria.csv\n",
      "Procesado: rutas_Castilla-La_Mancha.csv\n",
      "Procesado: rutas_Castilla_y_León.csv\n",
      "Procesado: rutas_Cataluña_Catalunya.csv\n",
      "Procesado: rutas_Ciudad_de_Ceuta.csv\n",
      "Procesado: rutas_Comunidad_de_Madrid.csv\n",
      "Procesado: rutas_Comunidad_Foral_de_Navarra.csv\n",
      "Procesado: rutas_Comunitat_Valenciana.csv\n",
      "Procesado: rutas_Extremadura.csv\n",
      "Procesado: rutas_Galicia.csv\n",
      "Procesado: rutas_Illes_Balears.csv\n",
      "Procesado: rutas_La_Rioja.csv\n",
      "Procesado: rutas_País_Vasco_Euskadi.csv\n",
      "Procesado: rutas_Principado_de_Asturias.csv\n",
      "Procesado: rutas_Región_de_Murcia.csv\n",
      "✔️ Todos los archivos han sido procesados correctamente.\n"
     ]
    }
   ],
   "source": [
    "# Crear carpetas si no existen\n",
    "os.makedirs(ruta_cleaned, exist_ok=True)\n",
    "os.makedirs(ruta_cuadriculas, exist_ok=True)\n",
    "\n",
    "# Lista para almacenar los DataFrames de cuadriculas\n",
    "list_cuadriculas = []\n",
    "\n",
    "# Obtener lista de archivos en Rutas_Raw\n",
    "archivos = [f for f in os.listdir(ruta_raw) if f.endswith(\".csv\")]\n",
    "\n",
    "for archivo in archivos:\n",
    "    # Cargar el archivo CSV como DataFrame\n",
    "    ruta_archivo = os.path.join(ruta_raw, archivo)\n",
    "    df = pd.read_csv(ruta_archivo)\n",
    "\n",
    "    # Extraer \"ID_Ruta\" y \"CUADRICULA\" en un nuevo DataFrame\n",
    "    df_cuadricula = df[[\"ID_Ruta\", \"CUADRICULA\"]].copy()\n",
    "\n",
    "    # Explosión de la columna \"CUADRICULA\"\n",
    "    df_cuadricula[\"CUADRICULA\"] = df_cuadricula[\"CUADRICULA\"].str.split(\",\")  # Dividir por coma\n",
    "    df_cuadricula = df_cuadricula.explode(\"CUADRICULA\").reset_index(drop=True)  # Crear una fila por cada valor\n",
    "\n",
    "    # Añadir el DataFrame de cuadriculas a la lista\n",
    "    list_cuadriculas.append(df_cuadricula)\n",
    "\n",
    "    # Guardar en la carpeta Rutas_Cuadriculas\n",
    "    #nombre_cuadricula = os.path.join(ruta_cuadriculas, archivo.replace(\".csv\", \"_Cuadricula.csv\"))\n",
    "    #df_cuadricula.to_csv(nombre_cuadricula, index=False)\n",
    "\n",
    "    # Eliminar \"CUADRICULA\" y otras columnas no deseadas del archivo original\n",
    "    columnas_a_eliminar = [\"CUADRICULA\", \"Provincia\", \"CC_AA\", \"ID\", \"ETAPA\", \"HUSO\", \"ID_SECTOR\", \"ID_CAMINO\", \n",
    "                           \"COD_CAMINO\", \"ID_ETAPA\", \"LONG_3D_GE\", \"NUM_CAMINO\", \"NOM_TOTAL\", \"XCENTROIDE\",\n",
    "                           \"YCENTROIDE\", \"geometry\", \"source\", \"id.1\", \"fecha_edi\", \"recorrido\", \"estado\",\n",
    "                           \"firme\", \"fecha_edit\"]\n",
    "    df_cleaned = df.drop(columns=[col for col in columnas_a_eliminar if col in df.columns])\n",
    "\n",
    "    # Guardar el archivo limpio en Rutas_Cleaned\n",
    "    nombre_cleaned = os.path.join(ruta_cleaned, archivo)\n",
    "    df_cleaned.to_csv(nombre_cleaned, index=False)\n",
    "\n",
    "    print(f\"Procesado: {archivo}\")\n",
    "\n",
    "# Concatenar todos los DataFrames de cuadriculas en uno solo\n",
    "df_combined_cuadriculas = pd.concat(list_cuadriculas, ignore_index=True)\n",
    "\n",
    "# Guardar el archivo combinado en Rutas_Cuadriculas como \"Rutas_Cuadriculas.csv\"\n",
    "df_combined_cuadriculas.to_csv(os.path.join(ruta_cuadriculas, \"Rutas_Cuadriculas.csv\"), index=False)\n",
    "\n",
    "print(\"✔️ Todos los archivos han sido procesados correctamente.\")"
   ]
  },
  {
   "cell_type": "markdown",
   "metadata": {},
   "source": [
    "### Consolidación de Archivos de Rutas Limpias en un Único Dataset CSV Unificado"
   ]
  },
  {
   "cell_type": "code",
   "execution_count": 4,
   "metadata": {},
   "outputs": [],
   "source": [
    "# Combinar todas las rutas en un solo archivo\n",
    "dfs = [pd.read_csv(os.path.join(ruta_cleaned, archivo)) for archivo in os.listdir(ruta_cleaned)]\n",
    "df = pd.concat(dfs)\n",
    "\n",
    "# Guardar como un solo archivo\n",
    "df.to_csv('RUTAS_TODAS.csv')"
   ]
  }
 ],
 "metadata": {
  "kernelspec": {
   "display_name": "base",
   "language": "python",
   "name": "python3"
  },
  "language_info": {
   "codemirror_mode": {
    "name": "ipython",
    "version": 3
   },
   "file_extension": ".py",
   "mimetype": "text/x-python",
   "name": "python",
   "nbconvert_exporter": "python",
   "pygments_lexer": "ipython3",
   "version": "3.12.9"
  }
 },
 "nbformat": 4,
 "nbformat_minor": 2
}
