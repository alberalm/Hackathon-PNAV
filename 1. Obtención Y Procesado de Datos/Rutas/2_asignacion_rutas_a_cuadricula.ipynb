{
 "cells": [
  {
   "cell_type": "markdown",
   "metadata": {},
   "source": [
    "### Carga y Normalización de Rutas y Mallas Geográficas en EPSG:4326 para Análisis Espacial Integrado"
   ]
  },
  {
   "cell_type": "code",
   "execution_count": null,
   "metadata": {},
   "outputs": [],
   "source": [
    "import geopandas as gpd\n",
    "import pandas as pd\n",
    "import re\n",
    "\n",
    "# Cargar las rutas desde el archivo SHP\n",
    "gdf_rutas = gpd.read_file(\"archivo_atributos_unificados.shp\")\n",
    "\n",
    "# Cargar las mallas de la Península y de Canarias\n",
    "gdf_malla_peninsula = gpd.read_file(\"../Ubicaciones y media/Mallas/Mallas_cuadrículas/Mallas Península/Malla10km_p.shp\")\n",
    "gdf_malla_canarias = gpd.read_file(\"../Ubicaciones y media/Mallas/Mallas_cuadrículas/Mallas Canarias/Malla10km_c.shp\")\n",
    "\n",
    "# Cargar el archivo CSV de las rutas\n",
    "df_rutas_csv = pd.read_csv(\"archivo_rutas.csv\")\n"
   ]
  },
  {
   "cell_type": "code",
   "execution_count": 3,
   "metadata": {},
   "outputs": [],
   "source": [
    "# Asegurarse de que ambos GeoDataFrames usan el mismo CRS\n",
    "gdf_rutas = gdf_rutas.to_crs(\"EPSG:4326\")\n",
    "gdf_malla_peninsula = gdf_malla_peninsula.to_crs(\"EPSG:4326\")\n",
    "gdf_malla_canarias = gdf_malla_canarias.to_crs(\"EPSG:4326\")"
   ]
  },
  {
   "cell_type": "code",
   "execution_count": 4,
   "metadata": {},
   "outputs": [
    {
     "name": "stdout",
     "output_type": "stream",
     "text": [
      "0    28RCS53\n",
      "0    28RCS54\n",
      "0    28RCS64\n",
      "1    28RCS43\n",
      "1    28RCS53\n",
      "Name: CUADRICULA, dtype: object\n"
     ]
    }
   ],
   "source": [
    "gdf_rutas_canarias_test = gpd.sjoin(gdf_rutas, gdf_malla_canarias, how=\"left\", predicate=\"intersects\")\n",
    "\n",
    "print(gdf_rutas_canarias_test['CUADRICULA'].head())"
   ]
  },
  {
   "cell_type": "markdown",
   "metadata": {},
   "source": [
    "### Asociación de Rutas a Cuadrículas de Mallas Peninsulares y Canarias y Fusión con Atributos CSV"
   ]
  },
  {
   "cell_type": "code",
   "execution_count": 5,
   "metadata": {},
   "outputs": [
    {
     "name": "stdout",
     "output_type": "stream",
     "text": [
      "   ID_Ruta                 CUADRICULA\n",
      "0        0  28RCS53, 28RCS54, 28RCS64\n",
      "1        1           28RCS43, 28RCS53\n",
      "2        2           28RCS42, 28RCS43\n",
      "3        3  28RCS31, 28RCS41, 28RCS42\n",
      "4        4           28RCS30, 28RCS31\n"
     ]
    }
   ],
   "source": [
    "# Unir las rutas con la malla de la Península\n",
    "gdf_rutas_peninsula = gpd.sjoin(gdf_rutas, gdf_malla_peninsula, how=\"left\", predicate=\"intersects\")\n",
    "\n",
    "# Unir las rutas con la malla de Canarias\n",
    "gdf_rutas_canarias = gpd.sjoin(gdf_rutas, gdf_malla_canarias, how=\"left\", predicate=\"intersects\")\n",
    "\n",
    "# Unir los resultados de las rutas en Península y Canarias\n",
    "gdf_rutas_combinadas = pd.concat([gdf_rutas_peninsula, gdf_rutas_canarias], ignore_index=True)\n",
    "\n",
    "gdf_rutas_combinadas = gdf_rutas_combinadas.groupby('ID_Ruta', as_index=False).agg({\n",
    "    'CUADRICULA': lambda x: ', '.join(x.dropna().astype(str)),  # Mantiene todas las cuadriculas por ruta\n",
    "    'geometry': 'first',  # Mantiene la geometría\n",
    "    'source': 'first'  # Mantiene la fuente\n",
    "})\n",
    "# Ver las primeras filas para comprobar el resultado\n",
    "print(gdf_rutas_combinadas[['ID_Ruta', 'CUADRICULA']].head())\n"
   ]
  },
  {
   "cell_type": "code",
   "execution_count": 58,
   "metadata": {},
   "outputs": [],
   "source": [
    "# Unir el DataFrame original de rutas con el GeoDataFrame combinado\n",
    "df_rutas_con_malla = pd.merge(df_rutas_csv, gdf_rutas_combinadas[['ID_Ruta', 'CUADRICULA']], \n",
    "                               on='ID_Ruta', how='left')\n",
    "\n",
    "# Reordenar las columnas colocando 'CUADRICULA' al inicio\n",
    "columnas = ['CUADRICULA'] + [col for col in df_rutas_con_malla.columns if col != 'CUADRICULA']\n",
    "df_rutas_con_malla = df_rutas_con_malla[columnas]"
   ]
  },
  {
   "cell_type": "markdown",
   "metadata": {},
   "source": [
    "### Normalización de Nombres de Comunidades Autónomas y Exportación Final de Rutas con Cuadrículas Integradas"
   ]
  },
  {
   "cell_type": "code",
   "execution_count": null,
   "metadata": {},
   "outputs": [],
   "source": [
    "# Diccionario con los nombres correctos de las comunidades autónomas\n",
    "mapeo_variantes = {\n",
    "    \"Andalucía\": [\"Andalucía\", \"ANDALUCIA\", \"Andalucia\"],\n",
    "    \"Aragón\": [\"ARAGON\", \"Aragón\", \"Aragon\"],\n",
    "    \"Asturias\": [\"ASTURIAS\"],\n",
    "    \"Castilla La Mancha\": [\"Castilla La Mancha\", \"CASTILLA LA MANCHA\", \"Castilla-La Mancha\"],\n",
    "    \"Galicia\": [\"Galicia\", \"GALICIA\"],\n",
    "    \"Murcia\": [\"Murcia\", \"MURCIA\", \"R. Murcia\", \"R.Murcia\"],\n",
    "    \"Navarra\": [\"Navarra\", \"NAVARRA\"],\n",
    "    \"Valencia\": [\"C. Valenciana\", \"Valencia\", \"VALENCIANA\", \"C. valenciana\", \"Valenciana\", \"C.valenciana\", \"C.Valencia\"],\n",
    "    \"País Vasco\": [\"País Vasco\", \"PASI VASCO\", \"PAIS VASCO\", \"Pais vasco\", \"Pasi vasco\"],\n",
    "    \"Castilla y León\": [\"Castilla y León\", \"Castilla y Léon\", \"Castilla y léon\", \"Castilla y leon\", \"Casilla y León\"]\n",
    "}\n",
    "\n",
    "# Invertir el diccionario para acceder rápidamente a cada variante\n",
    "nombre_estandarizado = {variante.lower(): nombre for nombre, variantes in mapeo_variantes.items() for variante in variantes}\n",
    "\n",
    "def reemplazar_variantes(ccaa):\n",
    "    if isinstance(ccaa, str):\n",
    "        for variante, nombre_correcto in nombre_estandarizado.items():\n",
    "            ccaa = re.sub(rf'\\b{re.escape(variante)}\\b', nombre_correcto, ccaa, flags=re.IGNORECASE)\n",
    "    return ccaa\n",
    "\n",
    "# Función para limpiar, separar y normalizar la columna CC_AA\n",
    "def limpiar_ccaa(ccaa):\n",
    "    if isinstance(ccaa, str):\n",
    "        # Primero, normalizar todos los nombres incorrectos dentro de la cadena\n",
    "        ccaa = reemplazar_variantes(ccaa)\n",
    "\n",
    "        # Proteger \"Castilla y León\" antes de hacer el split\n",
    "        ccaa = ccaa.replace(\"Castilla y León\", \"CASTILLAYLEON_TEMP\")\n",
    "        #ccaa = ccaa.replace(\"Castilla-La Mancha\", \"CASTILLALAMANCHA_TEMP\")\n",
    "\n",
    "        # Reemplazar \" y \", \"/\", \"-\" por comas\n",
    "        ccaa = re.sub(r\"\\s*(?:/|-| y )\\s*\", \", \", ccaa)\n",
    "\n",
    "        # Separar por comas, normalizar y eliminar duplicados\n",
    "        comunidades = {c.strip() for c in ccaa.split(\",\")}\n",
    "\n",
    "        # Restaurar \"Castilla y León\"\n",
    "        comunidades = {c.replace(\"CASTILLAYLEON_TEMP\", \"Castilla y León\") for c in comunidades}\n",
    "        #comunidades = {c.replace(\"Castillayleon_Temp\", \"Castilla y León\") for c in comunidades}\n",
    "        #comunidades = {c.replace(\"Castillalamancha_Temp\", \"Castilla La Mancha\") for c in comunidades}\n",
    "\n",
    "        return \", \".join(sorted(comunidades))  # Ordenar y unir con comas\n",
    "    return ccaa\n",
    "\n",
    "# Aplicar la función a la columna \"CC_AA\"\n",
    "df_rutas_con_malla[\"CC_AA\"] = df_rutas_con_malla[\"CC_AA\"].apply(limpiar_ccaa)"
   ]
  },
  {
   "cell_type": "code",
   "execution_count": null,
   "metadata": {},
   "outputs": [],
   "source": [
    "# Definir la ruta de salida\n",
    "ruta_salida = \"archivo_rutas_con_cuadricula.csv\"\n",
    "\n",
    "# Guardar el archivo CSV con la nueva columna\n",
    "df_rutas_con_malla.to_csv(ruta_salida, index=False, encoding=\"utf-8-sig\", decimal=\",\")\n",
    "print(f\"Archivo de rutas con cuadricula guardado en: {ruta_salida}\")"
   ]
  }
 ],
 "metadata": {
  "kernelspec": {
   "display_name": "Python 3",
   "language": "python",
   "name": "python3"
  },
  "language_info": {
   "codemirror_mode": {
    "name": "ipython",
    "version": 3
   },
   "file_extension": ".py",
   "mimetype": "text/x-python",
   "name": "python",
   "nbconvert_exporter": "python",
   "pygments_lexer": "ipython3",
   "version": "3.11.9"
  }
 },
 "nbformat": 4,
 "nbformat_minor": 2
}
