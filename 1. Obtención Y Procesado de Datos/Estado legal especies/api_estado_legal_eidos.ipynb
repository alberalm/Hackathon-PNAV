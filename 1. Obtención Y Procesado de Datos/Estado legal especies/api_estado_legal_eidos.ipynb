{
 "cells": [
  {
   "cell_type": "markdown",
   "metadata": {},
   "source": [
    "## 1. Importación de módulos y librerías\n",
    "Se importan los módulos y librerías necesarios para ejecutar el código."
   ]
  },
  {
   "cell_type": "code",
   "execution_count": 6,
   "metadata": {},
   "outputs": [],
   "source": [
    "import requests\n",
    "import pandas as pd\n",
    "import os"
   ]
  },
  {
   "cell_type": "markdown",
   "metadata": {},
   "source": [
    "## 2. Estado legal\n"
   ]
  },
  {
   "cell_type": "code",
   "execution_count": 7,
   "metadata": {},
   "outputs": [
    {
     "name": "stdout",
     "output_type": "stream",
     "text": [
      "Finished downloading all name data\n"
     ]
    }
   ],
   "source": [
    "# Obtener dataset 13 porque es el de especies invasoras\n",
    "url = f'https://iepnb.gob.es:443/api/especie/v_estadolegal?iddataset=eq.13'\n",
    "# Realizar la petición GET\n",
    "response = requests.get(url)\n",
    "# Verificar si la solicitud fue exitosa (código 200)\n",
    "if response.status_code == 200:\n",
    "    # Procesar los datos\n",
    "    df = pd.DataFrame(response.json())\n",
    "else:\n",
    "    print(f\"Error: {response.status_code}: {response.content}\")\n",
    "df.sort_values('idtaxon', inplace=True)\n",
    "df = df[['idtaxon', 'estadolegal']].copy()\n",
    "df = df.drop_duplicates(subset='idtaxon')\n",
    "df.to_excel('EIDOS_estado_legal.xlsx', index=False)\n",
    "print(f\"Finished downloading all name data\")"
   ]
  }
 ],
 "metadata": {
  "kernelspec": {
   "display_name": "base",
   "language": "python",
   "name": "python3"
  },
  "language_info": {
   "codemirror_mode": {
    "name": "ipython",
    "version": 3
   },
   "file_extension": ".py",
   "mimetype": "text/x-python",
   "name": "python",
   "nbconvert_exporter": "python",
   "pygments_lexer": "ipython3",
   "version": "3.12.9"
  }
 },
 "nbformat": 4,
 "nbformat_minor": 2
}
