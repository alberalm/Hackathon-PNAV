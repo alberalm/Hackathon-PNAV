{
 "cells": [
  {
   "cell_type": "markdown",
   "metadata": {},
   "source": [
    "### Contador total de especies"
   ]
  },
  {
   "cell_type": "code",
   "execution_count": 1,
   "metadata": {},
   "outputs": [],
   "source": [
    "import pandas as pd"
   ]
  },
  {
   "cell_type": "code",
   "execution_count": 2,
   "metadata": {},
   "outputs": [],
   "source": [
    "df_ubicaciones = pd.read_csv('Ubicaciones y media/UBICACIONES_TODAS.csv').dropna(subset='idtaxon')\n",
    "df_descripciones = pd.read_excel('Descripciones/DESCRIPCIONES_TODAS.xlsx').dropna(subset='Código de la especie (id taxon)')"
   ]
  },
  {
   "cell_type": "code",
   "execution_count": 3,
   "metadata": {},
   "outputs": [
    {
     "name": "stdout",
     "output_type": "stream",
     "text": [
      "Hay descripciones de 2962 especies\n",
      "Hay ubicaciones de 10814 especies\n",
      "----------------------------------------------------------------------\n",
      "Hay 2287 especies que tienen tanto descripción como ubicación\n"
     ]
    }
   ],
   "source": [
    "set_descripciones = set(df_descripciones['Código de la especie (id taxon)'].astype(int).tolist())\n",
    "set_ubicaciones = set(df_ubicaciones['idtaxon'].astype(int).tolist())\n",
    "comunes = set_descripciones.intersection(set_ubicaciones)\n",
    "print(f'Hay descripciones de {len(set_descripciones)} especies')\n",
    "print(f'Hay ubicaciones de {len(set_ubicaciones)} especies')\n",
    "print('-'*70)\n",
    "print(f'Hay {len(comunes)} especies que tienen tanto descripción como ubicación')"
   ]
  },
  {
   "cell_type": "code",
   "execution_count": 4,
   "metadata": {},
   "outputs": [
    {
     "data": {
      "text/plain": [
       "Grupo taxonómico\n",
       "Invertebrados            692\n",
       "Plantas vasculares       680\n",
       "Aves                     405\n",
       "Hongos                   158\n",
       "Mamíferos                131\n",
       "Reptiles                  88\n",
       "Peces                     74\n",
       "Anfibios                  31\n",
       "Plantas no vasculares     21\n",
       "Algas                      5\n",
       "Cromistas y Bacterias      2\n",
       "Name: count, dtype: int64"
      ]
     },
     "execution_count": 4,
     "metadata": {},
     "output_type": "execute_result"
    }
   ],
   "source": [
    "df_comunes = df_descripciones[df_descripciones['Código de la especie (id taxon)'].isin(comunes)].drop_duplicates(subset='Código de la especie (id taxon)')\n",
    "df_comunes['Grupo taxonómico'].value_counts()"
   ]
  }
 ],
 "metadata": {
  "kernelspec": {
   "display_name": "base",
   "language": "python",
   "name": "python3"
  },
  "language_info": {
   "codemirror_mode": {
    "name": "ipython",
    "version": 3
   },
   "file_extension": ".py",
   "mimetype": "text/x-python",
   "name": "python",
   "nbconvert_exporter": "python",
   "pygments_lexer": "ipython3",
   "version": "3.12.9"
  }
 },
 "nbformat": 4,
 "nbformat_minor": 2
}
