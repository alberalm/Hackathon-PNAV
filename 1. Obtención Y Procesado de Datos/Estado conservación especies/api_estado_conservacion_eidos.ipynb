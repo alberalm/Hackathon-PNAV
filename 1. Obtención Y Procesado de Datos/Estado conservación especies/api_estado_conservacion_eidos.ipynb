{
 "cells": [
  {
   "cell_type": "markdown",
   "metadata": {},
   "source": [
    "## 1. Importación de módulos y librerías\n",
    "Se importan los módulos y librerías necesarios para ejecutar el código."
   ]
  },
  {
   "cell_type": "code",
   "execution_count": 1,
   "metadata": {},
   "outputs": [],
   "source": [
    "import requests\n",
    "import pandas as pd\n",
    "import os"
   ]
  },
  {
   "cell_type": "markdown",
   "metadata": {},
   "source": [
    "## 2. Estado conservación\n"
   ]
  },
  {
   "cell_type": "code",
   "execution_count": null,
   "metadata": {},
   "outputs": [
    {
     "name": "stdout",
     "output_type": "stream",
     "text": [
      "Finished downloading all name data\n"
     ]
    }
   ],
   "source": [
    "# Obtener dataset de autoridad UICN en España para elegir un registro de conservación\n",
    "url = f'https://iepnb.gob.es/api/especie/v_estadoconservacion?autoridad=eq.UICN&aplicaa=eq.Espa%C3%B1a'\n",
    "# Realizar la petición GET\n",
    "response = requests.get(url)\n",
    "# Verificar si la solicitud fue exitosa (código 200)\n",
    "if response.status_code == 200:\n",
    "    # Procesar los datos\n",
    "    df = pd.DataFrame(response.json())\n",
    "else:\n",
    "    print(f\"Error: {response.status_code}: {response.content}\")\n",
    "# # Asegurar que la columna 'anio' sea numérica\n",
    "df['anio'] = pd.to_numeric(df['anio'], errors='coerce')\n",
    "# Ordenar por idtaxon y año descendente (más reciente primero)\n",
    "df = df.sort_values(by=['idtaxon', 'anio'], ascending=[True, False])\n",
    "# Agrupar por especie (idtaxon) y quedarse con el primero de cada grupo (el más reciente)\n",
    "df = df.groupby('idtaxon', as_index=False).first()\n",
    "df = df[['idtaxon', 'categoriaconservacion']].copy()\n",
    "df.to_excel('EIDOS_estado_conservacion.xlsx', index=False)\n",
    "print(f\"Finished downloading all name data\")"
   ]
  }
 ],
 "metadata": {
  "kernelspec": {
   "display_name": "base",
   "language": "python",
   "name": "python3"
  },
  "language_info": {
   "codemirror_mode": {
    "name": "ipython",
    "version": 3
   },
   "file_extension": ".py",
   "mimetype": "text/x-python",
   "name": "python",
   "nbconvert_exporter": "python",
   "pygments_lexer": "ipython3",
   "version": "3.12.9"
  }
 },
 "nbformat": 4,
 "nbformat_minor": 2
}
