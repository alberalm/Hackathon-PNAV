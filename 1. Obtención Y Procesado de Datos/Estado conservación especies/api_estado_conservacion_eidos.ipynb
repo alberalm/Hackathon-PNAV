{
 "cells": [
  {
   "cell_type": "markdown",
   "metadata": {},
   "source": [
    "## 1. Importación de módulos y librerías\n",
    "Se importan los módulos y librerías necesarios para ejecutar el código."
   ]
  },
  {
   "cell_type": "code",
   "execution_count": 1,
   "metadata": {},
   "outputs": [],
   "source": [
    "import requests\n",
    "import pandas as pd\n",
    "import os"
   ]
  },
  {
   "cell_type": "markdown",
   "metadata": {},
   "source": [
    "## 2. Estado legal\n"
   ]
  },
  {
   "cell_type": "code",
   "execution_count": 2,
   "metadata": {},
   "outputs": [
    {
     "name": "stdout",
     "output_type": "stream",
     "text": [
      "Finished downloading all name data\n"
     ]
    }
   ],
   "source": [
    "# Obtener dataset 13 porque es el de especies invasoras\n",
    "url = f'https://iepnb.gob.es/api/especie/v_estadoconservacion?autoridad=eq.UICN&aplicaa=eq.Espa%C3%B1a'\n",
    "# Realizar la petición GET\n",
    "response = requests.get(url)\n",
    "# Verificar si la solicitud fue exitosa (código 200)\n",
    "if response.status_code == 200:\n",
    "    # Procesar los datos\n",
    "    df = pd.DataFrame(response.json())\n",
    "else:\n",
    "    print(f\"Error: {response.status_code}: {response.content}\")\n",
    "df.sort_values('idtaxon', inplace=True)\n",
    "df.drop_duplicates()\n",
    "df.to_excel('EIDOS_estado_conservacion.xlsx', index=False)\n",
    "print(f\"Finished downloading all name data\")"
   ]
  },
  {
   "cell_type": "code",
   "execution_count": 3,
   "metadata": {},
   "outputs": [
    {
     "data": {
      "text/plain": [
       "categoriaconservacion\n",
       "VU (Vulnerable)                      2863\n",
       "EN (En peligro)                      1329\n",
       "CR (En peligro crítico)              1234\n",
       "DD (Datos insuficientes)              935\n",
       "NT (Casi amenazado)                   607\n",
       "LC (Preocupación menor)               333\n",
       "NE (No evaluado)                      250\n",
       "EX (Extinto)                           73\n",
       "RE (Extinto regionalmente)             16\n",
       "EW (\"Extinto en estado silvestre)      14\n",
       "Categoría no registrada                 2\n",
       "Name: count, dtype: int64"
      ]
     },
     "execution_count": 3,
     "metadata": {},
     "output_type": "execute_result"
    }
   ],
   "source": [
    "df['categoriaconservacion'].value_counts()"
   ]
  }
 ],
 "metadata": {
  "kernelspec": {
   "display_name": "base",
   "language": "python",
   "name": "python3"
  },
  "language_info": {
   "codemirror_mode": {
    "name": "ipython",
    "version": 3
   },
   "file_extension": ".py",
   "mimetype": "text/x-python",
   "name": "python",
   "nbconvert_exporter": "python",
   "pygments_lexer": "ipython3",
   "version": "3.12.9"
  }
 },
 "nbformat": 4,
 "nbformat_minor": 2
}
