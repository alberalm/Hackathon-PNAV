{
 "cells": [
  {
   "cell_type": "code",
   "execution_count": 2,
   "metadata": {},
   "outputs": [],
   "source": [
    "from selenium import webdriver\n",
    "from selenium.webdriver.common.by import By\n",
    "import pandas as pd\n",
    "import os"
   ]
  },
  {
   "cell_type": "code",
   "execution_count": null,
   "metadata": {},
   "outputs": [
    {
     "name": "stdout",
     "output_type": "stream",
     "text": [
      "Starting page 29...\r"
     ]
    }
   ],
   "source": [
    "base_url = 'https://www.fungipedia.org/hongos.html?start='\n",
    "driver = webdriver.Chrome()\n",
    "for i in range(0, 29): # Hay 29 paginas\n",
    "    print(f'Starting page {i+1}...', end='\\r')\n",
    "    driver.get(base_url + str(20*i))\n",
    "    fungi = driver.find_elements(By.CLASS_NAME, 'catItemViewFungi')\n",
    "    urls = [bird.find_element(By.TAG_NAME, 'a').get_attribute('href') for bird in fungi]\n",
    "    scientific_names = []\n",
    "    descriptions = []\n",
    "    for url in urls:\n",
    "        driver.get(url)\n",
    "        scientific_name = driver.find_element(By.CLASS_NAME, 'itemTitle').text\n",
    "        try:\n",
    "            description = driver.find_element(By.CLASS_NAME, 'itemFullText').text\n",
    "        except:\n",
    "            print(f'Error finding description of {scientific_name}')\n",
    "            continue\n",
    "        description = description.split('Hábitat:')[0]\n",
    "        description = description.replace('Características:', '')\n",
    "        description = description.replace('\\n', ' ').strip()\n",
    "        scientific_names.append(scientific_name)\n",
    "        descriptions.append(description)\n",
    "    df = pd.DataFrame({'Nombre aceptado': scientific_names, 'Descripción': descriptions})\n",
    "    df['Grupo taxonómico'] = 'Hongos'\n",
    "    df['Fuente'] = 'Fungipedia'\n",
    "    os.makedirs('Datos Fungipedia', exist_ok=True)\n",
    "    df.to_excel('Datos Fungipedia/fungi_descriptions_Fungipedia.xlsx', index=False)\n",
    "driver.close()"
   ]
  }
 ],
 "metadata": {
  "kernelspec": {
   "display_name": "base",
   "language": "python",
   "name": "python3"
  },
  "language_info": {
   "codemirror_mode": {
    "name": "ipython",
    "version": 3
   },
   "file_extension": ".py",
   "mimetype": "text/x-python",
   "name": "python",
   "nbconvert_exporter": "python",
   "pygments_lexer": "ipython3",
   "version": "3.12.9"
  }
 },
 "nbformat": 4,
 "nbformat_minor": 2
}
