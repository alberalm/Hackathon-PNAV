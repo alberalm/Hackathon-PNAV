{
 "cells": [
  {
   "cell_type": "markdown",
   "metadata": {},
   "source": [
    "### Web Scraping de SEO BirdLife para la Recolección de Descripciones de Aves con Nombres Comunes y Científicos"
   ]
  },
  {
   "cell_type": "code",
   "execution_count": 2,
   "metadata": {},
   "outputs": [],
   "source": [
    "from selenium import webdriver\n",
    "from selenium.webdriver.common.by import By\n",
    "import pandas as pd\n",
    "import os"
   ]
  },
  {
   "cell_type": "code",
   "execution_count": null,
   "metadata": {},
   "outputs": [
    {
     "name": "stdout",
     "output_type": "stream",
     "text": [
      "Starting page 68...\r"
     ]
    }
   ],
   "source": [
    "base_url = 'https://seo.org/guia-de-aves/?_page='\n",
    "driver = webdriver.Chrome()\n",
    "for i in range(1, 69): # Hay 68 paginas\n",
    "    print(f'Starting page {i}...', end='\\r')\n",
    "    driver.get(base_url + str(i))\n",
    "    birds = driver.find_elements(By.CLASS_NAME, 'titular.noocasional')\n",
    "    urls = [bird.find_element(By.TAG_NAME, 'a').get_attribute('href') for bird in birds]\n",
    "    occassional_birds = driver.find_elements(By.CLASS_NAME, 'titular.ocasional')\n",
    "    urls += [bird.find_element(By.TAG_NAME, 'a').get_attribute('href') for bird in occassional_birds]\n",
    "    common_names = []\n",
    "    scientific_names = []\n",
    "    descriptions = []\n",
    "    for url in urls:\n",
    "        driver.get(url)\n",
    "        common_name = driver.find_element(By.CLASS_NAME, 'fusion-title-heading.title-heading-left.fusion-responsive-typography-calculated').text\n",
    "        scientific_name = driver.find_element(By.CLASS_NAME, 'fusion-text.fusion-text-1.fusion-text-no-margin.HindMadurai-Regular.italichind').text\n",
    "        try:\n",
    "            description = driver.find_element(By.CLASS_NAME, 'fusion-text.fusion-text-12.HindMadurai-Regular').text\n",
    "            if len(description) == 0:\n",
    "                raise Exception\n",
    "        except:\n",
    "            try:\n",
    "                description = driver.find_element(By.CLASS_NAME, 'fusion-text.fusion-text-20.HindMadurai-Regular').text\n",
    "            except:\n",
    "                print(f'Error finding description of {common_name}')\n",
    "                continue\n",
    "        description = description.replace('Identificación', '')\n",
    "        description = description.replace('\\n', ' ').strip()\n",
    "        common_names.append(common_name)\n",
    "        scientific_names.append(scientific_name)\n",
    "        descriptions.append(description)\n",
    "    df = pd.DataFrame({'Nombres comunes': common_names, 'Nombre aceptado': scientific_names, 'Descripción': descriptions})\n",
    "    df['Grupo taxonómico'] = 'Aves'\n",
    "    df['Fuente'] = 'SEO BirdLife'\n",
    "    os.makedirs('Datos SEO BirdLife', exist_ok=True)\n",
    "    df.to_excel('Datos SEO BirdLife/birds_descriptions_SEO.xlsx', index=False)\n",
    "driver.close()"
   ]
  }
 ],
 "metadata": {
  "kernelspec": {
   "display_name": "base",
   "language": "python",
   "name": "python3"
  },
  "language_info": {
   "codemirror_mode": {
    "name": "ipython",
    "version": 3
   },
   "file_extension": ".py",
   "mimetype": "text/x-python",
   "name": "python",
   "nbconvert_exporter": "python",
   "pygments_lexer": "ipython3",
   "version": "3.10.9"
  }
 },
 "nbformat": 4,
 "nbformat_minor": 2
}
