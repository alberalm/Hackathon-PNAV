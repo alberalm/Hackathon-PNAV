{
 "cells": [
  {
   "cell_type": "markdown",
   "metadata": {},
   "source": [
    "## 1. Importación de módulos y librerías\n",
    "Se importan los módulos y librerías necesarios para ejecutar el código."
   ]
  },
  {
   "cell_type": "code",
   "execution_count": null,
   "metadata": {},
   "outputs": [],
   "source": [
    "import requests\n",
    "import os\n",
    "import re\n",
    "import pandas as pd\n",
    "from pyproj import Transformer\n",
    "import mgrs\n",
    "import warnings"
   ]
  },
  {
   "cell_type": "markdown",
   "metadata": {},
   "source": [
    "## 2. Descarga de datos de ubicación\n",
    "Proporciona información sobre la ubicación de los taxones.\n",
    "| **Columna**               | **Tipo de Dato** | **Descripción**                                                                                          |\n",
    "|---------------------------|------------------|----------------------------------------------------------------------------------------------------------|\n",
    "| `idtaxon`                 | Entero          | Identificador único del taxón en la base de datos.                                                      |\n",
    "| `idnombre_acept`          | Decimal         | Identificador único del nombre aceptado del taxón.                                                      |\n",
    "| `nombre_aceptado`         | Texto           | Nombre científico aceptado del taxón, incluyendo el autor y año de descripción.                         |\n",
    "| `iddataset`               | Entero          | Identificador único del dataset relacionado.                                                            |\n",
    "| `dataset`                 | Texto           | Nombre del dataset al que pertenece el registro.                                                        |\n",
    "| `countrycode`             | Texto           | Código del país (ISO 3166-1 alfa-2) donde se encuentra el taxón.                                        |\n",
    "| `idsistcoord`             | Entero          | Identificador único del sistema de coordenadas utilizado.                                               |\n",
    "| `verbatimcoordinatesystem`| Texto           | Sistema de coordenadas utilizado en su forma literal.                                                   |\n",
    "| `cuadr`                   | Texto           | Código de la cuadrícula donde se encuentra el taxón.                                                    |\n",
    "| `tamaniocuadr`            | Texto           | Tamaño de la cuadrícula en kilómetros (e.g., \"10\").                                                     |\n",
    "| `idestadocuadr`           | Entero          | Identificador único del estado de la cuadrícula.                                                        |\n",
    "| `estadocuad`              | Texto           | Estado de la cuadrícula (e.g., \"Confirmada\").                                                           |\n",
    "| `fecha`                   | Fecha           | Fecha asociada a la observación o registro del taxón.                                                   |\n",
    "| `y_latitud`               | Decimal         | Latitud en coordenadas geográficas del registro del taxón.                                              |\n",
    "| `x_longitud`              | Decimal         | Longitud en coordenadas geográficas del registro del taxón.                                             |\n",
    "| `id`                      | Entero          | Identificador único de la ubicación en la base de datos.                                                |\n",
    "| `pos`                     | Entero          | Posición del registro en la base de datos (puede usarse para orden o agrupación).                       |\n",
    "| `xcentroide`              | Decimal         | Coordenada X del centroide asociado a la cuadrícula.                                                    |\n",
    "| `ycentroide`              | Decimal         | Coordenada Y del centroide asociado a la cuadrícula.                                                    |\n",
    "| `x`                       | Decimal         | Coordenada X de la ubicación específica del registro.                                                   |\n",
    "| `y`                       | Decimal         | Coordenada Y de la ubicación específica del registro.                                                   |\n",
    "| `utmcode`                 | Texto           | Código UTM asociado a la cuadrícula del registro.                                                       |\n",
    "| `cuadricula`              | Texto           | Código literal de la cuadrícula asociada al registro.                                                   |\n",
    "| `marino`                  | Booleano        | Indica si el registro corresponde a un área marina (`1` = sí, `0` = no).                                |\n",
    "| `cod100x100`              | Texto           | Código de la cuadrícula a escala 100x100 km (si aplica).                                                |\n",
    "| `perim_km`                | Decimal         | Perímetro del área registrada en kilómetros.                                                            |\n",
    "| `area_km2`                | Decimal         | Área registrada en kilómetros cuadrados.                                                                |\n",
    "| `cod_inb`                 | Texto           | Código interno de biodiversidad asociado al registro (si aplica).                                       |\n",
    "| `orig_fid`                | Entero          | Identificador único del registro original en la base de datos.                                          |\n",
    "| `area_new`                | Decimal         | Área nueva registrada (si aplica).                                                                      |\n",
    "| `dif`                     | Decimal         | Diferencia en área registrada entre datos actuales y anteriores (si aplica).                            |\n",
    "| `origen_dato`             | Texto           | Fuente u origen de los datos del registro (e.g., nombre del proyecto o estudio).                        |\n",
    "| `geom`                    | Texto           | Información geométrica asociada al registro (e.g., geometría en formato WKT).                           |\n"
   ]
  },
  {
   "cell_type": "code",
   "execution_count": null,
   "metadata": {},
   "outputs": [
    {
     "name": "stdout",
     "output_type": "stream",
     "text": [
      "Stopped downloading at 80963...\n"
     ]
    }
   ],
   "source": [
    "warnings.filterwarnings('ignore')\n",
    "LIMIT = 30000\n",
    "save_at = 100000\n",
    "save_df = None\n",
    "i = 16435\n",
    "failed_counter = 0\n",
    "FAILED_TOLERANCE = 50000\n",
    "os.makedirs('Datos EIDOS', exist_ok=True)\n",
    "while failed_counter < FAILED_TOLERANCE:\n",
    "    if (i+1) % 50 == 0:\n",
    "        print(f\"Downloading {i+1}...\", end='\\r')\n",
    "    url = f\"https://iepnb.gob.es:443/api/especie/v_ubicacion?idtaxon=eq.{i}&limit={LIMIT}\"\n",
    "    name = f'ubicacion_{i}'\n",
    "    # Realizar la petición GET\n",
    "    response = requests.get(url)\n",
    "    # Verificar si la solicitud fue exitosa (código 200)\n",
    "    if response.status_code == 200:\n",
    "        # Procesar los datos\n",
    "        df = pd.DataFrame(response.json())\n",
    "        if len(df) > 0:\n",
    "            if len(df) == LIMIT:\n",
    "                print(f'IDTaxon {i} has more than {LIMIT} records')\n",
    "            if save_df is None:\n",
    "                save_df = df\n",
    "            else:\n",
    "                save_df = pd.concat([save_df, df])\n",
    "            if len(save_df) >= save_at:\n",
    "                save_df.to_excel(f'Datos EIDOS/{i}.xlsx', index=False)\n",
    "                save_df = None\n",
    "            failed_counter = 0\n",
    "        else:\n",
    "            failed_counter += 1\n",
    "    else:\n",
    "        print(f\"Error with IDTaxon {i}: {response.status_code}: {response.content}\")\n",
    "        failed_counter += 1\n",
    "    i += 1\n",
    "if save_df is not None:\n",
    "    save_df.to_excel(f'Datos EIDOS/{i}.xlsx', index=False)\n",
    "print(f\"Stopped downloading at {i-FAILED_TOLERANCE}...\")\n",
    "warnings.filterwarnings('default')"
   ]
  },
  {
   "cell_type": "markdown",
   "metadata": {},
   "source": [
    "## 3. Procesado de datos"
   ]
  },
  {
   "cell_type": "code",
   "execution_count": null,
   "metadata": {},
   "outputs": [],
   "source": [
    "# Funcion para convertir coordenadas de formato \"10kmE<easting>N<northing>\" a MGRS\n",
    "def convert_10km_to_mgrs(coord_str: str) -> str:\n",
    "    # Extraer indices de easting y northing\n",
    "    match = re.match(r\"10kmE(\\d+)N(\\d+)\", coord_str)\n",
    "    if not match:\n",
    "        raise ValueError(\"El formato debe ser '10kmE<easting>N<northing>'\")\n",
    "    easting_idx = int(match.group(1))\n",
    "    northing_idx = int(match.group(2))\n",
    "\n",
    "    # Convertir índices a metros\n",
    "    easting = easting_idx * 10000\n",
    "    northing = northing_idx * 10000\n",
    "\n",
    "    # Transformar de ETRS89/LAEA (EPSG:3035) a geográficas (EPSG:4326)\n",
    "    transformer = Transformer.from_crs(\"EPSG:3035\", \"EPSG:4326\", always_xy=True)\n",
    "    lon, lat = transformer.transform(easting, northing)\n",
    "\n",
    "    # Convertir a MGRS con precisión de 1 km\n",
    "    mgrs_converter = mgrs.MGRS()\n",
    "    mgrs_code = mgrs_converter.toMGRS(lat, lon, MGRSPrecision=1)\n",
    "    return mgrs_code\n",
    "\n",
    "\n",
    "# Función para ajustar valores del tipo \"30TVL33\" o \"30TVL3231\"\n",
    "def ajustar_valor(cadena: str) -> str:\n",
    "    # Procesa solo si la cadena empieza por alguno de los prefijos deseados\n",
    "    if not (cadena.startswith(\"30\") or cadena.startswith(\"29\") or cadena.startswith(\"28\") or cadena.startswith(\"31\")):\n",
    "        return cadena\n",
    "    \n",
    "    # Patron 1: formato \"<prefijo><letras><2 dígitos>\" -> se deja igual.\n",
    "    patron1 = r\"^((?:30|29|28|31)[A-Z]+)(\\d{2})$\"\n",
    "    # Patron 2: formato \"<prefijo><letras><2 dígitos><2 dígitos>\" -> se eliminan los dos ultimos digitos.\n",
    "    patron2 = r\"^((?:30|29|28|31)[A-Z]+)(\\d{2})(\\d{2})$\"\n",
    "    \n",
    "    if re.match(patron1, cadena):\n",
    "        return cadena\n",
    "    elif re.match(patron2, cadena):\n",
    "        m = re.match(patron2, cadena)\n",
    "        return m.group(1) + m.group(2)\n",
    "    else:\n",
    "        return cadena"
   ]
  },
  {
   "cell_type": "code",
   "execution_count": null,
   "metadata": {},
   "outputs": [],
   "source": [
    "i = 0\n",
    "\n",
    "# Procesar cada archivo Excel en la carpeta\n",
    "for archivo in os.listdir('./Datos EIDOS'):\n",
    "    if archivo.ends_with('.xlsx'):\n",
    "        i += 1\n",
    "        df = pd.read_excel(f\"Datos EIDOS/{archivo}\")\n",
    "        \n",
    "        for idx, row in df.iterrows():\n",
    "            valor = row[\"cuadr\"]\n",
    "            # Si el valor es de tipo \"10km...\", aplicar la conversion a MGRS\n",
    "            if valor.startswith(\"10km\"):\n",
    "                try:\n",
    "                    nuevo_valor = convert_10km_to_mgrs(valor)\n",
    "                    df.loc[idx, \"cuadr\"] = nuevo_valor\n",
    "                except Exception as e:\n",
    "                    print(f\"Error en archivo {archivo}, fila {idx} con valor '{valor}': {e}\")\n",
    "            df.loc[idx, \"cuadr\"] = ajustar_valor(valor)\n",
    "\n",
    "        df = df.drop_duplicates(subset=['idtaxon', 'cuadr'], keep=\"first\")\n",
    "        df = df.sort_values(by=\"idtaxon\")\n",
    "        df.to_excel(f\"Datos EIDOS/mismo_cud_sin_repetidos_{i}.xlsx\", index=False)\n",
    "        os.remove(f\"Datos EIDOS/{archivo}\")"
   ]
  },
  {
   "cell_type": "code",
   "execution_count": null,
   "metadata": {},
   "outputs": [
    {
     "name": "stdout",
     "output_type": "stream",
     "text": [
      "Eliminando archivos residuales...          \r"
     ]
    }
   ],
   "source": [
    "dfs = []\n",
    "total_length = 0\n",
    "LENGTH_LIMIT = 100000\n",
    "i = 1\n",
    "\n",
    "# Combinar los archivos excel, ahora sin repetidos, en archivos mas grandes\n",
    "for file in os.listdir('./Datos EIDOS'):\n",
    "    if file.endswith('.xlsx') and file.startswith(\"mismo_cud_sin_repetidos_\"):\n",
    "        print(f\"Leyendo {file}...\", end='\\r')\n",
    "        dfs.append(pd.read_excel(f\"Datos EIDOS/{file}\"))\n",
    "        total_length += len(dfs[-1])\n",
    "        if total_length >= LENGTH_LIMIT:\n",
    "            df = pd.concat(dfs)\n",
    "            df.sort_values(by=\"idtaxon\")\n",
    "            print(f\"Exportando archivo combinado {i}...{' '*10}\", end='\\r')\n",
    "            df.to_excel(f\"Datos EIDOS/Datos EIDOS_final_{i}.xlsx\", index=False)\n",
    "            i += 1\n",
    "            dfs = []\n",
    "            total_length = 0\n",
    "if total_length > 0:\n",
    "    df = pd.concat(dfs)\n",
    "    df.sort_values(by=\"idtaxon\")\n",
    "    print(f\"Exportando archivo combinado {i}...{' '*10}\", end='\\r')\n",
    "    df.to_excel(f\"Datos EIDOS/Datos EIDOS_final_{i}.xlsx\", index=False)\n",
    "\n",
    "# Eliminar archivos anteriores\n",
    "print(f\"Eliminando archivos residuales...{' '*10}\", end='\\r')\n",
    "for file in os.listdir('./Datos EIDOS'):\n",
    "    if file.endswith('.xlsx') and not file.startswith(\"Datos EIDOS_final_\"):\n",
    "        os.remove(f\"Datos EIDOS/{file}\")"
   ]
  }
 ],
 "metadata": {
  "kernelspec": {
   "display_name": "base",
   "language": "python",
   "name": "python3"
  },
  "language_info": {
   "codemirror_mode": {
    "name": "ipython",
    "version": 3
   },
   "file_extension": ".py",
   "mimetype": "text/x-python",
   "name": "python",
   "nbconvert_exporter": "python",
   "pygments_lexer": "ipython3",
   "version": "3.10.9"
  }
 },
 "nbformat": 4,
 "nbformat_minor": 2
}
