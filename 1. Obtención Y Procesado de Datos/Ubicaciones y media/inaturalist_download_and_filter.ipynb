{
 "cells": [
  {
   "cell_type": "markdown",
   "metadata": {},
   "source": [
    "# Descarga de datos"
   ]
  },
  {
   "cell_type": "markdown",
   "metadata": {},
   "source": [
    "Este cuaderno procesa los datos descargados de GBIF, que utiliza la base de datos de INaturalist. En concreto, procesa el dataset que se puede descargar del siguiente enlace:\n",
    "\n",
    "https://static.inaturalist.org/observations/gbif-observations-dwca.zip\n",
    "\n",
    "El zip descargado ocupa más de 17 GB, y, una vez extraído, hay dos archivos csv de más de 68 y 46 GB, respectivamente, por lo que no se pueden cargar en memoria ni abrir directamente.\n",
    "\n",
    "También se puede descargar y extraer ejecutando las siguientes celdas:"
   ]
  },
  {
   "cell_type": "code",
   "execution_count": null,
   "metadata": {},
   "outputs": [],
   "source": [
    "import requests\n",
    "import zipfile\n",
    "import io"
   ]
  },
  {
   "cell_type": "code",
   "execution_count": null,
   "metadata": {},
   "outputs": [],
   "source": [
    "# URL of the ZIP file\n",
    "url = \"https://static.inaturalist.org/observations/gbif-observations-dwca.zip\"\n",
    "\n",
    "# Download the file\n",
    "response = requests.get(url)\n",
    "response.raise_for_status() # Raise an error if download fails\n",
    "\n",
    "# Unzip it\n",
    "with zipfile.ZipFile(io.BytesIO(response.content)) as z:\n",
    "    z.extractall(\"Datos iNaturalist\")"
   ]
  },
  {
   "cell_type": "markdown",
   "metadata": {},
   "source": [
    "# Filtrado de datos"
   ]
  },
  {
   "cell_type": "code",
   "execution_count": null,
   "metadata": {},
   "outputs": [],
   "source": [
    "import os\n",
    "import pandas as pd\n",
    "import shutil"
   ]
  },
  {
   "cell_type": "code",
   "execution_count": null,
   "metadata": {},
   "outputs": [],
   "source": [
    "chunk = pd.read_csv('Datos iNaturalist/media.csv', chunksize=1000)\n",
    "for c in chunk:\n",
    "    df = c\n",
    "    break\n",
    "df.to_excel('Datos iNaturalist/media_sample.xlsx', index=False)\n",
    "chunk = pd.read_csv('Datos iNaturalist/observations.csv', chunksize=1000)\n",
    "for c in chunk:\n",
    "    df = c\n",
    "    break\n",
    "df.to_excel('Datos iNaturalist/observations_sample.xlsx', index=False)"
   ]
  },
  {
   "cell_type": "markdown",
   "metadata": {},
   "source": [
    "Observando las hojas de cálculo resultantes, vemos que el ID es compartido entre ambas tablas.\n",
    "\n",
    "La tabla media contiene información sobre la imagen y proporciona un link directo, mientras que la tabla observations contiene información sobre el contexto en el que se tomó la foto, así como sus licencias:"
   ]
  },
  {
   "cell_type": "code",
   "execution_count": null,
   "metadata": {},
   "outputs": [],
   "source": [
    "# Eliminar los archivos anteriores:\n",
    "os.remove('Datos iNaturalist/media_sample.xlsx')\n",
    "os.remove('Datos iNaturalist/observations_sample.xlsx')"
   ]
  },
  {
   "cell_type": "code",
   "execution_count": null,
   "metadata": {},
   "outputs": [
    {
     "name": "stdout",
     "output_type": "stream",
     "text": [
      "240\r"
     ]
    }
   ],
   "source": [
    "chunk = pd.read_csv('Datos iNaturalist/observations.csv', chunksize=1000)\n",
    "country_codes = set()\n",
    "licenses = {} # {license: count}\n",
    "for c in chunk:\n",
    "    country_codes.update(c['countryCode'])\n",
    "    for license in c['license']:\n",
    "        if license in licenses:\n",
    "            licenses[license] += 1\n",
    "        else:\n",
    "            licenses[license] = 1\n",
    "    print(len(country_codes), end='\\r')\n",
    "    if len(country_codes) >= 240:\n",
    "        break"
   ]
  },
  {
   "cell_type": "code",
   "execution_count": 26,
   "metadata": {},
   "outputs": [
    {
     "name": "stdout",
     "output_type": "stream",
     "text": [
      "{'ZA', 'AG', 'VU', 'DE', 'AF', 'CC', 'NZ', 'BS', 'MP', 'JE', 'QA', 'SY', 'SE', 'VN', 'DZ', 'MX', 'MM', 'JO', 'TG', 'CG', 'NL', 'KR', 'PH', 'IN', 'FI', 'DO', 'SC', 'LR', 'RU', 'CU', 'GD', 'AE', 'GY', 'KG', 'GT', 'BI', 'BB', 'FK', 'FR', 'GP', 'UM', 'AL', 'SL', 'MD', 'LV', 'ZW', 'ST', 'TD', 'IS', 'TT', 'UZ', 'CV', 'SN', 'ID', 'UA', 'PK', 'PN', 'AX', 'TC', 'US', 'HR', 'AO', 'IQ', 'TL', 'MV', 'SH', 'AU', 'KH', 'MY', 'LU', 'GE', 'MC', 'YE', 'SG', 'SB', 'BN', 'KN', 'SI', 'CN', 'GM', 'NE', 'GQ', 'MS', 'LY', 'VC', 'MR', 'BM', 'MO', 'ER', 'CR', 'GU', 'MZ', 'NO', 'PA', 'TH', 'PY', 'GG', 'JM', 'LA', 'SR', 'HN', 'MA', 'BH', 'MF', 'PM', 'PR', 'GA', 'HT', 'KI', 'DM', 'CZ', 'BQ', 'ME', 'ZM', 'SV', 'AZ', 'SO', 'BE', 'EG', 'GW', nan, 'SJ', 'BD', 'HK', 'BJ', 'CM', 'TV', 'RO', 'VE', 'MK', 'CF', 'RS', 'HU', 'KZ', 'TZ', 'SZ', 'TN', 'CO', 'IL', 'AR', 'AQ', 'BY', 'BW', 'MG', 'TO', 'CA', 'BL', 'SA', 'AD', 'NI', 'GN', 'VG', 'PT', 'RE', 'MW', 'LS', 'AM', 'SS', 'GH', 'LI', 'PG', 'NF', 'LT', 'SX', 'BA', 'MU', 'TJ', 'CK', 'PW', 'GI', 'IE', 'UG', 'CL', 'UY', 'ET', 'BR', 'PE', 'PF', 'IT', 'BG', 'BT', 'NU', 'GL', 'GR', 'KY', 'GB', 'ES', 'PS', 'EC', 'OM', 'NP', 'NC', 'AW', 'MQ', 'IO', 'FJ', 'LB', 'SK', 'RW', 'AS', 'KM', 'IM', 'CY', 'VI', 'FM', 'BO', 'MN', 'DJ', 'EH', 'WF', 'AI', 'CH', 'KE', 'ML', 'NG', 'TW', 'TR', 'LK', 'CD', 'LC', 'CX', 'IR', 'AT', 'YT', 'GS', 'MH', 'GF', 'DK', 'MT', 'EE', 'BF', 'WS', 'KW', 'PL', 'JP', 'SD', 'FO', 'BZ', 'CW', 'CI'}\n"
     ]
    }
   ],
   "source": [
    "print(country_codes)"
   ]
  },
  {
   "cell_type": "code",
   "execution_count": null,
   "metadata": {},
   "outputs": [
    {
     "name": "stdout",
     "output_type": "stream",
     "text": [
      "{'http://creativecommons.org/publicdomain/zero/1.0/': 59970, 'http://creativecommons.org/licenses/by/4.0/': 155099, 'http://creativecommons.org/licenses/by-nc/4.0/': 755858, 'http://creativecommons.org/licenses/by-nd/4.0/': 9, 'http://creativecommons.org/licenses/by-sa/4.0/': 48, nan: 13, 'http://creativecommons.org/licenses/by-nc-sa/4.0/': 3}\n"
     ]
    }
   ],
   "source": [
    "print(licenses)"
   ]
  },
  {
   "cell_type": "markdown",
   "metadata": {},
   "source": [
    "Podemos observar que las licencias hacen referencia a las de Creative Commons, que podríamos clasificar en:\n",
    "\n",
    "- http://creativecommons.org/publicdomain/zero/1.0/\n",
    "- http://creativecommons.org/licenses/by/4.0/\n",
    "- http://creativecommons.org/licenses/by-nc/4.0/\n",
    "- http://creativecommons.org/licenses/by-nd/4.0/\n",
    "- http://creativecommons.org/licenses/by-sa/4.0/\n",
    "- http://creativecommons.org/licenses/by-nc-sa/4.0/\n",
    "- http://creativecommons.org/licenses/by-nc-nd/4.0/\n",
    "\n",
    "Filtramos por código de país ES y quitamos las observaciones con licencias no comercializables. La siguiente celda tarda unos 45 minutos en ejecutarse."
   ]
  },
  {
   "cell_type": "code",
   "execution_count": null,
   "metadata": {},
   "outputs": [
    {
     "name": "stdout",
     "output_type": "stream",
     "text": [
      "All 10868 chunks processed.\n"
     ]
    }
   ],
   "source": [
    "os.makedirs('Datos iNaturalist/observations_chunked', exist_ok=True)\n",
    "\n",
    "# Guardar los encabezados en un archivo separado\n",
    "pd.read_csv('Datos iNaturalist/observations.csv', chunksize=1).get_chunk(0).to_csv('Datos iNaturalist/observations_chunked/headers.csv', index=False)\n",
    "chunks = pd.read_csv('Datos iNaturalist/observations.csv', chunksize=10000) # El argumento chunksize hace que se puedan leer archivos grandes en trozos\n",
    "\n",
    "for i, c in enumerate(chunks):\n",
    "    if (i+1) % 100 == 0:\n",
    "        print(f'Processing chunk {i+1}...', end='\\r')\n",
    "    df = c[(c['countryCode'] == 'ES') &\n",
    "           (c['license'] != 'http://creativecommons.org/licenses/by-nc/4.0/') &\n",
    "           (c['license'] != 'http://creativecommons.org/licenses/by-nc-sa/4.0/') &\n",
    "           (c['license'] != 'http://creativecommons.org/licenses/by-nc-nd/4.0/') &\n",
    "           (c['license'] != 'http://creativecommons.org/licenses/by-nc-nd/4.0/')]\n",
    "    if len(df) > 0:\n",
    "        df.to_csv(f'Datos iNaturalist/observations_chunked/{i}.csv', index=False, header=False)\n",
    "print(f'All 10868 chunks processed.')"
   ]
  },
  {
   "cell_type": "markdown",
   "metadata": {},
   "source": [
    "Vamos a combinar todas las observaciones en un solo archivo:"
   ]
  },
  {
   "cell_type": "code",
   "execution_count": null,
   "metadata": {},
   "outputs": [],
   "source": [
    "with open('Datos iNaturalist/observations_selection.csv','wb') as fout:\n",
    "    # Archivo con encabezados\n",
    "    fout.write(open('Datos iNaturalist/observations_chunked/headers.csv','rb').read())\n",
    "    # Archivos con datos\n",
    "    for filename in os.listdir('Datos iNaturalist/observations_chunked'):\n",
    "        if filename == 'headers.csv':\n",
    "            continue\n",
    "        with open(f'Datos iNaturalist/observations_chunked/{filename}', 'rb') as fin:\n",
    "            for line in fin:\n",
    "                fout.write(line)\n",
    "shutil.rmtree(\"Datos iNaturalist/observations_chunked\")"
   ]
  },
  {
   "cell_type": "markdown",
   "metadata": {},
   "source": [
    "Con esto, nos sale un archivo de más de 260.000 observaciones:"
   ]
  },
  {
   "cell_type": "code",
   "execution_count": null,
   "metadata": {},
   "outputs": [
    {
     "data": {
      "text/plain": [
       "261793"
      ]
     },
     "execution_count": 2,
     "metadata": {},
     "output_type": "execute_result"
    }
   ],
   "source": [
    "ids = pd.read_csv('Datos iNaturalist/observations_selection.csv')['id']\n",
    "len(ids)"
   ]
  },
  {
   "cell_type": "markdown",
   "metadata": {},
   "source": [
    "Ahora, obtenemos la información del archivo media.csv correspondiente a las observaciones que hemos seleccionado. Parece que muchas imágenes tienen una licencia que impide la comercialización incluso aunque la observación esté marcada como que sí, por lo que debemos tener eso en cuenta a la hora de filtrar.\n",
    "\n",
    "Con todo ello, la siguiente celda tarda unos 35 minutos en ejecutarse:"
   ]
  },
  {
   "cell_type": "code",
   "execution_count": null,
   "metadata": {},
   "outputs": [
    {
     "name": "stdout",
     "output_type": "stream",
     "text": [
      "All 18108 chunks processed.\n"
     ]
    }
   ],
   "source": [
    "os.makedirs('Datos iNaturalist/media_chunked', exist_ok=True)\n",
    "\n",
    "# Guardar los encabezados en un archivo separado\n",
    "pd.read_csv('Datos iNaturalist/media.csv', chunksize=1).get_chunk(0).to_csv('Datos iNaturalist/media_chunked/headers.csv', index=False)\n",
    "chunks = pd.read_csv('Datos iNaturalist/media.csv', chunksize=10000) # El argumento chunksize hace que se puedan leer archivos grandes en trozos\n",
    "\n",
    "for i, c in enumerate(chunks):\n",
    "    if (i+1) % 100 == 0:\n",
    "        print(f'Processing chunk {i+1}...', end='\\r')\n",
    "    df = c[c['id'].isin(ids) &\n",
    "           (c['license'] != 'http://creativecommons.org/licenses/by-nc/4.0/') &\n",
    "           (c['license'] != 'http://creativecommons.org/licenses/by-nc-sa/4.0/') &\n",
    "           (c['license'] != 'http://creativecommons.org/licenses/by-nc-nd/4.0/') &\n",
    "           (c['license'] != 'http://creativecommons.org/licenses/by-nc-nd/4.0/')]\n",
    "    if len(df) > 0:\n",
    "        df.to_csv(f'Datos iNaturalist/media_chunked/{i}.csv', index=False, header=False)\n",
    "print(f'All {i+1} chunks processed.')"
   ]
  },
  {
   "cell_type": "markdown",
   "metadata": {},
   "source": [
    "Como vemos, hay más fragmentos que en el archivo anterior, lo que se debe a que cada observación puede tener más de una imagen asociada. Por tanto, es lógico que haya más filas en el archivo de imágenes que en el de observaciones.\n",
    "\n",
    "Combinamos de nuevo los resultados en un solo archivo:"
   ]
  },
  {
   "cell_type": "code",
   "execution_count": null,
   "metadata": {},
   "outputs": [],
   "source": [
    "with open('Datos iNaturalist/media_selection.csv','wb') as fout:\n",
    "    # Archivo con encabezados\n",
    "    fout.write(open('Datos iNaturalist/media_chunked/headers.csv','rb').read())\n",
    "    # Archivos con datos\n",
    "    for filename in os.listdir('Datos iNaturalist/media_chunked'):\n",
    "        if filename == 'headers.csv':\n",
    "            continue\n",
    "        with open(f'Datos iNaturalist/media_chunked/{filename}', 'rb') as fin:\n",
    "            for line in fin:\n",
    "                fout.write(line)\n",
    "shutil.rmtree(\"Datos iNaturalist/media_chunked\")"
   ]
  },
  {
   "cell_type": "markdown",
   "metadata": {},
   "source": [
    "Con esto, podemos ver el número de imágenes disponibles:"
   ]
  },
  {
   "cell_type": "code",
   "execution_count": null,
   "metadata": {},
   "outputs": [
    {
     "data": {
      "text/plain": [
       "365714"
      ]
     },
     "execution_count": 33,
     "metadata": {},
     "output_type": "execute_result"
    }
   ],
   "source": [
    "len(pd.read_csv('Datos iNaturalist/media_selection.csv'))"
   ]
  },
  {
   "cell_type": "markdown",
   "metadata": {},
   "source": [
    "En total, habría 473.583 imágenes si no hubiéramos realizado el filtrado de licencias, pero se quedan en 365.714 si sí lo tenemos en cuenta.\n",
    "\n",
    "Por último, debemos eliminar aquellas observaciones para las que no queda ninguna imagen porque todas las asociadas a esa observación tenían una licencia no comercializable."
   ]
  },
  {
   "cell_type": "code",
   "execution_count": null,
   "metadata": {},
   "outputs": [
    {
     "data": {
      "text/plain": [
       "181485"
      ]
     },
     "execution_count": 34,
     "metadata": {},
     "output_type": "execute_result"
    }
   ],
   "source": [
    "observations_df = pd.read_csv('Datos iNaturalist/observations_selection.csv')\n",
    "media_df = pd.read_csv('Datos iNaturalist/media_selection.csv')\n",
    "observations_df = observations_df[observations_df['id'].isin(media_df['id'].unique())]\n",
    "observations_df.to_csv('Datos iNaturalist/observations_selection.csv', index=False)\n",
    "len(observations_df)"
   ]
  },
  {
   "cell_type": "markdown",
   "metadata": {},
   "source": [
    "Observamos que hemos reducido en gran medida el número de observaciones que podemos usar, de 261.793 a 181.485."
   ]
  },
  {
   "cell_type": "markdown",
   "metadata": {},
   "source": [
    "### Eliminar columnas innecesarias\n",
    "\n",
    "La tabla de observaciones contiene muchas columnas que solo toman un único valor, así que podemos eliminarlas ya que no aportan nada a los datos."
   ]
  },
  {
   "cell_type": "code",
   "execution_count": null,
   "metadata": {},
   "outputs": [
    {
     "name": "stdout",
     "output_type": "stream",
     "text": [
      "Dropping column basisOfRecord because all records have the value HumanObservation\n",
      "Dropping column institutionCode because all records have the value iNaturalist\n",
      "Dropping column collectionCode because all records have the value Observations\n",
      "Dropping column datasetName because all records have the value iNaturalist research-grade observations\n",
      "Dropping column captive because all records have the value wild\n",
      "Dropping column geodeticDatum because all records have the value EPSG:4326\n",
      "Dropping column catalogNumber because it is the same as id\n"
     ]
    }
   ],
   "source": [
    "df = pd.read_csv('Datos iNaturalist/observations_selection.csv')\n",
    "for col in df.columns:\n",
    "    if col == 'countryCode':\n",
    "        continue\n",
    "    counts = df[col].value_counts()\n",
    "    if len(counts) == 1 and len(df) == counts.values[0]:\n",
    "        print(f'Dropping column {col} because all records have the value {counts.index[0]}')\n",
    "        df.drop(col, axis=1, inplace=True)\n",
    "if len(df[df['id'] == df['catalogNumber']]) == len(df):\n",
    "    print('Dropping column catalogNumber because it is the same as id')\n",
    "    df.drop('catalogNumber', axis=1, inplace=True)\n",
    "df.to_csv('Datos iNaturalist/observations_selection.csv', index=False)"
   ]
  }
 ],
 "metadata": {
  "kernelspec": {
   "display_name": "base",
   "language": "python",
   "name": "python3"
  },
  "language_info": {
   "codemirror_mode": {
    "name": "ipython",
    "version": 3
   },
   "file_extension": ".py",
   "mimetype": "text/x-python",
   "name": "python",
   "nbconvert_exporter": "python",
   "pygments_lexer": "ipython3",
   "version": "3.12.9"
  }
 },
 "nbformat": 4,
 "nbformat_minor": 2
}
