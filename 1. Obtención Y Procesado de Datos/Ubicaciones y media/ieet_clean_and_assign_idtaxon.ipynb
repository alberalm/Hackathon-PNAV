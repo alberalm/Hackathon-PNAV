{
 "cells": [
  {
   "cell_type": "code",
   "execution_count": 1,
   "metadata": {},
   "outputs": [],
   "source": [
    "import pandas as pd\n",
    "import re"
   ]
  },
  {
   "cell_type": "markdown",
   "metadata": {},
   "source": [
    "### Limpieza y Normalización de Nombres Científicos en el Dataset de Especies Faltantes para Integración con Taxonomía EIDOS"
   ]
  },
  {
   "cell_type": "code",
   "execution_count": null,
   "metadata": {},
   "outputs": [],
   "source": [
    "df_taxonomia = pd.read_excel('../EIDOS_taxonomia.xlsx')\n",
    "df1 = pd.read_excel(\"Datos IEET/BD_IEET_2015.xlsx\")"
   ]
  },
  {
   "cell_type": "code",
   "execution_count": null,
   "metadata": {},
   "outputs": [
    {
     "data": {
      "text/html": [
       "<div>\n",
       "<style scoped>\n",
       "    .dataframe tbody tr th:only-of-type {\n",
       "        vertical-align: middle;\n",
       "    }\n",
       "\n",
       "    .dataframe tbody tr th {\n",
       "        vertical-align: top;\n",
       "    }\n",
       "\n",
       "    .dataframe thead th {\n",
       "        text-align: right;\n",
       "    }\n",
       "</style>\n",
       "<table border=\"1\" class=\"dataframe\">\n",
       "  <thead>\n",
       "    <tr style=\"text-align: right;\">\n",
       "      <th></th>\n",
       "      <th>CUADRICULA</th>\n",
       "      <th>Nombre</th>\n",
       "    </tr>\n",
       "  </thead>\n",
       "  <tbody>\n",
       "    <tr>\n",
       "      <th>0</th>\n",
       "      <td>29TNJ84</td>\n",
       "      <td>Bufo bufo</td>\n",
       "    </tr>\n",
       "    <tr>\n",
       "      <th>1</th>\n",
       "      <td>29TNJ94</td>\n",
       "      <td>Bufo bufo</td>\n",
       "    </tr>\n",
       "    <tr>\n",
       "      <th>2</th>\n",
       "      <td>29TPJ04</td>\n",
       "      <td>Bufo bufo</td>\n",
       "    </tr>\n",
       "    <tr>\n",
       "      <th>3</th>\n",
       "      <td>29TNJ73</td>\n",
       "      <td>Bufo bufo</td>\n",
       "    </tr>\n",
       "    <tr>\n",
       "      <th>4</th>\n",
       "      <td>29TNJ83</td>\n",
       "      <td>Bufo bufo</td>\n",
       "    </tr>\n",
       "  </tbody>\n",
       "</table>\n",
       "</div>"
      ],
      "text/plain": [
       "  CUADRICULA     Nombre\n",
       "0    29TNJ84  Bufo bufo\n",
       "1    29TNJ94  Bufo bufo\n",
       "2    29TPJ04  Bufo bufo\n",
       "3    29TNJ73  Bufo bufo\n",
       "4    29TNJ83  Bufo bufo"
      ]
     },
     "execution_count": 2,
     "metadata": {},
     "output_type": "execute_result"
    }
   ],
   "source": [
    "# Cargar el archivo CSV extraido de QGIS en el que se han combinado los shapefiles de las especies que faltaban\n",
    "df2 = pd.read_csv(\"Datos IEET/Otras_Especies.csv\")\n",
    "\n",
    "# Eliminar las columnas \"layer\" y \"path\" si existen\n",
    "columnas_a_eliminar = [\"layer\", \"path\"]\n",
    "df2 = df2.drop(columns=[col for col in columnas_a_eliminar if col in df2.columns])\n",
    "\n",
    "# Funcion para limpiar la columna \"Nombre\" eliminando el numero final\n",
    "def limpiar_nombre(nombre):\n",
    "    nombre_limpio = re.sub(r'\\d+$', '', str(nombre)).strip()  # Elimina numero final\n",
    "    if nombre_limpio == \"Streptopelia risori\":  # Sustituye el nombre especifico\n",
    "        return \"Streptopelia roseogrisea f. risoria\"\n",
    "    return nombre_limpio\n",
    "\n",
    "# Aplicar la funcion a la columna \"Nombre\"\n",
    "if \"Nombre\" in df2.columns:\n",
    "    df2[\"Nombre\"] = df2[\"Nombre\"].apply(limpiar_nombre)\n",
    "\n",
    "# Ver las primeras filas para comprobar que todo esta correcto\n",
    "df2.head()"
   ]
  },
  {
   "cell_type": "markdown",
   "metadata": {},
   "source": [
    "### Asignación Automática de ID Taxonómico a Especies del Inventario IEET Mediante Coincidencia Léxica con la Base de Taxonomía EIDOS"
   ]
  },
  {
   "cell_type": "code",
   "execution_count": null,
   "metadata": {},
   "outputs": [],
   "source": [
    "df = pd.concat([df1, df2])\n",
    "df = df.fillna(\"\")"
   ]
  },
  {
   "cell_type": "code",
   "execution_count": null,
   "metadata": {},
   "outputs": [],
   "source": [
    "# Quitar parentesis y palabras que empiezan por mayuscula y numeros\n",
    "df_taxonomia['lowered_name'] = df_taxonomia['name'].str.replace(r'[()&]', '', regex=True).apply(\n",
    "    lambda x: x[0].lower() + ' '.join([w for w in x[1:].split() if w == w.lower() and not w.isdigit()])\n",
    "    )\n",
    "\n",
    "def find_best_match(species):\n",
    "    row_words = species.replace('(', '').replace(')', '').lower().split()\n",
    "    if len(row_words) < 2:\n",
    "        return None # No hay suficientes palabras para buscar\n",
    "    # Filtrar candidatos\n",
    "    candidates = df_taxonomia[df_taxonomia['lowered_name'].str.contains(' '.join(row_words[:2]))]\n",
    "    # Si hay una categoría taxonómica, refinar los candidatos\n",
    "    if len(row_words) > 3 and row_words[2] in ['f.', 'subsp.', 'var.']:\n",
    "        candidates = candidates[candidates['lowered_name'].str.contains(f' {row_words[3]} ')]\n",
    "    else:\n",
    "        candidates = candidates[~candidates['lowered_name'].str.contains(r'\\b(?: f\\. | subsp\\. | var\\. )\\b', regex=True)]\n",
    "    if candidates.empty:\n",
    "        return None\n",
    "    # Calcular las puntuaciones de coincidencia\n",
    "    row_words_set = set(row_words)\n",
    "    candidates['score'] = candidates['lowered_name'].apply(lambda c: \n",
    "        0.9 * len(set(c.split()) & row_words_set) / len(row_words) +\n",
    "        0.1 * len(set(c.split()) & row_words_set) / len(c.split())\n",
    "    )\n",
    "    # Obtener el mejor candidato\n",
    "    best_match = candidates.loc[candidates['score'].idxmax()]\n",
    "    return best_match['taxonid']\n",
    "\n",
    "species_id = {species: find_best_match(species) for species in set(df[\"Nombre\"].to_list())}\n",
    "df['idtaxon'] = df[\"Nombre\"].apply(lambda x: species_id[x])\n",
    "df.to_excel('IEET_ubicaciones_idtaxon.xlsx', index=False)"
   ]
  }
 ],
 "metadata": {
  "kernelspec": {
   "display_name": "base",
   "language": "python",
   "name": "python3"
  },
  "language_info": {
   "codemirror_mode": {
    "name": "ipython",
    "version": 3
   },
   "file_extension": ".py",
   "mimetype": "text/x-python",
   "name": "python",
   "nbconvert_exporter": "python",
   "pygments_lexer": "ipython3",
   "version": "3.12.9"
  }
 },
 "nbformat": 4,
 "nbformat_minor": 2
}
