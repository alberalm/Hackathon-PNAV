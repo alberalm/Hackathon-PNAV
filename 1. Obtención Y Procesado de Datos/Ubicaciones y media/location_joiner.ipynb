{
 "cells": [
  {
   "cell_type": "code",
   "execution_count": 1,
   "metadata": {},
   "outputs": [],
   "source": [
    "import pandas as pd\n",
    "import os"
   ]
  },
  {
   "cell_type": "code",
   "execution_count": 2,
   "metadata": {},
   "outputs": [],
   "source": [
    "df_IEET = pd.read_excel(\"../Datos IEET/BD_IEET_2015/IEET_ubicaciones_idtaxon.xlsx\")"
   ]
  },
  {
   "cell_type": "code",
   "execution_count": 3,
   "metadata": {},
   "outputs": [],
   "source": [
    "df_iNaturalist = pd.concat(\n",
    "    [\n",
    "        pd.read_csv(\"../Observaciones GBIF-iNaturalist/processed_observations_con_cuadricula_1.csv\"),\n",
    "        pd.read_csv(\"../Observaciones GBIF-iNaturalist/processed_observations_con_cuadricula_2.csv\")\n",
    "    ]\n",
    ")"
   ]
  },
  {
   "cell_type": "code",
   "execution_count": 4,
   "metadata": {},
   "outputs": [],
   "source": [
    "dfs_EIDOS = []\n",
    "for file in os.listdir(\"../Datos EIDOS/EIDOS_ubicacion\"):\n",
    "    if file.endswith(\".xlsx\"):\n",
    "        dfs_EIDOS.append(pd.read_excel(f\"../Datos EIDOS/EIDOS_ubicacion/{file}\"))\n",
    "df_EIDOS = pd.concat(dfs_EIDOS)"
   ]
  },
  {
   "cell_type": "code",
   "execution_count": 5,
   "metadata": {},
   "outputs": [],
   "source": [
    "df_IEET = df_IEET.rename(columns={\"CUTM10x10\": \"cuadricula\"})\n",
    "df_iNaturalist = df_iNaturalist.rename(columns={\"malla_codigo\": \"cuadricula\"})\n",
    "df_EIDOS[\"cuadricula\"] = df_EIDOS[\"cuadr\"]"
   ]
  },
  {
   "cell_type": "code",
   "execution_count": 6,
   "metadata": {},
   "outputs": [
    {
     "data": {
      "text/html": [
       "<div>\n",
       "<style scoped>\n",
       "    .dataframe tbody tr th:only-of-type {\n",
       "        vertical-align: middle;\n",
       "    }\n",
       "\n",
       "    .dataframe tbody tr th {\n",
       "        vertical-align: top;\n",
       "    }\n",
       "\n",
       "    .dataframe thead th {\n",
       "        text-align: right;\n",
       "    }\n",
       "</style>\n",
       "<table border=\"1\" class=\"dataframe\">\n",
       "  <thead>\n",
       "    <tr style=\"text-align: right;\">\n",
       "      <th></th>\n",
       "      <th>cuadricula</th>\n",
       "      <th>idtaxon</th>\n",
       "    </tr>\n",
       "  </thead>\n",
       "  <tbody>\n",
       "    <tr>\n",
       "      <th>0</th>\n",
       "      <td>30TUM06</td>\n",
       "      <td>10593.0</td>\n",
       "    </tr>\n",
       "    <tr>\n",
       "      <th>1</th>\n",
       "      <td>30TUM21</td>\n",
       "      <td>10593.0</td>\n",
       "    </tr>\n",
       "    <tr>\n",
       "      <th>2</th>\n",
       "      <td>30TUM20</td>\n",
       "      <td>10593.0</td>\n",
       "    </tr>\n",
       "    <tr>\n",
       "      <th>3</th>\n",
       "      <td>30TUM19</td>\n",
       "      <td>10593.0</td>\n",
       "    </tr>\n",
       "    <tr>\n",
       "      <th>4</th>\n",
       "      <td>30TUM18</td>\n",
       "      <td>10593.0</td>\n",
       "    </tr>\n",
       "  </tbody>\n",
       "</table>\n",
       "</div>"
      ],
      "text/plain": [
       "  cuadricula  idtaxon\n",
       "0    30TUM06  10593.0\n",
       "1    30TUM21  10593.0\n",
       "2    30TUM20  10593.0\n",
       "3    30TUM19  10593.0\n",
       "4    30TUM18  10593.0"
      ]
     },
     "execution_count": 6,
     "metadata": {},
     "output_type": "execute_result"
    }
   ],
   "source": [
    "df = pd.concat([df_IEET, df_iNaturalist, df_EIDOS], join=\"inner\")\n",
    "df.head()"
   ]
  },
  {
   "cell_type": "code",
   "execution_count": 7,
   "metadata": {},
   "outputs": [
    {
     "data": {
      "text/html": [
       "<div>\n",
       "<style scoped>\n",
       "    .dataframe tbody tr th:only-of-type {\n",
       "        vertical-align: middle;\n",
       "    }\n",
       "\n",
       "    .dataframe tbody tr th {\n",
       "        vertical-align: top;\n",
       "    }\n",
       "\n",
       "    .dataframe thead th {\n",
       "        text-align: right;\n",
       "    }\n",
       "</style>\n",
       "<table border=\"1\" class=\"dataframe\">\n",
       "  <thead>\n",
       "    <tr style=\"text-align: right;\">\n",
       "      <th></th>\n",
       "      <th>idtaxon</th>\n",
       "      <th>cuadricula</th>\n",
       "    </tr>\n",
       "  </thead>\n",
       "  <tbody>\n",
       "    <tr>\n",
       "      <th>15909</th>\n",
       "      <td>1</td>\n",
       "      <td>30TWM92</td>\n",
       "    </tr>\n",
       "    <tr>\n",
       "      <th>15910</th>\n",
       "      <td>1</td>\n",
       "      <td>30TWM99</td>\n",
       "    </tr>\n",
       "    <tr>\n",
       "      <th>490208</th>\n",
       "      <td>1</td>\n",
       "      <td>30TVL33</td>\n",
       "    </tr>\n",
       "    <tr>\n",
       "      <th>490206</th>\n",
       "      <td>1</td>\n",
       "      <td>30TWL06</td>\n",
       "    </tr>\n",
       "    <tr>\n",
       "      <th>15906</th>\n",
       "      <td>1</td>\n",
       "      <td>30TWL04</td>\n",
       "    </tr>\n",
       "  </tbody>\n",
       "</table>\n",
       "</div>"
      ],
      "text/plain": [
       "        idtaxon cuadricula\n",
       "15909         1    30TWM92\n",
       "15910         1    30TWM99\n",
       "490208        1    30TVL33\n",
       "490206        1    30TWL06\n",
       "15906         1    30TWL04"
      ]
     },
     "execution_count": 7,
     "metadata": {},
     "output_type": "execute_result"
    }
   ],
   "source": [
    "df = df[[\"idtaxon\", \"cuadricula\"]].copy()\n",
    "df = df.dropna()\n",
    "df[\"idtaxon\"] = df[\"idtaxon\"].astype(int)\n",
    "df = df.drop_duplicates()\n",
    "df = df.sort_values(by=\"idtaxon\")\n",
    "df.head()"
   ]
  },
  {
   "cell_type": "code",
   "execution_count": 9,
   "metadata": {},
   "outputs": [
    {
     "data": {
      "text/plain": [
       "10814"
      ]
     },
     "execution_count": 9,
     "metadata": {},
     "output_type": "execute_result"
    }
   ],
   "source": [
    "len(set(df[\"idtaxon\"].tolist()))"
   ]
  },
  {
   "cell_type": "code",
   "execution_count": null,
   "metadata": {},
   "outputs": [],
   "source": [
    "df.to_csv(\"UBICACIONES_TODAS.csv\", index=False)"
   ]
  }
 ],
 "metadata": {
  "kernelspec": {
   "display_name": "base",
   "language": "python",
   "name": "python3"
  },
  "language_info": {
   "codemirror_mode": {
    "name": "ipython",
    "version": 3
   },
   "file_extension": ".py",
   "mimetype": "text/x-python",
   "name": "python",
   "nbconvert_exporter": "python",
   "pygments_lexer": "ipython3",
   "version": "3.12.9"
  }
 },
 "nbformat": 4,
 "nbformat_minor": 2
}
