{
 "cells": [
  {
   "cell_type": "markdown",
   "metadata": {},
   "source": [
    "# Procesado de observaciones"
   ]
  },
  {
   "cell_type": "markdown",
   "metadata": {},
   "source": [
    "Cargar archivos"
   ]
  },
  {
   "cell_type": "code",
   "execution_count": null,
   "metadata": {},
   "outputs": [],
   "source": [
    "import geopandas as gpd\n",
    "import pandas as pd\n",
    "import os\n",
    "from shapely.geometry import Point\n",
    "\n",
    "gdf_peninsula = gpd.read_file('Mallas_cuadrículas/Mallas Canarias/Malla10km_p.shp')\n",
    "gdf_canarias = gpd.read_file('Mallas_cuadrículas/Mallas Canarias/Malla10km_c.shp')\n",
    "df = pd.read_csv('Datos iNaturalist/observations_selection.csv')"
   ]
  },
  {
   "cell_type": "markdown",
   "metadata": {},
   "source": [
    "Pasar de coordenadas a geometría de puntos"
   ]
  },
  {
   "cell_type": "code",
   "execution_count": null,
   "metadata": {},
   "outputs": [],
   "source": [
    "# Crear geometría de puntos a partir de latitud y longitud\n",
    "df[\"geometry\"] = df.apply(lambda row: Point(row[\"decimalLongitude\"], row[\"decimalLatitude\"]), axis=1)\n",
    "\n",
    "# Convertir DataFrame en GeoDataFrame\n",
    "gdf_points = gpd.GeoDataFrame(df, geometry=\"geometry\", crs=\"EPSG:4326\")  # CRS WGS84"
   ]
  },
  {
   "cell_type": "markdown",
   "metadata": {},
   "source": [
    "Transformar los sistemas de coordenadas\n",
    "\n",
    "- Las coordenadas en el CSV están en WGS84 (EPSG:4326)\n",
    "- Las cuadrículas SHP están en UTM (Husos 28-32, según la tabla).\n",
    "- Necesitamos asegurarnos de que ambos usan el mismo sistema de coordenadas (CRS)."
   ]
  },
  {
   "cell_type": "code",
   "execution_count": 21,
   "metadata": {},
   "outputs": [
    {
     "name": "stdout",
     "output_type": "stream",
     "text": [
      "Points crs:EPSG:4326\n",
      "Canarias crs:EPSG:25830\n",
      "Peninsula crs:EPSG:32628\n",
      "Points crs:EPSG:4326\n",
      "Canarias crs:EPSG:4326\n",
      "Peninsula crs:EPSG:4326\n"
     ]
    }
   ],
   "source": [
    "# Antes de cambiar sistemas de coordenadas\n",
    "print(\"Points crs:\" + str(gdf_points.crs))\n",
    "print(\"Canarias crs:\" + str(gdf_canarias.crs))\n",
    "print(\"Peninsula crs:\" + str(gdf_peninsula.crs))\n",
    "\n",
    "# Usar CRS de EPSG:4326\n",
    "gdf_points = gdf_points.to_crs(epsg=4326)\n",
    "gdf_peninsula = gdf_peninsula.to_crs(epsg=4326)\n",
    "gdf_canarias = gdf_canarias.to_crs(epsg=4326)\n",
    "\n",
    "# Después\n",
    "print(\"Points crs:\" + str(gdf_points.crs))\n",
    "print(\"Canarias crs:\" + str(gdf_canarias.crs))\n",
    "print(\"Peninsula crs:\" + str(gdf_peninsula.crs))\n"
   ]
  },
  {
   "cell_type": "markdown",
   "metadata": {},
   "source": [
    "Realizar unión espacial para asignar cada punto a una cuadrícula de la malla"
   ]
  },
  {
   "cell_type": "code",
   "execution_count": null,
   "metadata": {},
   "outputs": [],
   "source": [
    "# Unión espacial (spatial join) de puntos con cuadrículas de la Península.\n",
    "# how=\"left\" hace que se incluyan todos los puntos y solo agrega información de la cuadrícula si hay intersección\n",
    "# predicate=\"within\" solo asigna un punto a una cuadrícula si está dentro de ella.\n",
    "gdf_result_peninsula = gpd.sjoin(gdf_points, gdf_peninsula, how=\"left\", predicate=\"within\")\n",
    "gdf_result_canarias = gpd.sjoin(gdf_points, gdf_canarias, how=\"left\", predicate=\"within\")\n",
    "\n",
    "# Unir los resultados (usando combine_first para dar preferencia a la Península)\n",
    "gdf_result = gdf_result_peninsula.combine_first(gdf_result_canarias)\n",
    "\n",
    "# Unir resultados (primero Península, luego Canarias para puntos no asignados)\n",
    "# Toma valores de gdf_result_peninsula primero y, si hay valores NaN (es decir, si un punto no fue asignado a la Península), usa los de gdf_result_canarias.\n",
    "gdf_result = gdf_result_peninsula.combine_first(gdf_result_canarias)\n"
   ]
  },
  {
   "cell_type": "markdown",
   "metadata": {},
   "source": [
    "Guardar resultados"
   ]
  },
  {
   "cell_type": "code",
   "execution_count": null,
   "metadata": {},
   "outputs": [
    {
     "name": "stdout",
     "output_type": "stream",
     "text": [
      "Index(['id', 'occurrenceID', 'modified', 'informationWithheld', 'references',\n",
      "       'occurrenceRemarks', 'recordedBy', 'recordedByID', 'identifiedBy',\n",
      "       'identifiedByID', 'eventDate', 'eventTime', 'verbatimEventDate',\n",
      "       'verbatimLocality', 'decimalLatitude', 'decimalLongitude',\n",
      "       'coordinateUncertaintyInMeters', 'countryCode', 'stateProvince',\n",
      "       'identificationID', 'dateIdentified', 'identificationRemarks',\n",
      "       'taxonID', 'scientificName', 'taxonRank', 'kingdom', 'phylum', 'class',\n",
      "       'order', 'family', 'genus', 'license', 'rightsHolder',\n",
      "       'inaturalistLogin', 'publishingCountry', 'projectId', 'sex',\n",
      "       'lifeStage', 'reproductiveCondition', 'vitality', 'dynamicProperties',\n",
      "       'geometry', 'malla_codigo'],\n",
      "      dtype='object')\n"
     ]
    }
   ],
   "source": [
    "# Guardar el CSV con la nueva columna de códigos de malla\n",
    "df['malla_codigo'] = gdf_result['CUADRICULA']\n",
    "print(df.columns)"
   ]
  },
  {
   "cell_type": "markdown",
   "metadata": {},
   "source": [
    "### Eliminar columnas que no son relevantes para el caso de uso"
   ]
  },
  {
   "cell_type": "code",
   "execution_count": null,
   "metadata": {},
   "outputs": [],
   "source": [
    "df = df[['id', 'occurrenceID', 'references', 'recordedBy', 'recordedByID',\n",
    "       'eventDate', 'decimalLatitude', 'decimalLongitude', 'scientificName',\n",
    "       'taxonRank', 'license', 'rightsHolder', 'sex', 'malla_codigo']].copy()"
   ]
  },
  {
   "cell_type": "markdown",
   "metadata": {},
   "source": [
    "### Asociar idtaxon a las observaciones"
   ]
  },
  {
   "cell_type": "code",
   "execution_count": null,
   "metadata": {},
   "outputs": [],
   "source": [
    "df_taxonomia = pd.read_excel('../EIDOS_taxonomia.xlsx')\n",
    "\n",
    "# Quitar parentesis y palabras que empiezan por mayuscula y numeros\n",
    "df_taxonomia['lowered_name'] = df_taxonomia['name'].str.replace(r'[()&]', '', regex=True).apply(\n",
    "    lambda x: x[0].lower() + ' '.join([w for w in x[1:].split() if w == w.lower() and not w.isdigit()])\n",
    ")"
   ]
  },
  {
   "cell_type": "code",
   "execution_count": null,
   "metadata": {},
   "outputs": [],
   "source": [
    "def find_best_match(species):\n",
    "    row_words = species.replace('(', '').replace(')', '').lower().split()\n",
    "    if len(row_words) < 2:\n",
    "        return None # No hay suficientes palabras para buscar\n",
    "    # Filtrar candidatos\n",
    "    candidates = df_taxonomia[df_taxonomia['lowered_name'].str.contains(' '.join(row_words[:2]))]\n",
    "    # Si hay una categoría taxonómica, refinar los candidatos\n",
    "    if len(row_words) > 3 and row_words[2] in ['f.', 'subsp.', 'var.']:\n",
    "        candidates = candidates[candidates['lowered_name'].str.contains(f' {row_words[3]} ')]\n",
    "    else:\n",
    "        candidates = candidates[~candidates['lowered_name'].str.contains(r'\\b(?: f\\. | subsp\\. | var\\. )\\b', regex=True)]\n",
    "    if candidates.empty:\n",
    "        return None\n",
    "    # Calcular las puntuaciones de coincidencia\n",
    "    row_words_set = set(row_words)\n",
    "    candidates['score'] = candidates['lowered_name'].apply(lambda c: \n",
    "        0.9 * len(set(c.split()) & row_words_set) / len(row_words) +\n",
    "        0.1 * len(set(c.split()) & row_words_set) / len(c.split())\n",
    "    )\n",
    "    # Obtener el mejor candidato\n",
    "    best_match = candidates.loc[candidates['score'].idxmax()]\n",
    "    return best_match['taxonid']\n",
    "\n",
    "species_id = {species: find_best_match(species) for species in set(df[\"scientificName\"].to_list())}\n",
    "df['idtaxon'] = df[\"scientificName\"].apply(lambda x: species_id[x])"
   ]
  },
  {
   "cell_type": "code",
   "execution_count": null,
   "metadata": {},
   "outputs": [],
   "source": [
    "df.to_csv(\"Datos iNaturalist/observations_processed.csv\", index=False)"
   ]
  },
  {
   "cell_type": "code",
   "execution_count": null,
   "metadata": {},
   "outputs": [],
   "source": [
    "os.remove('Datos iNaturalist/observations_selection.csv')"
   ]
  },
  {
   "cell_type": "markdown",
   "metadata": {},
   "source": [
    "# Procesado de media"
   ]
  },
  {
   "cell_type": "code",
   "execution_count": null,
   "metadata": {},
   "outputs": [],
   "source": [
    "import pandas as pd\n",
    "import os"
   ]
  },
  {
   "cell_type": "code",
   "execution_count": null,
   "metadata": {},
   "outputs": [
    {
     "name": "stdout",
     "output_type": "stream",
     "text": [
      "Index(['id', 'type', 'format', 'identifier', 'references', 'created',\n",
      "       'creator', 'publisher', 'license', 'rightsHolder', 'catalogNumber'],\n",
      "      dtype='object')\n"
     ]
    }
   ],
   "source": [
    "df = pd.read_csv('Datos iNaturalist/media_selection.csv')\n",
    "df.columns"
   ]
  },
  {
   "cell_type": "code",
   "execution_count": null,
   "metadata": {},
   "outputs": [
    {
     "name": "stdout",
     "output_type": "stream",
     "text": [
      "El DataFrame tiene 364612 filas.\n",
      "El DataFrame tiene 364169 filas.\n",
      "Index(['id', 'type', 'format', 'identifier', 'references', 'created',\n",
      "       'creator', 'publisher', 'license', 'rightsHolder', 'catalogNumber'],\n",
      "      dtype='object')\n",
      "DataFrame size: 275.36 MB\n"
     ]
    }
   ],
   "source": [
    "df = df.loc[~df[\"type\"].isin([\"Sound\"])]\n",
    "valores_a_eliminar_formato = [\"audio/mpeg\", \"application/octet-stream\", \"audio/x-wav\", \"audio/mp4\", \"image/gif\"]\n",
    "df = df.loc[~df[\"format\"].isin(valores_a_eliminar_formato)]\n",
    "df.drop(['publisher', 'catalogNumber'], axis=1)\n",
    "df.columns"
   ]
  },
  {
   "cell_type": "code",
   "execution_count": null,
   "metadata": {},
   "outputs": [],
   "source": [
    "df.to_csv(\"Datos iNaturalist/media_processed.csv\", index=False)"
   ]
  },
  {
   "cell_type": "code",
   "execution_count": null,
   "metadata": {},
   "outputs": [],
   "source": [
    "os.remove(\"Datos iNaturalist/media_selection.csv\")"
   ]
  }
 ],
 "metadata": {
  "kernelspec": {
   "display_name": "Python 3",
   "language": "python",
   "name": "python3"
  },
  "language_info": {
   "codemirror_mode": {
    "name": "ipython",
    "version": 3
   },
   "file_extension": ".py",
   "mimetype": "text/x-python",
   "name": "python",
   "nbconvert_exporter": "python",
   "pygments_lexer": "ipython3",
   "version": "3.11.9"
  }
 },
 "nbformat": 4,
 "nbformat_minor": 2
}
