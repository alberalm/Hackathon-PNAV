{
 "cells": [
  {
   "cell_type": "code",
   "execution_count": 2,
   "metadata": {},
   "outputs": [],
   "source": [
    "import pandas as pd"
   ]
  },
  {
   "cell_type": "code",
   "execution_count": null,
   "metadata": {},
   "outputs": [],
   "source": [
    "df_taxonomia = pd.read_excel('../Datos EIDOS/EIDOS_taxonomia.xlsx')\n",
    "\n",
    "# Quitar parentesis y palabras que empiezan por mayuscula y numeros\n",
    "df_taxonomia['lowered_name'] = df_taxonomia['name'].str.replace(r'[()&]', '', regex=True).apply(\n",
    "    lambda x: x[0].lower() + ' '.join([w for w in x[1:].split() if w == w.lower() and not w.isdigit()])\n",
    "    )"
   ]
  },
  {
   "cell_type": "code",
   "execution_count": null,
   "metadata": {},
   "outputs": [],
   "source": [
    "def process_file(namefile):\n",
    "    df = pd.read_csv(namefile)\n",
    "\n",
    "    def find_best_match(species):\n",
    "        row_words = species.replace('(', '').replace(')', '').lower().split()\n",
    "        if len(row_words) < 2:\n",
    "            return None # No hay suficientes palabras para buscar\n",
    "        # Filtrar candidatos\n",
    "        candidates = df_taxonomia[df_taxonomia['lowered_name'].str.contains(' '.join(row_words[:2]))]\n",
    "        # Si hay una categoría taxonómica, refinar los candidatos\n",
    "        if len(row_words) > 3 and row_words[2] in ['f.', 'subsp.', 'var.']:\n",
    "            candidates = candidates[candidates['lowered_name'].str.contains(f' {row_words[3]} ')]\n",
    "        else:\n",
    "            candidates = candidates[~candidates['lowered_name'].str.contains(r'\\b(?: f\\. | subsp\\. | var\\. )\\b', regex=True)]\n",
    "        if candidates.empty:\n",
    "            return None\n",
    "        # Calcular las puntuaciones de coincidencia\n",
    "        row_words_set = set(row_words)\n",
    "        candidates['score'] = candidates['lowered_name'].apply(lambda c: \n",
    "            0.9 * len(set(c.split()) & row_words_set) / len(row_words) +\n",
    "            0.1 * len(set(c.split()) & row_words_set) / len(c.split())\n",
    "        )\n",
    "        # Obtener el mejor candidato\n",
    "        best_match = candidates.loc[candidates['score'].idxmax()]\n",
    "        return best_match['taxonid']\n",
    "\n",
    "    species_id = {species: find_best_match(species) for species in set(df[\"scientificName\"].to_list())}\n",
    "    df['idtaxon'] = df[\"scientificName\"].apply(lambda x: species_id[x])\n",
    "    df.to_csv(f\"processed_{namefile}\", index=False)"
   ]
  },
  {
   "cell_type": "code",
   "execution_count": null,
   "metadata": {},
   "outputs": [],
   "source": [
    "process_file(\"observations_con_cuadricula_1.csv\")"
   ]
  },
  {
   "cell_type": "code",
   "execution_count": null,
   "metadata": {},
   "outputs": [],
   "source": [
    "process_file(\"observations_con_cuadricula_2.csv\")"
   ]
  },
  {
   "cell_type": "code",
   "execution_count": 3,
   "metadata": {},
   "outputs": [
    {
     "name": "stdout",
     "output_type": "stream",
     "text": [
      "Index(['id', 'occurrenceID', 'references', 'recordedBy', 'recordedByID',\n",
      "       'eventDate', 'decimalLatitude', 'decimalLongitude', 'scientificName',\n",
      "       'taxonRank', 'license', 'rightsHolder', 'sex', 'malla_codigo',\n",
      "       'idtaxon'],\n",
      "      dtype='object')\n"
     ]
    }
   ],
   "source": [
    "processed_file_1 = \"processed_observations_con_cuadricula_1.csv\"\n",
    "processed_file_2 = \"processed_observations_con_cuadricula_2.csv\"\n",
    "\n",
    "df_1 = pd.read_csv(processed_file_1)\n",
    "df_2 = pd.read_csv(processed_file_2)\n",
    "\n",
    "df_1 = df_1.drop(['modified', 'informationWithheld', 'occurrenceRemarks', \n",
    "              'identifiedBy', 'identifiedByID', 'eventTime', 'verbatimEventDate', \n",
    "              'verbatimLocality', 'coordinateUncertaintyInMeters', 'countryCode',\n",
    "              'stateProvince', 'identificationID', 'dateIdentified', 'identificationRemarks',\n",
    "              'taxonID', 'kingdom', 'phylum', 'class', 'order', 'family',\n",
    "              'genus', 'inaturalistLogin', 'publishingCountry', 'projectId',\n",
    "              'lifeStage', 'reproductiveCondition', 'vitality', 'dynamicProperties', 'geometry'], \n",
    "              axis=1)\n",
    "\n",
    "df_2 = df_2.drop(['modified', 'informationWithheld', 'occurrenceRemarks', \n",
    "              'identifiedBy', 'identifiedByID', 'eventTime', 'verbatimEventDate', \n",
    "              'verbatimLocality', 'coordinateUncertaintyInMeters', 'countryCode',\n",
    "              'stateProvince', 'identificationID', 'dateIdentified', 'identificationRemarks',\n",
    "              'taxonID', 'kingdom', 'phylum', 'class', 'order', 'family',\n",
    "              'genus', 'inaturalistLogin', 'publishingCountry', 'projectId',\n",
    "              'lifeStage', 'reproductiveCondition', 'vitality', 'dynamicProperties', 'geometry'], \n",
    "              axis=1)\n",
    "\n",
    "print(df_1.columns)"
   ]
  },
  {
   "cell_type": "code",
   "execution_count": null,
   "metadata": {},
   "outputs": [],
   "source": [
    "df_1.to_csv(\"processed_observations_con_cuadricula_1.csv\", index=False)\n",
    "df_2.to_csv(\"processed_observations_con_cuadricula_2.csv\", index=False)"
   ]
  }
 ],
 "metadata": {
  "kernelspec": {
   "display_name": "Python 3",
   "language": "python",
   "name": "python3"
  },
  "language_info": {
   "codemirror_mode": {
    "name": "ipython",
    "version": 3
   },
   "file_extension": ".py",
   "mimetype": "text/x-python",
   "name": "python",
   "nbconvert_exporter": "python",
   "pygments_lexer": "ipython3",
   "version": "3.11.9"
  }
 },
 "nbformat": 4,
 "nbformat_minor": 2
}
