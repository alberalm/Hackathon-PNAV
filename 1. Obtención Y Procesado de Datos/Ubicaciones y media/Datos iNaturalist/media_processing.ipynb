{
 "cells": [
  {
   "cell_type": "code",
   "execution_count": 1,
   "metadata": {},
   "outputs": [
    {
     "name": "stdout",
     "output_type": "stream",
     "text": [
      "Index(['id', 'type', 'format', 'identifier', 'references', 'created',\n",
      "       'creator', 'publisher', 'license', 'rightsHolder', 'catalogNumber'],\n",
      "      dtype='object')\n"
     ]
    }
   ],
   "source": [
    "import pandas as pd\n",
    "\n",
    "observations_path = r\"C:\\Users\\maria.b.calvo\\Documents\\Personal\\Hackathon GenAI\\hackathon-repo\\Hackathon-PNAV\\Datos\\Observaciones GBIF-iNaturalist\\media_selection.csv\"\n",
    "\n",
    "df = pd.read_csv(observations_path)\n",
    "print(df.columns)"
   ]
  },
  {
   "cell_type": "code",
   "execution_count": 2,
   "metadata": {},
   "outputs": [
    {
     "name": "stdout",
     "output_type": "stream",
     "text": [
      "El DataFrame tiene 365714 filas.\n"
     ]
    }
   ],
   "source": [
    "num_filas = df.shape[0]\n",
    "print(f\"El DataFrame tiene {num_filas} filas.\")"
   ]
  },
  {
   "cell_type": "code",
   "execution_count": 4,
   "metadata": {},
   "outputs": [
    {
     "name": "stdout",
     "output_type": "stream",
     "text": [
      "El DataFrame tiene 364612 filas.\n",
      "El DataFrame tiene 364169 filas.\n",
      "Index(['id', 'type', 'format', 'identifier', 'references', 'created',\n",
      "       'creator', 'publisher', 'license', 'rightsHolder', 'catalogNumber'],\n",
      "      dtype='object')\n",
      "DataFrame size: 275.36 MB\n"
     ]
    }
   ],
   "source": [
    "df = df.loc[~df[\"type\"].isin([\"Sound\"])]\n",
    "\n",
    "num_filas = df.shape[0]\n",
    "print(f\"El DataFrame tiene {num_filas} filas.\")\n",
    "\n",
    "valores_a_eliminar_formato = [\"audio/mpeg\", \"application/octet-stream\", \"audio/x-wav\", \"audio/mp4\", \"image/gif\"]\n",
    "df = df.loc[~df[\"format\"].isin(valores_a_eliminar_formato)]\n",
    "\n",
    "num_filas = df.shape[0]\n",
    "print(f\"El DataFrame tiene {num_filas} filas.\")\n",
    "\n",
    "df.drop(['publisher', 'catalogNumber'], axis=1)\n",
    "print(df.columns)\n",
    "\n",
    "df_size_mb = df.memory_usage(deep=True).sum() / (1024 * 1024)\n",
    "print(f\"DataFrame size: {df_size_mb:.2f} MB\")"
   ]
  },
  {
   "cell_type": "code",
   "execution_count": null,
   "metadata": {},
   "outputs": [
    {
     "name": "stdout",
     "output_type": "stream",
     "text": [
      "Archivos CSV generados correctamente.\n"
     ]
    }
   ],
   "source": [
    "df.to_csv(\"media_processed.csv\", index=False)\n",
    "#midpoint1 = len(df) // 3\n",
    "#midpoint2 = 2 * (len(df) // 3)\n",
    "#\n",
    "#df_part1 = df.iloc[:midpoint1]\n",
    "#df_part2 = df.iloc[midpoint1:midpoint2]\n",
    "#df_part3 = df.iloc[midpoint2:]\n",
    "#\n",
    "## Guardar en CSV\n",
    "#df_part1.to_csv(\"media_1.csv\", index=False)\n",
    "#df_part2.to_csv(\"media_2.csv\", index=False)\n",
    "#df_part3.to_csv(\"media_3.csv\", index=False)\n",
    "#\n",
    "#print(\"Archivos CSV generados correctamente.\")"
   ]
  }
 ],
 "metadata": {
  "kernelspec": {
   "display_name": "Python 3",
   "language": "python",
   "name": "python3"
  },
  "language_info": {
   "codemirror_mode": {
    "name": "ipython",
    "version": 3
   },
   "file_extension": ".py",
   "mimetype": "text/x-python",
   "name": "python",
   "nbconvert_exporter": "python",
   "pygments_lexer": "ipython3",
   "version": "3.11.9"
  }
 },
 "nbformat": 4,
 "nbformat_minor": 2
}
