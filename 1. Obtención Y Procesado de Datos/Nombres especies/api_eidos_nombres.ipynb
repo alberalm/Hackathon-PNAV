{
 "cells": [
  {
   "cell_type": "markdown",
   "metadata": {},
   "source": [
    "## 1. Importación de módulos y librerías\n",
    "Se importan los módulos y librerías necesarios para ejecutar el código."
   ]
  },
  {
   "cell_type": "code",
   "execution_count": 1,
   "metadata": {},
   "outputs": [],
   "source": [
    "import requests\n",
    "import pandas as pd\n",
    "import os"
   ]
  },
  {
   "cell_type": "markdown",
   "metadata": {},
   "source": [
    "## 2. Taxonomía\n",
    "Proporciona información sobre la clasificación taxonómica de los taxones.\n",
    "| **Columna**               | **Tipo de Dato** | **Descripción**                                                                                          |\n",
    "|---------------------------|------------------|----------------------------------------------------------------------------------------------------------|\n",
    "| `nameid`                  | Entero          | Identificador único del nombre del taxón en la base de datos.                                           |\n",
    "| `name`                    | Texto           | Nombre completo del taxón (nombre científico con autoría y rango).                                       |\n",
    "| `taxonrankid`             | Decimal         | Identificador único del rango taxonómico del taxón.                                                     |\n",
    "| `taxonrank`               | Texto           | Rango taxonómico del taxón (e.g., Species, Subspecies).                                                 |\n",
    "| `verbatimtaxonrank`       | Texto           | Rango taxonómico según su representación literal.                                                       |\n",
    "| `areacode`                | Texto           | Código del área geográfica relacionada con el taxón.                                                    |\n",
    "| `origenid`                | Decimal         | Identificador único del origen del taxón.                                                               |\n",
    "| `origen`                  | Texto           | Origen del taxón (e.g., Especie nativa, Introducida).                                                   |\n",
    "| `taxonomicgroupid`        | Decimal         | Identificador único del grupo taxonómico al que pertenece el taxón.                                     |\n",
    "| `taxonomicgroup`          | Texto           | Grupo taxonómico (e.g., Plantas vasculares, Aves).                                                      |\n",
    "| `kingdomid`               | Entero          | Identificador único del reino del taxón.                                                                |\n",
    "| `kingdom`                 | Texto           | Reino al que pertenece el taxón (e.g., Plantae, Animalia).                                              |\n",
    "| `phylumid`                | Decimal         | Identificador único del filo del taxón.                                                                 |\n",
    "| `phylum`                  | Texto           | Filo al que pertenece el taxón.                                                                         |\n",
    "| `classid`                 | Decimal         | Identificador único de la clase del taxón.                                                              |\n",
    "| `class`                   | Texto           | Clase a la que pertenece el taxón.                                                                      |\n",
    "| `orderid`                 | Decimal         | Identificador único del orden del taxón.                                                                |\n",
    "| `order`                   | Texto           | Orden al que pertenece el taxón.                                                                        |\n",
    "| `familyid`                | Decimal         | Identificador único de la familia del taxón.                                                            |\n",
    "| `family`                  | Texto           | Familia a la que pertenece el taxón.                                                                    |\n",
    "| `genusid`                 | Decimal         | Identificador único del género del taxón.                                                               |\n",
    "| `genus`                   | Texto           | Género al que pertenece el taxón.                                                                       |\n",
    "| `subgenusid`              | Decimal         | Identificador único del subgénero del taxón (si aplica).                                                |\n",
    "| `subgenus`                | Texto           | Subgénero al que pertenece el taxón (si aplica).                                                        |\n",
    "| `specificepithet`         | Texto           | Epíteto específico del taxón.                                                                           |\n",
    "| `infraspecificepithet`    | Texto           | Epíteto infraespecífico del taxón (si aplica).                                                          |\n",
    "| `taxonconceptid`          | Texto           | Identificador único del concepto taxonómico asociado al taxón.                                          |\n",
    "| `scientificnameid`        | Texto           | Identificador único del nombre científico del taxón.                                                    |\n",
    "| `originalnameusage`       | Texto           | Uso original del nombre científico del taxón (si aplica).                                               |\n",
    "| `nameaccordingto`         | Texto           | Referencia de la fuente que define el nombre del taxón.                                                 |\n",
    "| `namepublishedin`         | Texto           | Publicación en la que se describe originalmente el taxón.                                               |\n",
    "| `namepublishedinyear`     | Entero          | Año de publicación del nombre del taxón.                                                                |\n",
    "| `scientificnameauthorship`| Texto           | Autoría del nombre científico del taxón.                                                                |\n",
    "| `remarks`                 | Texto           | Observaciones adicionales sobre el taxón.                                                               |\n",
    "| `citescode`               | Texto           | Código asociado a CITES para el taxón (si aplica).                                                      |\n",
    "| `euniscode`               | Texto           | Código asociado a EUNIS para el taxón (si aplica).                                                      |\n",
    "| `euringcode`              | Texto           | Código asociado a EURING para el taxón (si aplica).                                                     |\n",
    "| `rednaturacode`           | Texto           | Código asociado a la Red Natura 2000 (si aplica).                                                       |\n",
    "| `lp`                      | Entero          | Código del listado de protección del taxón.                                                             |\n",
    "| `taxonid`                 | Decimal         | Identificador único del taxón en la base de datos.                                                      |\n",
    "| `nametypeid`              | Decimal         | Identificador único del tipo de nombre asociado al taxón.                                               |\n",
    "| `nametype`                | Texto           | Tipo de nombre asociado al taxón (e.g., Aceptado/válido).                                               |\n",
    "| `acceptednameid`          | Decimal         | Identificador único del nombre aceptado del taxón (si es un sinónimo).                                  |\n"
   ]
  },
  {
   "cell_type": "code",
   "execution_count": null,
   "metadata": {},
   "outputs": [
    {
     "name": "stdout",
     "output_type": "stream",
     "text": [
      "Downloading 750000...\r"
     ]
    },
    {
     "name": "stderr",
     "output_type": "stream",
     "text": [
      "C:\\Users\\alber\\AppData\\Local\\Temp\\ipykernel_5932\\399176321.py:13: FutureWarning: The behavior of DataFrame concatenation with empty or all-NA entries is deprecated. In a future version, this will no longer exclude empty or all-NA columns when determining the result dtypes. To retain the old behavior, exclude the relevant entries before the concat operation.\n",
      "  df = pd.concat(dfs)\n"
     ]
    },
    {
     "name": "stdout",
     "output_type": "stream",
     "text": [
      "Finished downloading all taxonomy data\n"
     ]
    }
   ],
   "source": [
    "dfs = []\n",
    "LIMIT = 5000\n",
    "start = True\n",
    "i = 0\n",
    "while start or len(dfs[-1]) == LIMIT:\n",
    "    start = False\n",
    "    print(f\"Downloading {(i+1)*5000}...\", end='\\r')\n",
    "    url = f'https://iepnb.gob.es/api/especie/v_taxonomia?nameid=gt.{i*LIMIT}&limit={LIMIT}'\n",
    "    # Realizar la petición GET\n",
    "    response = requests.get(url)\n",
    "    # Verificar si la solicitud fue exitosa (código 200)\n",
    "    if response.status_code == 200:\n",
    "        # Procesar los datos\n",
    "        dfs.append(pd.DataFrame(response.json()))\n",
    "    else:\n",
    "        print(f\"Error: {response.status_code}: {response.content}\")\n",
    "    i += 1\n",
    "df = pd.concat(dfs)\n",
    "df.sort_values('nameid', inplace=True)\n",
    "df.drop_duplicates('nameid', inplace=True)\n",
    "df.to_excel('EIDOS_taxonomia.xlsx', index=False)\n",
    "print(f\"Finished downloading all taxonomy data\")"
   ]
  }
 ],
 "metadata": {
  "kernelspec": {
   "display_name": "base",
   "language": "python",
   "name": "python3"
  },
  "language_info": {
   "codemirror_mode": {
    "name": "ipython",
    "version": 3
   },
   "file_extension": ".py",
   "mimetype": "text/x-python",
   "name": "python",
   "nbconvert_exporter": "python",
   "pygments_lexer": "ipython3",
   "version": "3.10.9"
  }
 },
 "nbformat": 4,
 "nbformat_minor": 2
}
