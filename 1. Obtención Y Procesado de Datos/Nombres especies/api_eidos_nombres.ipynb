{
 "cells": [
  {
   "cell_type": "markdown",
   "metadata": {},
   "source": [
    "## 1. Importación de módulos y librerías\n",
    "Se importan los módulos y librerías necesarios para ejecutar el código."
   ]
  },
  {
   "cell_type": "code",
   "execution_count": 1,
   "metadata": {},
   "outputs": [],
   "source": [
    "import requests\n",
    "import pandas as pd\n",
    "import os"
   ]
  },
  {
   "cell_type": "markdown",
   "metadata": {},
   "source": [
    "## 2. Nombres comunes\n"
   ]
  },
  {
   "cell_type": "code",
   "execution_count": 2,
   "metadata": {},
   "outputs": [
    {
     "name": "stdout",
     "output_type": "stream",
     "text": [
      "Finished downloading all name data\n"
     ]
    }
   ],
   "source": [
    "dfs = []\n",
    "LIMIT = 20000\n",
    "start = True\n",
    "i = 0\n",
    "while start or len(dfs[-1]) == LIMIT:\n",
    "    start = False\n",
    "    print(f\"Downloading {i}...\", end='\\r')\n",
    "    url = f'https://iepnb.gob.es/api/especie/v_nombrescomunes?idtaxon=gt.{i}&limit={LIMIT}'\n",
    "    # Realizar la petición GET\n",
    "    response = requests.get(url)\n",
    "    # Verificar si la solicitud fue exitosa (código 200)\n",
    "    if response.status_code == 200:\n",
    "        # Procesar los datos\n",
    "        dfs.append(pd.DataFrame(response.json()))\n",
    "    else:\n",
    "        print(f\"Error: {response.status_code}: {response.content}\")\n",
    "    i = max(dfs[-1]['idtaxon']) - 1\n",
    "df = pd.concat(dfs)\n",
    "df.sort_values('idtaxon', inplace=True)\n",
    "df.drop_duplicates()\n",
    "df.to_excel('EIDOS_nombres.xlsx', index=False)\n",
    "print(f\"Finished downloading all name data\")"
   ]
  }
 ],
 "metadata": {
  "kernelspec": {
   "display_name": "base",
   "language": "python",
   "name": "python3"
  },
  "language_info": {
   "codemirror_mode": {
    "name": "ipython",
    "version": 3
   },
   "file_extension": ".py",
   "mimetype": "text/x-python",
   "name": "python",
   "nbconvert_exporter": "python",
   "pygments_lexer": "ipython3",
   "version": "3.12.9"
  }
 },
 "nbformat": 4,
 "nbformat_minor": 2
}
