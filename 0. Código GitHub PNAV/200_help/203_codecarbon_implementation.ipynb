{
 "cells": [
  {
   "cell_type": "markdown",
   "metadata": {},
   "source": [
    "---\n",
    "\n",
    "<div style=\"display: flex; align-items: center; justify-content: space-between;\">\n",
    "  <img src=\"../../.images/PNAV-logo.png\" alt=\"Logo del PNAV\" style=\"width: auto; max-height: 100px;\">\n",
    "  <img src=\"../../.images/MITECO-logo_background.png\" alt=\"Logo del MITECO\" style=\"width: auto; max-height: 100px;\">\n",
    "</div>\n",
    "\n",
    "---\n",
    "\n",
    "# Implementación de CodeCarbon\n",
    "A continuación, se mostrará el proceso de cómo realizar las estimaciones sobre el consumo energético utilizando la libería de  `codecarbon` desde un notebook en Azure.\n",
    "\n",
    "Para más información, consultar el [github](hhttps://github.com/mlco2/codecarbon/blob/master/README.md) de la herramienta.\n",
    "\n",
    "⚠️ Este material es un notebook de demostración **orientativo** sobre la metodología que se debe seguir, no se debe replicar el desarrollo del caso de uso."
   ]
  },
  {
   "cell_type": "markdown",
   "metadata": {},
   "source": [
    "## 1. Instalación de librerías y paquetes"
   ]
  },
  {
   "cell_type": "code",
   "execution_count": 1,
   "metadata": {},
   "outputs": [
    {
     "name": "stdout",
     "output_type": "stream",
     "text": [
      "Collecting codecarbon\n",
      "  Downloading codecarbon-2.8.2-py3-none-any.whl.metadata (8.7 kB)\n",
      "Requirement already satisfied: arrow in c:\\users\\mario.b.garcia\\appdata\\local\\programs\\python\\python310\\lib\\site-packages (from codecarbon) (1.3.0)\n",
      "Requirement already satisfied: click in c:\\users\\mario.b.garcia\\appdata\\local\\programs\\python\\python310\\lib\\site-packages (from codecarbon) (8.1.7)\n",
      "Collecting fief-client[cli] (from codecarbon)\n",
      "  Downloading fief_client-0.20.0-py3-none-any.whl.metadata (2.1 kB)\n",
      "Requirement already satisfied: pandas in c:\\users\\mario.b.garcia\\appdata\\local\\programs\\python\\python310\\lib\\site-packages (from codecarbon) (2.2.3)\n",
      "Requirement already satisfied: prometheus-client in c:\\users\\mario.b.garcia\\appdata\\local\\programs\\python\\python310\\lib\\site-packages (from codecarbon) (0.19.0)\n",
      "Requirement already satisfied: psutil in c:\\users\\mario.b.garcia\\appdata\\roaming\\python\\python310\\site-packages (from codecarbon) (5.9.5)\n",
      "Collecting py-cpuinfo (from codecarbon)\n",
      "  Downloading py_cpuinfo-9.0.0-py3-none-any.whl.metadata (794 bytes)\n",
      "Collecting pynvml (from codecarbon)\n",
      "  Downloading pynvml-12.0.0-py3-none-any.whl.metadata (5.4 kB)\n",
      "Collecting questionary (from codecarbon)\n",
      "  Downloading questionary-2.1.0-py3-none-any.whl.metadata (5.4 kB)\n",
      "Collecting rapidfuzz (from codecarbon)\n",
      "  Downloading rapidfuzz-3.11.0-cp310-cp310-win_amd64.whl.metadata (11 kB)\n",
      "Requirement already satisfied: requests in c:\\users\\mario.b.garcia\\appdata\\local\\programs\\python\\python310\\lib\\site-packages (from codecarbon) (2.32.3)\n",
      "Collecting rich (from codecarbon)\n",
      "  Downloading rich-13.9.4-py3-none-any.whl.metadata (18 kB)\n",
      "Collecting typer (from codecarbon)\n",
      "  Downloading typer-0.15.1-py3-none-any.whl.metadata (15 kB)\n",
      "Requirement already satisfied: python-dateutil>=2.7.0 in c:\\users\\mario.b.garcia\\appdata\\local\\programs\\python\\python310\\lib\\site-packages (from arrow->codecarbon) (2.8.2)\n",
      "Requirement already satisfied: types-python-dateutil>=2.8.10 in c:\\users\\mario.b.garcia\\appdata\\local\\programs\\python\\python310\\lib\\site-packages (from arrow->codecarbon) (2.8.19.20240106)\n",
      "Requirement already satisfied: colorama in c:\\users\\mario.b.garcia\\appdata\\roaming\\python\\python310\\site-packages (from click->codecarbon) (0.4.6)\n",
      "Collecting httpx<0.28.0,>=0.21.3 (from fief-client[cli]->codecarbon)\n",
      "  Downloading httpx-0.27.2-py3-none-any.whl.metadata (7.1 kB)\n",
      "Collecting jwcrypto<2.0.0,>=1.4 (from fief-client[cli]->codecarbon)\n",
      "  Downloading jwcrypto-1.5.6-py3-none-any.whl.metadata (3.1 kB)\n",
      "Collecting yaspin (from fief-client[cli]->codecarbon)\n",
      "  Downloading yaspin-3.1.0-py3-none-any.whl.metadata (14 kB)\n",
      "Requirement already satisfied: numpy>=1.22.4 in c:\\users\\mario.b.garcia\\appdata\\local\\programs\\python\\python310\\lib\\site-packages (from pandas->codecarbon) (1.24.3)\n",
      "Requirement already satisfied: pytz>=2020.1 in c:\\users\\mario.b.garcia\\appdata\\local\\programs\\python\\python310\\lib\\site-packages (from pandas->codecarbon) (2023.3)\n",
      "Requirement already satisfied: tzdata>=2022.7 in c:\\users\\mario.b.garcia\\appdata\\local\\programs\\python\\python310\\lib\\site-packages (from pandas->codecarbon) (2023.3)\n",
      "Collecting nvidia-ml-py<13.0.0a0,>=12.0.0 (from pynvml->codecarbon)\n",
      "  Downloading nvidia_ml_py-12.560.30-py3-none-any.whl.metadata (8.6 kB)\n",
      "Requirement already satisfied: prompt_toolkit<4.0,>=2.0 in c:\\users\\mario.b.garcia\\appdata\\roaming\\python\\python310\\site-packages (from questionary->codecarbon) (3.0.38)\n",
      "Requirement already satisfied: charset-normalizer<4,>=2 in c:\\users\\mario.b.garcia\\appdata\\local\\programs\\python\\python310\\lib\\site-packages (from requests->codecarbon) (3.1.0)\n",
      "Requirement already satisfied: idna<4,>=2.5 in c:\\users\\mario.b.garcia\\appdata\\local\\programs\\python\\python310\\lib\\site-packages (from requests->codecarbon) (3.4)\n",
      "Requirement already satisfied: urllib3<3,>=1.21.1 in c:\\users\\mario.b.garcia\\appdata\\local\\programs\\python\\python310\\lib\\site-packages (from requests->codecarbon) (1.26.16)\n",
      "Requirement already satisfied: certifi>=2017.4.17 in c:\\users\\mario.b.garcia\\appdata\\local\\programs\\python\\python310\\lib\\site-packages (from requests->codecarbon) (2023.5.7)\n",
      "Collecting markdown-it-py>=2.2.0 (from rich->codecarbon)\n",
      "  Downloading markdown_it_py-3.0.0-py3-none-any.whl.metadata (6.9 kB)\n",
      "Requirement already satisfied: pygments<3.0.0,>=2.13.0 in c:\\users\\mario.b.garcia\\appdata\\roaming\\python\\python310\\site-packages (from rich->codecarbon) (2.15.1)\n",
      "Requirement already satisfied: typing-extensions<5.0,>=4.0.0 in c:\\users\\mario.b.garcia\\appdata\\local\\programs\\python\\python310\\lib\\site-packages (from rich->codecarbon) (4.12.2)\n",
      "Collecting shellingham>=1.3.0 (from typer->codecarbon)\n",
      "  Downloading shellingham-1.5.4-py2.py3-none-any.whl.metadata (3.5 kB)\n",
      "Requirement already satisfied: anyio in c:\\users\\mario.b.garcia\\appdata\\local\\programs\\python\\python310\\lib\\site-packages (from httpx<0.28.0,>=0.21.3->fief-client[cli]->codecarbon) (4.2.0)\n",
      "Collecting httpcore==1.* (from httpx<0.28.0,>=0.21.3->fief-client[cli]->codecarbon)\n",
      "  Downloading httpcore-1.0.7-py3-none-any.whl.metadata (21 kB)\n",
      "Requirement already satisfied: sniffio in c:\\users\\mario.b.garcia\\appdata\\local\\programs\\python\\python310\\lib\\site-packages (from httpx<0.28.0,>=0.21.3->fief-client[cli]->codecarbon) (1.3.0)\n",
      "Collecting h11<0.15,>=0.13 (from httpcore==1.*->httpx<0.28.0,>=0.21.3->fief-client[cli]->codecarbon)\n",
      "  Downloading h11-0.14.0-py3-none-any.whl.metadata (8.2 kB)\n",
      "Requirement already satisfied: cryptography>=3.4 in c:\\users\\mario.b.garcia\\appdata\\local\\programs\\python\\python310\\lib\\site-packages (from jwcrypto<2.0.0,>=1.4->fief-client[cli]->codecarbon) (42.0.5)\n",
      "Collecting mdurl~=0.1 (from markdown-it-py>=2.2.0->rich->codecarbon)\n",
      "  Downloading mdurl-0.1.2-py3-none-any.whl.metadata (1.6 kB)\n",
      "Requirement already satisfied: wcwidth in c:\\users\\mario.b.garcia\\appdata\\roaming\\python\\python310\\site-packages (from prompt_toolkit<4.0,>=2.0->questionary->codecarbon) (0.2.6)\n",
      "Requirement already satisfied: six>=1.5 in c:\\users\\mario.b.garcia\\appdata\\local\\programs\\python\\python310\\lib\\site-packages (from python-dateutil>=2.7.0->arrow->codecarbon) (1.16.0)\n",
      "Collecting termcolor<2.4.0,>=2.2.0 (from yaspin->fief-client[cli]->codecarbon)\n",
      "  Downloading termcolor-2.3.0-py3-none-any.whl.metadata (5.3 kB)\n",
      "Requirement already satisfied: cffi>=1.12 in c:\\users\\mario.b.garcia\\appdata\\local\\programs\\python\\python310\\lib\\site-packages (from cryptography>=3.4->jwcrypto<2.0.0,>=1.4->fief-client[cli]->codecarbon) (1.16.0)\n",
      "Requirement already satisfied: exceptiongroup>=1.0.2 in c:\\users\\mario.b.garcia\\appdata\\local\\programs\\python\\python310\\lib\\site-packages (from anyio->httpx<0.28.0,>=0.21.3->fief-client[cli]->codecarbon) (1.2.0)\n",
      "Requirement already satisfied: pycparser in c:\\users\\mario.b.garcia\\appdata\\local\\programs\\python\\python310\\lib\\site-packages (from cffi>=1.12->cryptography>=3.4->jwcrypto<2.0.0,>=1.4->fief-client[cli]->codecarbon) (2.21)\n",
      "Downloading codecarbon-2.8.2-py3-none-any.whl (516 kB)\n",
      "Downloading py_cpuinfo-9.0.0-py3-none-any.whl (22 kB)\n",
      "Downloading pynvml-12.0.0-py3-none-any.whl (26 kB)\n",
      "Downloading questionary-2.1.0-py3-none-any.whl (36 kB)\n",
      "Downloading rapidfuzz-3.11.0-cp310-cp310-win_amd64.whl (1.6 MB)\n",
      "   ---------------------------------------- 0.0/1.6 MB ? eta -:--:--\n",
      "   ---------------------------------------- 1.6/1.6 MB 21.5 MB/s eta 0:00:00\n",
      "Downloading rich-13.9.4-py3-none-any.whl (242 kB)\n",
      "Downloading typer-0.15.1-py3-none-any.whl (44 kB)\n",
      "Downloading httpx-0.27.2-py3-none-any.whl (76 kB)\n",
      "Downloading httpcore-1.0.7-py3-none-any.whl (78 kB)\n",
      "Downloading jwcrypto-1.5.6-py3-none-any.whl (92 kB)\n",
      "Downloading markdown_it_py-3.0.0-py3-none-any.whl (87 kB)\n",
      "Downloading nvidia_ml_py-12.560.30-py3-none-any.whl (40 kB)\n",
      "Downloading shellingham-1.5.4-py2.py3-none-any.whl (9.8 kB)\n",
      "Downloading fief_client-0.20.0-py3-none-any.whl (20 kB)\n",
      "Downloading yaspin-3.1.0-py3-none-any.whl (18 kB)\n",
      "Downloading mdurl-0.1.2-py3-none-any.whl (10.0 kB)\n",
      "Downloading termcolor-2.3.0-py3-none-any.whl (6.9 kB)\n",
      "Downloading h11-0.14.0-py3-none-any.whl (58 kB)\n",
      "Installing collected packages: py-cpuinfo, nvidia-ml-py, termcolor, shellingham, rapidfuzz, pynvml, mdurl, h11, yaspin, questionary, markdown-it-py, httpcore, rich, jwcrypto, httpx, typer, fief-client, codecarbon\n",
      "  Attempting uninstall: termcolor\n",
      "    Found existing installation: termcolor 2.4.0\n",
      "    Uninstalling termcolor-2.4.0:\n",
      "      Successfully uninstalled termcolor-2.4.0\n",
      "Successfully installed codecarbon-2.8.2 fief-client-0.20.0 h11-0.14.0 httpcore-1.0.7 httpx-0.27.2 jwcrypto-1.5.6 markdown-it-py-3.0.0 mdurl-0.1.2 nvidia-ml-py-12.560.30 py-cpuinfo-9.0.0 pynvml-12.0.0 questionary-2.1.0 rapidfuzz-3.11.0 rich-13.9.4 shellingham-1.5.4 termcolor-2.3.0 typer-0.15.1 yaspin-3.1.0\n"
     ]
    },
    {
     "name": "stderr",
     "output_type": "stream",
     "text": [
      "ERROR: pip's dependency resolver does not currently take into account all the packages that are installed. This behaviour is the source of the following dependency conflicts.\n",
      "tensorflow-intel 2.12.1 requires typing-extensions<4.6.0,>=3.6.6, but you have typing-extensions 4.12.2 which is incompatible.\n"
     ]
    }
   ],
   "source": [
    "!/anaconda/envs/azureml_py310_sdkv2/bin/pip install codecarbon"
   ]
  },
  {
   "cell_type": "markdown",
   "metadata": {},
   "source": [
    "## 2. Definición del Power Usage Effectiveness (PUE)\n",
    "En función de la región en la que se el usuario cree las instancias de computación, el PUE variará. A continuación, se muestra una tabla con los PUE por ubicación:\n",
    "\n",
    "<div style=\"text-align: center;\">\n",
    "  <table>\n",
    "    <tr>\n",
    "      <th>Geography</th>\n",
    "      <th>PUE</th>\n",
    "    </tr>\n",
    "    <tr>\n",
    "      <td>Arizona</td>\n",
    "      <td>1.18</td>\n",
    "    </tr>\n",
    "    <tr>\n",
    "      <td>Illinois</td>\n",
    "      <td>1.35</td>\n",
    "    </tr>\n",
    "    <tr>\n",
    "      <td>Iowa</td>\n",
    "      <td>1.16</td>\n",
    "    </tr>\n",
    "    <tr>\n",
    "      <td>Texas</td>\n",
    "      <td>1.28</td>\n",
    "    </tr>\n",
    "    <tr>\n",
    "      <td>Virginia</td>\n",
    "      <td>1.14</td>\n",
    "    </tr>\n",
    "    <tr>\n",
    "      <td>Washington</td>\n",
    "      <td>1.15</td>\n",
    "    </tr>\n",
    "    <tr>\n",
    "      <td>Wyoming</td>\n",
    "      <td>1.11</td>\n",
    "    </tr>\n",
    "    <tr>\n",
    "      <td>Singapore</td>\n",
    "      <td>1.34</td>\n",
    "    </tr>\n",
    "    <tr>\n",
    "      <td>Ireland</td>\n",
    "      <td>1.19</td>\n",
    "    </tr>\n",
    "    <tr>\n",
    "      <td>Netherlands</td>\n",
    "      <td>1.14</td>\n",
    "    </tr>\n",
    "    <tr>\n",
    "      <td>Sweden</td>\n",
    "      <td>1.16</td>\n",
    "    </tr>\n",
    "    <tr>\n",
    "      <td>Spain</td>\n",
    "      <td>1.12</td>\n",
    "    </tr>\n",
    "  </table>\n",
    "</div>\n",
    "\n",
    "Si el PUE utilizado no se encuentra en esta tabla, se deberá justificar.\n",
    "\n",
    "Para más información, consultar los siguientes enlaces:\n",
    "- https://news.microsoft.com/es-es/2024/06/11/microsoft-opens-its-first-cloud-region-in-spain-to-accelerate-the-development-of-the-ai-economy/\n",
    "- https://datacenters.microsoft.com/sustainability/efficiency/"
   ]
  },
  {
   "cell_type": "code",
   "execution_count": 11,
   "metadata": {},
   "outputs": [],
   "source": [
    "pue = 1.12"
   ]
  },
  {
   "cell_type": "markdown",
   "metadata": {},
   "source": [
    "## 3. Selección del Cloud Provider y de la región\n",
    "De momento, CodeCarbon no registra las regiones de Azure. Para poder realizar una aproximación, el usuario deberá indicar que el proveedor cloud es Google Cloud (`gcp`) y la región más cercana a la que esté utilizando en la instancia. Por ejemplo, si la instancia está creada en España, la región será `europe-southwest1`. Se pueden consultar las regiones disponibles en el [siguiente enlace](https://github.com/mlco2/codecarbon/blob/master/codecarbon/data/cloud/impact.csv) "
   ]
  },
  {
   "cell_type": "code",
   "execution_count": 25,
   "metadata": {},
   "outputs": [],
   "source": [
    "country_iso_code = 'ESP'\n",
    "region='ESP'\n",
    "cloud_provider='gcp'\n",
    "cloud_region='europe-southwest1'\n",
    "country_2letter_iso_code = 'ES'"
   ]
  },
  {
   "cell_type": "markdown",
   "metadata": {},
   "source": [
    "## 4. Otros parámetros\n",
    "El usuario podrá modificar otros parámetros del tracker según vea conveniente. Un listado de todos los parámetros modificables está disponible en la [documentación de codecarbon](https://mlco2.github.io/codecarbon/parameters.html).\n",
    "\n",
    "### 4.1. Input Parameters\n",
    "\n",
    "| Parameter                  | Description                                                                                  |\n",
    "|----------------------------|----------------------------------------------------------------------------------------------|\n",
    "| `project_name`              | Name of the project, defaults to `codecarbon`.                                               |\n",
    "| `experiment_id`             | Id of the experiment.                                                                         |\n",
    "| `measure_power_secs`       | Interval (in seconds) to measure hardware power usage, defaults to 15.                       |\n",
    "| `tracking_mode`             | `machine` measure the power consumptions of the entire machine (defaults), `process` try and isolate the tracked processes in isolation.                                 |\n",
    "| `gpu_ids`                   | User-specified known GPU ids to track, defaults to None.                                      |\n",
    "| `log_level`                 | Global codecarbon log level (by order of verbosity): `debug`, `info` (defaults), `warning`, `error`, or `critical`. |\n",
    "| `co2_signal_api_token`      | API token for co2signal.com (requires sign-up for free beta).                                 |\n",
    "| `pue`                       | PUE (Power Usage Effectiveness) of the data center where the experiment is being run.        |\n",
    "| `default_cpu_power`         | Default CPU power consumption in watts, defaults to 42.5 (POWER_CONSTANT x CONSUMPTION_PERCENTAGE_CONSTANT). |\n",
    "| `allow_multiple_runs`      | Boolean variable indicating if multiple instances of CodeCarbon on the same machine are allowed, defaults to False. |\n",
    "| `country_iso_code`          | 3-letter ISO Code of the country where the experiment is being run. Available countries are listed in `global_energy_mix.json`. |\n",
    "| `region`                    | Optional Name of the Province/State/City, where the infrastructure is hosted. Currently, supported only for US States and Canada (e.g., California or New York). |\n",
    "| `cloud_provider`            | The cloud provider specified for estimating emissions intensity, defaults to None. See `impact.csv` for a list of cloud providers. |\n",
    "| `cloud_region`              | The region of the cloud data center, defaults to None. See `impact.csv` for a list of cloud regions. |\n",
    "| `country_2letter_iso_code` | For use with the Electricity Maps emissions API. See Electricity Maps zones for a list of codes and their locations. |\n",
    "\n",
    "### 4.2. Output Parameters\n",
    "| Parameter                  | Description                                                                                  |\n",
    "|----------------------------|----------------------------------------------------------------------------------------------|\n",
    "| `save_to_file`              | Boolean variable indicating if the emission artifacts should be logged to a CSV file, defaults to True. |\n",
    "| `output_dir`                | Directory path to which the experiment details are logged, defaults to current directory.    |\n",
    "| `output_file`               | Name of output CSV file, defaults to `emissions.csv`.                                         |\n",
    "| `on_csv_write`              | When calling `tracker.flush()` manually choose if:                                            |\n",
    "|                            | - update the existing `run_id` row (erasing former data)                                     |\n",
    "|                            | - append add a new row to CSV file (defaults).                                               |\n",
    "| `save_to_api`               | Boolean variable indicating if emissions artifacts should be logged to the CodeCarbon API, defaults to False. |\n",
    "| `api_endpoint`              | Optional URL of CodeCarbon API endpoint for sending emissions data, defaults to `https://api.codecarbon.io`. |\n",
    "| `api_key`                   | API key for the CodeCarbon API (mandatory to use this API!).                                 |\n",
    "| `api_call_interval`         | Number of measurements between API calls (defaults to 8):                                    |\n",
    "|                            | -1 : call API on `flush()` and at the end                                                    |\n",
    "|                            | 1 : at every measure                                                                          |\n",
    "|                            | 2 : at every 2 measure, and so on                                                           |\n",
    "| `save_to_logger`            | Boolean variable indicating if the emission artifacts should be written to a dedicated logger, defaults to False. |\n",
    "| `logging_logger`            | `LoggerOutput` object encapsulating a `logging.Logger` or a Google Cloud logger.             |\n",
    "| `logger_preamble`           | String to systematically include in the logger’s messages (defaults to “”).                  |\n",
    "| `save_to_prometheus`        | Boolean variable indicating if the emission artifacts should be written to a Prometheus server, defaults to False. |\n",
    "| `prometheus_url`            | URL of the Prometheus server.                                                                |\n",
    "| `save_to_logfire`           | Boolean variable indicating if the emission artifacts should be written to a LogFire server, defaults to False. |\n",
    "| `output_handlers`           | List of output handlers to use for saving the emissions data, defaults to `[]`.               |\n"
   ]
  },
  {
   "cell_type": "code",
   "execution_count": 39,
   "metadata": {},
   "outputs": [],
   "source": [
    "# Para este caso, únicamnete se definirá el nombre del fichero de salida. Si el usuario lo desea, puede añadir otros.\n",
    "output_file = 'test_emissions.csv'"
   ]
  },
  {
   "cell_type": "markdown",
   "metadata": {},
   "source": [
    "## 5. Creación del Tracker\n",
    "El usuario deberá crear una instancia del Tracker con los parámetros seleccionados previamente. Para evitar errores y posibles incompatibilidades, se utilizará el Tracker Offline."
   ]
  },
  {
   "cell_type": "code",
   "execution_count": 40,
   "metadata": {},
   "outputs": [
    {
     "name": "stderr",
     "output_type": "stream",
     "text": [
      "[codecarbon INFO @ 11:47:52] offline tracker init\n",
      "[codecarbon INFO @ 11:47:52] [setup] RAM Tracking...\n",
      "[codecarbon INFO @ 11:47:52] [setup] CPU Tracking...\n",
      "[codecarbon WARNING @ 11:47:52] No CPU tracking mode found. Falling back on CPU constant mode. \n",
      " Windows OS detected: Please install Intel Power Gadget to measure CPU\n",
      "\n",
      "[codecarbon WARNING @ 11:48:35] We saw that you have a 12th Gen Intel(R) Core(TM) i7-1265U but we don't know it. Please contact us.\n",
      "[codecarbon INFO @ 11:48:35] CPU Model on constant consumption mode: 12th Gen Intel(R) Core(TM) i7-1265U\n",
      "[codecarbon INFO @ 11:48:35] [setup] GPU Tracking...\n",
      "[codecarbon INFO @ 11:48:35] No GPU found.\n",
      "[codecarbon INFO @ 11:48:35] >>> Tracker's metadata:\n",
      "[codecarbon INFO @ 11:48:35]   Platform system: Windows-10-10.0.22631-SP0\n",
      "[codecarbon INFO @ 11:48:35]   Python version: 3.10.11\n",
      "[codecarbon INFO @ 11:48:35]   CodeCarbon version: 2.8.2\n",
      "[codecarbon INFO @ 11:48:35]   Available RAM : 15.441 GB\n",
      "[codecarbon INFO @ 11:48:35]   CPU count: 12\n",
      "[codecarbon INFO @ 11:48:35]   CPU model: 12th Gen Intel(R) Core(TM) i7-1265U\n",
      "[codecarbon INFO @ 11:48:35]   GPU count: None\n",
      "[codecarbon INFO @ 11:48:35]   GPU model: None\n",
      "[codecarbon INFO @ 11:48:35] Saving emissions data to file c:\\Users\\mario.b.garcia\\OneDrive - Accenture\\Documents\\PNAV\\PNAV-Hackathon\\content\\200_help\\test_emissions.csv\n"
     ]
    }
   ],
   "source": [
    "from codecarbon import OfflineEmissionsTracker\n",
    "tracker = OfflineEmissionsTracker(\n",
    "        country_iso_code=country_iso_code,\n",
    "        region=region,\n",
    "        cloud_provider=cloud_provider,\n",
    "        cloud_region=cloud_region,\n",
    "        country_2letter_iso_code=country_2letter_iso_code,\n",
    "        pue=pue,\n",
    "        output_file = output_file\n",
    "        )"
   ]
  },
  {
   "cell_type": "markdown",
   "metadata": {},
   "source": [
    "## 6. Medición del consumo\n",
    "Para realizar las mediciones, se deberán utilizar las funciones `tracker.start()` y `tracker.stop()` de la siguiente forma.\n",
    "Una finalizado el flujo se generará un fichero con las mediciones en el directorio indicado en el tracker. Si no se indica ningún directorio, por "
   ]
  },
  {
   "cell_type": "code",
   "execution_count": 41,
   "metadata": {},
   "outputs": [
    {
     "name": "stderr",
     "output_type": "stream",
     "text": [
      "[codecarbon INFO @ 11:49:39] Energy consumed for RAM : 0.000000 kWh. RAM Power : 5.790398597717285 W\n",
      "[codecarbon INFO @ 11:49:39] Energy consumed for all CPUs : 0.000001 kWh. Total CPU Power : 42.5 W\n",
      "[codecarbon INFO @ 11:49:39] 0.000001 kWh of electricity used since the beginning.\n"
     ]
    },
    {
     "name": "stdout",
     "output_type": "stream",
     "text": [
      "Emissions: 1.3336321996364742e-07 kg CO₂eq\n"
     ]
    },
    {
     "name": "stderr",
     "output_type": "stream",
     "text": [
      "c:\\Users\\mario.b.garcia\\AppData\\Local\\Programs\\Python\\Python310\\lib\\site-packages\\codecarbon\\output_methods\\file.py:52: FutureWarning: The behavior of DataFrame concatenation with empty or all-NA entries is deprecated. In a future version, this will no longer exclude empty or all-NA columns when determining the result dtypes. To retain the old behavior, exclude the relevant entries before the concat operation.\n",
      "  df = pd.concat([df, pd.DataFrame.from_records([dict(total.values)])])\n"
     ]
    }
   ],
   "source": [
    "# Inicio del proceso de medición\n",
    "tracker.start()\n",
    "\n",
    "# Tu código aquí\n",
    "\n",
    "# Fin del proceso de medición\n",
    "emissions = tracker.stop()\n",
    "\n",
    "# Accede a las emisiones calculadas\n",
    "print(f\"Emissions: {emissions} kg CO₂eq\")"
   ]
  }
 ],
 "metadata": {
  "kernelspec": {
   "display_name": "Python 3",
   "language": "python",
   "name": "python3"
  },
  "language_info": {
   "codemirror_mode": {
    "name": "ipython",
    "version": 3
   },
   "file_extension": ".py",
   "mimetype": "text/x-python",
   "name": "python",
   "nbconvert_exporter": "python",
   "pygments_lexer": "ipython3",
   "version": "3.10.11"
  }
 },
 "nbformat": 4,
 "nbformat_minor": 2
}
