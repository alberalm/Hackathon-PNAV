{
 "cells": [
  {
   "cell_type": "markdown",
   "metadata": {},
   "source": [
    "---\n",
    "\n",
    "<div style=\"display: flex; align-items: center; justify-content: space-between;\">\n",
    "  <img src=\"../../.images/PNAV-logo.png\" alt=\"Logo del PNAV\" style=\"width: auto; max-height: 100px;\">\n",
    "  <img src=\"../../.images/MITECO-logo_background.png\" alt=\"Logo del MITECO\" style=\"width: auto; max-height: 100px;\">\n",
    "</div>\n",
    "\n",
    "---\n",
    "\n",
    "# Generación de un dataset de preguntas y respuestas para hacer fine-tuning de LLMs\n",
    "\n",
    "A continuación, se mostrará el proceso de cómo generar un dataset de preguntas y respuestas básico para hacer fine-tuning de un LLM.\n",
    "\n",
    "⚠️ Este material es un notebook de demostración **orientativo** sobre la metodología que se debe seguir, en ningún caso se debe replicar el desarrollo del caso de uso."
   ]
  },
  {
   "cell_type": "markdown",
   "metadata": {},
   "source": [
    "## 1. Importación de módulos y librerías\n",
    "Se importan los módulos y librerías necesarios para ejecutar el código."
   ]
  },
  {
   "cell_type": "code",
   "execution_count": 1,
   "metadata": {},
   "outputs": [],
   "source": [
    "import os\n",
    "import requests\n",
    "import pandas as pd"
   ]
  },
  {
   "cell_type": "markdown",
   "metadata": {},
   "source": [
    "## 2. Petición de los datos mediante API"
   ]
  },
  {
   "cell_type": "code",
   "execution_count": 2,
   "metadata": {},
   "outputs": [],
   "source": [
    "# URL de la API\n",
    "url = \"https://iepnb.gob.es:443/api/especie/v_estadolegal?idtaxon=gt.%200\"\n",
    "\n",
    "# Realizar la petición GET\n",
    "response = requests.get(url)\n",
    "\n",
    "# Verificar si la solicitud fue exitosa (código 200)\n",
    "if response.status_code == 200:\n",
    "    # Procesar los datos (por ejemplo, si la respuesta es JSON)\n",
    "    data = response.json()\n",
    "    df = pd.DataFrame(data)\n",
    "    df = df.dropna(subset=['nombre_aceptado']).reset_index()\n",
    "else:\n",
    "    print(f\"Error: {response.status_code}\")"
   ]
  },
  {
   "cell_type": "markdown",
   "metadata": {},
   "source": [
    "## 3. Generación del dataset de Q&A"
   ]
  },
  {
   "cell_type": "code",
   "execution_count": 3,
   "metadata": {},
   "outputs": [],
   "source": [
    "data = []\n",
    "output_path = 'output'\n",
    "os.makedirs(output_path, exist_ok=True)\n",
    "\n",
    "for index, row in df.iterrows():\n",
    "    # Formar la pregunta básica\n",
    "    pregunta = f\"¿Cuál es el estado legal de la especie {row['nombre_aceptado']}\"\n",
    "    \n",
    "    # Si el ámbito es Regional, incluir la comunidad autónoma en la pregunta\n",
    "    if row['ambito'] == 'Regional' and 'ccaa' in row and pd.notnull(row['ccaa']):\n",
    "        pregunta += f\" en la comunidad autónoma de {row['ccaa']}?\"\n",
    "    elif row['ambito'] == 'Internacional':\n",
    "        pregunta += f\" a nivel internacional?\"\n",
    "    elif row['ambito'] == 'Nacional':\n",
    "        pregunta += f\" a nivel nacional?\"\n",
    "    else:\n",
    "        pregunta += f\"?\"\n",
    "\n",
    "    # Generar la respuesta con el estado legal y la norma\n",
    "    respuesta = f\"La especie {row['nombre_aceptado']} se encuentra en estado de {row['estadolegal'].lower()}\"\n",
    "    \n",
    "    # Incluir el ámbito en la respuesta\n",
    "    respuesta += f\" a nivel {row['ambito'].lower()}\"\n",
    "    \n",
    "    # Si el ámbito es Regional, incluir la comunidad autónoma\n",
    "    if row['ambito'] == 'Regional' and 'ccaa' in row and pd.notnull(row['ccaa']):\n",
    "        respuesta += f\" en la comunidad autónoma de {row['ccaa']}.\"\n",
    "    elif row['ambito'] == 'Internacional':\n",
    "        respuesta += f\" a nivel internacional.\"\n",
    "    elif row['ambito'] == 'Nacional':\n",
    "        respuesta += f\" a nivel nacional.\"\n",
    "\n",
    "    # Añadir la pregunta y la respuesta al dataset\n",
    "    data.append({'pregunta': pregunta, 'respuesta': respuesta})\n",
    "\n",
    "# Crear el DataFrame de preguntas y respuestas\n",
    "df_preguntas_respuestas = pd.DataFrame(data)\n",
    "\n",
    "#df_preguntas_respuestas.to_csv(os.path.join(output_path, f'qa_dataset.csv'))"
   ]
  },
  {
   "cell_type": "markdown",
   "metadata": {},
   "source": [
    "## 4. Se adapta al formato de entrenamiento del modelo"
   ]
  },
  {
   "cell_type": "code",
   "execution_count": 5,
   "metadata": {},
   "outputs": [],
   "source": [
    "import pandas as pd\n",
    "\n",
    "# Convertir el dataframe en el formato deseado\n",
    "def convertir_a_dataset(df):\n",
    "    dataset = []\n",
    "    for _, row in df.iterrows():\n",
    "        pregunta = row['pregunta']\n",
    "        respuesta = row['respuesta']\n",
    "        text = (\n",
    "            \"Below is an instruction that describes a task, paired with an input that provides further context. \"\n",
    "            \"Write a response that appropriately completes the request.\\n\\n\"\n",
    "            f\"### Instruction:\\n{pregunta}\\n\\n\"\n",
    "            \"### Input:\\n\\n\"\n",
    "            \"### Response:\\n\"\n",
    "            f\"{respuesta}<|im_end|>\"\n",
    "        )\n",
    "        dataset.append({\n",
    "            'output': respuesta,\n",
    "            'input': '',\n",
    "            'instruction': pregunta,\n",
    "            'text': text\n",
    "        })\n",
    "    return dataset\n",
    "\n",
    "# Aplicar la función al dataframe\n",
    "dataset = convertir_a_dataset(df_preguntas_respuestas)"
   ]
  }
 ],
 "metadata": {
  "kernelspec": {
   "display_name": "Python 3",
   "language": "python",
   "name": "python3"
  },
  "language_info": {
   "codemirror_mode": {
    "name": "ipython",
    "version": 3
   },
   "file_extension": ".py",
   "mimetype": "text/x-python",
   "name": "python",
   "nbconvert_exporter": "python",
   "pygments_lexer": "ipython3",
   "version": "3.10.11"
  }
 },
 "nbformat": 4,
 "nbformat_minor": 2
}
