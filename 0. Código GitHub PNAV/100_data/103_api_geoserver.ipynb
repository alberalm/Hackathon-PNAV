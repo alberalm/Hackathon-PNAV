{
 "cells": [
  {
   "cell_type": "markdown",
   "metadata": {},
   "source": [
    "---\n",
    "\n",
    "<div style=\"display: flex; align-items: center; justify-content: space-between;\">\n",
    "  <img src=\"../../.images/PNAV-logo.png\" alt=\"Logo del PNAV\" style=\"width: auto; max-height: 100px;\">\n",
    "  <img src=\"../../.images/MITECO-logo_background.png\" alt=\"Logo del MITECO\" style=\"width: auto; max-height: 100px;\">\n",
    "</div>\n",
    "\n",
    "---\n",
    "\n",
    "# Descarga de datos geográficos del Geoserver del IEPNB\n",
    "A continuación, se describirá como descargar datos **geográficos** del Inventario Español del Patrimonio Natural y de la Biodiversidad (IEPNB).\n",
    "Para una información más detallada y completa, consultar:\n",
    "- Sección de [servicios interoperables del IEPNB](https://iepnb.gob.es/recursos/servicios-interoperables)\n",
    "- Portal del [Geoserver del IEPNB](https://geoserver-des.iepnb.es/geoserver/web/)"
   ]
  },
  {
   "cell_type": "markdown",
   "metadata": {},
   "source": [
    "## 1. Instalación de módulos y librerías\n",
    "Se instalan los módulos y librerías necesarios para ejecutar el código."
   ]
  },
  {
   "cell_type": "code",
   "execution_count": 2,
   "metadata": {},
   "outputs": [
    {
     "name": "stdout",
     "output_type": "stream",
     "text": [
      "Collecting owslib\n",
      "  Downloading OWSLib-0.32.0-py2.py3-none-any.whl.metadata (6.6 kB)\n",
      "Requirement already satisfied: lxml in c:\\users\\mario.b.garcia\\appdata\\local\\programs\\python\\python310\\lib\\site-packages (from owslib) (5.3.0)\n",
      "Requirement already satisfied: python-dateutil in c:\\users\\mario.b.garcia\\appdata\\local\\programs\\python\\python310\\lib\\site-packages (from owslib) (2.8.2)\n",
      "Requirement already satisfied: pyyaml in c:\\users\\mario.b.garcia\\appdata\\local\\programs\\python\\python310\\lib\\site-packages (from owslib) (6.0.1)\n",
      "Requirement already satisfied: requests in c:\\users\\mario.b.garcia\\appdata\\local\\programs\\python\\python310\\lib\\site-packages (from owslib) (2.32.3)\n",
      "Requirement already satisfied: six>=1.5 in c:\\users\\mario.b.garcia\\appdata\\local\\programs\\python\\python310\\lib\\site-packages (from python-dateutil->owslib) (1.16.0)\n",
      "Requirement already satisfied: charset-normalizer<4,>=2 in c:\\users\\mario.b.garcia\\appdata\\local\\programs\\python\\python310\\lib\\site-packages (from requests->owslib) (3.1.0)\n",
      "Requirement already satisfied: idna<4,>=2.5 in c:\\users\\mario.b.garcia\\appdata\\local\\programs\\python\\python310\\lib\\site-packages (from requests->owslib) (3.4)\n",
      "Requirement already satisfied: urllib3<3,>=1.21.1 in c:\\users\\mario.b.garcia\\appdata\\local\\programs\\python\\python310\\lib\\site-packages (from requests->owslib) (1.26.16)\n",
      "Requirement already satisfied: certifi>=2017.4.17 in c:\\users\\mario.b.garcia\\appdata\\local\\programs\\python\\python310\\lib\\site-packages (from requests->owslib) (2023.5.7)\n",
      "Downloading OWSLib-0.32.0-py2.py3-none-any.whl (240 kB)\n",
      "Installing collected packages: owslib\n",
      "Successfully installed owslib-0.32.0\n"
     ]
    }
   ],
   "source": [
    "!pip install owslib"
   ]
  },
  {
   "cell_type": "markdown",
   "metadata": {},
   "source": [
    "## 2. Definición de variables\n",
    "Se guarda en un array los nombre de las secciones que se pueden consultar. Las secciones disponibles son:\n",
    "- cartografia_base\n",
    "- ecosistemas\n",
    "- alertas_anuales_vegetacion\n",
    "- EIKOS_Alertas\n",
    "- cambios_anuale\n",
    "- vegetacion\n",
    "- areas_marinas_protegidas\n",
    "- ENP\n",
    "- RN2000\n",
    "- convenio_internacional\n",
    "- espacios_protegidos\n",
    "- especies\n",
    "- foto_fija_mfe\n",
    "- incendios_forestales\n",
    "- vias_pecuarias\n",
    "- recursos_geneticos\n",
    "- INES\n",
    "\n",
    "Para más información sobre las secciones y como acceder a ellas, consultar el apartado [Servicios Web Mapas del IEPNB](https://iepnb.gob.es/recursos/servicios-interoperables)"
   ]
  },
  {
   "cell_type": "code",
   "execution_count": 8,
   "metadata": {},
   "outputs": [],
   "source": [
    "sections = ['cartografia_base','ecosistemas','alertas_anuales_vegetacion','EIKOS_Alertas','cambios_anuales_vegetacion','areas_marinas_protegidas','ENP','RN2000','convenio_internacional','espacios_protegidos','especies','foto_fija_mfe','incendios_forestales','vias_pecuarias','recursos_geneticos','INES']"
   ]
  },
  {
   "cell_type": "markdown",
   "metadata": {},
   "source": [
    "## 3. Peticiones"
   ]
  },
  {
   "cell_type": "markdown",
   "metadata": {},
   "source": [
    "### 3.1. Importación de módulos y librerías\n",
    "Se importan los módulos y librerías necesarios para la ejecución del código."
   ]
  },
  {
   "cell_type": "code",
   "execution_count": 2,
   "metadata": {},
   "outputs": [],
   "source": [
    "import requests\n",
    "import folium\n",
    "import re\n",
    "import os"
   ]
  },
  {
   "cell_type": "markdown",
   "metadata": {},
   "source": [
    "### 3.2. Definición de funciones\n",
    "#### 3.2.1. Función \"get_subsections\"\n",
    "Dado el nombre de la sección de los recursos geográficos del IEPNB devuelve en un array todas las subsecciones que tiene."
   ]
  },
  {
   "cell_type": "code",
   "execution_count": 3,
   "metadata": {},
   "outputs": [],
   "source": [
    "def get_subsections(section):\n",
    "    url = 'https://geoserver-des.iepnb.es/geoserver/'+section+'/wms?service=WMS&request=GetCapabilities'\n",
    "\n",
    "    response = requests.get(url)\n",
    "\n",
    "    # Definir el patrón para encontrar contenido desde <Name> hasta </Name>\n",
    "    pattern = r'<Name>.*?</Name>'\n",
    "\n",
    "    matches = re.findall(pattern, response.text, re.DOTALL)\n",
    "\n",
    "    subsections = []\n",
    "    # Imprimir los resultados completos\n",
    "    for match in matches:\n",
    "        subsections.append(match.replace('<Name>','').replace('</Name>',''))\n",
    "\n",
    "    unique_subsections = list(set(subsections))\n",
    "    unique_subsections.remove('WMS')\n",
    "    return unique_subsections"
   ]
  },
  {
   "cell_type": "markdown",
   "metadata": {},
   "source": [
    "#### 3.2.1. Función \"get_subsection_data\"\n",
    "Dado el nombre de la subsección de los recursos geográficos del IEPNB, hace una petición al \"geoserver\" y devuelve los datos."
   ]
  },
  {
   "cell_type": "code",
   "execution_count": 4,
   "metadata": {},
   "outputs": [],
   "source": [
    "def get_subsection_data(output_dir, section, subsection):\n",
    "    filename = output_dir+section+'_'+subsection+'.geojson.html'\n",
    "\n",
    "    # URL base del servicio WFS\n",
    "    url = \"https://geoserver.iepnb.es/geoserver/\"+section+\"/ows\"\n",
    "\n",
    "    # Parámetros de la solicitud\n",
    "    params = {\n",
    "            'service': 'WFS',\n",
    "            'version': '1.0.0',\n",
    "            'request': 'GetFeature',\n",
    "            'typeName': section+':'+subsection,\n",
    "            'maxFeatures': 50,\n",
    "            'outputFormat': 'application/json'\n",
    "    }\n",
    "\n",
    "    # Realizar la solicitud GET con los parámetros\n",
    "    response = requests.get(url, params=params)\n",
    "\n",
    "    # Verificar si la solicitud fue exitosa (código de estado 200)\n",
    "    if response.status_code == 200:\n",
    "        try:\n",
    "            # Intentar convertir la respuesta a JSON\n",
    "            geojson_data = response.json()\n",
    "\n",
    "            # Crear un mapa centrado en un punto (puedes ajustar las coordenadas)\n",
    "            mapa = folium.Map(location=[40.0, -3.7], zoom_start=6)\n",
    "\n",
    "            # Añadir los datos GeoJSON al mapa\n",
    "            folium.GeoJson(geojson_data).add_to(mapa)\n",
    "\n",
    "            # Guardar el mapa como archivo HTML\n",
    "            mapa.save(filename)\n",
    "            \n",
    "        except requests.exceptions.JSONDecodeError as e:\n",
    "            print(f\"        - Error al decodificar JSON para {subsection}: {e}\")\n",
    "    else:\n",
    "        print(f\"        - Error: {response.status_code}\")"
   ]
  },
  {
   "cell_type": "markdown",
   "metadata": {},
   "source": [
    "### 3.3. Ejecución\n",
    "Se ejecutan las peticiones de todas las secciones y subsecciones.\n",
    "Se guardan los documentos en el directorio geojson/."
   ]
  },
  {
   "cell_type": "code",
   "execution_count": null,
   "metadata": {},
   "outputs": [],
   "source": [
    "i = 1\n",
    "for section in sections:\n",
    "    print(f'Sección {i}/{len(sections)}: {section}')\n",
    "    output_dir = 'geojson/'+section+'/'\n",
    "    os.makedirs(output_dir, exist_ok=True)\n",
    "    unique_subsections= get_subsections(section)\n",
    "    j=1\n",
    "    for subsection in unique_subsections:\n",
    "        print(f'    - Subsección {j}/{len(unique_subsections)}: {subsection}')\n",
    "        get_subsection_data(output_dir, section, subsection)\n",
    "        j += 1\n",
    "    i += 1"
   ]
  }
 ],
 "metadata": {
  "kernelspec": {
   "display_name": "Python 3",
   "language": "python",
   "name": "python3"
  },
  "language_info": {
   "codemirror_mode": {
    "name": "ipython",
    "version": 3
   },
   "file_extension": ".py",
   "mimetype": "text/x-python",
   "name": "python",
   "nbconvert_exporter": "python",
   "pygments_lexer": "ipython3",
   "version": "3.10.11"
  }
 },
 "nbformat": 4,
 "nbformat_minor": 2
}
