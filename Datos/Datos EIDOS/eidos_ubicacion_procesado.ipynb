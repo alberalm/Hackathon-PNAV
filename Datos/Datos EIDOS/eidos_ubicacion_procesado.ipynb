{
 "cells": [
  {
   "cell_type": "code",
   "execution_count": null,
   "metadata": {},
   "outputs": [],
   "source": [
    "import os\n",
    "import re\n",
    "import pandas as pd\n",
    "from pyproj import Transformer\n",
    "import mgrs"
   ]
  },
  {
   "cell_type": "code",
   "execution_count": null,
   "metadata": {},
   "outputs": [],
   "source": [
    "# Función para convertir coordenadas de formato \"10kmE<easting>N<northing>\" a MGRS\n",
    "def convert_10km_to_mgrs(coord_str: str) -> str:\n",
    "    # Extraer índices de easting y northing\n",
    "    match = re.match(r\"10kmE(\\d+)N(\\d+)\", coord_str)\n",
    "    if not match:\n",
    "        raise ValueError(\"El formato debe ser '10kmE<easting>N<northing>'\")\n",
    "    easting_idx = int(match.group(1))\n",
    "    northing_idx = int(match.group(2))\n",
    "\n",
    "    # Convertir índices a metros\n",
    "    easting = easting_idx * 10000\n",
    "    northing = northing_idx * 10000\n",
    "\n",
    "    # Transformar de ETRS89/LAEA (EPSG:3035) a geográficas (EPSG:4326)\n",
    "    transformer = Transformer.from_crs(\"EPSG:3035\", \"EPSG:4326\", always_xy=True)\n",
    "    lon, lat = transformer.transform(easting, northing)\n",
    "\n",
    "    # Convertir a MGRS con precisión de 1 km\n",
    "    mgrs_converter = mgrs.MGRS()\n",
    "    mgrs_code = mgrs_converter.toMGRS(lat, lon, MGRSPrecision=1)\n",
    "    return mgrs_code\n",
    "\n",
    "\n",
    "# Función para ajustar valores del tipo \"30TVL33\" o \"30TVL3231\"\n",
    "def ajustar_valor(cadena: str) -> str:\n",
    "    # Procesa solo si la cadena empieza por alguno de los prefijos deseados\n",
    "    if not (cadena.startswith(\"30\") or cadena.startswith(\"29\") or cadena.startswith(\"28\") or cadena.startswith(\"31\")):\n",
    "        return cadena\n",
    "    \n",
    "    # Patrón 1: formato \"<prefijo><letras><2 dígitos>\" -> se deja igual.\n",
    "    patron1 = r\"^((?:30|29|28|31)[A-Z]+)(\\d{2})$\"\n",
    "    # Patrón 2: formato \"<prefijo><letras><2 dígitos><2 dígitos>\" -> se elimina los dos últimos dígitos.\n",
    "    patron2 = r\"^((?:30|29|28|31)[A-Z]+)(\\d{2})(\\d{2})$\"\n",
    "    \n",
    "    if re.match(patron1, cadena):\n",
    "        return cadena\n",
    "    elif re.match(patron2, cadena):\n",
    "        m = re.match(patron2, cadena)\n",
    "        return m.group(1) + m.group(2)\n",
    "    else:\n",
    "        return cadena\n",
    "\n",
    "\n",
    "i = 0\n",
    "\n",
    "# Procesar cada archivo Excel en la carpeta\n",
    "for archivo in os.listdir('./EIDOS_ubicacion'):\n",
    "    if archivo.ends_with('.xlsx'):\n",
    "        i += 1\n",
    "        df = pd.read_excel(f\"EIDOS_ubicacion/{archivo}\")\n",
    "        \n",
    "        for idx, row in df.iterrows():\n",
    "            valor = row[\"cuadr\"]\n",
    "            # Si el valor es de tipo \"10km...\", aplicar la conversión a MGRS\n",
    "            if valor.startswith(\"10km\"):\n",
    "                try:\n",
    "                    nuevo_valor = convert_10km_to_mgrs(valor)\n",
    "                    df.loc[idx, \"cuadr\"] = nuevo_valor\n",
    "                except Exception as e:\n",
    "                    print(f\"Error en archivo {archivo}, fila {idx} con valor '{valor}': {e}\")\n",
    "            df.loc[idx, \"cuadr\"] = ajustar_valor(valor)\n",
    "\n",
    "        df = df.drop_duplicates(subset=['idtaxon', 'cuadr'], keep=\"first\")\n",
    "        df = df.sort_values(by=\"idtaxon\")\n",
    "        df.to_excel(f\"EIDOS_ubicacion/mismo_cud_sin_repetidos_{i}.xlsx\", index=False)\n",
    "        os.remove(f\"EIDOS_ubicacion/{archivo}\")"
   ]
  },
  {
   "cell_type": "code",
   "execution_count": null,
   "metadata": {},
   "outputs": [
    {
     "name": "stdout",
     "output_type": "stream",
     "text": [
      "Eliminando archivos residuales...          \r"
     ]
    }
   ],
   "source": [
    "dfs = []\n",
    "total_length = 0\n",
    "LENGTH_LIMIT = 100000\n",
    "i = 1\n",
    "\n",
    "# Combinar los archivos excel, ahora sin repetidos, en archivos mas grandes\n",
    "for file in os.listdir('./EIDOS_ubicacion'):\n",
    "    if file.endswith('.xlsx') and file.startswith(\"mismo_cud_sin_repetidos_\"):\n",
    "        print(f\"Leyendo {file}...\", end='\\r')\n",
    "        dfs.append(pd.read_excel(f\"EIDOS_ubicacion/{file}\"))\n",
    "        total_length += len(dfs[-1])\n",
    "        if total_length >= LENGTH_LIMIT:\n",
    "            df = pd.concat(dfs)\n",
    "            df.sort_values(by=\"idtaxon\")\n",
    "            print(f\"Exportando archivo combinado {i}...{' '*10}\", end='\\r')\n",
    "            df.to_excel(f\"EIDOS_ubicacion/EIDOS_ubicacion_final_{i}.xlsx\", index=False)\n",
    "            i += 1\n",
    "            dfs = []\n",
    "            total_length = 0\n",
    "if total_length > 0:\n",
    "    df = pd.concat(dfs)\n",
    "    df.sort_values(by=\"idtaxon\")\n",
    "    print(f\"Exportando archivo combinado {i}...{' '*10}\", end='\\r')\n",
    "    df.to_excel(f\"EIDOS_ubicacion/EIDOS_ubicacion_final_{i}.xlsx\", index=False)\n",
    "\n",
    "# Eliminar archivos anteriores\n",
    "print(f\"Eliminando archivos residuales...{' '*10}\", end='\\r')\n",
    "for file in os.listdir('./EIDOS_ubicacion'):\n",
    "    if file.endswith('.xlsx') and not file.startswith(\"EIDOS_ubicacion_final_\"):\n",
    "        os.remove(f\"EIDOS_ubicacion/{file}\")"
   ]
  }
 ],
 "metadata": {
  "kernelspec": {
   "display_name": "base",
   "language": "python",
   "name": "python3"
  },
  "language_info": {
   "codemirror_mode": {
    "name": "ipython",
    "version": 3
   },
   "file_extension": ".py",
   "mimetype": "text/x-python",
   "name": "python",
   "nbconvert_exporter": "python",
   "pygments_lexer": "ipython3",
   "version": "3.12.9"
  }
 },
 "nbformat": 4,
 "nbformat_minor": 2
}
