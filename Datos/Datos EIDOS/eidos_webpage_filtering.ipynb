{
 "cells": [
  {
   "cell_type": "code",
   "execution_count": 2,
   "metadata": {},
   "outputs": [],
   "source": [
    "import pandas as pd\n",
    "\n",
    "df = pd.read_excel('EIDOS_taxonomia.xlsx')[['nameid', 'name', 'taxonrank', 'taxonomicgroup']]"
   ]
  },
  {
   "cell_type": "code",
   "execution_count": 3,
   "metadata": {},
   "outputs": [
    {
     "data": {
      "text/plain": [
       "89306"
      ]
     },
     "execution_count": 3,
     "metadata": {},
     "output_type": "execute_result"
    }
   ],
   "source": [
    "df = df[df['taxonrank'].isin(['Species', 'Subspecies']) & (df['nameid'] < 100000)]\n",
    "df['chosen'] = False\n",
    "df['words'] = df['name'].str.split(' ').apply(lambda x: [word.replace('.', '').replace(',', '').replace('(', '').replace(')', '').lower() for word in x if len(word) > 2])\n",
    "df['all_words'] = df['words'].apply(lambda x: set(x))\n",
    "len(df)"
   ]
  },
  {
   "cell_type": "code",
   "execution_count": 4,
   "metadata": {},
   "outputs": [
    {
     "data": {
      "text/html": [
       "<div>\n",
       "<style scoped>\n",
       "    .dataframe tbody tr th:only-of-type {\n",
       "        vertical-align: middle;\n",
       "    }\n",
       "\n",
       "    .dataframe tbody tr th {\n",
       "        vertical-align: top;\n",
       "    }\n",
       "\n",
       "    .dataframe thead th {\n",
       "        text-align: right;\n",
       "    }\n",
       "</style>\n",
       "<table border=\"1\" class=\"dataframe\">\n",
       "  <thead>\n",
       "    <tr style=\"text-align: right;\">\n",
       "      <th></th>\n",
       "      <th>nameid</th>\n",
       "      <th>name</th>\n",
       "      <th>taxonrank</th>\n",
       "      <th>taxonomicgroup</th>\n",
       "      <th>chosen</th>\n",
       "      <th>words</th>\n",
       "      <th>all_words</th>\n",
       "    </tr>\n",
       "  </thead>\n",
       "  <tbody>\n",
       "    <tr>\n",
       "      <th>11560</th>\n",
       "      <td>11655</td>\n",
       "      <td>Lonchura malacca</td>\n",
       "      <td>Species</td>\n",
       "      <td>Aves</td>\n",
       "      <td>False</td>\n",
       "      <td>[lonchura, malacca]</td>\n",
       "      <td>{lonchura, malacca}</td>\n",
       "    </tr>\n",
       "    <tr>\n",
       "      <th>8216</th>\n",
       "      <td>8224</td>\n",
       "      <td>Sedum rupestre L.</td>\n",
       "      <td>Species</td>\n",
       "      <td>Plantas vasculares</td>\n",
       "      <td>False</td>\n",
       "      <td>[sedum, rupestre]</td>\n",
       "      <td>{sedum, rupestre}</td>\n",
       "    </tr>\n",
       "    <tr>\n",
       "      <th>65383</th>\n",
       "      <td>69032</td>\n",
       "      <td>Satyrus actaea (Esper, 1781)</td>\n",
       "      <td>Species</td>\n",
       "      <td>Invertebrados</td>\n",
       "      <td>False</td>\n",
       "      <td>[satyrus, actaea, esper, 1781]</td>\n",
       "      <td>{1781, satyrus, actaea, esper}</td>\n",
       "    </tr>\n",
       "    <tr>\n",
       "      <th>81290</th>\n",
       "      <td>85057</td>\n",
       "      <td>Oscillatoria curviceps</td>\n",
       "      <td>Species</td>\n",
       "      <td>Cromistas y Bacterias</td>\n",
       "      <td>False</td>\n",
       "      <td>[oscillatoria, curviceps]</td>\n",
       "      <td>{curviceps, oscillatoria}</td>\n",
       "    </tr>\n",
       "    <tr>\n",
       "      <th>89420</th>\n",
       "      <td>93232</td>\n",
       "      <td>Paropta paradoxa</td>\n",
       "      <td>Species</td>\n",
       "      <td>Invertebrados</td>\n",
       "      <td>False</td>\n",
       "      <td>[paropta, paradoxa]</td>\n",
       "      <td>{paropta, paradoxa}</td>\n",
       "    </tr>\n",
       "  </tbody>\n",
       "</table>\n",
       "</div>"
      ],
      "text/plain": [
       "       nameid                          name taxonrank         taxonomicgroup  \\\n",
       "11560   11655              Lonchura malacca   Species                   Aves   \n",
       "8216     8224             Sedum rupestre L.   Species     Plantas vasculares   \n",
       "65383   69032  Satyrus actaea (Esper, 1781)   Species          Invertebrados   \n",
       "81290   85057        Oscillatoria curviceps   Species  Cromistas y Bacterias   \n",
       "89420   93232              Paropta paradoxa   Species          Invertebrados   \n",
       "\n",
       "       chosen                           words                       all_words  \n",
       "11560   False             [lonchura, malacca]             {lonchura, malacca}  \n",
       "8216    False               [sedum, rupestre]               {sedum, rupestre}  \n",
       "65383   False  [satyrus, actaea, esper, 1781]  {1781, satyrus, actaea, esper}  \n",
       "81290   False       [oscillatoria, curviceps]       {curviceps, oscillatoria}  \n",
       "89420   False             [paropta, paradoxa]             {paropta, paradoxa}  "
      ]
     },
     "execution_count": 4,
     "metadata": {},
     "output_type": "execute_result"
    }
   ],
   "source": [
    "df.sample(5, random_state=0)"
   ]
  },
  {
   "cell_type": "code",
   "execution_count": 10,
   "metadata": {},
   "outputs": [
    {
     "data": {
      "text/plain": [
       "68666"
      ]
     },
     "execution_count": 10,
     "metadata": {},
     "output_type": "execute_result"
    }
   ],
   "source": [
    "MIN_LENGTH = 3\n",
    "ONLY_FULL_WORDS = True\n",
    "\n",
    "all_words = set()\n",
    "all_words_dict = {}\n",
    "for i, row in df.iterrows():\n",
    "    if not isinstance(row['words'], list):\n",
    "        continue\n",
    "    words_to_add = [word for word in row['words'] if len(word) > MIN_LENGTH - 1 and isinstance(word, str)]\n",
    "    all_words.update(words_to_add)\n",
    "    if not ONLY_FULL_WORDS:\n",
    "        to_add = []\n",
    "        for word in words_to_add:\n",
    "            to_add += [word[:length+1] for length in range(len(word))]\n",
    "        all_words.update(to_add)\n",
    "        all_words_dict[i] = set(to_add)\n",
    "    else:\n",
    "        all_words_dict[i] = set(words_to_add)\n",
    "df['all_words'] = df.index.map(all_words_dict)\n",
    "df['chosen_words'] = df['all_words']\n",
    "all_words = sorted(all_words, key=lambda x: len(x), reverse=True) # Las palabras mas largas primero\n",
    "word_counts = pd.Series(\n",
    "    [word for words in df['all_words'] if isinstance(words, set) for word in words]\n",
    ").value_counts()\n",
    "len(all_words)"
   ]
  },
  {
   "cell_type": "code",
   "execution_count": 12,
   "metadata": {},
   "outputs": [
    {
     "data": {
      "text/html": [
       "<div>\n",
       "<style scoped>\n",
       "    .dataframe tbody tr th:only-of-type {\n",
       "        vertical-align: middle;\n",
       "    }\n",
       "\n",
       "    .dataframe tbody tr th {\n",
       "        vertical-align: top;\n",
       "    }\n",
       "\n",
       "    .dataframe thead th {\n",
       "        text-align: right;\n",
       "    }\n",
       "</style>\n",
       "<table border=\"1\" class=\"dataframe\">\n",
       "  <thead>\n",
       "    <tr style=\"text-align: right;\">\n",
       "      <th></th>\n",
       "      <th>all</th>\n",
       "      <th>chosen</th>\n",
       "    </tr>\n",
       "  </thead>\n",
       "  <tbody>\n",
       "    <tr>\n",
       "      <th>fries</th>\n",
       "      <td>720</td>\n",
       "      <td>720</td>\n",
       "    </tr>\n",
       "    <tr>\n",
       "      <th>boiss</th>\n",
       "      <td>705</td>\n",
       "      <td>705</td>\n",
       "    </tr>\n",
       "    <tr>\n",
       "      <th>wollaston</th>\n",
       "      <td>700</td>\n",
       "      <td>700</td>\n",
       "    </tr>\n",
       "    <tr>\n",
       "      <th>1864</th>\n",
       "      <td>498</td>\n",
       "      <td>498</td>\n",
       "    </tr>\n",
       "    <tr>\n",
       "      <th>simon</th>\n",
       "      <td>497</td>\n",
       "      <td>497</td>\n",
       "    </tr>\n",
       "    <tr>\n",
       "      <th>canariensis</th>\n",
       "      <td>488</td>\n",
       "      <td>484</td>\n",
       "    </tr>\n",
       "    <tr>\n",
       "      <th>persoon</th>\n",
       "      <td>436</td>\n",
       "      <td>436</td>\n",
       "    </tr>\n",
       "    <tr>\n",
       "      <th>1908</th>\n",
       "      <td>392</td>\n",
       "      <td>392</td>\n",
       "    </tr>\n",
       "    <tr>\n",
       "      <th>navicula</th>\n",
       "      <td>386</td>\n",
       "      <td>386</td>\n",
       "    </tr>\n",
       "    <tr>\n",
       "      <th>1839</th>\n",
       "      <td>375</td>\n",
       "      <td>375</td>\n",
       "    </tr>\n",
       "    <tr>\n",
       "      <th>müller</th>\n",
       "      <td>376</td>\n",
       "      <td>374</td>\n",
       "    </tr>\n",
       "    <tr>\n",
       "      <th>koch</th>\n",
       "      <td>378</td>\n",
       "      <td>371</td>\n",
       "    </tr>\n",
       "    <tr>\n",
       "      <th>sars</th>\n",
       "      <td>371</td>\n",
       "      <td>371</td>\n",
       "    </tr>\n",
       "    <tr>\n",
       "      <th>loew</th>\n",
       "      <td>368</td>\n",
       "      <td>368</td>\n",
       "    </tr>\n",
       "    <tr>\n",
       "      <th>1992</th>\n",
       "      <td>348</td>\n",
       "      <td>348</td>\n",
       "    </tr>\n",
       "    <tr>\n",
       "      <th>1862</th>\n",
       "      <td>348</td>\n",
       "      <td>348</td>\n",
       "    </tr>\n",
       "    <tr>\n",
       "      <th>1834</th>\n",
       "      <td>341</td>\n",
       "      <td>340</td>\n",
       "    </tr>\n",
       "    <tr>\n",
       "      <th>1835</th>\n",
       "      <td>341</td>\n",
       "      <td>335</td>\n",
       "    </tr>\n",
       "    <tr>\n",
       "      <th>1884</th>\n",
       "      <td>317</td>\n",
       "      <td>317</td>\n",
       "    </tr>\n",
       "    <tr>\n",
       "      <th>pau</th>\n",
       "      <td>307</td>\n",
       "      <td>307</td>\n",
       "    </tr>\n",
       "  </tbody>\n",
       "</table>\n",
       "</div>"
      ],
      "text/plain": [
       "             all  chosen\n",
       "fries        720     720\n",
       "boiss        705     705\n",
       "wollaston    700     700\n",
       "1864         498     498\n",
       "simon        497     497\n",
       "canariensis  488     484\n",
       "persoon      436     436\n",
       "1908         392     392\n",
       "navicula     386     386\n",
       "1839         375     375\n",
       "müller       376     374\n",
       "koch         378     371\n",
       "sars         371     371\n",
       "loew         368     368\n",
       "1992         348     348\n",
       "1862         348     348\n",
       "1834         341     340\n",
       "1835         341     335\n",
       "1884         317     317\n",
       "pau          307     307"
      ]
     },
     "execution_count": 12,
     "metadata": {},
     "output_type": "execute_result"
    }
   ],
   "source": [
    "try:\n",
    "    words_to_exclude = set(pd.read_csv('palabras_para_filtrar.csv', header=None)[0])\n",
    "except:\n",
    "    words_to_exclude = set()\n",
    "df['chosen'] = df['all_words'].apply(lambda words: isinstance(words, set) and bool(words & words_to_exclude))\n",
    "df['chosen_words'] = df['all_words']\n",
    "df.loc[df['chosen'], 'chosen_words'] = [set() for _ in range((df['chosen']).sum())]\n",
    "word_counts_only_chosen = pd.Series(\n",
    "    [word for words in df['chosen_words'] if isinstance(words, set) for word in words]\n",
    ").value_counts()\n",
    "words_df = pd.DataFrame({'all': word_counts, 'chosen': word_counts_only_chosen}).fillna(0)\n",
    "words_df['chosen'] = words_df['chosen'].astype(int)\n",
    "words_df[words_df['all'] < 1000].sort_values('chosen', ascending=False)[:20]"
   ]
  },
  {
   "cell_type": "code",
   "execution_count": 1,
   "metadata": {},
   "outputs": [
    {
     "data": {
      "text/plain": [
       "52783"
      ]
     },
     "execution_count": 1,
     "metadata": {},
     "output_type": "execute_result"
    }
   ],
   "source": [
    "import pandas as pd\n",
    "import os\n",
    "\n",
    "# Celda para comprobar cuantas especies unicas hay descargadas en total\n",
    "species_set = set()\n",
    "for file in os.listdir('./IEPNB_filtrado'):\n",
    "    sp = pd.read_excel(f'IEPNB_filtrado/{file}')\n",
    "    species_set.update(sp['Código de la especie (id taxon)'])\n",
    "len(species_set)"
   ]
  },
  {
   "cell_type": "code",
   "execution_count": null,
   "metadata": {},
   "outputs": [
    {
     "data": {
      "text/plain": [
       "Grupo taxonómico\n",
       "Plantas vasculares       770\n",
       "Invertebrados            727\n",
       "Mamíferos                132\n",
       "Peces                     72\n",
       "Plantas no vasculares     26\n",
       "Reptiles                  18\n",
       "Aves                      14\n",
       "Algas                     10\n",
       "Anfibios                   4\n",
       "Cromistas y Bacterias      3\n",
       "Hongos                     1\n",
       "Name: count, dtype: int64"
      ]
     },
     "execution_count": 7,
     "metadata": {},
     "output_type": "execute_result"
    }
   ],
   "source": [
    "dfs = []\n",
    "for file in os.listdir('./IEPNB_filtrado'):\n",
    "    dfs.append(pd.read_excel(f'IEPNB_filtrado/{file}'))\n",
    "full_df = pd.concat(dfs).sort_values(by='Código de la especie (id taxon)')\n",
    "full_df.drop_duplicates(subset=['Código de la especie (id taxon)'], inplace=True)\n",
    "full_df.to_excel('IEPNB_base_de_datos.xlsx', index=False)\n",
    "\n",
    "with_descriptions = full_df[~full_df['Descripción'].isnull()]\n",
    "with_descriptions.to_excel('IEPNB_descripciones.xlsx', index=False)\n",
    "with_descriptions['Grupo taxonómico'].value_counts()"
   ]
  },
  {
   "cell_type": "markdown",
   "metadata": {},
   "source": [
    "Tan solo 1777 tienen descripciones, apenas un 3,4% de las especies descargadas."
   ]
  }
 ],
 "metadata": {
  "kernelspec": {
   "display_name": "base",
   "language": "python",
   "name": "python3"
  },
  "language_info": {
   "codemirror_mode": {
    "name": "ipython",
    "version": 3
   },
   "file_extension": ".py",
   "mimetype": "text/x-python",
   "name": "python",
   "nbconvert_exporter": "python",
   "pygments_lexer": "ipython3",
   "version": "3.12.9"
  }
 },
 "nbformat": 4,
 "nbformat_minor": 2
}
