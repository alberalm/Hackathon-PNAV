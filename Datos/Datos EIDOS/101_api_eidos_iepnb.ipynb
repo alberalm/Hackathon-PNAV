{
 "cells": [
  {
   "cell_type": "markdown",
   "metadata": {},
   "source": [
    "---\n",
    "\n",
    "<div style=\"display: flex; align-items: center; justify-content: space-between;\">\n",
    "  <img src=\"../../.images/PNAV-logo.png\" alt=\"Logo del PNAV\" style=\"width: auto; max-height: 100px;\">\n",
    "  <img src=\"../../.images/MITECO-logo_background.png\" alt=\"Logo del MITECO\" style=\"width: auto; max-height: 100px;\">\n",
    "</div>\n",
    "\n",
    "---\n",
    "\n",
    "# Descarga de datos desde la API de EIDOS\n",
    "A continuación, se describirá como descargar datos del **inventario de especies silvestres EIDOS** del Ministerio para la Transición Ecológica y el Reto Demográfico (MITECO).\n",
    "Para una información más detallada, se puede consultar el siguiente enlace: https://iepnb.gob.es/recursos/servicios-interoperables/apirest-eidos "
   ]
  },
  {
   "cell_type": "markdown",
   "metadata": {},
   "source": [
    "## 1. Importación de módulos y librerías\n",
    "Se importan los módulos y librerías necesarios para ejecutar el código."
   ]
  },
  {
   "cell_type": "code",
   "execution_count": 1,
   "metadata": {},
   "outputs": [],
   "source": [
    "import requests\n",
    "import pandas as pd\n",
    "import os"
   ]
  },
  {
   "cell_type": "markdown",
   "metadata": {},
   "source": [
    "## 2. Definición de funciones\n",
    "Se definen las funciones necesarias."
   ]
  },
  {
   "cell_type": "code",
   "execution_count": 2,
   "metadata": {},
   "outputs": [],
   "source": [
    "def get_data(url,name):\n",
    "    # Realizar la petición GET\n",
    "    response = requests.get(url)\n",
    "    # Verificar si la solicitud fue exitosa (código 200)\n",
    "    if response.status_code == 200:\n",
    "        # Procesar los datos\n",
    "        pd.DataFrame(response.json()).to_csv(os.path.join(f'EIDOS_{name}.csv'), index=False)\n",
    "    else:\n",
    "        print(f\"Error: {response.status_code}: {response.content}\")"
   ]
  },
  {
   "cell_type": "markdown",
   "metadata": {},
   "source": [
    "## 3. Llamadas a las APIs"
   ]
  },
  {
   "cell_type": "markdown",
   "metadata": {},
   "source": [
    "### 3.1. Estado Legal\n",
    "Proporciona información sobre el estado legal de los taxones según las diferentes legislaciones.\n",
    "| **Columna**               | **Tipo de Dato** | **Descripción**                                                                                          |\n",
    "|---------------------------|------------------|----------------------------------------------------------------------------------------------------------|\n",
    "| `idtaxon`                 | Entero          | Identificador único del taxón en la base de datos.                                                      |\n",
    "| `idnombre_acept`          | Decimal         | Identificador único del nombre aceptado del taxón.                                                      |\n",
    "| `nombre_aceptado`         | Texto           | Nombre científico aceptado del taxón, incluyendo el autor y año de descripción.                         |\n",
    "| `idestadolegal`           | Entero          | Identificador único del estado legal asignado al taxón.                                                 |\n",
    "| `estadolegal`             | Texto           | Descripción del estado legal del taxón (e.g., \"Especial protección\", \"Especie de interés especial\").     |\n",
    "| `norma`                   | Texto           | Detalle de la normativa o legislación que define el estado legal del taxón.                             |\n",
    "| `idvigente`               | Booleano        | Indica si la normativa está vigente (`1` = vigente, `0` = no vigente).                                  |\n",
    "| `observacionespoblacion`  | Texto           | Observaciones sobre la población del taxón (puede estar vacío si no aplica).                            |\n",
    "| `descripcion`             | Texto           | Descripción adicional relacionada con el estado del taxón (puede estar vacío si no aplica).             |\n",
    "| `idambito`                | Entero          | Identificador único del ámbito de aplicación de la normativa.                                           |\n",
    "| `ambito`                  | Texto           | Ámbito territorial de la normativa (e.g., \"Regional\", \"Nacional\").                                      |\n",
    "| `id_ccaa`                 | Decimal         | Identificador único de la comunidad autónoma asociada (si aplica).                                      |\n",
    "| `ccaa`                    | Texto           | Nombre de la comunidad autónoma donde aplica la normativa.                                              |\n",
    "| `iddataset`               | Entero          | Identificador único del dataset relacionado.                                                            |\n",
    "| `dataset`                 | Texto           | Nombre del dataset al que pertenece el registro.                                                        |\n",
    "| `idnombre_dat`            | Decimal         | Identificador único del nombre del taxón según el dataset.                                              |\n",
    "| `nombre_en_dataset`       | Texto           | Nombre del taxón en el dataset relacionado.                                                             |\n",
    "| `fecha_alta`              | Fecha           | Fecha de alta del registro en el dataset.                                                               |\n",
    "| `fecha_baja`              | Fecha           | Fecha de baja del registro en el dataset (puede estar vacío si no aplica).                              |\n"
   ]
  },
  {
   "cell_type": "code",
   "execution_count": 6,
   "metadata": {},
   "outputs": [],
   "source": [
    "# URL de la API\n",
    "url = \"https://iepnb.gob.es:443/api/especie/v_estadolegal?idtaxon=gt.%200\"\n",
    "name = 'estado_legal'\n",
    "get_data(url,name)"
   ]
  },
  {
   "cell_type": "markdown",
   "metadata": {},
   "source": [
    "### 3.2. Taxonomía\n",
    "Proporciona información sobre la clasificación taxonómica de los taxones.\n",
    "| **Columna**               | **Tipo de Dato** | **Descripción**                                                                                          |\n",
    "|---------------------------|------------------|----------------------------------------------------------------------------------------------------------|\n",
    "| `nameid`                  | Entero          | Identificador único del nombre del taxón en la base de datos.                                           |\n",
    "| `name`                    | Texto           | Nombre completo del taxón (nombre científico con autoría y rango).                                       |\n",
    "| `taxonrankid`             | Decimal         | Identificador único del rango taxonómico del taxón.                                                     |\n",
    "| `taxonrank`               | Texto           | Rango taxonómico del taxón (e.g., Species, Subspecies).                                                 |\n",
    "| `verbatimtaxonrank`       | Texto           | Rango taxonómico según su representación literal.                                                       |\n",
    "| `areacode`                | Texto           | Código del área geográfica relacionada con el taxón.                                                    |\n",
    "| `origenid`                | Decimal         | Identificador único del origen del taxón.                                                               |\n",
    "| `origen`                  | Texto           | Origen del taxón (e.g., Especie nativa, Introducida).                                                   |\n",
    "| `taxonomicgroupid`        | Decimal         | Identificador único del grupo taxonómico al que pertenece el taxón.                                     |\n",
    "| `taxonomicgroup`          | Texto           | Grupo taxonómico (e.g., Plantas vasculares, Aves).                                                      |\n",
    "| `kingdomid`               | Entero          | Identificador único del reino del taxón.                                                                |\n",
    "| `kingdom`                 | Texto           | Reino al que pertenece el taxón (e.g., Plantae, Animalia).                                              |\n",
    "| `phylumid`                | Decimal         | Identificador único del filo del taxón.                                                                 |\n",
    "| `phylum`                  | Texto           | Filo al que pertenece el taxón.                                                                         |\n",
    "| `classid`                 | Decimal         | Identificador único de la clase del taxón.                                                              |\n",
    "| `class`                   | Texto           | Clase a la que pertenece el taxón.                                                                      |\n",
    "| `orderid`                 | Decimal         | Identificador único del orden del taxón.                                                                |\n",
    "| `order`                   | Texto           | Orden al que pertenece el taxón.                                                                        |\n",
    "| `familyid`                | Decimal         | Identificador único de la familia del taxón.                                                            |\n",
    "| `family`                  | Texto           | Familia a la que pertenece el taxón.                                                                    |\n",
    "| `genusid`                 | Decimal         | Identificador único del género del taxón.                                                               |\n",
    "| `genus`                   | Texto           | Género al que pertenece el taxón.                                                                       |\n",
    "| `subgenusid`              | Decimal         | Identificador único del subgénero del taxón (si aplica).                                                |\n",
    "| `subgenus`                | Texto           | Subgénero al que pertenece el taxón (si aplica).                                                        |\n",
    "| `specificepithet`         | Texto           | Epíteto específico del taxón.                                                                           |\n",
    "| `infraspecificepithet`    | Texto           | Epíteto infraespecífico del taxón (si aplica).                                                          |\n",
    "| `taxonconceptid`          | Texto           | Identificador único del concepto taxonómico asociado al taxón.                                          |\n",
    "| `scientificnameid`        | Texto           | Identificador único del nombre científico del taxón.                                                    |\n",
    "| `originalnameusage`       | Texto           | Uso original del nombre científico del taxón (si aplica).                                               |\n",
    "| `nameaccordingto`         | Texto           | Referencia de la fuente que define el nombre del taxón.                                                 |\n",
    "| `namepublishedin`         | Texto           | Publicación en la que se describe originalmente el taxón.                                               |\n",
    "| `namepublishedinyear`     | Entero          | Año de publicación del nombre del taxón.                                                                |\n",
    "| `scientificnameauthorship`| Texto           | Autoría del nombre científico del taxón.                                                                |\n",
    "| `remarks`                 | Texto           | Observaciones adicionales sobre el taxón.                                                               |\n",
    "| `citescode`               | Texto           | Código asociado a CITES para el taxón (si aplica).                                                      |\n",
    "| `euniscode`               | Texto           | Código asociado a EUNIS para el taxón (si aplica).                                                      |\n",
    "| `euringcode`              | Texto           | Código asociado a EURING para el taxón (si aplica).                                                     |\n",
    "| `rednaturacode`           | Texto           | Código asociado a la Red Natura 2000 (si aplica).                                                       |\n",
    "| `lp`                      | Entero          | Código del listado de protección del taxón.                                                             |\n",
    "| `taxonid`                 | Decimal         | Identificador único del taxón en la base de datos.                                                      |\n",
    "| `nametypeid`              | Decimal         | Identificador único del tipo de nombre asociado al taxón.                                               |\n",
    "| `nametype`                | Texto           | Tipo de nombre asociado al taxón (e.g., Aceptado/válido).                                               |\n",
    "| `acceptednameid`          | Decimal         | Identificador único del nombre aceptado del taxón (si es un sinónimo).                                  |\n"
   ]
  },
  {
   "cell_type": "code",
   "execution_count": 11,
   "metadata": {},
   "outputs": [],
   "source": [
    "# Ahora mismo descarga los primeros 20000 registros porque si no da error\n",
    "url = \"https://iepnb.gob.es:443/api/especie/v_taxonomia?nameid=gt.250000\"\n",
    "name = 'taxonomia'\n",
    "get_data(url,name)"
   ]
  },
  {
   "cell_type": "code",
   "execution_count": 13,
   "metadata": {},
   "outputs": [
    {
     "name": "stdout",
     "output_type": "stream",
     "text": [
      "Downloading 150...\r"
     ]
    },
    {
     "ename": "KeyboardInterrupt",
     "evalue": "",
     "output_type": "error",
     "traceback": [
      "\u001b[1;31m---------------------------------------------------------------------------\u001b[0m",
      "\u001b[1;31mKeyboardInterrupt\u001b[0m                         Traceback (most recent call last)",
      "Cell \u001b[1;32mIn[13], line 11\u001b[0m\n\u001b[0;32m      9\u001b[0m name \u001b[38;5;241m=\u001b[39m \u001b[38;5;124mf\u001b[39m\u001b[38;5;124m'\u001b[39m\u001b[38;5;124mubicacion_\u001b[39m\u001b[38;5;132;01m{\u001b[39;00mi\u001b[38;5;132;01m}\u001b[39;00m\u001b[38;5;124m'\u001b[39m\n\u001b[0;32m     10\u001b[0m \u001b[38;5;66;03m# Realizar la petición GET\u001b[39;00m\n\u001b[1;32m---> 11\u001b[0m response \u001b[38;5;241m=\u001b[39m \u001b[43mrequests\u001b[49m\u001b[38;5;241;43m.\u001b[39;49m\u001b[43mget\u001b[49m\u001b[43m(\u001b[49m\u001b[43murl\u001b[49m\u001b[43m)\u001b[49m\n\u001b[0;32m     12\u001b[0m \u001b[38;5;66;03m# Verificar si la solicitud fue exitosa (código 200)\u001b[39;00m\n\u001b[0;32m     13\u001b[0m \u001b[38;5;28;01mif\u001b[39;00m response\u001b[38;5;241m.\u001b[39mstatus_code \u001b[38;5;241m==\u001b[39m \u001b[38;5;241m200\u001b[39m:\n\u001b[0;32m     14\u001b[0m     \u001b[38;5;66;03m# Procesar los datos\u001b[39;00m\n",
      "File \u001b[1;32mc:\\Users\\alber\\anaconda3\\lib\\site-packages\\requests\\api.py:73\u001b[0m, in \u001b[0;36mget\u001b[1;34m(url, params, **kwargs)\u001b[0m\n\u001b[0;32m     62\u001b[0m \u001b[38;5;28;01mdef\u001b[39;00m \u001b[38;5;21mget\u001b[39m(url, params\u001b[38;5;241m=\u001b[39m\u001b[38;5;28;01mNone\u001b[39;00m, \u001b[38;5;241m*\u001b[39m\u001b[38;5;241m*\u001b[39mkwargs):\n\u001b[0;32m     63\u001b[0m \u001b[38;5;250m    \u001b[39m\u001b[38;5;124mr\u001b[39m\u001b[38;5;124;03m\"\"\"Sends a GET request.\u001b[39;00m\n\u001b[0;32m     64\u001b[0m \n\u001b[0;32m     65\u001b[0m \u001b[38;5;124;03m    :param url: URL for the new :class:`Request` object.\u001b[39;00m\n\u001b[1;32m   (...)\u001b[0m\n\u001b[0;32m     70\u001b[0m \u001b[38;5;124;03m    :rtype: requests.Response\u001b[39;00m\n\u001b[0;32m     71\u001b[0m \u001b[38;5;124;03m    \"\"\"\u001b[39;00m\n\u001b[1;32m---> 73\u001b[0m     \u001b[38;5;28;01mreturn\u001b[39;00m request(\u001b[38;5;124m\"\u001b[39m\u001b[38;5;124mget\u001b[39m\u001b[38;5;124m\"\u001b[39m, url, params\u001b[38;5;241m=\u001b[39mparams, \u001b[38;5;241m*\u001b[39m\u001b[38;5;241m*\u001b[39mkwargs)\n",
      "File \u001b[1;32mc:\\Users\\alber\\anaconda3\\lib\\site-packages\\requests\\api.py:59\u001b[0m, in \u001b[0;36mrequest\u001b[1;34m(method, url, **kwargs)\u001b[0m\n\u001b[0;32m     55\u001b[0m \u001b[38;5;66;03m# By using the 'with' statement we are sure the session is closed, thus we\u001b[39;00m\n\u001b[0;32m     56\u001b[0m \u001b[38;5;66;03m# avoid leaving sockets open which can trigger a ResourceWarning in some\u001b[39;00m\n\u001b[0;32m     57\u001b[0m \u001b[38;5;66;03m# cases, and look like a memory leak in others.\u001b[39;00m\n\u001b[0;32m     58\u001b[0m \u001b[38;5;28;01mwith\u001b[39;00m sessions\u001b[38;5;241m.\u001b[39mSession() \u001b[38;5;28;01mas\u001b[39;00m session:\n\u001b[1;32m---> 59\u001b[0m     \u001b[38;5;28;01mreturn\u001b[39;00m session\u001b[38;5;241m.\u001b[39mrequest(method\u001b[38;5;241m=\u001b[39mmethod, url\u001b[38;5;241m=\u001b[39murl, \u001b[38;5;241m*\u001b[39m\u001b[38;5;241m*\u001b[39mkwargs)\n",
      "File \u001b[1;32mc:\\Users\\alber\\anaconda3\\lib\\site-packages\\requests\\sessions.py:587\u001b[0m, in \u001b[0;36mSession.request\u001b[1;34m(self, method, url, params, data, headers, cookies, files, auth, timeout, allow_redirects, proxies, hooks, stream, verify, cert, json)\u001b[0m\n\u001b[0;32m    582\u001b[0m send_kwargs \u001b[38;5;241m=\u001b[39m {\n\u001b[0;32m    583\u001b[0m     \u001b[38;5;124m\"\u001b[39m\u001b[38;5;124mtimeout\u001b[39m\u001b[38;5;124m\"\u001b[39m: timeout,\n\u001b[0;32m    584\u001b[0m     \u001b[38;5;124m\"\u001b[39m\u001b[38;5;124mallow_redirects\u001b[39m\u001b[38;5;124m\"\u001b[39m: allow_redirects,\n\u001b[0;32m    585\u001b[0m }\n\u001b[0;32m    586\u001b[0m send_kwargs\u001b[38;5;241m.\u001b[39mupdate(settings)\n\u001b[1;32m--> 587\u001b[0m resp \u001b[38;5;241m=\u001b[39m \u001b[38;5;28mself\u001b[39m\u001b[38;5;241m.\u001b[39msend(prep, \u001b[38;5;241m*\u001b[39m\u001b[38;5;241m*\u001b[39msend_kwargs)\n\u001b[0;32m    589\u001b[0m \u001b[38;5;28;01mreturn\u001b[39;00m resp\n",
      "File \u001b[1;32mc:\\Users\\alber\\anaconda3\\lib\\site-packages\\requests\\sessions.py:701\u001b[0m, in \u001b[0;36mSession.send\u001b[1;34m(self, request, **kwargs)\u001b[0m\n\u001b[0;32m    698\u001b[0m start \u001b[38;5;241m=\u001b[39m preferred_clock()\n\u001b[0;32m    700\u001b[0m \u001b[38;5;66;03m# Send the request\u001b[39;00m\n\u001b[1;32m--> 701\u001b[0m r \u001b[38;5;241m=\u001b[39m adapter\u001b[38;5;241m.\u001b[39msend(request, \u001b[38;5;241m*\u001b[39m\u001b[38;5;241m*\u001b[39mkwargs)\n\u001b[0;32m    703\u001b[0m \u001b[38;5;66;03m# Total elapsed time of the request (approximately)\u001b[39;00m\n\u001b[0;32m    704\u001b[0m elapsed \u001b[38;5;241m=\u001b[39m preferred_clock() \u001b[38;5;241m-\u001b[39m start\n",
      "File \u001b[1;32mc:\\Users\\alber\\anaconda3\\lib\\site-packages\\requests\\adapters.py:489\u001b[0m, in \u001b[0;36mHTTPAdapter.send\u001b[1;34m(self, request, stream, timeout, verify, cert, proxies)\u001b[0m\n\u001b[0;32m    487\u001b[0m \u001b[38;5;28;01mtry\u001b[39;00m:\n\u001b[0;32m    488\u001b[0m     \u001b[38;5;28;01mif\u001b[39;00m \u001b[38;5;129;01mnot\u001b[39;00m chunked:\n\u001b[1;32m--> 489\u001b[0m         resp \u001b[38;5;241m=\u001b[39m \u001b[43mconn\u001b[49m\u001b[38;5;241;43m.\u001b[39;49m\u001b[43murlopen\u001b[49m\u001b[43m(\u001b[49m\n\u001b[0;32m    490\u001b[0m \u001b[43m            \u001b[49m\u001b[43mmethod\u001b[49m\u001b[38;5;241;43m=\u001b[39;49m\u001b[43mrequest\u001b[49m\u001b[38;5;241;43m.\u001b[39;49m\u001b[43mmethod\u001b[49m\u001b[43m,\u001b[49m\n\u001b[0;32m    491\u001b[0m \u001b[43m            \u001b[49m\u001b[43murl\u001b[49m\u001b[38;5;241;43m=\u001b[39;49m\u001b[43murl\u001b[49m\u001b[43m,\u001b[49m\n\u001b[0;32m    492\u001b[0m \u001b[43m            \u001b[49m\u001b[43mbody\u001b[49m\u001b[38;5;241;43m=\u001b[39;49m\u001b[43mrequest\u001b[49m\u001b[38;5;241;43m.\u001b[39;49m\u001b[43mbody\u001b[49m\u001b[43m,\u001b[49m\n\u001b[0;32m    493\u001b[0m \u001b[43m            \u001b[49m\u001b[43mheaders\u001b[49m\u001b[38;5;241;43m=\u001b[39;49m\u001b[43mrequest\u001b[49m\u001b[38;5;241;43m.\u001b[39;49m\u001b[43mheaders\u001b[49m\u001b[43m,\u001b[49m\n\u001b[0;32m    494\u001b[0m \u001b[43m            \u001b[49m\u001b[43mredirect\u001b[49m\u001b[38;5;241;43m=\u001b[39;49m\u001b[38;5;28;43;01mFalse\u001b[39;49;00m\u001b[43m,\u001b[49m\n\u001b[0;32m    495\u001b[0m \u001b[43m            \u001b[49m\u001b[43massert_same_host\u001b[49m\u001b[38;5;241;43m=\u001b[39;49m\u001b[38;5;28;43;01mFalse\u001b[39;49;00m\u001b[43m,\u001b[49m\n\u001b[0;32m    496\u001b[0m \u001b[43m            \u001b[49m\u001b[43mpreload_content\u001b[49m\u001b[38;5;241;43m=\u001b[39;49m\u001b[38;5;28;43;01mFalse\u001b[39;49;00m\u001b[43m,\u001b[49m\n\u001b[0;32m    497\u001b[0m \u001b[43m            \u001b[49m\u001b[43mdecode_content\u001b[49m\u001b[38;5;241;43m=\u001b[39;49m\u001b[38;5;28;43;01mFalse\u001b[39;49;00m\u001b[43m,\u001b[49m\n\u001b[0;32m    498\u001b[0m \u001b[43m            \u001b[49m\u001b[43mretries\u001b[49m\u001b[38;5;241;43m=\u001b[39;49m\u001b[38;5;28;43mself\u001b[39;49m\u001b[38;5;241;43m.\u001b[39;49m\u001b[43mmax_retries\u001b[49m\u001b[43m,\u001b[49m\n\u001b[0;32m    499\u001b[0m \u001b[43m            \u001b[49m\u001b[43mtimeout\u001b[49m\u001b[38;5;241;43m=\u001b[39;49m\u001b[43mtimeout\u001b[49m\u001b[43m,\u001b[49m\n\u001b[0;32m    500\u001b[0m \u001b[43m        \u001b[49m\u001b[43m)\u001b[49m\n\u001b[0;32m    502\u001b[0m     \u001b[38;5;66;03m# Send the request.\u001b[39;00m\n\u001b[0;32m    503\u001b[0m     \u001b[38;5;28;01melse\u001b[39;00m:\n\u001b[0;32m    504\u001b[0m         \u001b[38;5;28;01mif\u001b[39;00m \u001b[38;5;28mhasattr\u001b[39m(conn, \u001b[38;5;124m\"\u001b[39m\u001b[38;5;124mproxy_pool\u001b[39m\u001b[38;5;124m\"\u001b[39m):\n",
      "File \u001b[1;32mc:\\Users\\alber\\anaconda3\\lib\\site-packages\\urllib3\\connectionpool.py:703\u001b[0m, in \u001b[0;36mHTTPConnectionPool.urlopen\u001b[1;34m(self, method, url, body, headers, retries, redirect, assert_same_host, timeout, pool_timeout, release_conn, chunked, body_pos, **response_kw)\u001b[0m\n\u001b[0;32m    700\u001b[0m     \u001b[38;5;28mself\u001b[39m\u001b[38;5;241m.\u001b[39m_prepare_proxy(conn)\n\u001b[0;32m    702\u001b[0m \u001b[38;5;66;03m# Make the request on the httplib connection object.\u001b[39;00m\n\u001b[1;32m--> 703\u001b[0m httplib_response \u001b[38;5;241m=\u001b[39m \u001b[38;5;28;43mself\u001b[39;49m\u001b[38;5;241;43m.\u001b[39;49m\u001b[43m_make_request\u001b[49m\u001b[43m(\u001b[49m\n\u001b[0;32m    704\u001b[0m \u001b[43m    \u001b[49m\u001b[43mconn\u001b[49m\u001b[43m,\u001b[49m\n\u001b[0;32m    705\u001b[0m \u001b[43m    \u001b[49m\u001b[43mmethod\u001b[49m\u001b[43m,\u001b[49m\n\u001b[0;32m    706\u001b[0m \u001b[43m    \u001b[49m\u001b[43murl\u001b[49m\u001b[43m,\u001b[49m\n\u001b[0;32m    707\u001b[0m \u001b[43m    \u001b[49m\u001b[43mtimeout\u001b[49m\u001b[38;5;241;43m=\u001b[39;49m\u001b[43mtimeout_obj\u001b[49m\u001b[43m,\u001b[49m\n\u001b[0;32m    708\u001b[0m \u001b[43m    \u001b[49m\u001b[43mbody\u001b[49m\u001b[38;5;241;43m=\u001b[39;49m\u001b[43mbody\u001b[49m\u001b[43m,\u001b[49m\n\u001b[0;32m    709\u001b[0m \u001b[43m    \u001b[49m\u001b[43mheaders\u001b[49m\u001b[38;5;241;43m=\u001b[39;49m\u001b[43mheaders\u001b[49m\u001b[43m,\u001b[49m\n\u001b[0;32m    710\u001b[0m \u001b[43m    \u001b[49m\u001b[43mchunked\u001b[49m\u001b[38;5;241;43m=\u001b[39;49m\u001b[43mchunked\u001b[49m\u001b[43m,\u001b[49m\n\u001b[0;32m    711\u001b[0m \u001b[43m\u001b[49m\u001b[43m)\u001b[49m\n\u001b[0;32m    713\u001b[0m \u001b[38;5;66;03m# If we're going to release the connection in ``finally:``, then\u001b[39;00m\n\u001b[0;32m    714\u001b[0m \u001b[38;5;66;03m# the response doesn't need to know about the connection. Otherwise\u001b[39;00m\n\u001b[0;32m    715\u001b[0m \u001b[38;5;66;03m# it will also try to release it and we'll have a double-release\u001b[39;00m\n\u001b[0;32m    716\u001b[0m \u001b[38;5;66;03m# mess.\u001b[39;00m\n\u001b[0;32m    717\u001b[0m response_conn \u001b[38;5;241m=\u001b[39m conn \u001b[38;5;28;01mif\u001b[39;00m \u001b[38;5;129;01mnot\u001b[39;00m release_conn \u001b[38;5;28;01melse\u001b[39;00m \u001b[38;5;28;01mNone\u001b[39;00m\n",
      "File \u001b[1;32mc:\\Users\\alber\\anaconda3\\lib\\site-packages\\urllib3\\connectionpool.py:386\u001b[0m, in \u001b[0;36mHTTPConnectionPool._make_request\u001b[1;34m(self, conn, method, url, timeout, chunked, **httplib_request_kw)\u001b[0m\n\u001b[0;32m    384\u001b[0m \u001b[38;5;66;03m# Trigger any extra validation we need to do.\u001b[39;00m\n\u001b[0;32m    385\u001b[0m \u001b[38;5;28;01mtry\u001b[39;00m:\n\u001b[1;32m--> 386\u001b[0m     \u001b[38;5;28;43mself\u001b[39;49m\u001b[38;5;241;43m.\u001b[39;49m\u001b[43m_validate_conn\u001b[49m\u001b[43m(\u001b[49m\u001b[43mconn\u001b[49m\u001b[43m)\u001b[49m\n\u001b[0;32m    387\u001b[0m \u001b[38;5;28;01mexcept\u001b[39;00m (SocketTimeout, BaseSSLError) \u001b[38;5;28;01mas\u001b[39;00m e:\n\u001b[0;32m    388\u001b[0m     \u001b[38;5;66;03m# Py2 raises this as a BaseSSLError, Py3 raises it as socket timeout.\u001b[39;00m\n\u001b[0;32m    389\u001b[0m     \u001b[38;5;28mself\u001b[39m\u001b[38;5;241m.\u001b[39m_raise_timeout(err\u001b[38;5;241m=\u001b[39me, url\u001b[38;5;241m=\u001b[39murl, timeout_value\u001b[38;5;241m=\u001b[39mconn\u001b[38;5;241m.\u001b[39mtimeout)\n",
      "File \u001b[1;32mc:\\Users\\alber\\anaconda3\\lib\\site-packages\\urllib3\\connectionpool.py:1042\u001b[0m, in \u001b[0;36mHTTPSConnectionPool._validate_conn\u001b[1;34m(self, conn)\u001b[0m\n\u001b[0;32m   1040\u001b[0m \u001b[38;5;66;03m# Force connect early to allow us to validate the connection.\u001b[39;00m\n\u001b[0;32m   1041\u001b[0m \u001b[38;5;28;01mif\u001b[39;00m \u001b[38;5;129;01mnot\u001b[39;00m \u001b[38;5;28mgetattr\u001b[39m(conn, \u001b[38;5;124m\"\u001b[39m\u001b[38;5;124msock\u001b[39m\u001b[38;5;124m\"\u001b[39m, \u001b[38;5;28;01mNone\u001b[39;00m):  \u001b[38;5;66;03m# AppEngine might not have  `.sock`\u001b[39;00m\n\u001b[1;32m-> 1042\u001b[0m     \u001b[43mconn\u001b[49m\u001b[38;5;241;43m.\u001b[39;49m\u001b[43mconnect\u001b[49m\u001b[43m(\u001b[49m\u001b[43m)\u001b[49m\n\u001b[0;32m   1044\u001b[0m \u001b[38;5;28;01mif\u001b[39;00m \u001b[38;5;129;01mnot\u001b[39;00m conn\u001b[38;5;241m.\u001b[39mis_verified:\n\u001b[0;32m   1045\u001b[0m     warnings\u001b[38;5;241m.\u001b[39mwarn(\n\u001b[0;32m   1046\u001b[0m         (\n\u001b[0;32m   1047\u001b[0m             \u001b[38;5;124m\"\u001b[39m\u001b[38;5;124mUnverified HTTPS request is being made to host \u001b[39m\u001b[38;5;124m'\u001b[39m\u001b[38;5;132;01m%s\u001b[39;00m\u001b[38;5;124m'\u001b[39m\u001b[38;5;124m. \u001b[39m\u001b[38;5;124m\"\u001b[39m\n\u001b[1;32m   (...)\u001b[0m\n\u001b[0;32m   1052\u001b[0m         InsecureRequestWarning,\n\u001b[0;32m   1053\u001b[0m     )\n",
      "File \u001b[1;32mc:\\Users\\alber\\anaconda3\\lib\\site-packages\\urllib3\\connection.py:414\u001b[0m, in \u001b[0;36mHTTPSConnection.connect\u001b[1;34m(self)\u001b[0m\n\u001b[0;32m    405\u001b[0m \u001b[38;5;28;01mif\u001b[39;00m (\n\u001b[0;32m    406\u001b[0m     \u001b[38;5;129;01mnot\u001b[39;00m \u001b[38;5;28mself\u001b[39m\u001b[38;5;241m.\u001b[39mca_certs\n\u001b[0;32m    407\u001b[0m     \u001b[38;5;129;01mand\u001b[39;00m \u001b[38;5;129;01mnot\u001b[39;00m \u001b[38;5;28mself\u001b[39m\u001b[38;5;241m.\u001b[39mca_cert_dir\n\u001b[1;32m   (...)\u001b[0m\n\u001b[0;32m    410\u001b[0m     \u001b[38;5;129;01mand\u001b[39;00m \u001b[38;5;28mhasattr\u001b[39m(context, \u001b[38;5;124m\"\u001b[39m\u001b[38;5;124mload_default_certs\u001b[39m\u001b[38;5;124m\"\u001b[39m)\n\u001b[0;32m    411\u001b[0m ):\n\u001b[0;32m    412\u001b[0m     context\u001b[38;5;241m.\u001b[39mload_default_certs()\n\u001b[1;32m--> 414\u001b[0m \u001b[38;5;28mself\u001b[39m\u001b[38;5;241m.\u001b[39msock \u001b[38;5;241m=\u001b[39m \u001b[43mssl_wrap_socket\u001b[49m\u001b[43m(\u001b[49m\n\u001b[0;32m    415\u001b[0m \u001b[43m    \u001b[49m\u001b[43msock\u001b[49m\u001b[38;5;241;43m=\u001b[39;49m\u001b[43mconn\u001b[49m\u001b[43m,\u001b[49m\n\u001b[0;32m    416\u001b[0m \u001b[43m    \u001b[49m\u001b[43mkeyfile\u001b[49m\u001b[38;5;241;43m=\u001b[39;49m\u001b[38;5;28;43mself\u001b[39;49m\u001b[38;5;241;43m.\u001b[39;49m\u001b[43mkey_file\u001b[49m\u001b[43m,\u001b[49m\n\u001b[0;32m    417\u001b[0m \u001b[43m    \u001b[49m\u001b[43mcertfile\u001b[49m\u001b[38;5;241;43m=\u001b[39;49m\u001b[38;5;28;43mself\u001b[39;49m\u001b[38;5;241;43m.\u001b[39;49m\u001b[43mcert_file\u001b[49m\u001b[43m,\u001b[49m\n\u001b[0;32m    418\u001b[0m \u001b[43m    \u001b[49m\u001b[43mkey_password\u001b[49m\u001b[38;5;241;43m=\u001b[39;49m\u001b[38;5;28;43mself\u001b[39;49m\u001b[38;5;241;43m.\u001b[39;49m\u001b[43mkey_password\u001b[49m\u001b[43m,\u001b[49m\n\u001b[0;32m    419\u001b[0m \u001b[43m    \u001b[49m\u001b[43mca_certs\u001b[49m\u001b[38;5;241;43m=\u001b[39;49m\u001b[38;5;28;43mself\u001b[39;49m\u001b[38;5;241;43m.\u001b[39;49m\u001b[43mca_certs\u001b[49m\u001b[43m,\u001b[49m\n\u001b[0;32m    420\u001b[0m \u001b[43m    \u001b[49m\u001b[43mca_cert_dir\u001b[49m\u001b[38;5;241;43m=\u001b[39;49m\u001b[38;5;28;43mself\u001b[39;49m\u001b[38;5;241;43m.\u001b[39;49m\u001b[43mca_cert_dir\u001b[49m\u001b[43m,\u001b[49m\n\u001b[0;32m    421\u001b[0m \u001b[43m    \u001b[49m\u001b[43mca_cert_data\u001b[49m\u001b[38;5;241;43m=\u001b[39;49m\u001b[38;5;28;43mself\u001b[39;49m\u001b[38;5;241;43m.\u001b[39;49m\u001b[43mca_cert_data\u001b[49m\u001b[43m,\u001b[49m\n\u001b[0;32m    422\u001b[0m \u001b[43m    \u001b[49m\u001b[43mserver_hostname\u001b[49m\u001b[38;5;241;43m=\u001b[39;49m\u001b[43mserver_hostname\u001b[49m\u001b[43m,\u001b[49m\n\u001b[0;32m    423\u001b[0m \u001b[43m    \u001b[49m\u001b[43mssl_context\u001b[49m\u001b[38;5;241;43m=\u001b[39;49m\u001b[43mcontext\u001b[49m\u001b[43m,\u001b[49m\n\u001b[0;32m    424\u001b[0m \u001b[43m    \u001b[49m\u001b[43mtls_in_tls\u001b[49m\u001b[38;5;241;43m=\u001b[39;49m\u001b[43mtls_in_tls\u001b[49m\u001b[43m,\u001b[49m\n\u001b[0;32m    425\u001b[0m \u001b[43m\u001b[49m\u001b[43m)\u001b[49m\n\u001b[0;32m    427\u001b[0m \u001b[38;5;66;03m# If we're using all defaults and the connection\u001b[39;00m\n\u001b[0;32m    428\u001b[0m \u001b[38;5;66;03m# is TLSv1 or TLSv1.1 we throw a DeprecationWarning\u001b[39;00m\n\u001b[0;32m    429\u001b[0m \u001b[38;5;66;03m# for the host.\u001b[39;00m\n\u001b[0;32m    430\u001b[0m \u001b[38;5;28;01mif\u001b[39;00m (\n\u001b[0;32m    431\u001b[0m     default_ssl_context\n\u001b[0;32m    432\u001b[0m     \u001b[38;5;129;01mand\u001b[39;00m \u001b[38;5;28mself\u001b[39m\u001b[38;5;241m.\u001b[39mssl_version \u001b[38;5;129;01mis\u001b[39;00m \u001b[38;5;28;01mNone\u001b[39;00m\n\u001b[0;32m    433\u001b[0m     \u001b[38;5;129;01mand\u001b[39;00m \u001b[38;5;28mhasattr\u001b[39m(\u001b[38;5;28mself\u001b[39m\u001b[38;5;241m.\u001b[39msock, \u001b[38;5;124m\"\u001b[39m\u001b[38;5;124mversion\u001b[39m\u001b[38;5;124m\"\u001b[39m)\n\u001b[0;32m    434\u001b[0m     \u001b[38;5;129;01mand\u001b[39;00m \u001b[38;5;28mself\u001b[39m\u001b[38;5;241m.\u001b[39msock\u001b[38;5;241m.\u001b[39mversion() \u001b[38;5;129;01min\u001b[39;00m {\u001b[38;5;124m\"\u001b[39m\u001b[38;5;124mTLSv1\u001b[39m\u001b[38;5;124m\"\u001b[39m, \u001b[38;5;124m\"\u001b[39m\u001b[38;5;124mTLSv1.1\u001b[39m\u001b[38;5;124m\"\u001b[39m}\n\u001b[0;32m    435\u001b[0m ):\n",
      "File \u001b[1;32mc:\\Users\\alber\\anaconda3\\lib\\site-packages\\urllib3\\util\\ssl_.py:449\u001b[0m, in \u001b[0;36mssl_wrap_socket\u001b[1;34m(sock, keyfile, certfile, cert_reqs, ca_certs, server_hostname, ssl_version, ciphers, ssl_context, ca_cert_dir, key_password, ca_cert_data, tls_in_tls)\u001b[0m\n\u001b[0;32m    437\u001b[0m     warnings\u001b[38;5;241m.\u001b[39mwarn(\n\u001b[0;32m    438\u001b[0m         \u001b[38;5;124m\"\u001b[39m\u001b[38;5;124mAn HTTPS request has been made, but the SNI (Server Name \u001b[39m\u001b[38;5;124m\"\u001b[39m\n\u001b[0;32m    439\u001b[0m         \u001b[38;5;124m\"\u001b[39m\u001b[38;5;124mIndication) extension to TLS is not available on this platform. \u001b[39m\u001b[38;5;124m\"\u001b[39m\n\u001b[1;32m   (...)\u001b[0m\n\u001b[0;32m    445\u001b[0m         SNIMissingWarning,\n\u001b[0;32m    446\u001b[0m     )\n\u001b[0;32m    448\u001b[0m \u001b[38;5;28;01mif\u001b[39;00m send_sni:\n\u001b[1;32m--> 449\u001b[0m     ssl_sock \u001b[38;5;241m=\u001b[39m \u001b[43m_ssl_wrap_socket_impl\u001b[49m\u001b[43m(\u001b[49m\n\u001b[0;32m    450\u001b[0m \u001b[43m        \u001b[49m\u001b[43msock\u001b[49m\u001b[43m,\u001b[49m\u001b[43m \u001b[49m\u001b[43mcontext\u001b[49m\u001b[43m,\u001b[49m\u001b[43m \u001b[49m\u001b[43mtls_in_tls\u001b[49m\u001b[43m,\u001b[49m\u001b[43m \u001b[49m\u001b[43mserver_hostname\u001b[49m\u001b[38;5;241;43m=\u001b[39;49m\u001b[43mserver_hostname\u001b[49m\n\u001b[0;32m    451\u001b[0m \u001b[43m    \u001b[49m\u001b[43m)\u001b[49m\n\u001b[0;32m    452\u001b[0m \u001b[38;5;28;01melse\u001b[39;00m:\n\u001b[0;32m    453\u001b[0m     ssl_sock \u001b[38;5;241m=\u001b[39m _ssl_wrap_socket_impl(sock, context, tls_in_tls)\n",
      "File \u001b[1;32mc:\\Users\\alber\\anaconda3\\lib\\site-packages\\urllib3\\util\\ssl_.py:493\u001b[0m, in \u001b[0;36m_ssl_wrap_socket_impl\u001b[1;34m(sock, ssl_context, tls_in_tls, server_hostname)\u001b[0m\n\u001b[0;32m    490\u001b[0m     \u001b[38;5;28;01mreturn\u001b[39;00m SSLTransport(sock, ssl_context, server_hostname)\n\u001b[0;32m    492\u001b[0m \u001b[38;5;28;01mif\u001b[39;00m server_hostname:\n\u001b[1;32m--> 493\u001b[0m     \u001b[38;5;28;01mreturn\u001b[39;00m \u001b[43mssl_context\u001b[49m\u001b[38;5;241;43m.\u001b[39;49m\u001b[43mwrap_socket\u001b[49m\u001b[43m(\u001b[49m\u001b[43msock\u001b[49m\u001b[43m,\u001b[49m\u001b[43m \u001b[49m\u001b[43mserver_hostname\u001b[49m\u001b[38;5;241;43m=\u001b[39;49m\u001b[43mserver_hostname\u001b[49m\u001b[43m)\u001b[49m\n\u001b[0;32m    494\u001b[0m \u001b[38;5;28;01melse\u001b[39;00m:\n\u001b[0;32m    495\u001b[0m     \u001b[38;5;28;01mreturn\u001b[39;00m ssl_context\u001b[38;5;241m.\u001b[39mwrap_socket(sock)\n",
      "File \u001b[1;32mc:\\Users\\alber\\anaconda3\\lib\\ssl.py:513\u001b[0m, in \u001b[0;36mSSLContext.wrap_socket\u001b[1;34m(self, sock, server_side, do_handshake_on_connect, suppress_ragged_eofs, server_hostname, session)\u001b[0m\n\u001b[0;32m    507\u001b[0m \u001b[38;5;28;01mdef\u001b[39;00m \u001b[38;5;21mwrap_socket\u001b[39m(\u001b[38;5;28mself\u001b[39m, sock, server_side\u001b[38;5;241m=\u001b[39m\u001b[38;5;28;01mFalse\u001b[39;00m,\n\u001b[0;32m    508\u001b[0m                 do_handshake_on_connect\u001b[38;5;241m=\u001b[39m\u001b[38;5;28;01mTrue\u001b[39;00m,\n\u001b[0;32m    509\u001b[0m                 suppress_ragged_eofs\u001b[38;5;241m=\u001b[39m\u001b[38;5;28;01mTrue\u001b[39;00m,\n\u001b[0;32m    510\u001b[0m                 server_hostname\u001b[38;5;241m=\u001b[39m\u001b[38;5;28;01mNone\u001b[39;00m, session\u001b[38;5;241m=\u001b[39m\u001b[38;5;28;01mNone\u001b[39;00m):\n\u001b[0;32m    511\u001b[0m     \u001b[38;5;66;03m# SSLSocket class handles server_hostname encoding before it calls\u001b[39;00m\n\u001b[0;32m    512\u001b[0m     \u001b[38;5;66;03m# ctx._wrap_socket()\u001b[39;00m\n\u001b[1;32m--> 513\u001b[0m     \u001b[38;5;28;01mreturn\u001b[39;00m \u001b[38;5;28;43mself\u001b[39;49m\u001b[38;5;241;43m.\u001b[39;49m\u001b[43msslsocket_class\u001b[49m\u001b[38;5;241;43m.\u001b[39;49m\u001b[43m_create\u001b[49m\u001b[43m(\u001b[49m\n\u001b[0;32m    514\u001b[0m \u001b[43m        \u001b[49m\u001b[43msock\u001b[49m\u001b[38;5;241;43m=\u001b[39;49m\u001b[43msock\u001b[49m\u001b[43m,\u001b[49m\n\u001b[0;32m    515\u001b[0m \u001b[43m        \u001b[49m\u001b[43mserver_side\u001b[49m\u001b[38;5;241;43m=\u001b[39;49m\u001b[43mserver_side\u001b[49m\u001b[43m,\u001b[49m\n\u001b[0;32m    516\u001b[0m \u001b[43m        \u001b[49m\u001b[43mdo_handshake_on_connect\u001b[49m\u001b[38;5;241;43m=\u001b[39;49m\u001b[43mdo_handshake_on_connect\u001b[49m\u001b[43m,\u001b[49m\n\u001b[0;32m    517\u001b[0m \u001b[43m        \u001b[49m\u001b[43msuppress_ragged_eofs\u001b[49m\u001b[38;5;241;43m=\u001b[39;49m\u001b[43msuppress_ragged_eofs\u001b[49m\u001b[43m,\u001b[49m\n\u001b[0;32m    518\u001b[0m \u001b[43m        \u001b[49m\u001b[43mserver_hostname\u001b[49m\u001b[38;5;241;43m=\u001b[39;49m\u001b[43mserver_hostname\u001b[49m\u001b[43m,\u001b[49m\n\u001b[0;32m    519\u001b[0m \u001b[43m        \u001b[49m\u001b[43mcontext\u001b[49m\u001b[38;5;241;43m=\u001b[39;49m\u001b[38;5;28;43mself\u001b[39;49m\u001b[43m,\u001b[49m\n\u001b[0;32m    520\u001b[0m \u001b[43m        \u001b[49m\u001b[43msession\u001b[49m\u001b[38;5;241;43m=\u001b[39;49m\u001b[43msession\u001b[49m\n\u001b[0;32m    521\u001b[0m \u001b[43m    \u001b[49m\u001b[43m)\u001b[49m\n",
      "File \u001b[1;32mc:\\Users\\alber\\anaconda3\\lib\\ssl.py:1071\u001b[0m, in \u001b[0;36mSSLSocket._create\u001b[1;34m(cls, sock, server_side, do_handshake_on_connect, suppress_ragged_eofs, server_hostname, context, session)\u001b[0m\n\u001b[0;32m   1068\u001b[0m         \u001b[38;5;28;01mif\u001b[39;00m timeout \u001b[38;5;241m==\u001b[39m \u001b[38;5;241m0.0\u001b[39m:\n\u001b[0;32m   1069\u001b[0m             \u001b[38;5;66;03m# non-blocking\u001b[39;00m\n\u001b[0;32m   1070\u001b[0m             \u001b[38;5;28;01mraise\u001b[39;00m \u001b[38;5;167;01mValueError\u001b[39;00m(\u001b[38;5;124m\"\u001b[39m\u001b[38;5;124mdo_handshake_on_connect should not be specified for non-blocking sockets\u001b[39m\u001b[38;5;124m\"\u001b[39m)\n\u001b[1;32m-> 1071\u001b[0m         \u001b[38;5;28;43mself\u001b[39;49m\u001b[38;5;241;43m.\u001b[39;49m\u001b[43mdo_handshake\u001b[49m\u001b[43m(\u001b[49m\u001b[43m)\u001b[49m\n\u001b[0;32m   1072\u001b[0m \u001b[38;5;28;01mexcept\u001b[39;00m (\u001b[38;5;167;01mOSError\u001b[39;00m, \u001b[38;5;167;01mValueError\u001b[39;00m):\n\u001b[0;32m   1073\u001b[0m     \u001b[38;5;28mself\u001b[39m\u001b[38;5;241m.\u001b[39mclose()\n",
      "File \u001b[1;32mc:\\Users\\alber\\anaconda3\\lib\\ssl.py:1342\u001b[0m, in \u001b[0;36mSSLSocket.do_handshake\u001b[1;34m(self, block)\u001b[0m\n\u001b[0;32m   1340\u001b[0m     \u001b[38;5;28;01mif\u001b[39;00m timeout \u001b[38;5;241m==\u001b[39m \u001b[38;5;241m0.0\u001b[39m \u001b[38;5;129;01mand\u001b[39;00m block:\n\u001b[0;32m   1341\u001b[0m         \u001b[38;5;28mself\u001b[39m\u001b[38;5;241m.\u001b[39msettimeout(\u001b[38;5;28;01mNone\u001b[39;00m)\n\u001b[1;32m-> 1342\u001b[0m     \u001b[38;5;28;43mself\u001b[39;49m\u001b[38;5;241;43m.\u001b[39;49m\u001b[43m_sslobj\u001b[49m\u001b[38;5;241;43m.\u001b[39;49m\u001b[43mdo_handshake\u001b[49m\u001b[43m(\u001b[49m\u001b[43m)\u001b[49m\n\u001b[0;32m   1343\u001b[0m \u001b[38;5;28;01mfinally\u001b[39;00m:\n\u001b[0;32m   1344\u001b[0m     \u001b[38;5;28mself\u001b[39m\u001b[38;5;241m.\u001b[39msettimeout(timeout)\n",
      "\u001b[1;31mKeyboardInterrupt\u001b[0m: "
     ]
    }
   ],
   "source": [
    "i = 0\n",
    "failed_counter = 0\n",
    "FAILED_TOLERANCE = 1000\n",
    "os.makedirs('EIDOS_taxonomia', exist_ok=True)\n",
    "while failed_counter < FAILED_TOLERANCE:\n",
    "    print(f\"Downloading {(i+1)*5000}...\", end='\\r')\n",
    "    url = f'https://iepnb.gob.es/api/especie/v_taxonomia?nameid=gt.{i*5000}&limit=5000'\n",
    "    name = f'ubicacion_{i}'\n",
    "    # Realizar la petición GET\n",
    "    response = requests.get(url)\n",
    "    # Verificar si la solicitud fue exitosa (código 200)\n",
    "    if response.status_code == 200:\n",
    "        # Procesar los datos\n",
    "        df = pd.DataFrame(response.json())\n",
    "        if len(df) > 0: \n",
    "            df.to_csv(os.path.join(f'EIDOS_taxonomia/{i}.csv'), index=False)\n",
    "            failed_counter = 0\n",
    "        else:\n",
    "            failed_counter += 1\n",
    "    else:\n",
    "        failed_counter += 1\n",
    "    i += 1\n",
    "print(f\"Stopped downloading at {i-FAILED_TOLERANCE}...\")"
   ]
  },
  {
   "cell_type": "markdown",
   "metadata": {},
   "source": [
    "### 3.3. Estado de conservación\n",
    "Proporciona información sobre el estado, categorías y criterios de conservación de los taxones.\n",
    "| **Columna**               | **Tipo de Dato** | **Descripción**                                                                                          |\n",
    "|---------------------------|------------------|----------------------------------------------------------------------------------------------------------|\n",
    "| `idtaxon`                 | Entero          | Identificador único del taxón en la base de datos.                                                      |\n",
    "| `idestadoconservacion`    | Entero          | Identificador único del estado de conservación del taxón (si aplica).                                   |\n",
    "| `estadoconservacion`      | Texto           | Descripción del estado de conservación (puede estar vacío si no aplica).                                |\n",
    "| `anio`                    | Entero          | Año en el que se asignó el estado o categoría de conservación.                                          |\n",
    "| `idcategoria`             | Entero          | Identificador único de la categoría de conservación del taxón.                                          |\n",
    "| `categoriaconservacion`   | Texto           | Categoría de conservación del taxón (e.g., EN - En peligro, VU - Vulnerable).                           |\n",
    "| `idcriterio`              | Entero          | Identificador único del criterio de conservación.                                                       |\n",
    "| `criteriomedidaconservacion`| Texto          | Descripción del criterio asociado a medidas de conservación (si aplica).                                |\n",
    "| `descripcion`             | Texto           | Descripción adicional del estado o criterio de conservación (si aplica).                                |\n",
    "| `criterios`               | Texto           | Criterios específicos aplicados al estado de conservación (e.g., B1+2bce, B2ab(v)).                     |\n",
    "| `idautoridad`             | Entero          | Identificador único de la autoridad que asignó el estado de conservación.                               |\n",
    "| `autoridad`               | Texto           | Nombre de la autoridad responsable (e.g., UICN, organismo nacional).                                    |\n",
    "| `idaplicaa`               | Entero          | Identificador único del ámbito geográfico de aplicación del estado de conservación.                     |\n",
    "| `aplicaa`                 | Texto           | Ámbito geográfico donde se aplica el estado de conservación (e.g., España, Regional).                   |\n",
    "| `iddataset`               | Entero          | Identificador único del dataset relacionado.                                                            |\n",
    "| `fechaalta`               | Fecha           | Fecha de alta del registro en el dataset.                                                               |\n",
    "| `fechabaja`               | Fecha           | Fecha de baja del registro en el dataset (puede estar vacío si no aplica).                              |\n",
    "| `idvigente`               | Decimal         | Indica si el estado de conservación está vigente (`1.0` = vigente, `0.0` = no vigente).                 |\n",
    "| `vigencia`                | Texto           | Descripción textual de la vigencia (e.g., \"Vigente\", \"No vigente\").                                     |\n",
    "| `observaciones`           | Texto           | Observaciones adicionales sobre el estado o criterio de conservación (si aplica).                       |\n",
    "| `idnombre`                | Decimal         | Identificador único del nombre asociado al registro.                                                    |\n"
   ]
  },
  {
   "cell_type": "code",
   "execution_count": 29,
   "metadata": {},
   "outputs": [],
   "source": [
    "url = \"https://iepnb.gob.es:443/api/especie/v_estadoconservacion?idtaxon=gt.0\"\n",
    "name = 'estado_conservacion'\n",
    "get_data(url,name)"
   ]
  },
  {
   "cell_type": "markdown",
   "metadata": {},
   "source": [
    "### 3.4. Ubicación\n",
    "Proporciona información sobre la ubicación de los taxones.\n",
    "| **Columna**               | **Tipo de Dato** | **Descripción**                                                                                          |\n",
    "|---------------------------|------------------|----------------------------------------------------------------------------------------------------------|\n",
    "| `idtaxon`                 | Entero          | Identificador único del taxón en la base de datos.                                                      |\n",
    "| `idnombre_acept`          | Decimal         | Identificador único del nombre aceptado del taxón.                                                      |\n",
    "| `nombre_aceptado`         | Texto           | Nombre científico aceptado del taxón, incluyendo el autor y año de descripción.                         |\n",
    "| `iddataset`               | Entero          | Identificador único del dataset relacionado.                                                            |\n",
    "| `dataset`                 | Texto           | Nombre del dataset al que pertenece el registro.                                                        |\n",
    "| `countrycode`             | Texto           | Código del país (ISO 3166-1 alfa-2) donde se encuentra el taxón.                                        |\n",
    "| `idsistcoord`             | Entero          | Identificador único del sistema de coordenadas utilizado.                                               |\n",
    "| `verbatimcoordinatesystem`| Texto           | Sistema de coordenadas utilizado en su forma literal.                                                   |\n",
    "| `cuadr`                   | Texto           | Código de la cuadrícula donde se encuentra el taxón.                                                    |\n",
    "| `tamaniocuadr`            | Texto           | Tamaño de la cuadrícula en kilómetros (e.g., \"10\").                                                     |\n",
    "| `idestadocuadr`           | Entero          | Identificador único del estado de la cuadrícula.                                                        |\n",
    "| `estadocuad`              | Texto           | Estado de la cuadrícula (e.g., \"Confirmada\").                                                           |\n",
    "| `fecha`                   | Fecha           | Fecha asociada a la observación o registro del taxón.                                                   |\n",
    "| `y_latitud`               | Decimal         | Latitud en coordenadas geográficas del registro del taxón.                                              |\n",
    "| `x_longitud`              | Decimal         | Longitud en coordenadas geográficas del registro del taxón.                                             |\n",
    "| `id`                      | Entero          | Identificador único de la ubicación en la base de datos.                                                |\n",
    "| `pos`                     | Entero          | Posición del registro en la base de datos (puede usarse para orden o agrupación).                       |\n",
    "| `xcentroide`              | Decimal         | Coordenada X del centroide asociado a la cuadrícula.                                                    |\n",
    "| `ycentroide`              | Decimal         | Coordenada Y del centroide asociado a la cuadrícula.                                                    |\n",
    "| `x`                       | Decimal         | Coordenada X de la ubicación específica del registro.                                                   |\n",
    "| `y`                       | Decimal         | Coordenada Y de la ubicación específica del registro.                                                   |\n",
    "| `utmcode`                 | Texto           | Código UTM asociado a la cuadrícula del registro.                                                       |\n",
    "| `cuadricula`              | Texto           | Código literal de la cuadrícula asociada al registro.                                                   |\n",
    "| `marino`                  | Booleano        | Indica si el registro corresponde a un área marina (`1` = sí, `0` = no).                                |\n",
    "| `cod100x100`              | Texto           | Código de la cuadrícula a escala 100x100 km (si aplica).                                                |\n",
    "| `perim_km`                | Decimal         | Perímetro del área registrada en kilómetros.                                                            |\n",
    "| `area_km2`                | Decimal         | Área registrada en kilómetros cuadrados.                                                                |\n",
    "| `cod_inb`                 | Texto           | Código interno de biodiversidad asociado al registro (si aplica).                                       |\n",
    "| `orig_fid`                | Entero          | Identificador único del registro original en la base de datos.                                          |\n",
    "| `area_new`                | Decimal         | Área nueva registrada (si aplica).                                                                      |\n",
    "| `dif`                     | Decimal         | Diferencia en área registrada entre datos actuales y anteriores (si aplica).                            |\n",
    "| `origen_dato`             | Texto           | Fuente u origen de los datos del registro (e.g., nombre del proyecto o estudio).                        |\n",
    "| `geom`                    | Texto           | Información geométrica asociada al registro (e.g., geometría en formato WKT).                           |\n"
   ]
  },
  {
   "cell_type": "code",
   "execution_count": 6,
   "metadata": {},
   "outputs": [],
   "source": [
    "# Ahora mismo descarga los primeros 10000 registros porque si no da error\n",
    "url = f\"https://iepnb.gob.es:443/api/especie/v_ubicacion?idtaxon=lt.10000\"\n",
    "name = f'ubicacion'\n",
    "get_data(url,name)"
   ]
  },
  {
   "cell_type": "code",
   "execution_count": 5,
   "metadata": {},
   "outputs": [
    {
     "name": "stdout",
     "output_type": "stream",
     "text": [
      "Stopped downloading at 37342...\n"
     ]
    }
   ],
   "source": [
    "i = 0\n",
    "failed_counter = 0\n",
    "FAILED_TOLERANCE = 5000\n",
    "os.makedirs('EIDOS_ubicacion', exist_ok=True)\n",
    "while failed_counter < FAILED_TOLERANCE:\n",
    "    if (i+1) % 50 == 0:\n",
    "        print(f\"Downloading {i+1}...\", end='\\r')\n",
    "    url = f\"https://iepnb.gob.es:443/api/especie/v_ubicacion?idtaxon=eq.{i}\"\n",
    "    name = f'ubicacion_{i}'\n",
    "    # Realizar la petición GET\n",
    "    response = requests.get(url)\n",
    "    # Verificar si la solicitud fue exitosa (código 200)\n",
    "    if response.status_code == 200:\n",
    "        # Procesar los datos\n",
    "        df = pd.DataFrame(response.json())\n",
    "        if len(df) > 0: \n",
    "            df.to_csv(os.path.join(f'EIDOS_ubicacion/{i}.csv'), index=False)\n",
    "            failed_counter = 0\n",
    "        else:\n",
    "            failed_counter += 1\n",
    "    else:\n",
    "        failed_counter += 1\n",
    "    i += 1\n",
    "print(f\"Stopped downloading at {i-FAILED_TOLERANCE}...\")"
   ]
  },
  {
   "cell_type": "code",
   "execution_count": null,
   "metadata": {},
   "outputs": [],
   "source": [
    "import pandas as pd\n",
    "\n",
    "df = pd.concat([pd.read_csv(f'EIDOS_taxonomia/{file}') for file in os.listdir('EIDOS_taxonomia') if file.endswith('.csv')])\n",
    "df.sort_values('nameid', inplace=True)\n",
    "df.drop_duplicates('nameid', inplace=True)\n",
    "df.to_csv('EIDOS_taxonomia.csv', index=False)"
   ]
  }
 ],
 "metadata": {
  "kernelspec": {
   "display_name": "base",
   "language": "python",
   "name": "python3"
  },
  "language_info": {
   "codemirror_mode": {
    "name": "ipython",
    "version": 3
   },
   "file_extension": ".py",
   "mimetype": "text/x-python",
   "name": "python",
   "nbconvert_exporter": "python",
   "pygments_lexer": "ipython3",
   "version": "3.10.9"
  }
 },
 "nbformat": 4,
 "nbformat_minor": 2
}
