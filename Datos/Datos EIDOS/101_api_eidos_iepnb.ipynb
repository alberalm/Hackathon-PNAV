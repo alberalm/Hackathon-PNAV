{
 "cells": [
  {
   "cell_type": "markdown",
   "metadata": {},
   "source": [
    "---\n",
    "\n",
    "<div style=\"display: flex; align-items: center; justify-content: space-between;\">\n",
    "  <img src=\"../../.images/PNAV-logo.png\" alt=\"Logo del PNAV\" style=\"width: auto; max-height: 100px;\">\n",
    "  <img src=\"../../.images/MITECO-logo_background.png\" alt=\"Logo del MITECO\" style=\"width: auto; max-height: 100px;\">\n",
    "</div>\n",
    "\n",
    "---\n",
    "\n",
    "# Descarga de datos desde la API de EIDOS\n",
    "A continuación, se describirá como descargar datos del **inventario de especies silvestres EIDOS** del Ministerio para la Transición Ecológica y el Reto Demográfico (MITECO).\n",
    "Para una información más detallada, se puede consultar el siguiente enlace: https://iepnb.gob.es/recursos/servicios-interoperables/apirest-eidos "
   ]
  },
  {
   "cell_type": "markdown",
   "metadata": {},
   "source": [
    "## 1. Importación de módulos y librerías\n",
    "Se importan los módulos y librerías necesarios para ejecutar el código."
   ]
  },
  {
   "cell_type": "code",
   "execution_count": 1,
   "metadata": {},
   "outputs": [],
   "source": [
    "import requests\n",
    "import pandas as pd\n",
    "import os"
   ]
  },
  {
   "cell_type": "markdown",
   "metadata": {},
   "source": [
    "## 2. Definición de funciones\n",
    "Se definen las funciones necesarias."
   ]
  },
  {
   "cell_type": "code",
   "execution_count": 2,
   "metadata": {},
   "outputs": [],
   "source": [
    "def get_data(url,name):\n",
    "    # Realizar la petición GET\n",
    "    response = requests.get(url)\n",
    "    # Verificar si la solicitud fue exitosa (código 200)\n",
    "    if response.status_code == 200:\n",
    "        # Procesar los datos\n",
    "        pd.DataFrame(response.json()).to_csv(os.path.join(f'EIDOS_{name}.csv'), index=False)\n",
    "    else:\n",
    "        print(f\"Error: {response.status_code}: {response.content}\")"
   ]
  },
  {
   "cell_type": "markdown",
   "metadata": {},
   "source": [
    "## 3. Llamadas a las APIs"
   ]
  },
  {
   "cell_type": "markdown",
   "metadata": {},
   "source": [
    "### 3.1. Estado Legal\n",
    "Proporciona información sobre el estado legal de los taxones según las diferentes legislaciones.\n",
    "| **Columna**               | **Tipo de Dato** | **Descripción**                                                                                          |\n",
    "|---------------------------|------------------|----------------------------------------------------------------------------------------------------------|\n",
    "| `idtaxon`                 | Entero          | Identificador único del taxón en la base de datos.                                                      |\n",
    "| `idnombre_acept`          | Decimal         | Identificador único del nombre aceptado del taxón.                                                      |\n",
    "| `nombre_aceptado`         | Texto           | Nombre científico aceptado del taxón, incluyendo el autor y año de descripción.                         |\n",
    "| `idestadolegal`           | Entero          | Identificador único del estado legal asignado al taxón.                                                 |\n",
    "| `estadolegal`             | Texto           | Descripción del estado legal del taxón (e.g., \"Especial protección\", \"Especie de interés especial\").     |\n",
    "| `norma`                   | Texto           | Detalle de la normativa o legislación que define el estado legal del taxón.                             |\n",
    "| `idvigente`               | Booleano        | Indica si la normativa está vigente (`1` = vigente, `0` = no vigente).                                  |\n",
    "| `observacionespoblacion`  | Texto           | Observaciones sobre la población del taxón (puede estar vacío si no aplica).                            |\n",
    "| `descripcion`             | Texto           | Descripción adicional relacionada con el estado del taxón (puede estar vacío si no aplica).             |\n",
    "| `idambito`                | Entero          | Identificador único del ámbito de aplicación de la normativa.                                           |\n",
    "| `ambito`                  | Texto           | Ámbito territorial de la normativa (e.g., \"Regional\", \"Nacional\").                                      |\n",
    "| `id_ccaa`                 | Decimal         | Identificador único de la comunidad autónoma asociada (si aplica).                                      |\n",
    "| `ccaa`                    | Texto           | Nombre de la comunidad autónoma donde aplica la normativa.                                              |\n",
    "| `iddataset`               | Entero          | Identificador único del dataset relacionado.                                                            |\n",
    "| `dataset`                 | Texto           | Nombre del dataset al que pertenece el registro.                                                        |\n",
    "| `idnombre_dat`            | Decimal         | Identificador único del nombre del taxón según el dataset.                                              |\n",
    "| `nombre_en_dataset`       | Texto           | Nombre del taxón en el dataset relacionado.                                                             |\n",
    "| `fecha_alta`              | Fecha           | Fecha de alta del registro en el dataset.                                                               |\n",
    "| `fecha_baja`              | Fecha           | Fecha de baja del registro en el dataset (puede estar vacío si no aplica).                              |\n"
   ]
  },
  {
   "cell_type": "code",
   "execution_count": 6,
   "metadata": {},
   "outputs": [],
   "source": [
    "# URL de la API\n",
    "url = \"https://iepnb.gob.es:443/api/especie/v_estadolegal?idtaxon=gt.%200\"\n",
    "name = 'estado_legal'\n",
    "get_data(url,name)"
   ]
  },
  {
   "cell_type": "markdown",
   "metadata": {},
   "source": [
    "### 3.2. Taxonomía\n",
    "Proporciona información sobre la clasificación taxonómica de los taxones.\n",
    "| **Columna**               | **Tipo de Dato** | **Descripción**                                                                                          |\n",
    "|---------------------------|------------------|----------------------------------------------------------------------------------------------------------|\n",
    "| `nameid`                  | Entero          | Identificador único del nombre del taxón en la base de datos.                                           |\n",
    "| `name`                    | Texto           | Nombre completo del taxón (nombre científico con autoría y rango).                                       |\n",
    "| `taxonrankid`             | Decimal         | Identificador único del rango taxonómico del taxón.                                                     |\n",
    "| `taxonrank`               | Texto           | Rango taxonómico del taxón (e.g., Species, Subspecies).                                                 |\n",
    "| `verbatimtaxonrank`       | Texto           | Rango taxonómico según su representación literal.                                                       |\n",
    "| `areacode`                | Texto           | Código del área geográfica relacionada con el taxón.                                                    |\n",
    "| `origenid`                | Decimal         | Identificador único del origen del taxón.                                                               |\n",
    "| `origen`                  | Texto           | Origen del taxón (e.g., Especie nativa, Introducida).                                                   |\n",
    "| `taxonomicgroupid`        | Decimal         | Identificador único del grupo taxonómico al que pertenece el taxón.                                     |\n",
    "| `taxonomicgroup`          | Texto           | Grupo taxonómico (e.g., Plantas vasculares, Aves).                                                      |\n",
    "| `kingdomid`               | Entero          | Identificador único del reino del taxón.                                                                |\n",
    "| `kingdom`                 | Texto           | Reino al que pertenece el taxón (e.g., Plantae, Animalia).                                              |\n",
    "| `phylumid`                | Decimal         | Identificador único del filo del taxón.                                                                 |\n",
    "| `phylum`                  | Texto           | Filo al que pertenece el taxón.                                                                         |\n",
    "| `classid`                 | Decimal         | Identificador único de la clase del taxón.                                                              |\n",
    "| `class`                   | Texto           | Clase a la que pertenece el taxón.                                                                      |\n",
    "| `orderid`                 | Decimal         | Identificador único del orden del taxón.                                                                |\n",
    "| `order`                   | Texto           | Orden al que pertenece el taxón.                                                                        |\n",
    "| `familyid`                | Decimal         | Identificador único de la familia del taxón.                                                            |\n",
    "| `family`                  | Texto           | Familia a la que pertenece el taxón.                                                                    |\n",
    "| `genusid`                 | Decimal         | Identificador único del género del taxón.                                                               |\n",
    "| `genus`                   | Texto           | Género al que pertenece el taxón.                                                                       |\n",
    "| `subgenusid`              | Decimal         | Identificador único del subgénero del taxón (si aplica).                                                |\n",
    "| `subgenus`                | Texto           | Subgénero al que pertenece el taxón (si aplica).                                                        |\n",
    "| `specificepithet`         | Texto           | Epíteto específico del taxón.                                                                           |\n",
    "| `infraspecificepithet`    | Texto           | Epíteto infraespecífico del taxón (si aplica).                                                          |\n",
    "| `taxonconceptid`          | Texto           | Identificador único del concepto taxonómico asociado al taxón.                                          |\n",
    "| `scientificnameid`        | Texto           | Identificador único del nombre científico del taxón.                                                    |\n",
    "| `originalnameusage`       | Texto           | Uso original del nombre científico del taxón (si aplica).                                               |\n",
    "| `nameaccordingto`         | Texto           | Referencia de la fuente que define el nombre del taxón.                                                 |\n",
    "| `namepublishedin`         | Texto           | Publicación en la que se describe originalmente el taxón.                                               |\n",
    "| `namepublishedinyear`     | Entero          | Año de publicación del nombre del taxón.                                                                |\n",
    "| `scientificnameauthorship`| Texto           | Autoría del nombre científico del taxón.                                                                |\n",
    "| `remarks`                 | Texto           | Observaciones adicionales sobre el taxón.                                                               |\n",
    "| `citescode`               | Texto           | Código asociado a CITES para el taxón (si aplica).                                                      |\n",
    "| `euniscode`               | Texto           | Código asociado a EUNIS para el taxón (si aplica).                                                      |\n",
    "| `euringcode`              | Texto           | Código asociado a EURING para el taxón (si aplica).                                                     |\n",
    "| `rednaturacode`           | Texto           | Código asociado a la Red Natura 2000 (si aplica).                                                       |\n",
    "| `lp`                      | Entero          | Código del listado de protección del taxón.                                                             |\n",
    "| `taxonid`                 | Decimal         | Identificador único del taxón en la base de datos.                                                      |\n",
    "| `nametypeid`              | Decimal         | Identificador único del tipo de nombre asociado al taxón.                                               |\n",
    "| `nametype`                | Texto           | Tipo de nombre asociado al taxón (e.g., Aceptado/válido).                                               |\n",
    "| `acceptednameid`          | Decimal         | Identificador único del nombre aceptado del taxón (si es un sinónimo).                                  |\n"
   ]
  },
  {
   "cell_type": "code",
   "execution_count": null,
   "metadata": {},
   "outputs": [],
   "source": [
    "# Ahora mismo descarga los primeros 20000 registros porque si no da error\n",
    "url = \"https://iepnb.gob.es:443/api/especie/v_taxonomia?nameid=lt.20000\"\n",
    "name = 'taxonomia'\n",
    "get_data(url,name)"
   ]
  },
  {
   "cell_type": "code",
   "execution_count": 17,
   "metadata": {},
   "outputs": [
    {
     "name": "stdout",
     "output_type": "stream",
     "text": [
      "Downloading 750000...\r"
     ]
    },
    {
     "name": "stderr",
     "output_type": "stream",
     "text": [
      "C:\\Users\\alber\\AppData\\Local\\Temp\\ipykernel_5932\\399176321.py:13: FutureWarning: The behavior of DataFrame concatenation with empty or all-NA entries is deprecated. In a future version, this will no longer exclude empty or all-NA columns when determining the result dtypes. To retain the old behavior, exclude the relevant entries before the concat operation.\n",
      "  df = pd.concat(dfs)\n"
     ]
    },
    {
     "name": "stdout",
     "output_type": "stream",
     "text": [
      "Finished downloading all taxonomy data\n"
     ]
    }
   ],
   "source": [
    "dfs = []\n",
    "LIMIT = 5000\n",
    "start = True\n",
    "i = 0\n",
    "while start or len(dfs[-1]) == LIMIT:\n",
    "    start = False\n",
    "    print(f\"Downloading {(i+1)*5000}...\", end='\\r')\n",
    "    url = f'https://iepnb.gob.es/api/especie/v_taxonomia?nameid=gt.{i*LIMIT}&limit={LIMIT}'\n",
    "    name = f'ubicacion_{i}'\n",
    "    # Realizar la petición GET\n",
    "    response = requests.get(url)\n",
    "    # Verificar si la solicitud fue exitosa (código 200)\n",
    "    if response.status_code == 200:\n",
    "        # Procesar los datos\n",
    "        dfs.append(pd.DataFrame(response.json()))\n",
    "    else:\n",
    "        print(f\"Error: {response.status_code}: {response.content}\")\n",
    "    i += 1\n",
    "df = pd.concat(dfs)\n",
    "df.sort_values('nameid', inplace=True)\n",
    "df.drop_duplicates('nameid', inplace=True)\n",
    "df.to_excel('EIDOS_taxonomia.xlsx', index=False)\n",
    "print(f\"Finished downloading all taxonomy data\")"
   ]
  },
  {
   "cell_type": "markdown",
   "metadata": {},
   "source": [
    "### 3.3. Estado de conservación\n",
    "Proporciona información sobre el estado, categorías y criterios de conservación de los taxones.\n",
    "| **Columna**               | **Tipo de Dato** | **Descripción**                                                                                          |\n",
    "|---------------------------|------------------|----------------------------------------------------------------------------------------------------------|\n",
    "| `idtaxon`                 | Entero          | Identificador único del taxón en la base de datos.                                                      |\n",
    "| `idestadoconservacion`    | Entero          | Identificador único del estado de conservación del taxón (si aplica).                                   |\n",
    "| `estadoconservacion`      | Texto           | Descripción del estado de conservación (puede estar vacío si no aplica).                                |\n",
    "| `anio`                    | Entero          | Año en el que se asignó el estado o categoría de conservación.                                          |\n",
    "| `idcategoria`             | Entero          | Identificador único de la categoría de conservación del taxón.                                          |\n",
    "| `categoriaconservacion`   | Texto           | Categoría de conservación del taxón (e.g., EN - En peligro, VU - Vulnerable).                           |\n",
    "| `idcriterio`              | Entero          | Identificador único del criterio de conservación.                                                       |\n",
    "| `criteriomedidaconservacion`| Texto          | Descripción del criterio asociado a medidas de conservación (si aplica).                                |\n",
    "| `descripcion`             | Texto           | Descripción adicional del estado o criterio de conservación (si aplica).                                |\n",
    "| `criterios`               | Texto           | Criterios específicos aplicados al estado de conservación (e.g., B1+2bce, B2ab(v)).                     |\n",
    "| `idautoridad`             | Entero          | Identificador único de la autoridad que asignó el estado de conservación.                               |\n",
    "| `autoridad`               | Texto           | Nombre de la autoridad responsable (e.g., UICN, organismo nacional).                                    |\n",
    "| `idaplicaa`               | Entero          | Identificador único del ámbito geográfico de aplicación del estado de conservación.                     |\n",
    "| `aplicaa`                 | Texto           | Ámbito geográfico donde se aplica el estado de conservación (e.g., España, Regional).                   |\n",
    "| `iddataset`               | Entero          | Identificador único del dataset relacionado.                                                            |\n",
    "| `fechaalta`               | Fecha           | Fecha de alta del registro en el dataset.                                                               |\n",
    "| `fechabaja`               | Fecha           | Fecha de baja del registro en el dataset (puede estar vacío si no aplica).                              |\n",
    "| `idvigente`               | Decimal         | Indica si el estado de conservación está vigente (`1.0` = vigente, `0.0` = no vigente).                 |\n",
    "| `vigencia`                | Texto           | Descripción textual de la vigencia (e.g., \"Vigente\", \"No vigente\").                                     |\n",
    "| `observaciones`           | Texto           | Observaciones adicionales sobre el estado o criterio de conservación (si aplica).                       |\n",
    "| `idnombre`                | Decimal         | Identificador único del nombre asociado al registro.                                                    |\n"
   ]
  },
  {
   "cell_type": "code",
   "execution_count": 29,
   "metadata": {},
   "outputs": [],
   "source": [
    "url = \"https://iepnb.gob.es:443/api/especie/v_estadoconservacion?idtaxon=gt.0\"\n",
    "name = 'estado_conservacion'\n",
    "get_data(url,name)"
   ]
  },
  {
   "cell_type": "markdown",
   "metadata": {},
   "source": [
    "### 3.4. Ubicación\n",
    "Proporciona información sobre la ubicación de los taxones.\n",
    "| **Columna**               | **Tipo de Dato** | **Descripción**                                                                                          |\n",
    "|---------------------------|------------------|----------------------------------------------------------------------------------------------------------|\n",
    "| `idtaxon`                 | Entero          | Identificador único del taxón en la base de datos.                                                      |\n",
    "| `idnombre_acept`          | Decimal         | Identificador único del nombre aceptado del taxón.                                                      |\n",
    "| `nombre_aceptado`         | Texto           | Nombre científico aceptado del taxón, incluyendo el autor y año de descripción.                         |\n",
    "| `iddataset`               | Entero          | Identificador único del dataset relacionado.                                                            |\n",
    "| `dataset`                 | Texto           | Nombre del dataset al que pertenece el registro.                                                        |\n",
    "| `countrycode`             | Texto           | Código del país (ISO 3166-1 alfa-2) donde se encuentra el taxón.                                        |\n",
    "| `idsistcoord`             | Entero          | Identificador único del sistema de coordenadas utilizado.                                               |\n",
    "| `verbatimcoordinatesystem`| Texto           | Sistema de coordenadas utilizado en su forma literal.                                                   |\n",
    "| `cuadr`                   | Texto           | Código de la cuadrícula donde se encuentra el taxón.                                                    |\n",
    "| `tamaniocuadr`            | Texto           | Tamaño de la cuadrícula en kilómetros (e.g., \"10\").                                                     |\n",
    "| `idestadocuadr`           | Entero          | Identificador único del estado de la cuadrícula.                                                        |\n",
    "| `estadocuad`              | Texto           | Estado de la cuadrícula (e.g., \"Confirmada\").                                                           |\n",
    "| `fecha`                   | Fecha           | Fecha asociada a la observación o registro del taxón.                                                   |\n",
    "| `y_latitud`               | Decimal         | Latitud en coordenadas geográficas del registro del taxón.                                              |\n",
    "| `x_longitud`              | Decimal         | Longitud en coordenadas geográficas del registro del taxón.                                             |\n",
    "| `id`                      | Entero          | Identificador único de la ubicación en la base de datos.                                                |\n",
    "| `pos`                     | Entero          | Posición del registro en la base de datos (puede usarse para orden o agrupación).                       |\n",
    "| `xcentroide`              | Decimal         | Coordenada X del centroide asociado a la cuadrícula.                                                    |\n",
    "| `ycentroide`              | Decimal         | Coordenada Y del centroide asociado a la cuadrícula.                                                    |\n",
    "| `x`                       | Decimal         | Coordenada X de la ubicación específica del registro.                                                   |\n",
    "| `y`                       | Decimal         | Coordenada Y de la ubicación específica del registro.                                                   |\n",
    "| `utmcode`                 | Texto           | Código UTM asociado a la cuadrícula del registro.                                                       |\n",
    "| `cuadricula`              | Texto           | Código literal de la cuadrícula asociada al registro.                                                   |\n",
    "| `marino`                  | Booleano        | Indica si el registro corresponde a un área marina (`1` = sí, `0` = no).                                |\n",
    "| `cod100x100`              | Texto           | Código de la cuadrícula a escala 100x100 km (si aplica).                                                |\n",
    "| `perim_km`                | Decimal         | Perímetro del área registrada en kilómetros.                                                            |\n",
    "| `area_km2`                | Decimal         | Área registrada en kilómetros cuadrados.                                                                |\n",
    "| `cod_inb`                 | Texto           | Código interno de biodiversidad asociado al registro (si aplica).                                       |\n",
    "| `orig_fid`                | Entero          | Identificador único del registro original en la base de datos.                                          |\n",
    "| `area_new`                | Decimal         | Área nueva registrada (si aplica).                                                                      |\n",
    "| `dif`                     | Decimal         | Diferencia en área registrada entre datos actuales y anteriores (si aplica).                            |\n",
    "| `origen_dato`             | Texto           | Fuente u origen de los datos del registro (e.g., nombre del proyecto o estudio).                        |\n",
    "| `geom`                    | Texto           | Información geométrica asociada al registro (e.g., geometría en formato WKT).                           |\n"
   ]
  },
  {
   "cell_type": "code",
   "execution_count": 6,
   "metadata": {},
   "outputs": [],
   "source": [
    "# Ahora mismo descarga los primeros 10000 registros porque si no da error\n",
    "url = f\"https://iepnb.gob.es:443/api/especie/v_ubicacion?idtaxon=lt.10000\"\n",
    "name = f'ubicacion'\n",
    "get_data(url,name)"
   ]
  },
  {
   "cell_type": "code",
   "execution_count": 5,
   "metadata": {},
   "outputs": [
    {
     "name": "stdout",
     "output_type": "stream",
     "text": [
      "Stopped downloading at 37342...\n"
     ]
    }
   ],
   "source": [
    "i = 0\n",
    "failed_counter = 0\n",
    "FAILED_TOLERANCE = 5000\n",
    "os.makedirs('EIDOS_ubicacion', exist_ok=True)\n",
    "while failed_counter < FAILED_TOLERANCE:\n",
    "    if (i+1) % 50 == 0:\n",
    "        print(f\"Downloading {i+1}...\", end='\\r')\n",
    "    url = f\"https://iepnb.gob.es:443/api/especie/v_ubicacion?idtaxon=eq.{i}\"\n",
    "    name = f'ubicacion_{i}'\n",
    "    # Realizar la petición GET\n",
    "    response = requests.get(url)\n",
    "    # Verificar si la solicitud fue exitosa (código 200)\n",
    "    if response.status_code == 200:\n",
    "        # Procesar los datos\n",
    "        df = pd.DataFrame(response.json())\n",
    "        if len(df) > 0: \n",
    "            df.to_csv(os.path.join(f'EIDOS_ubicacion/{i}.csv'), index=False)\n",
    "            failed_counter = 0\n",
    "        else:\n",
    "            failed_counter += 1\n",
    "    else:\n",
    "        failed_counter += 1\n",
    "    i += 1\n",
    "print(f\"Stopped downloading at {i-FAILED_TOLERANCE}...\")"
   ]
  }
 ],
 "metadata": {
  "kernelspec": {
   "display_name": "base",
   "language": "python",
   "name": "python3"
  },
  "language_info": {
   "codemirror_mode": {
    "name": "ipython",
    "version": 3
   },
   "file_extension": ".py",
   "mimetype": "text/x-python",
   "name": "python",
   "nbconvert_exporter": "python",
   "pygments_lexer": "ipython3",
   "version": "3.10.9"
  }
 },
 "nbformat": 4,
 "nbformat_minor": 2
}
