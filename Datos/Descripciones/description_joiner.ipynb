{
 "cells": [
  {
   "cell_type": "code",
   "execution_count": 3,
   "metadata": {},
   "outputs": [],
   "source": [
    "import pandas as pd\n",
    "import os"
   ]
  },
  {
   "cell_type": "code",
   "execution_count": 10,
   "metadata": {},
   "outputs": [],
   "source": [
    "dfs = []\n",
    "for file in os.listdir('.'):\n",
    "    if file.endswith('.xlsx') and not file.startswith('_'):\n",
    "        source_df = pd.read_excel(file)\n",
    "        dfs.append(source_df)\n",
    "df = pd.concat(dfs, ignore_index=True)\n",
    "df = df.fillna('')"
   ]
  },
  {
   "cell_type": "code",
   "execution_count": 11,
   "metadata": {},
   "outputs": [
    {
     "data": {
      "text/plain": [
       "3108"
      ]
     },
     "execution_count": 11,
     "metadata": {},
     "output_type": "execute_result"
    }
   ],
   "source": [
    "len(df)"
   ]
  },
  {
   "cell_type": "code",
   "execution_count": 5,
   "metadata": {},
   "outputs": [
    {
     "data": {
      "text/plain": [
       "{'', 'f.', 'subsp.', 'var.'}"
      ]
     },
     "execution_count": 5,
     "metadata": {},
     "output_type": "execute_result"
    }
   ],
   "source": [
    "third_words = set(df[df['Nombre aceptado'].str.count(' ') > 2]['Nombre aceptado'].apply(lambda x: x.split(' ')[2] if\n",
    "                                                                                        x.split(' ')[2][-1] == '.' and\n",
    "                                                                                        x.split(' ')[2][0] != '(' and\n",
    "                                                                                        x.split(' ')[2] == x.split(' ')[2].lower()\n",
    "                                                                                        else '').tolist())\n",
    "third_words"
   ]
  },
  {
   "cell_type": "code",
   "execution_count": null,
   "metadata": {},
   "outputs": [],
   "source": [
    "df_taxonomia = pd.read_excel('../Datos EIDOS/EIDOS_taxonomia.xlsx')"
   ]
  },
  {
   "cell_type": "code",
   "execution_count": 41,
   "metadata": {},
   "outputs": [],
   "source": [
    "# Quitar parentesis y palabras que empiezan por mayuscula y numeros\n",
    "df_taxonomia['lowered_name'] = df_taxonomia['name'].str.replace(r'[()&]', '', regex=True).apply(\n",
    "    lambda x: x[0].lower() + ' '.join([w for w in x[1:].split() if w == w.lower() and not w.isdigit()])\n",
    "    )\n",
    "\n",
    "def find_best_match(row):\n",
    "    if row['Código de la especie (id taxon)'] != '':\n",
    "        return row['Código de la especie (id taxon)'] # Si tiene codigo de especie, no necesitamos buscar\n",
    "    row_words = row['Nombre aceptado'].replace('(', '').replace(')', '').lower().split()\n",
    "    if len(row_words) < 2:\n",
    "        return None # No hay suficientes palabras para buscar\n",
    "    # Filtrar candidatos\n",
    "    candidates = df_taxonomia[df_taxonomia['lowered_name'].str.contains(' '.join(row_words[:2]))]\n",
    "    # Si hay una categoría taxonómica, refinar los candidatos\n",
    "    if len(row_words) > 3 and row_words[2] in ['f.', 'subsp.', 'var.']:\n",
    "        candidates = candidates[candidates['lowered_name'].str.contains(f' {row_words[3]} ')]\n",
    "    else:\n",
    "        candidates = candidates[~candidates['lowered_name'].str.contains(r'\\b(?: f\\. | subsp\\. | var\\. )\\b', regex=True)]\n",
    "    if candidates.empty:\n",
    "        return None\n",
    "    # Calcular las puntuaciones de coincidencia\n",
    "    row_words_set = set(row_words)\n",
    "    candidates['score'] = candidates['lowered_name'].apply(lambda c: \n",
    "        0.9 * len(set(c.split()) & row_words_set) / len(row_words) +\n",
    "        0.1 * len(set(c.split()) & row_words_set) / len(c.split())\n",
    "    )\n",
    "    # Obtener el mejor candidato\n",
    "    best_match = candidates.loc[candidates['score'].idxmax()]\n",
    "    return best_match['taxonid']\n",
    "\n",
    "df['Código de la especie (id taxon)'] = df.apply(find_best_match, axis=1).tolist()\n",
    "df.to_excel('_DESCRIPCIONES_TODAS.xlsx', index=False)"
   ]
  }
 ],
 "metadata": {
  "kernelspec": {
   "display_name": "base",
   "language": "python",
   "name": "python3"
  },
  "language_info": {
   "codemirror_mode": {
    "name": "ipython",
    "version": 3
   },
   "file_extension": ".py",
   "mimetype": "text/x-python",
   "name": "python",
   "nbconvert_exporter": "python",
   "pygments_lexer": "ipython3",
   "version": "3.12.9"
  }
 },
 "nbformat": 4,
 "nbformat_minor": 2
}
