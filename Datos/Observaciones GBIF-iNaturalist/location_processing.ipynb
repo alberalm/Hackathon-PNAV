{
 "cells": [
  {
   "cell_type": "markdown",
   "metadata": {},
   "source": [
    "Cargar archivos"
   ]
  },
  {
   "cell_type": "code",
   "execution_count": 17,
   "metadata": {},
   "outputs": [],
   "source": [
    "import geopandas as gpd\n",
    "import pandas as pd\n",
    "from shapely.geometry import Point\n",
    "\n",
    "observations_path = \"observations_selection.csv\"\n",
    "shp_peninsula = r\"C:\\Users\\maria.b.calvo\\Documents\\Personal\\Hackathon GenAI\\hackathon-repo\\Hackathon-PNAV\\Datos\\Datos IEET\\Mallas Península\\Malla10km_p.shp\"\n",
    "shp_canarias = r\"C:\\Users\\maria.b.calvo\\Documents\\Personal\\Hackathon GenAI\\hackathon-repo\\Hackathon-PNAV\\Datos\\Datos IEET\\Mallas Canarias\\Malla10km_c.shp\"\n",
    "\n",
    "gdf_peninsula = gpd.read_file(shp_peninsula)\n",
    "gdf_canarias = gpd.read_file(shp_canarias)\n",
    "\n",
    "df = pd.read_csv(observations_path)\n"
   ]
  },
  {
   "cell_type": "markdown",
   "metadata": {},
   "source": [
    "Pasar de coordenadas a geometría de puntos"
   ]
  },
  {
   "cell_type": "code",
   "execution_count": 18,
   "metadata": {},
   "outputs": [],
   "source": [
    "# Crear geometría de puntos a partir de latitud y longitud\n",
    "df[\"geometry\"] = df.apply(lambda row: Point(row[\"decimalLongitude\"], row[\"decimalLatitude\"]), axis=1)\n",
    "\n",
    "# Convertir DataFrame en GeoDataFrame\n",
    "gdf_points = gpd.GeoDataFrame(df, geometry=\"geometry\", crs=\"EPSG:4326\")  # CRS WGS84\n"
   ]
  },
  {
   "cell_type": "markdown",
   "metadata": {},
   "source": [
    "Transformar los sistemas de coordenadas\n",
    "\n",
    "- Las coordenadas en el CSV están en WGS84 (EPSG:4326)\n",
    "- Las cuadrículas SHP están en UTM (Husos 28-32, según la tabla).\n",
    "- Necesitamos asegurarnos de que ambos usan el mismo sistema de coordenadas (CRS)."
   ]
  },
  {
   "cell_type": "code",
   "execution_count": 19,
   "metadata": {},
   "outputs": [
    {
     "name": "stdout",
     "output_type": "stream",
     "text": [
      "Points crs:EPSG:4326\n",
      "Canarias crs:EPSG:32628\n",
      "Peninsula crs:EPSG:25830\n",
      "Points crs:EPSG:4326\n",
      "Canarias crs:EPSG:4326\n",
      "Peninsula crs:EPSG:4326\n"
     ]
    }
   ],
   "source": [
    "# Antes de cambiar sistemas de coordenadas\n",
    "print(\"Points crs:\" + str(gdf_points.crs))\n",
    "print(\"Canarias crs:\" + str(gdf_canarias.crs))\n",
    "print(\"Peninsula crs:\" + str(gdf_peninsula.crs))\n",
    "\n",
    "# Usar CRS de EPSG:4326\n",
    "gdf_points = gdf_points.to_crs(epsg=4326)\n",
    "gdf_peninsula = gdf_peninsula.to_crs(epsg=4326)\n",
    "gdf_canarias = gdf_canarias.to_crs(epsg=4326)\n",
    "\n",
    "# Después\n",
    "print(\"Points crs:\" + str(gdf_points.crs))\n",
    "print(\"Canarias crs:\" + str(gdf_canarias.crs))\n",
    "print(\"Peninsula crs:\" + str(gdf_peninsula.crs))\n"
   ]
  },
  {
   "cell_type": "markdown",
   "metadata": {},
   "source": [
    "Realizar unión espacial para asignar cada punto a una cuadrícula de la malla"
   ]
  },
  {
   "cell_type": "code",
   "execution_count": 20,
   "metadata": {},
   "outputs": [],
   "source": [
    "# Unión espacial (spatial join) de puntos con cuadrículas de la Península.\n",
    "# how=\"left\" hace que se incluyan todos los puntos y solo agrega información de la cuadrícula si hay intersección\n",
    "# predicate=\"within\" solo asigna un punto a una cuadrícula si está dentro de ella.\n",
    "gdf_result_peninsula = gpd.sjoin(gdf_points, gdf_peninsula, how=\"left\", predicate=\"within\")\n",
    "gdf_result_canarias = gpd.sjoin(gdf_points, gdf_canarias, how=\"left\", predicate=\"within\")\n",
    "\n",
    "# Unir los resultados (usando combine_first para dar preferencia a la Península)\n",
    "gdf_result = gdf_result_peninsula.combine_first(gdf_result_canarias)\n",
    "\n",
    "\n",
    "# Unir resultados (primero Península, luego Canarias para puntos no asignados)\n",
    "# Toma valores de gdf_result_peninsula primero y, si hay valores NaN (es decir, si un punto no fue asignado a la Península), usa los de gdf_result_canarias.\n",
    "gdf_result = gdf_result_peninsula.combine_first(gdf_result_canarias)\n"
   ]
  },
  {
   "cell_type": "markdown",
   "metadata": {},
   "source": [
    "Guardar resultados"
   ]
  },
  {
   "cell_type": "code",
   "execution_count": 21,
   "metadata": {},
   "outputs": [],
   "source": [
    "df['malla_codigo'] = gdf_result['CUADRICULA']\n",
    "\n",
    "# Guardar el CSV con la nueva columna de códigos de malla en 2\n",
    "\n",
    "midpoint = len(df) // 2\n",
    "\n",
    "df_part1 = df.iloc[:midpoint]\n",
    "df_part2 = df.iloc[midpoint:]\n",
    "\n",
    "# Save them as separate CSV files\n",
    "df_part1.to_csv(\"observations_con_cuadricula_1.csv\", index=False)\n",
    "df_part2.to_csv(\"observations_con_cuadricula_2.csv\", index=False)"
   ]
  }
 ],
 "metadata": {
  "kernelspec": {
   "display_name": "Python 3",
   "language": "python",
   "name": "python3"
  },
  "language_info": {
   "codemirror_mode": {
    "name": "ipython",
    "version": 3
   },
   "file_extension": ".py",
   "mimetype": "text/x-python",
   "name": "python",
   "nbconvert_exporter": "python",
   "pygments_lexer": "ipython3",
   "version": "3.11.9"
  }
 },
 "nbformat": 4,
 "nbformat_minor": 2
}
