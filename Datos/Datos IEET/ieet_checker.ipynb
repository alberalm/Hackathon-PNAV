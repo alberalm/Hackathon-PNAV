{
 "cells": [
  {
   "cell_type": "code",
   "execution_count": 1,
   "metadata": {},
   "outputs": [],
   "source": [
    "import pandas as pd\n",
    "import os"
   ]
  },
  {
   "cell_type": "code",
   "execution_count": 2,
   "metadata": {},
   "outputs": [],
   "source": [
    "bd_list = pd.read_excel('BD_IEET_2015/BD_IEET_2015.xlsx')"
   ]
  },
  {
   "cell_type": "code",
   "execution_count": 3,
   "metadata": {},
   "outputs": [],
   "source": [
    "scraping_list = []\n",
    "for species_type in os.listdir('Scraping Inventario'):\n",
    "    if os.path.isdir(f'Scraping Inventario/{species_type}'):\n",
    "        for species in os.listdir(f'Scraping Inventario/{species_type}'):\n",
    "            scraping_list.append(species)"
   ]
  },
  {
   "cell_type": "code",
   "execution_count": 4,
   "metadata": {},
   "outputs": [],
   "source": [
    "bd_list = bd_list.drop_duplicates(subset=['Nombre'])"
   ]
  },
  {
   "cell_type": "code",
   "execution_count": 9,
   "metadata": {},
   "outputs": [
    {
     "data": {
      "text/plain": [
       "(426, 2078)"
      ]
     },
     "execution_count": 9,
     "metadata": {},
     "output_type": "execute_result"
    }
   ],
   "source": [
    "len(scraping_list), len(bd_list)"
   ]
  },
  {
   "cell_type": "code",
   "execution_count": 10,
   "metadata": {},
   "outputs": [
    {
     "name": "stdout",
     "output_type": "stream",
     "text": [
      "Bufo bufo\n",
      "Triturus alpestris\n",
      "Triturus boscai\n",
      "Triturus helveticus\n",
      "Delichon urbica\n",
      "Fringilla teydea\n",
      "Gelochelidon nilotica\n",
      "Hirundo daurica\n",
      "Lagopus mutus\n",
      "Lanius meridionalis\n",
      "Miliaria calandra\n",
      "Streptopelia roseogrisea f. risoria\n",
      "Tachymarptis melba\n",
      "Crocidura canariensis\n",
      "Plecotus tenerifae\n",
      "Clouber hippocrepis\n",
      "Clouber viridiflavus\n",
      "Elaphe longissima\n",
      "Elaphe scalaris\n",
      "Gallotia bravoana\n",
      "Lacerta aranica\n",
      "Lacerta aurelioi\n",
      "Lacerta monticola\n",
      "Macroprotodon cucullatus\n",
      "Vipera latasti\n"
     ]
    }
   ],
   "source": [
    "for sp in scraping_list:\n",
    "    if sp not in bd_list['Nombre'].tolist():\n",
    "        print(sp)"
   ]
  }
 ],
 "metadata": {
  "kernelspec": {
   "display_name": "base",
   "language": "python",
   "name": "python3"
  },
  "language_info": {
   "codemirror_mode": {
    "name": "ipython",
    "version": 3
   },
   "file_extension": ".py",
   "mimetype": "text/x-python",
   "name": "python",
   "nbconvert_exporter": "python",
   "pygments_lexer": "ipython3",
   "version": "3.12.9"
  }
 },
 "nbformat": 4,
 "nbformat_minor": 2
}
