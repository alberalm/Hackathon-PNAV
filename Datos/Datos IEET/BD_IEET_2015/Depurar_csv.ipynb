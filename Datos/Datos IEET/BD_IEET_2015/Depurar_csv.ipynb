{
 "cells": [
  {
   "cell_type": "code",
   "execution_count": 1,
   "metadata": {},
   "outputs": [],
   "source": [
    "import pandas as pd\n",
    "import re"
   ]
  },
  {
   "cell_type": "code",
   "execution_count": 2,
   "metadata": {},
   "outputs": [
    {
     "data": {
      "text/html": [
       "<div>\n",
       "<style scoped>\n",
       "    .dataframe tbody tr th:only-of-type {\n",
       "        vertical-align: middle;\n",
       "    }\n",
       "\n",
       "    .dataframe tbody tr th {\n",
       "        vertical-align: top;\n",
       "    }\n",
       "\n",
       "    .dataframe thead th {\n",
       "        text-align: right;\n",
       "    }\n",
       "</style>\n",
       "<table border=\"1\" class=\"dataframe\">\n",
       "  <thead>\n",
       "    <tr style=\"text-align: right;\">\n",
       "      <th></th>\n",
       "      <th>CUADRICULA</th>\n",
       "      <th>Nombre</th>\n",
       "    </tr>\n",
       "  </thead>\n",
       "  <tbody>\n",
       "    <tr>\n",
       "      <th>0</th>\n",
       "      <td>29TNJ84</td>\n",
       "      <td>Bufo bufo</td>\n",
       "    </tr>\n",
       "    <tr>\n",
       "      <th>1</th>\n",
       "      <td>29TNJ94</td>\n",
       "      <td>Bufo bufo</td>\n",
       "    </tr>\n",
       "    <tr>\n",
       "      <th>2</th>\n",
       "      <td>29TPJ04</td>\n",
       "      <td>Bufo bufo</td>\n",
       "    </tr>\n",
       "    <tr>\n",
       "      <th>3</th>\n",
       "      <td>29TNJ73</td>\n",
       "      <td>Bufo bufo</td>\n",
       "    </tr>\n",
       "    <tr>\n",
       "      <th>4</th>\n",
       "      <td>29TNJ83</td>\n",
       "      <td>Bufo bufo</td>\n",
       "    </tr>\n",
       "  </tbody>\n",
       "</table>\n",
       "</div>"
      ],
      "text/plain": [
       "  CUADRICULA     Nombre\n",
       "0    29TNJ84  Bufo bufo\n",
       "1    29TNJ94  Bufo bufo\n",
       "2    29TPJ04  Bufo bufo\n",
       "3    29TNJ73  Bufo bufo\n",
       "4    29TNJ83  Bufo bufo"
      ]
     },
     "execution_count": 2,
     "metadata": {},
     "output_type": "execute_result"
    }
   ],
   "source": [
    "# Cargar el archivo CSV (modifica el nombre del archivo según sea necesario)\n",
    "archivo_csv = \"BD_IEET.csv\"\n",
    "df = pd.read_csv(archivo_csv)\n",
    "\n",
    "# Eliminar las columnas \"layer\" y \"path\" si existen\n",
    "columnas_a_eliminar = [\"layer\", \"path\"]\n",
    "df = df.drop(columns=[col for col in columnas_a_eliminar if col in df.columns])\n",
    "\n",
    "# Función para limpiar la columna \"Nombre\" eliminando el número final\n",
    "def limpiar_nombre(nombre):\n",
    "    nombre_limpio = re.sub(r'\\d+$', '', str(nombre)).strip()  # Elimina número final\n",
    "    if nombre_limpio == \"Streptopelia risori\":  # Sustituye el nombre específico\n",
    "        return \"Streptopelia roseogrisea f. risoria\"\n",
    "    return nombre_limpio\n",
    "\n",
    "# Aplicar la función a la columna \"Nombre\"\n",
    "if \"Nombre\" in df.columns:\n",
    "    df[\"Nombre\"] = df[\"Nombre\"].apply(limpiar_nombre)\n",
    "\n",
    "# Ver las primeras filas para comprobar que todo está correcto\n",
    "df.head()"
   ]
  },
  {
   "cell_type": "code",
   "execution_count": 3,
   "metadata": {},
   "outputs": [
    {
     "name": "stdout",
     "output_type": "stream",
     "text": [
      "Proceso completado. Archivo guardado como archivo_limpio.csv\n"
     ]
    }
   ],
   "source": [
    "# Guardar el nuevo archivo CSV\n",
    "archivo_salida = \"archivo_limpio.csv\"\n",
    "df.to_csv(archivo_salida, index=False, encoding=\"utf-8\")\n",
    "\n",
    "print(f\"Proceso completado. Archivo guardado como {archivo_salida}\")"
   ]
  }
 ],
 "metadata": {
  "kernelspec": {
   "display_name": "base",
   "language": "python",
   "name": "python3"
  },
  "language_info": {
   "codemirror_mode": {
    "name": "ipython",
    "version": 3
   },
   "file_extension": ".py",
   "mimetype": "text/x-python",
   "name": "python",
   "nbconvert_exporter": "python",
   "pygments_lexer": "ipython3",
   "version": "3.12.9"
  }
 },
 "nbformat": 4,
 "nbformat_minor": 2
}
