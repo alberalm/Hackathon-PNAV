{
 "cells": [
  {
   "cell_type": "markdown",
   "metadata": {},
   "source": [
    "---\n",
    "\n",
    "<div style=\"display: flex; align-items: center; justify-content: space-between;\">\n",
    "  <img src=\"../../.images/PNAV-logo.png\" alt=\"Logo del PNAV\" style=\"width: auto; max-height: 100px;\">\n",
    "  <img src=\"../../.images/MITECO-logo_background.png\" alt=\"Logo del MITECO\" style=\"width: auto; max-height: 100px;\">\n",
    "</div>\n",
    "\n",
    "---\n",
    "\n",
    "# Descarga de datos desde la API de la Red Natura 2000\n",
    "A continuación, se describirá como descargar datos de la **red ecológica europea de áreas de conservación de la biodiversidad \"Red Natura 2000\"**. \n",
    "Para una información más detallada, se puede consultar el siguiente enlace: https://iepnb.gob.es/recursos/servicios-interoperables/apirest-rednatura "
   ]
  },
  {
   "cell_type": "markdown",
   "metadata": {},
   "source": [
    "## 1. Importación de módulos y librerías\n",
    "Se importan los módulos y librerías necesarios para ejecutar el código."
   ]
  },
  {
   "cell_type": "code",
   "execution_count": 1,
   "metadata": {},
   "outputs": [],
   "source": [
    "import requests\n",
    "import pandas as pd\n",
    "import os"
   ]
  },
  {
   "cell_type": "markdown",
   "metadata": {},
   "source": [
    "## 2. Definición de funciones\n",
    "Se definen las funciones necesarias."
   ]
  },
  {
   "cell_type": "code",
   "execution_count": 3,
   "metadata": {},
   "outputs": [],
   "source": [
    "def get_data(url,name):\n",
    "    # Realizar la petición GET\n",
    "    response = requests.get(url)\n",
    "\n",
    "    output_path = 'output'\n",
    "    # Verificar si la solicitud fue exitosa (código 200)\n",
    "    if response.status_code == 200:\n",
    "        # Procesar los datos\n",
    "        os.makedirs(output_path, exist_ok=True)\n",
    "        pd.DataFrame(response.json()).to_csv(os.path.join(output_path, f'NATURA_{name}.csv'))\n",
    "    else:\n",
    "        print(f\"Error: {response.status_code}: {response.content}\")"
   ]
  },
  {
   "cell_type": "markdown",
   "metadata": {},
   "source": [
    "## 3. Llamadas a las APIs"
   ]
  },
  {
   "cell_type": "markdown",
   "metadata": {},
   "source": [
    "### 3.1. Especies\n",
    "Este dataset contiene información detallada sobre especies específicas relacionadas con ciertos sitios. Cada registro corresponde a una especie identificada en un lugar y año determinados, e incluye datos descriptivos, cuantitativos y evaluativos.\n",
    "\n",
    "| **Columna**                | **Tipo de Dato** | **Descripción**                                                                                          |\n",
    "|----------------------------|------------------|----------------------------------------------------------------------------------------------------------|\n",
    "| `species_id`               | Entero          | Identificador único de la especie en la base de datos.                                                   |\n",
    "| `species_group`            | Texto           | Grupo taxonómico al que pertenece la especie (e.g., Aves, Mamíferos).                                     |\n",
    "| `species_code`             | Texto           | Código específico asignado a la especie dentro del grupo.                                                |\n",
    "| `species_name`             | Texto           | Nombre común o científico de la especie.                                                                  |\n",
    "| `species_sensitive`        | Booleano        | Indica si la especie es sensible o no a cambios en el medioambiente o intervención humana (vacío si no aplica). |\n",
    "| `species_np`               | Booleano        | Indica si la especie es considerada no nativa (vacío si no aplica).                                       |\n",
    "| `species_type`             | Texto           | Tipo de especie (e.g., \"r\" para residente, \"w\" para visitante).                                           |\n",
    "| `species_size_min`         | Decimal         | Tamaño mínimo estimado para la especie.                                                                  |\n",
    "| `species_size_max`         | Decimal         | Tamaño máximo estimado para la especie.                                                                  |\n",
    "| `species_unit`             | Texto           | Unidad de medida para el tamaño de la especie (e.g., \"i\" para individuos).                               |\n",
    "| `species_category`         | Texto           | Categoría de la especie (e.g., \"V\" para vulnerable, \"DD\" para datos deficientes).                        |\n",
    "| `species_data_quality`     | Texto           | Calidad de los datos reportados para la especie (e.g., \"C\" para confiable).                             |\n",
    "| `species_population`       | Texto           | Descripción o cantidad estimada de la población de la especie en el sitio de estudio.                    |\n",
    "| `species_conservation`     | Texto           | Información sobre el estado de conservación de la especie en el área.                                    |\n",
    "| `species_isolation`        | Texto           | Indica si la especie se encuentra en una zona aislada o no.                                               |\n",
    "| `species_global`           | Texto           | Evaluación global del estado de conservación de la especie (e.g., \"G\" para globalmente no amenazada).    |\n",
    "| `site_code`                | Texto           | Código del sitio donde se observa la especie.                                                           |\n",
    "| `year`                     | Entero          | Año en el que se realizó el reporte sobre la especie.                                                    |\n",
    "| `id_reporte`               | Entero          | Identificador único del reporte en la base de datos.                                                     |\n",
    "| `species_id_type`          | Entero          | Tipo de identificación de la especie (e.g., numérica o taxonómica).                                      |\n",
    "| `species_id_unit`          | Decimal         | Unidad de medida de la especie identificada (e.g., \"i\" para individuos, \"ha\" para hectáreas, etc.).     |\n"
   ]
  },
  {
   "cell_type": "code",
   "execution_count": 10,
   "metadata": {},
   "outputs": [],
   "source": [
    "# URL de la API\n",
    "url = \"https://iepnb.gob.es:443/api/rn2000/v_cntr_species?species_id=gt.%200\"\n",
    "name = 'especies'\n",
    "get_data(url,name)"
   ]
  },
  {
   "cell_type": "markdown",
   "metadata": {},
   "source": [
    "### 3.2. Otras especies\n",
    "El dataset contiene información detallada sobre diversas especies y su relación con ciertos sitios. Cada fila del dataset representa un registro específico de una especie en un lugar particular durante un año determinado.\n",
    "\n",
    "| **Columna**               | **Tipo de Dato** | **Descripción**                                                                                          |\n",
    "|---------------------------|------------------|----------------------------------------------------------------------------------------------------------|\n",
    "| `other_species_id`         | Entero          | Identificador único de la otra especie en la base de datos.                                              |\n",
    "| `other_species_group`      | Texto           | Grupo taxonómico al que pertenece la otra especie (e.g., P para plantas).                                |\n",
    "| `other_species_code`       | Texto           | Código específico asignado a la otra especie dentro del grupo.                                           |\n",
    "| `other_species_name`       | Texto           | Nombre común o científico de la otra especie.                                                             |\n",
    "| `other_species_sensitive`  | Booleano        | Indica si la otra especie es sensible o no a cambios en el medioambiente o intervención humana (vacío si no aplica). |\n",
    "| `other_species_np`         | Booleano        | Indica si la otra especie es considerada no nativa (vacío si no aplica).                                  |\n",
    "| `other_species_size_min`   | Decimal         | Tamaño mínimo estimado para la otra especie.                                                             |\n",
    "| `other_species_size_max`   | Decimal         | Tamaño máximo estimado para la otra especie.                                                             |\n",
    "| `other_species_unit`       | Texto           | Unidad de medida para el tamaño de la otra especie (e.g., \"grids10x10\", \"i\" para individuos).            |\n",
    "| `other_species_category`   | Texto           | Categoría de la otra especie (e.g., \"P\" para planta, \"V\" para vulnerable).                              |\n",
    "| `other_species_motivation` | Texto           | Motivación para el registro o estudio de la otra especie (e.g., A para evaluación ambiental).            |\n",
    "| `site_code`                | Texto           | Código del sitio donde se observa la otra especie.                                                      |\n",
    "| `year`                     | Entero          | Año en el que se realizó el reporte sobre la otra especie.                                               |\n",
    "| `id_reporte`               | Entero          | Identificador único del reporte en la base de datos.                                                     |\n",
    "| `other_species_type`       | Texto           | Tipo de especie (e.g., \"np\" para no nativa).                                                             |\n",
    "| `other_species_id_type`    | Entero          | Tipo de identificación de la otra especie (e.g., numérica o taxonómica).                                |\n",
    "| `other_species_id_unit`    | Decimal         | Unidad de medida de la otra especie identificada (e.g., \"i\" para individuos, \"grids10x10\" para cuadrículas). |\n"
   ]
  },
  {
   "cell_type": "code",
   "execution_count": 11,
   "metadata": {},
   "outputs": [],
   "source": [
    "# URL de la API\n",
    "url = \"https://iepnb.gob.es:443/api/rn2000/v_cntr_other_species?other_species_id=gt.%200\"\n",
    "name = 'otras_especies'\n",
    "get_data(url,name)"
   ]
  },
  {
   "cell_type": "markdown",
   "metadata": {},
   "source": [
    "### 3.3. Hábitat\n",
    "Este dataset recoge información detallada sobre hábitats específicos dentro de ciertas ubicaciones. Cada registro corresponde a un hábitat particular en un sitio y combina datos identificativos, cuantitativos y evaluativos.\n",
    "\n",
    "| **Columna**                | **Tipo de Dato** | **Descripción**                                                                                          |\n",
    "|----------------------------|------------------|----------------------------------------------------------------------------------------------------------|\n",
    "| `habitat_id`               | Entero          | Identificador único del hábitat en la base de datos.                                                     |\n",
    "| `habitat_code`             | Entero          | Código único asignado al hábitat.                                                                         |\n",
    "| `habitat_priority`         | Booleano        | Indica si el hábitat tiene prioridad para la conservación (e.g., 0 para no, 1 para sí).                  |\n",
    "| `habitat_np`               | Booleano        | Indica si el hábitat es no nativo (vacío si no aplica).                                                   |\n",
    "| `habitat_cover`            | Decimal         | Cobertura del hábitat en el área.                                                                         |\n",
    "| `habitat_caves`            | Decimal         | Superficie o cantidad de cuevas asociadas al hábitat (si aplica).                                         |\n",
    "| `habitat_data_quality`     | Texto           | Calidad de los datos relacionados con el hábitat (e.g., \"M\" para medida).                               |\n",
    "| `habitat_representativity` | Texto           | Representatividad del hábitat en la zona (e.g., \"B\" para buena).                                         |\n",
    "| `habitat_relative_surface` | Texto           | Superficie relativa del hábitat en relación con otros hábitats en el área (e.g., \"C\" para cobertura media). |\n",
    "| `habitat_conservation`     | Texto           | Información sobre el estado de conservación del hábitat (e.g., \"B\" para buena).                          |\n",
    "| `habitat_global`           | Texto           | Evaluación global del estado del hábitat (e.g., \"B\" para no amenazado).                                  |\n",
    "| `site_code`                | Texto           | Código del sitio donde se encuentra el hábitat.                                                          |\n",
    "| `habitat_cover_ha`         | Decimal         | Cobertura del hábitat en hectáreas.                                                                       |\n",
    "| `year`                     | Entero          | Año en el que se realizó el reporte sobre el hábitat.                                                     |\n",
    "| `id_reporte`               | Entero          | Identificador único del reporte en la base de datos.                                                     |\n"
   ]
  },
  {
   "cell_type": "code",
   "execution_count": 12,
   "metadata": {},
   "outputs": [],
   "source": [
    "# URL de la API\n",
    "url = \"https://iepnb.gob.es:443/api/rn2000/v_cntr_habitat?habitat_id=gt.%200\"\n",
    "name = 'habitat'\n",
    "get_data(url,name)"
   ]
  },
  {
   "cell_type": "markdown",
   "metadata": {},
   "source": [
    "### 3.4. Ubicaciones\n",
    "Este dataset proporciona información detallada sobre ubicaciones específicas, relacionados con áreas protegidas, conservación ambiental y gestión de recursos naturales. Cada registro representa una ubicación en particular y contiene una amplia gama de detalles geográficos, legales y administrativos.\n",
    "\n",
    "| **Columna**                   | **Tipo de Dato** | **Descripción**                                                                                         |\n",
    "|-------------------------------|------------------|---------------------------------------------------------------------------------------------------------|\n",
    "| `site_code`                   | Texto            | Código único asignado a la ubicación del sitio.                                                          |\n",
    "| `site_type`                   | Texto            | Tipo de sitio (e.g., \"C\" para conservación).                                                            |\n",
    "| `site_name`                   | Texto            | Nombre del sitio o área protegida.                                                                       |\n",
    "| `site_spa_date`               | Fecha            | Fecha de designación como Sitio de Importancia Comunitaria (SIC) o Área de Protección Especial (APE).    |\n",
    "| `site_spa_legal_ref`          | Texto            | Referencia legal que respalda la designación del sitio como SPA.                                         |\n",
    "| `site_sci_prop_date`          | Fecha            | Fecha en la que se presentó la propuesta científica del sitio.                                          |\n",
    "| `site_sci_conf_date`          | Fecha            | Fecha en la que se aprobó la confirmación científica del sitio.                                          |\n",
    "| `site_sac_date`               | Fecha            | Fecha de designación como Zona de Especial Conservación (ZEC).                                          |\n",
    "| `site_sac_legal_ref`          | Texto            | Referencia legal que respalda la designación del sitio como ZEC.                                         |\n",
    "| `site_explanations`           | Texto            | Explicaciones adicionales sobre el sitio, como características naturales y de conservación.             |\n",
    "| `site_longitude`              | Decimal          | Longitud geográfica del sitio.                                                                          |\n",
    "| `site_latitude`               | Decimal          | Latitud geográfica del sitio.                                                                           |\n",
    "| `site_area`                   | Decimal          | Superficie total del sitio en hectáreas.                                                                |\n",
    "| `site_marine_area`            | Decimal          | Área marina del sitio, si aplica.                                                                       |\n",
    "| `site_length`                 | Decimal          | Longitud total del sitio (si aplica).                                                                   |\n",
    "| `site_characteristics`        | Texto            | Características geográficas, ecológicas o naturales del sitio.                                           |\n",
    "| `site_quality`                | Texto            | Calidad ambiental o ecológica del sitio.                                                                |\n",
    "| `site_designation`            | Texto            | Designación del sitio (e.g., refugio de fauna, zona importante para aves).                              |\n",
    "| `doc_id`                      | Entero           | Identificador único del documento asociado al sitio.                                                     |\n",
    "| `resp_id`                     | Entero           | Identificador de la entidad responsable del sitio.                                                      |\n",
    "| `mgmt_id`                     | Entero           | Identificador del plan de gestión del sitio.                                                            |\n",
    "| `map_id`                      | Entero           | Identificador del mapa del sitio.                                                                       |\n",
    "| `date_creation`               | Fecha            | Fecha de creación del registro del sitio.                                                               |\n",
    "| `date_deletion`               | Fecha            | Fecha de eliminación o baja del sitio (si aplica).                                                      |\n",
    "| `date_update`                 | Fecha            | Fecha de última actualización del registro del sitio.                                                   |\n",
    "| `site_asci_prop_date`         | Fecha            | Fecha de propuesta de la designación en el Sistema de Áreas de Conservación Internacional.             |\n",
    "| `site_asci_conf_cand_date`    | Fecha            | Fecha de la confirmación de candidatura para el sistema de áreas de conservación.                       |\n",
    "| `site_asci_conf_date`         | Fecha            | Fecha de confirmación de la designación en el sistema de áreas de conservación internacional.          |\n",
    "| `site_asci_desig_date`        | Fecha            | Fecha de la designación oficial en el sistema de áreas de conservación internacional.                  |\n",
    "| `site_asci_legal_ref`         | Texto            | Referencia legal de la designación en el sistema de áreas de conservación internacional.               |\n",
    "| `year`                        | Entero           | Año en el que se registró la información sobre el sitio.                                                |\n",
    "| `site_comp_date`              | Fecha            | Fecha de competencia o evaluación del sitio para su inclusión en redes de conservación.                 |\n",
    "| `site_update_date`            | Fecha            | Fecha de última actualización de los detalles del sitio.                                                |\n",
    "| `id_reporte`                  | Entero           | Identificador único del reporte asociado al sitio.                                                      |\n"
   ]
  },
  {
   "cell_type": "code",
   "execution_count": 13,
   "metadata": {},
   "outputs": [],
   "source": [
    "# URL de la API\n",
    "url = \"https://iepnb.gob.es:443/api/rn2000/v_cntr_site?site_code=gt.%200\"\n",
    "name = 'ubicaciones'\n",
    "get_data(url,name)"
   ]
  }
 ],
 "metadata": {
  "kernelspec": {
   "display_name": "Python 3",
   "language": "python",
   "name": "python3"
  },
  "language_info": {
   "codemirror_mode": {
    "name": "ipython",
    "version": 3
   },
   "file_extension": ".py",
   "mimetype": "text/x-python",
   "name": "python",
   "nbconvert_exporter": "python",
   "pygments_lexer": "ipython3",
   "version": "3.10.11"
  }
 },
 "nbformat": 4,
 "nbformat_minor": 2
}
