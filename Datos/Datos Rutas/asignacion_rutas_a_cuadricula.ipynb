{
 "cells": [
  {
   "cell_type": "code",
   "execution_count": 3,
   "metadata": {},
   "outputs": [],
   "source": [
    "import geopandas as gpd\n",
    "import pandas as pd\n",
    "\n",
    "# Cargar las rutas desde el archivo SHP\n",
    "gdf_rutas = gpd.read_file(r\"C:\\Users\\maria.b.calvo\\Documents\\Personal\\Hackathon GenAI\\hackathon-repo\\Hackathon-PNAV\\Datos\\Datos Rutas\\archivo_atributos_unificados.shp\")\n",
    "\n",
    "# Cargar las mallas de la Península y de Canarias\n",
    "gdf_malla_peninsula = gpd.read_file(r\"C:\\Users\\maria.b.calvo\\Documents\\Personal\\Hackathon GenAI\\hackathon-repo\\Hackathon-PNAV\\Datos\\Datos IEET\\Mallas Península\\Malla10km_p.shp\")\n",
    "gdf_malla_canarias = gpd.read_file(r\"C:\\Users\\maria.b.calvo\\Documents\\Personal\\Hackathon GenAI\\hackathon-repo\\Hackathon-PNAV\\Datos\\Datos IEET\\Mallas Canarias\\Malla10km_c.shp\")\n",
    "\n",
    "# Cargar el archivo CSV de las rutas\n",
    "df_rutas_csv = pd.read_csv(r\"C:\\Users\\maria.b.calvo\\Documents\\Personal\\Hackathon GenAI\\hackathon-repo\\Hackathon-PNAV\\Datos\\Datos Rutas\\archivo_rutas.csv\")\n"
   ]
  },
  {
   "cell_type": "code",
   "execution_count": 4,
   "metadata": {},
   "outputs": [],
   "source": [
    "# Asegurarse de que ambos GeoDataFrames usan el mismo CRS\n",
    "gdf_rutas = gdf_rutas.to_crs(\"EPSG:4326\")\n",
    "gdf_malla_peninsula = gdf_malla_peninsula.to_crs(\"EPSG:4326\")\n",
    "gdf_malla_canarias = gdf_malla_canarias.to_crs(\"EPSG:4326\")"
   ]
  },
  {
   "cell_type": "code",
   "execution_count": null,
   "metadata": {},
   "outputs": [],
   "source": [
    "# Unir las rutas con la malla de la Península\n",
    "gdf_rutas_peninsula = gpd.sjoin(gdf_rutas, gdf_malla_peninsula, how=\"left\", predicate=\"intersects\")\n",
    "\n",
    "# Unir las rutas con la malla de Canarias\n",
    "gdf_rutas_canarias = gpd.sjoin(gdf_rutas, gdf_malla_canarias, how=\"left\", predicate=\"intersects\")\n",
    "\n",
    "\n",
    "# Unir los resultados de las rutas en Península y Canarias\n",
    "gdf_rutas_combinadas = pd.concat([gdf_rutas_peninsula, gdf_rutas_canarias], ignore_index=True)\n",
    "\n",
    "# Eliminar filas duplicadas (en caso de que una ruta esté en ambas mallas)\n",
    "gdf_rutas_combinadas = gdf_rutas_combinadas.drop_duplicates(subset='id_ruta')  # Usa el identificador único de cada ruta\n",
    "\n",
    "# Ver las primeras filas para comprobar el resultado\n",
    "print(gdf_rutas_combinadas[['id_ruta', 'codigo_malla']].head())\n"
   ]
  },
  {
   "cell_type": "code",
   "execution_count": null,
   "metadata": {},
   "outputs": [],
   "source": [
    "# Unir el DataFrame original de rutas con el GeoDataFrame combinado\n",
    "df_rutas_con_malla = pd.merge(df_rutas_csv, gdf_rutas_combinadas[['id_ruta', 'codigo_malla']], \n",
    "                               on='id_ruta', how='left')\n",
    "\n",
    "# Verificar el resultado\n",
    "print(df_rutas_con_malla.head())"
   ]
  },
  {
   "cell_type": "code",
   "execution_count": null,
   "metadata": {},
   "outputs": [],
   "source": [
    "# Guardar el archivo CSV con la nueva columna\n",
    "df_rutas_con_malla.to_csv(\"ruta_a_guardar_el_csv_con_malla.csv\", index=False)"
   ]
  }
 ],
 "metadata": {
  "kernelspec": {
   "display_name": "Python 3",
   "language": "python",
   "name": "python3"
  },
  "language_info": {
   "codemirror_mode": {
    "name": "ipython",
    "version": 3
   },
   "file_extension": ".py",
   "mimetype": "text/x-python",
   "name": "python",
   "nbconvert_exporter": "python",
   "pygments_lexer": "ipython3",
   "version": "3.11.9"
  }
 },
 "nbformat": 4,
 "nbformat_minor": 2
}
