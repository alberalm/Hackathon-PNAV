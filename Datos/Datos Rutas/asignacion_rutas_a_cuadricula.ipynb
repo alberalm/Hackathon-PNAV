{
 "cells": [
  {
   "cell_type": "code",
   "execution_count": 5,
   "metadata": {},
   "outputs": [],
   "source": [
    "import geopandas as gpd\n",
    "import pandas as pd\n",
    "\n",
    "# Cargar las rutas desde el archivo SHP\n",
    "gdf_rutas = gpd.read_file(r\"C:\\Users\\maria.b.calvo\\Documents\\Personal\\Hackathon GenAI\\hackathon-repo\\Hackathon-PNAV\\Datos\\Datos Rutas\\archivo_atributos_unificados.shp\")\n",
    "\n",
    "# Cargar las mallas de la Península y de Canarias\n",
    "gdf_malla_peninsula = gpd.read_file(r\"C:\\Users\\maria.b.calvo\\Documents\\Personal\\Hackathon GenAI\\hackathon-repo\\Hackathon-PNAV\\Datos\\Datos IEET\\Mallas Península\\Malla10km_p.shp\")\n",
    "gdf_malla_canarias = gpd.read_file(r\"C:\\Users\\maria.b.calvo\\Documents\\Personal\\Hackathon GenAI\\hackathon-repo\\Hackathon-PNAV\\Datos\\Datos IEET\\Mallas Canarias\\Malla10km_c.shp\")\n",
    "\n",
    "# Cargar el archivo CSV de las rutas\n",
    "df_rutas_csv = pd.read_csv(r\"C:\\Users\\maria.b.calvo\\Documents\\Personal\\Hackathon GenAI\\hackathon-repo\\Hackathon-PNAV\\Datos\\Datos Rutas\\archivo_rutas.csv\")\n"
   ]
  },
  {
   "cell_type": "code",
   "execution_count": 6,
   "metadata": {},
   "outputs": [],
   "source": [
    "# Asegurarse de que ambos GeoDataFrames usan el mismo CRS\n",
    "gdf_rutas = gdf_rutas.to_crs(\"EPSG:4326\")\n",
    "gdf_malla_peninsula = gdf_malla_peninsula.to_crs(\"EPSG:4326\")\n",
    "gdf_malla_canarias = gdf_malla_canarias.to_crs(\"EPSG:4326\")"
   ]
  },
  {
   "cell_type": "code",
   "execution_count": 22,
   "metadata": {},
   "outputs": [
    {
     "name": "stdout",
     "output_type": "stream",
     "text": [
      "0    28RCS53\n",
      "0    28RCS54\n",
      "0    28RCS64\n",
      "1    28RCS43\n",
      "1    28RCS53\n",
      "Name: CUADRICULA, dtype: object\n"
     ]
    }
   ],
   "source": [
    "gdf_rutas_canarias_test = gpd.sjoin(gdf_rutas, gdf_malla_canarias, how=\"left\", predicate=\"intersects\")\n",
    "\n",
    "print(gdf_rutas_canarias_test['CUADRICULA'].head())"
   ]
  },
  {
   "cell_type": "code",
   "execution_count": null,
   "metadata": {},
   "outputs": [
    {
     "name": "stdout",
     "output_type": "stream",
     "text": [
      "0    28RCS53\n",
      "0    28RCS54\n",
      "0    28RCS64\n",
      "1    28RCS43\n",
      "1    28RCS53\n",
      "Name: CUADRICULA, dtype: object\n",
      "0    NaN\n",
      "1    NaN\n",
      "2    NaN\n",
      "3    NaN\n",
      "4    NaN\n",
      "Name: CUADRICULA, dtype: object\n"
     ]
    }
   ],
   "source": [
    "# Unir las rutas con la malla de la Península\n",
    "gdf_rutas_peninsula = gpd.sjoin(gdf_rutas, gdf_malla_peninsula, how=\"left\", predicate=\"intersects\")\n",
    "\n",
    "# Unir las rutas con la malla de Canarias\n",
    "gdf_rutas_canarias = gpd.sjoin(gdf_rutas, gdf_malla_canarias, how=\"left\", predicate=\"intersects\")\n",
    "\n",
    "# Unir los resultados de las rutas en Península y Canarias\n",
    "gdf_rutas_combinadas = pd.concat([gdf_rutas_peninsula, gdf_rutas_canarias], ignore_index=True)\n",
    "\n",
    "# Eliminar filas duplicadas (en caso de que una ruta esté en ambas mallas)\n",
    "gdf_rutas_combinadas = gdf_rutas_combinadas.drop_duplicates(subset='ID_Ruta')  # Usa el identificador único de cada ruta\n",
    "\n",
    "# Ver las primeras filas para comprobar el resultado\n",
    "print(gdf_rutas_combinadas[['ID_Ruta', 'CUADRICULA']].head())\n"
   ]
  },
  {
   "cell_type": "code",
   "execution_count": 15,
   "metadata": {},
   "outputs": [
    {
     "name": "stdout",
     "output_type": "stream",
     "text": [
      "  CUADRICULA  ID_Ruta                       Nombre_Ruta  \\\n",
      "0        NaN        0  Camino Natural de Anaga - Chasna   \n",
      "1        NaN        1  Camino Natural de Anaga - Chasna   \n",
      "2        NaN        2  Camino Natural de Anaga - Chasna   \n",
      "3        NaN        3  Camino Natural de Anaga - Chasna   \n",
      "4        NaN        4  Camino Natural de Anaga - Chasna   \n",
      "\n",
      "                                           NOM_ETAPA  \\\n",
      "0                 Etapa 1: La Esperanza - La Caldera   \n",
      "1                  Etapa 2: La Caldera - El Portillo   \n",
      "2  Etapa 3: El Portillo - Parador de Las Cañadas ...   \n",
      "3  Etapa 4: Parador de Las Cañadas del Teide - Vi...   \n",
      "4                          Etapa 5: Vilaflor - Arona   \n",
      "\n",
      "                                     Nombre_completo       Longitud  \\\n",
      "0  Camino Natural de Anaga - Chasna Etapa 1: La E...  30,9240811977   \n",
      "1  Camino Natural de Anaga - Chasna Etapa 2: La C...  14,1712623036   \n",
      "2  Camino Natural de Anaga - Chasna Etapa 3: El P...   16,686617195   \n",
      "3  Camino Natural de Anaga - Chasna Etapa 4: Para...  15,4203065318   \n",
      "4  Camino Natural de Anaga - Chasna Etapa 5: Vila...  18,0173604319   \n",
      "\n",
      "                Provincia     CC_AA     ID          TIPOLOGIA  ...  \\\n",
      "0  Santa Cruz de Tenerife  Canarias  778,0  CN por etapas (5)  ...   \n",
      "1  Santa Cruz de Tenerife  Canarias  779,0  CN por etapas (5)  ...   \n",
      "2  Santa Cruz de Tenerife  Canarias  780,0  CN por etapas (5)  ...   \n",
      "3  Santa Cruz de Tenerife  Canarias  781,0  CN por etapas (5)  ...   \n",
      "4  Santa Cruz de Tenerife  Canarias  782,0  CN por etapas (5)  ...   \n",
      "\n",
      "                                            geometry  \\\n",
      "0  LINESTRING Z (-16.367890869296016 28.451561874...   \n",
      "1  LINESTRING Z (-16.50202323001199 28.3579922519...   \n",
      "2  LINESTRING Z (-16.56623503316565 28.3032585070...   \n",
      "3  LINESTRING Z (-16.627204721376696 28.223784401...   \n",
      "4  LINESTRING Z (-16.637228237681395 28.159730775...   \n",
      "\n",
      "                                              source Description   id  \\\n",
      "0  C:\\Users\\maria.b.calvo\\Documents\\Personal\\Hack...         NaN  NaN   \n",
      "1  C:\\Users\\maria.b.calvo\\Documents\\Personal\\Hack...         NaN  NaN   \n",
      "2  C:\\Users\\maria.b.calvo\\Documents\\Personal\\Hack...         NaN  NaN   \n",
      "3  C:\\Users\\maria.b.calvo\\Documents\\Personal\\Hack...         NaN  NaN   \n",
      "4  C:\\Users\\maria.b.calvo\\Documents\\Personal\\Hack...         NaN  NaN   \n",
      "\n",
      "  fecha_edi recorrido estado firme nombre_en fecha_edit  \n",
      "0       NaN       NaN    NaN   NaN       NaN        NaN  \n",
      "1       NaN       NaN    NaN   NaN       NaN        NaN  \n",
      "2       NaN       NaN    NaN   NaN       NaN        NaN  \n",
      "3       NaN       NaN    NaN   NaN       NaN        NaN  \n",
      "4       NaN       NaN    NaN   NaN       NaN        NaN  \n",
      "\n",
      "[5 rows x 31 columns]\n"
     ]
    }
   ],
   "source": [
    "# Unir el DataFrame original de rutas con el GeoDataFrame combinado\n",
    "df_rutas_con_malla = pd.merge(df_rutas_csv, gdf_rutas_combinadas[['ID_Ruta', 'CUADRICULA']], \n",
    "                               on='ID_Ruta', how='left')\n",
    "\n",
    "# Reordenar las columnas colocando 'CUADRICULA' al inicio\n",
    "columnas = ['CUADRICULA'] + [col for col in df_rutas_con_malla.columns if col != 'CUADRICULA']\n",
    "df_rutas_con_malla = df_rutas_con_malla[columnas]\n",
    "\n",
    "# Verificar el resultado\n",
    "print(df_rutas_con_malla.head())"
   ]
  },
  {
   "cell_type": "code",
   "execution_count": 16,
   "metadata": {},
   "outputs": [
    {
     "name": "stdout",
     "output_type": "stream",
     "text": [
      "Archivo de rutas con cuadricula guardado en: C:\\Users\\maria.b.calvo\\Documents\\Personal\\Hackathon GenAI\\hackathon-repo\\Hackathon-PNAV\\Datos\\Datos Rutas/archivo_rutas_con_cuadricula.csv\n"
     ]
    }
   ],
   "source": [
    "# Definir la ruta de salida\n",
    "ruta_salida = r\"C:\\Users\\maria.b.calvo\\Documents\\Personal\\Hackathon GenAI\\hackathon-repo\\Hackathon-PNAV\\Datos\\Datos Rutas/archivo_rutas_con_cuadricula.csv\"\n",
    "\n",
    "# Guardar el archivo CSV con la nueva columna\n",
    "df_rutas_con_malla.to_csv(ruta_salida, index=False, encoding=\"utf-8-sig\", decimal=\",\")\n",
    "print(f\"Archivo de rutas con cuadricula guardado en: {ruta_salida}\")"
   ]
  }
 ],
 "metadata": {
  "kernelspec": {
   "display_name": "Python 3",
   "language": "python",
   "name": "python3"
  },
  "language_info": {
   "codemirror_mode": {
    "name": "ipython",
    "version": 3
   },
   "file_extension": ".py",
   "mimetype": "text/x-python",
   "name": "python",
   "nbconvert_exporter": "python",
   "pygments_lexer": "ipython3",
   "version": "3.11.9"
  }
 },
 "nbformat": 4,
 "nbformat_minor": 2
}
